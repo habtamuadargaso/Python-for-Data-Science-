{
  "nbformat": 4,
  "nbformat_minor": 0,
  "metadata": {
    "colab": {
      "provenance": [],
      "toc_visible": true,
      "include_colab_link": true
    },
    "kernelspec": {
      "name": "python3",
      "display_name": "Python 3"
    },
    "language_info": {
      "name": "python"
    }
  },
  "cells": [
    {
      "cell_type": "markdown",
      "metadata": {
        "id": "view-in-github",
        "colab_type": "text"
      },
      "source": [
        "<a href=\"https://colab.research.google.com/github/habtamuadargaso/Python-for-Data-Science-/blob/main/Cleaning_Data_in_Python.ipynb\" target=\"_parent\"><img src=\"https://colab.research.google.com/assets/colab-badge.svg\" alt=\"Open In Colab\"/></a>"
      ]
    },
    {
      "cell_type": "markdown",
      "source": [
        "#Numeric data or ... ?\n",
        "\n",
        "In this exercise, and throughout this chapter, you'll be working with bicycle ride sharing data in San Francisco called ride_sharing. It contains information on the start and end stations, the trip duration, and some user information for a bike sharing service.\n",
        "\n",
        "The user_type column contains information on whether a user is taking a free ride and takes on the following values:\n",
        "\n",
        "1 for free riders.\n",
        "\n",
        "2 for pay per ride.\n",
        "\n",
        "3 for monthly subscribers.\n",
        "\n",
        "In this instance, you will print the information of ride_sharing using .info() and see a firsthand example of how an incorrect data type can flaw your analysis of the dataset. The pandas package is imported as pd."
      ],
      "metadata": {
        "id": "h9wVtBc9-X0z"
      }
    },
    {
      "cell_type": "markdown",
      "source": [
        "\n",
        "\n",
        "```\n",
        "Print the information of ride_sharing.\n",
        "Use .describe() to print the summary statistics of the user_type column from ride_sharing\n",
        "```\n",
        "\n"
      ],
      "metadata": {
        "id": "n0Rqx91c-kJE"
      }
    },
    {
      "cell_type": "code",
      "execution_count": null,
      "metadata": {
        "id": "cmzoJ1ap-ElY"
      },
      "outputs": [],
      "source": [
        "# Print the information of ride_sharing\n",
        "print(ride_sharing.info())\n",
        "\n",
        "# Print summary statistics of user_type column\n",
        "print(ride_sharing['user_type'].describe())"
      ]
    },
    {
      "cell_type": "code",
      "source": [
        "# Print the information of ride_sharing\n",
        "print(ride_sharing.info())\n",
        "\n",
        "# Print summary statistics of user_type column\n",
        "print(ride_sharing['user_type'].describe())\n",
        "\n",
        "# Convert user_type from integer to category\n",
        "ride_sharing['user_type_cat'] = ride_sharing['user_type'].astype('category')\n",
        "\n",
        "# Write an assert statement confirming the change\n",
        "assert ride_sharing['user_type_cat'].dtype == 'category'\n",
        "\n",
        "# Print new summary statistics \n",
        "print(ride_sharing['user_type_cat'].describe())"
      ],
      "metadata": {
        "id": "qbiyW13VQ1Uj"
      },
      "execution_count": null,
      "outputs": []
    },
    {
      "cell_type": "markdown",
      "source": [
        "# Summing strings and concatenating numbers\n",
        "\n",
        "In the previous exercise, you were able to identify that category is the correct data type for user_type and convert it in order to extract relevant statistical summaries that shed light on the distribution of user_type.\n",
        "\n",
        "Another common data type problem is importing what should be numerical values as strings, as mathematical operations such as summing and multiplication lead to string concatenation, not numerical outputs.\n",
        "\n",
        "In this exercise, you'll be converting the string column duration to the type int. Before that however, you will need to make sure to strip \"minutes\" from the column in order to make sure pandas reads it as numerical. The pandas package has been imported as pd."
      ],
      "metadata": {
        "id": "WTt2jUzDRBm5"
      }
    },
    {
      "cell_type": "code",
      "source": [
        "# Strip duration of minutes\n",
        "ride_sharing['duration_trim'] = ride_sharing['duration'].str.strip('minutes')\n",
        "\n",
        "# Convert duration to integer\n",
        "ride_sharing['duration_time'] = ride_sharing['duration_trim'].astype('int')\n",
        "\n",
        "# Write an assert statement making sure of conversion\n",
        "assert ride_sharing['duration_time'].dtype == 'int'\n",
        "\n",
        "# Print formed columns and calculate average ride duration \n",
        "print(ride_sharing[['duration','duration_trim','duration_time']])\n",
        "print(ride_sharing['duration_time'].mean())"
      ],
      "metadata": {
        "id": "UYZLmDR2REse"
      },
      "execution_count": null,
      "outputs": []
    },
    {
      "cell_type": "markdown",
      "source": [
        "\n",
        "\n",
        "```\n",
        "\n",
        "         duration duration_trim  duration_time\n",
        "0      12 minutes           12              12\n",
        "1      24 minutes           24              24\n",
        "2       8 minutes            8               8\n",
        "3       4 minutes            4               4\n",
        "4      11 minutes           11              11\n",
        "...           ...           ...            ...\n",
        "25755  11 minutes           11              11\n",
        "25756  10 minutes           10              10\n",
        "25757  14 minutes           14              14\n",
        "25758  14 minutes           14              14\n",
        "25759  29 minutes           29              29\n",
        "\n",
        "[25760 rows x 3 columns]\n",
        "11.389052795031056```\n",
        "\n"
      ],
      "metadata": {
        "id": "TMYzxyHn-Wz5"
      }
    },
    {
      "cell_type": "code",
      "source": [
        "# Convert tire_sizes to integer\n",
        "ride_sharing['tire_sizes'] = ride_sharing['tire_sizes'].astype('int')\n",
        "\n",
        "# Set all values above 27 to 27\n",
        "ride_sharing.loc[ride_sharing['tire_sizes'] > 27, 'tire_sizes'] = 27\n",
        "\n",
        "# Reconvert tire_sizes back to categorical\n",
        "# ride_sharing['tire_sizes'] = ride_sharing['tire_sizes'].astype('category')\n",
        "ride_sharing['tire_sizes'] = ride_sharing['tire_sizes'].astype('category')\n",
        "\n",
        "# Print tire size description\n",
        "print(ride_sharing['tire_sizes'].describe())"
      ],
      "metadata": {
        "id": "kxX7IQJSW1Ft"
      },
      "execution_count": null,
      "outputs": []
    },
    {
      "cell_type": "markdown",
      "source": [
        "\n",
        "\n",
        "```\n",
        "# Convert tire_sizes to integer\n",
        "ride_sharing['tire_sizes'] = ride_sharing['tire_sizes'].astype('int')\n",
        "\n",
        "# Set all values above 27 to 27\n",
        "ride_sharing.loc[ride_sharing['tire_sizes'] > 27, 'tire_sizes'] = 27\n",
        "\n",
        "# Reconvert tire_sizes back to categorical\n",
        "# ride_sharing['tire_sizes'] = ride_sharing['tire_sizes'].astype('category')\n",
        "ride_sharing['tire_sizes'] = ride_sharing['tire_sizes'].astype('category')\n",
        "\n",
        "# Print tire size description\n",
        "print(ride_sharing['tire_sizes'].describe())\n",
        "count     25760\n",
        "unique        2\n",
        "top          27\n",
        "freq      13274\n",
        "Name: tire_sizes, dtype: int64\n",
        "```\n",
        "\n"
      ],
      "metadata": {
        "id": "ty6ycN1ifFuX"
      }
    },
    {
      "cell_type": "code",
      "source": [
        "# Convert ride_date to date\n",
        "ride_sharing['ride_dt'] = pd.to_datetime(ride_sharing['ride_date']).dt.date\n",
        "\n",
        "# Save today's date\n",
        "today = dt.date.today()\n",
        "\n",
        "# Set all in the future to today's date\n",
        "ride_sharing.loc[ride_sharing['ride_dt'] > today, 'ride_dt'] = today\n",
        "\n",
        "# Print maximum of ride_dt column\n",
        "print(ride_sharing['ride_dt'].max())\n"
      ],
      "metadata": {
        "id": "MASMuzSYfKg0"
      },
      "execution_count": null,
      "outputs": []
    },
    {
      "cell_type": "markdown",
      "source": [
        "\n",
        "\n",
        "```\n",
        "# Convert ride_date to date\n",
        "ride_sharing['ride_dt'] = pd.to_datetime(ride_sharing['ride_date']).dt.date\n",
        "\n",
        "# Save today's date\n",
        "today = dt.date.today()\n",
        "\n",
        "# Set all in the future to today's date\n",
        "ride_sharing.loc[ride_sharing['ride_dt'] > today, 'ride_dt'] = today\n",
        "\n",
        "# Print maximum of ride_dt column\n",
        "print(ride_sharing['ride_dt'].max())\n",
        "2023-01-03\n",
        "```\n",
        "\n"
      ],
      "metadata": {
        "id": "B_p9SHCUgLFE"
      }
    },
    {
      "cell_type": "markdown",
      "source": [
        "# Finding duplicates\n",
        "\n",
        "A new update to the data pipeline feeding into ride_sharing has added the ride_id column, which represents a unique identifier for each ride.\n",
        "\n",
        "The update however coincided with radically shorter average ride duration times and irregular user birth dates set in the future. Most importantly, the number of rides taken has increased by 20% overnight, leading you to think there might be both complete and incomplete duplicates in the ride_sharing DataFrame.\n",
        "\n",
        "In this exercise, you will confirm this suspicion by finding those duplicates. A sample of ride_sharing is in your environment, as well as all the packages you've been working with thus far."
      ],
      "metadata": {
        "id": "IEARiX0Z0V5C"
      }
    },
    {
      "cell_type": "markdown",
      "source": [
        "\n",
        "\n",
        "```\n",
        "1.Find duplicated rows of ride_id in the ride_sharing DataFrame while setting keep to False.\n",
        "\n",
        "2. Subset ride_sharing on duplicates and sort by ride_id and assign the results to duplicated_rides.\n",
        "3 . Print the ride_id, duration and user_birth_year columns of duplicated_rides in that order.\n",
        "```\n",
        "\n"
      ],
      "metadata": {
        "id": "LJKreVu218xM"
      }
    },
    {
      "cell_type": "code",
      "source": [
        "# Find duplicates\n",
        "duplicates = ride_sharing.duplicated(subset='ride_id',keep = False )\n",
        "\n",
        "# Sort your duplicated rides\n",
        "duplicated_rides = ride_sharing[duplicates].sort_values('ride_id')\n",
        "\n",
        "# Print relevant columns of duplicated_rides\n",
        "print(duplicated_rides[['ride_id','duration','user_birth_year']])"
      ],
      "metadata": {
        "id": "ZmTEAz8T0arn"
      },
      "execution_count": null,
      "outputs": []
    },
    {
      "cell_type": "markdown",
      "source": [
        "\n",
        "\n",
        "```\n",
        "# Find duplicates\n",
        "duplicates = ride_sharing.duplicated(subset='ride_id',keep = False )\n",
        "\n",
        "# Sort your duplicated rides\n",
        "duplicated_rides = ride_sharing[duplicates].sort_values('ride_id')\n",
        "\n",
        "# Print relevant columns of duplicated_rides\n",
        "print(duplicated_rides[['ride_id','duration','user_birth_year']])\n",
        "    ride_id  duration  user_birth_year\n",
        "22       33        10             1979\n",
        "39       33         2             1979\n",
        "53       55         9             1985\n",
        "65       55         9             1985\n",
        "74       71        11             1997\n",
        "75       71        11             1997\n",
        "76       89         9             1986\n",
        "77       89         9             2060```\n",
        "\n"
      ],
      "metadata": {
        "id": "Y-GJRAFe2Yu2"
      }
    },
    {
      "cell_type": "markdown",
      "source": [
        "# Treating duplicates\n",
        "\n",
        "In the last exercise, you were able to verify that the new update feeding into ride_sharing contains a bug generating both complete and incomplete duplicated rows for some values of the ride_id column, with occasional discrepant values for the user_birth_year and duration columns.\n",
        "\n",
        "In this exercise, you will be treating those duplicated rows by first dropping complete duplicates, and then merging the incomplete duplicate rows into one while keeping the average duration, and the minimum user_birth_year for each set of incomplete duplicate rows."
      ],
      "metadata": {
        "id": "noQ_DaFE2k2v"
      }
    },
    {
      "cell_type": "markdown",
      "source": [
        "\n",
        "\n",
        "```\n",
        "Drop complete duplicates in ride_sharing and store the results in ride_dup.\n",
        "Create the statistics dictionary which holds minimum aggregation for user_birth_year and mean aggregation for duration.\n",
        "\n",
        "Drop incomplete duplicates by grouping by ride_id and applying the aggregation in statistics.\n",
        "\n",
        "Find duplicates again and run the assert statement to verify de-duplication.```\n",
        "\n"
      ],
      "metadata": {
        "id": "9gJoAb8z3vX8"
      }
    },
    {
      "cell_type": "code",
      "source": [
        "# Drop complete duplicates from ride_sharing\n",
        "ride_dup = ride_sharing.drop_duplicates()\n",
        "# Create statistics dictionary for aggregation function\n",
        "statistics = {'user_birth_year': 'min', 'duration': 'mean'}\n",
        "\n",
        "# Group by ride_id and compute new statistics\n",
        "ride_unique = ride_dup.groupby('ride_id').agg(statistics).reset_index()\n",
        "\n",
        "# Find duplicated values again\n",
        "duplicates = ride_unique.duplicated(subset = 'ride_id', keep = False)\n",
        "duplicated_rides = ride_unique[duplicates == True]\n",
        "\n",
        "# Assert duplicates are processed\n",
        "assert duplicated_rides.shape[0] == 0"
      ],
      "metadata": {
        "id": "ac0nozg32YIF"
      },
      "execution_count": null,
      "outputs": []
    },
    {
      "cell_type": "markdown",
      "source": [
        "\n",
        "\n",
        "```\n",
        "# Drop complete duplicates from ride_sharing\n",
        "ride_dup = ride_sharing.drop_duplicates()\n",
        "# Create statistics dictionary for aggregation function\n",
        "statistics = {'user_birth_year': 'min', 'duration': 'mean'}\n",
        "\n",
        "# Group by ride_id and compute new statistics\n",
        "ride_unique = ride_dup.groupby('ride_id').agg(statistics).reset_index()\n",
        "\n",
        "# Find duplicated values again\n",
        "duplicates = ride_unique.duplicated(subset = 'ride_id', keep = False)\n",
        "duplicated_rides = ride_unique[duplicates == True]\n",
        "\n",
        "# Assert duplicates are processed\n",
        "assert duplicated_rides.shape[0] == 0\n",
        "\n",
        "\n",
        "```\n",
        "\n"
      ],
      "metadata": {
        "id": "B1pnl5FP6m1i"
      }
    },
    {
      "cell_type": "markdown",
      "source": [
        "# Finding consistency\n",
        "In this exercise and throughout this chapter, you'll be working with the airlines DataFrame which contains survey responses on the San Francisco Airport from airline customers.\n",
        "\n",
        "The DataFrame contains flight metadata such as the airline, the destination, waiting times as well as answers to key questions regarding cleanliness, safety, and satisfaction. Another DataFrame named categories was created, containing all correct possible values for the survey columns.\n",
        "\n",
        "In this exercise, you will use both of these DataFrames to find survey answers with inconsistent values, and drop them, effectively performing an outer and inner join on both these DataFrames as seen in the video exercise. The pandas package has been imported as pd, and the airlines and categories DataFrames are in your environment."
      ],
      "metadata": {
        "id": "aze7_EhyDZ2S"
      }
    },
    {
      "cell_type": "markdown",
      "source": [
        "\n",
        "\n",
        "```\n",
        "Print the categories DataFrame and take a close look at all possible correct categories of the survey columns.\n",
        "\n",
        "Print the unique values of the survey columns in airlines using the .unique() method.\n",
        "\n",
        "```\n",
        "\n"
      ],
      "metadata": {
        "id": "jLYTcNlyEuN0"
      }
    },
    {
      "cell_type": "code",
      "source": [
        "# Print categories DataFrame\n",
        "print(categories)\n",
        "\n",
        "# Print unique values of survey columns in airlines\n",
        "print('Cleanliness: ', airlines['cleanliness'].unique(), \"\\n\")\n",
        "print('Safety: ', airlines[\"safety\"].unique(), \"\\n\")\n",
        "print('Satisfaction: ', airlines['satisfaction'].unique(), \"\\n\")\n"
      ],
      "metadata": {
        "id": "JlRGHlsM63RX"
      },
      "execution_count": null,
      "outputs": []
    },
    {
      "cell_type": "markdown",
      "source": [
        "\n",
        "\n",
        "```\n",
        "# Print categories DataFrame\n",
        "print(categories)\n",
        "\n",
        "# Print unique values of survey columns in airlines\n",
        "print('Cleanliness: ', airlines['cleanliness'].unique(), \"\\n\")\n",
        "print('Safety: ', airlines[\"safety\"].unique(), \"\\n\")\n",
        "print('Satisfaction: ', airlines['satisfaction'].unique(), \"\\n\")\n",
        "\n",
        "\n",
        "      cleanliness           safety          satisfaction\n",
        "0           Clean          Neutral        Very satisfied\n",
        "1         Average        Very safe               Neutral\n",
        "2  Somewhat clean    Somewhat safe    Somewhat satisfied\n",
        "3  Somewhat dirty      Very unsafe  Somewhat unsatisfied\n",
        "4           Dirty  Somewhat unsafe      Very unsatisfied\n",
        "Cleanliness:  ['Clean', 'Average', 'Unacceptable', 'Somewhat clean', 'Somewhat dirty', 'Dirty']\n",
        "Categories (6, object): ['Average', 'Clean', 'Dirty', 'Somewhat clean', 'Somewhat dirty', 'Unacceptable'] \n",
        "\n",
        "Safety:  ['Neutral', 'Very safe', 'Somewhat safe', 'Very unsafe', 'Somewhat unsafe']\n",
        "Categories (5, object): ['Neutral', 'Somewhat safe', 'Somewhat unsafe', 'Very safe', 'Very unsafe'] \n",
        "\n",
        "Satisfaction:  ['Very satisfied', 'Neutral', 'Somewhat satisfied', 'Somewhat unsatisfied', 'Very unsatisfied']\n",
        "Categories (5, object): ['Neutral', 'Somewhat satisfied', 'Somewhat unsatisfied', 'Very satisfied', 'Very unsatisfied'] ```\n",
        "\n"
      ],
      "metadata": {
        "id": "fvRDv0k3E7eT"
      }
    },
    {
      "cell_type": "markdown",
      "source": [
        "# Finding consistency\n",
        "\n",
        "In this exercise and throughout this chapter, you'll be working with the airlines DataFrame which contains survey responses on the San Francisco Airport from airline customers.\n",
        "\n",
        "\n",
        "The DataFrame contains flight metadata such as the airline, the destination, waiting times as well as answers to key questions regarding cleanliness, safety, and satisfaction. Another DataFrame named categories was created, containing all correct possible values for the survey columns.\n",
        "\n",
        "\n",
        "In this exercise, you will use both of these DataFrames to find survey answers with inconsistent values, and drop them, effectively performing an outer and inner join on both these DataFrames as seen in the video exercise. The pandas package has been imported as pd, and the airlines and categories DataFrames are in your environment."
      ],
      "metadata": {
        "id": "-Y5H42YmHCHx"
      }
    },
    {
      "cell_type": "markdown",
      "source": [
        "\n",
        "\n",
        "```\n",
        "Create a set out of the cleanliness column in airlines using set() and find the inconsistent category by finding the difference in the cleanliness column of categories.\n",
        "\n",
        "Find rows of airlines with a cleanliness value not in categories and print the output.\n",
        "\n",
        "\n",
        "```\n",
        "\n"
      ],
      "metadata": {
        "id": "L3I2oJnVHK0H"
      }
    },
    {
      "cell_type": "code",
      "source": [
        "# Find the cleanliness category in airlines not in categories\n",
        "cat_clean = set(airlines['cleanliness']).difference(categories['cleanliness'])\n",
        "\n",
        "# Find rows with that category\n",
        "cat_clean_rows = airlines['cleanliness'].isin(cat_clean)\n",
        "\n",
        "# Print rows with inconsistent category\n",
        "print(airlines[~cat_clean_rows])"
      ],
      "metadata": {
        "id": "8CdUGSfcHIEL"
      },
      "execution_count": null,
      "outputs": []
    },
    {
      "cell_type": "markdown",
      "source": [
        "\n",
        "\n",
        "```\n",
        "# Find the cleanliness category in airlines not in categories\n",
        "cat_clean = set(airlines['cleanliness']).difference(categories['cleanliness'])\n",
        "\n",
        "# Find rows with that category\n",
        "cat_clean_rows = airlines['cleanliness'].isin(cat_clean)\n",
        "\n",
        "# Print rows with inconsistent category\n",
        "print(airlines[~cat_clean_rows])\n",
        "        id       day        airline        destination    dest_region dest_size boarding_area   dept_time  wait_min     cleanliness         safety        satisfaction\n",
        "0     1351   Tuesday    UNITED INTL             KANSAI           Asia       Hub  Gates 91-102  2018-12-31     115.0           Clean        Neutral      Very satisfied\n",
        "1      373    Friday         ALASKA  SAN JOSE DEL CABO  Canada/Mexico     Small   Gates 50-59  2018-12-31     135.0           Clean      Very safe      Very satisfied\n",
        "2     2820  Thursday          DELTA        LOS ANGELES        West US       Hub   Gates 40-48  2018-12-31      70.0         Average  Somewhat safe             Neutral\n",
        "3     1157   Tuesday      SOUTHWEST        LOS ANGELES        West US       Hub   Gates 20-39  2018-12-31     190.0           Clean      Very safe  Somewhat satisfied\n",
        "5      634  Thursday         ALASKA             NEWARK        East US       Hub   Gates 50-59  2018-12-31     140.0  Somewhat clean      Very safe      Very satisfied\n",
        "...    ...       ...            ...                ...            ...       ...           ...         ...       ...             ...            ...                 ...\n",
        "2804  1475   Tuesday         ALASKA       NEW YORK-JFK        East US       Hub   Gates 50-59  2018-12-31     280.0  Somewhat clean        Neutral  Somewhat satisfied\n",
        "2805  2222  Thursday      SOUTHWEST            PHOENIX        West US       Hub   Gates 20-39  2018-12-31     165.0           Clean      Very safe      Very satisfied\n",
        "2806  2684    Friday         UNITED            ORLANDO        East US       Hub   Gates 70-90  2018-12-31      92.0           Clean      Very safe      Very satisfied\n",
        "2807  2549   Tuesday        JETBLUE         LONG BEACH        West US     Small    Gates 1-12  2018-12-31      95.0           Clean  Somewhat safe      Very satisfied\n",
        "2808  2162  Saturday  CHINA EASTERN            QINGDAO           Asia     Large    Gates 1-12  2018-12-31     220.0           Clean      Very safe  Somewhat satisfied\n",
        "\n",
        "[2474 rows x 12 columns]\n",
        "```\n",
        "\n"
      ],
      "metadata": {
        "id": "I6JKc0LTIt8u"
      }
    },
    {
      "cell_type": "markdown",
      "source": [
        "\n",
        "\n",
        "```\n",
        "In [1]: categories\n",
        "Out[1]:\n",
        "      cleanliness           safety          satisfaction\n",
        "0           Clean          Neutral        Very satisfied\n",
        "1         Average        Very safe               Neutral\n",
        "2  Somewhat clean    Somewhat safe    Somewhat satisfied\n",
        "3  Somewhat dirty      Very unsafe  Somewhat unsatisfied\n",
        "4           Dirty  Somewhat unsafe      Very unsatisfied\n",
        "\n",
        "cat_clean = set(airlines['cleanliness']).difference(categories['cleanliness'])\n",
        "\n",
        "In [2]: cat_clean\n",
        "Out[2]:\n",
        "{'Unacceptable'}\n",
        "\n",
        "cat_clean_rows = airlines['cleanliness'].isin(cat_clean)\n",
        "\n",
        "In [3]: cat_clean_rows\n",
        "Out[3]:\n",
        "0       False\n",
        "1       False\n",
        "2       False\n",
        "3       False\n",
        "4        True\n",
        "        ...  \n",
        "2804    False\n",
        "2805    False\n",
        "2806    False\n",
        "2807    False\n",
        "2808    False\n",
        "Name: cleanliness, Length: 2477, dtype: bool\n",
        "\n",
        "In [4]: print(airlines[cat_clean_rows])\n",
        "       id        day           airline  destination  dest_region dest_size  \\\n",
        "4    2992  Wednesday          AMERICAN        MIAMI      East US       Hub   \n",
        "18   2913     Friday  TURKISH AIRLINES     ISTANBUL  Middle East       Hub   \n",
        "100  2321  Wednesday         SOUTHWEST  LOS ANGELES      West US       Hub   \n",
        "\n",
        "    boarding_area   dept_time  wait_min   cleanliness         safety  \\\n",
        "4     Gates 50-59  2018-12-31     559.0  Unacceptable      Very safe   \n",
        "18   Gates 91-102  2018-12-31     225.0  Unacceptable      Very safe   \n",
        "100   Gates 20-39  2018-12-31     130.0  Unacceptable  Somewhat safe   \n",
        "\n",
        "           satisfaction  \n",
        "4    Somewhat satisfied  \n",
        "18   Somewhat satisfied  \n",
        "100  Somewhat satisfied```\n",
        "\n"
      ],
      "metadata": {
        "id": "_TnNbW8dJwKV"
      }
    },
    {
      "cell_type": "code",
      "source": [
        "# Find the cleanliness category in airlines not in categories\n",
        "cat_clean = set(airlines['cleanliness']).difference(categories['cleanliness'])\n",
        "\n",
        "# Find rows with that category\n",
        "cat_clean_rows = airlines['cleanliness'].isin(cat_clean)\n",
        "\n",
        "# Print rows with inconsistent category\n",
        "print(airlines[cat_clean_rows])\n",
        "\n",
        "# Print rows with consistent categories only\n",
        "print(airlines[~cat_clean_rows])"
      ],
      "metadata": {
        "id": "Dpz30wshI71C"
      },
      "execution_count": null,
      "outputs": []
    },
    {
      "cell_type": "markdown",
      "source": [
        "\n",
        "\n",
        "```\n",
        "\n",
        "# Print rows with consistent categories only\n",
        "print(airlines[~cat_clean_rows])\n",
        "       id        day           airline  destination  dest_region dest_size boarding_area   dept_time  wait_min   cleanliness         safety        satisfaction\n",
        "4    2992  Wednesday          AMERICAN        MIAMI      East US       Hub   Gates 50-59  2018-12-31     559.0  Unacceptable      Very safe  Somewhat satisfied\n",
        "18   2913     Friday  TURKISH AIRLINES     ISTANBUL  Middle East       Hub  Gates 91-102  2018-12-31     225.0  Unacceptable      Very safe  Somewhat satisfied\n",
        "100  2321  Wednesday         SOUTHWEST  LOS ANGELES      West US       Hub   Gates 20-39  2018-12-31     130.0  Unacceptable  Somewhat safe  Somewhat satisfied\n",
        "        id       day        airline        destination    dest_region dest_size boarding_area   dept_time  wait_min     cleanliness         safety        satisfaction\n",
        "0     1351   Tuesday    UNITED INTL             KANSAI           Asia       Hub  Gates 91-102  2018-12-31     115.0           Clean        Neutral      Very satisfied\n",
        "1      373    Friday         ALASKA  SAN JOSE DEL CABO  Canada/Mexico     Small   Gates 50-59  2018-12-31     135.0           Clean      Very safe      Very satisfied\n",
        "2     2820  Thursday          DELTA        LOS ANGELES        West US       Hub   Gates 40-48  2018-12-31      70.0         Average  Somewhat safe             Neutral\n",
        "3     1157   Tuesday      SOUTHWEST        LOS ANGELES        West US       Hub   Gates 20-39  2018-12-31     190.0           Clean      Very safe  Somewhat satisfied\n",
        "5      634  Thursday         ALASKA             NEWARK        East US       Hub   Gates 50-59  2018-12-31     140.0  Somewhat clean      Very safe      Very satisfied\n",
        "...    ...       ...            ...                ...            ...       ...           ...         ...       ...             ...            ...                 ...\n",
        "2804  1475   Tuesday         ALASKA       NEW YORK-JFK        East US       Hub   Gates 50-59  2018-12-31     280.0  Somewhat clean        Neutral  Somewhat satisfied\n",
        "2805  2222  Thursday      SOUTHWEST            PHOENIX        West US       Hub   Gates 20-39  2018-12-31     165.0           Clean      Very safe      Very satisfied\n",
        "2806  2684    Friday         UNITED            ORLANDO        East US       Hub   Gates 70-90  2018-12-31      92.0           Clean      Very safe      Very satisfied\n",
        "2807  2549   Tuesday        JETBLUE         LONG BEACH        West US     Small    Gates 1-12  2018-12-31      95.0           Clean  Somewhat safe      Very satisfied\n",
        "2808  2162  Saturday  CHINA EASTERN            QINGDAO           Asia     Large    Gates 1-12  2018-12-31     220.0           Clean      Very safe  Somewhat satisfied\n",
        "\n",
        "[2474 rows x 12 columns]\n",
        "\n",
        "```\n",
        "\n"
      ],
      "metadata": {
        "id": "Le_OTAtUKkCv"
      }
    },
    {
      "cell_type": "code",
      "source": [
        "# Print unique values of both columns\n",
        "print(airlines['dest_region'].value_counts())\n",
        "print(airlines['dest_size'].value_counts())"
      ],
      "metadata": {
        "id": "W-Y6ehzONuTB"
      },
      "execution_count": null,
      "outputs": []
    },
    {
      "cell_type": "markdown",
      "source": [
        "\n",
        "\n",
        "```\n",
        "# Print unique values of both columns\n",
        "print(airlines['dest_region'].value_counts())\n",
        "print(airlines['dest_size'].value_counts())\n",
        "West US                  864\n",
        "East US                  367\n",
        "Europe                   272\n",
        "Midwest US               251\n",
        "Asia                     226\n",
        "Canada/Mexico            198\n",
        "eur                       79\n",
        "EAST US                   69\n",
        "Australia/New Zealand     60\n",
        "Middle East               48\n",
        "Central/South America     22\n",
        "middle east               21\n",
        "Name: dest_region, dtype: int64\n",
        "Hub            1202\n",
        "Medium          457\n",
        "    Hub         226\n",
        "Small           165\n",
        "Hub             122\n",
        "Large           110\n",
        "    Medium       97\n",
        "Medium           46\n",
        "    Small        20\n",
        "Small            15\n",
        "    Large        11\n",
        "Large             6\n",
        "Name: dest_size, dtype: int64```\n",
        "\n"
      ],
      "metadata": {
        "id": "RNWflc7qNvBq"
      }
    },
    {
      "cell_type": "markdown",
      "source": [
        "\n",
        "\n",
        "```\n",
        "Inconsistent categories\n",
        "In this exercise, you'll be revisiting the airlines DataFrame from the previous lesson.\n",
        "\n",
        "As a reminder, the DataFrame contains flight metadata such as the airline, the destination, waiting times as well as answers to key questions regarding cleanliness, safety, and satisfaction on the San Francisco Airport.\n",
        "\n",
        "In this exercise, you will examine two categorical columns from this DataFrame, dest_region and dest_size respectively, assess how to address them and make sure that they are cleaned and ready for analysis. The pandas package has been imported as pd, and the airlines DataFrame is in your environment.\n",
        "\n",
        "```\n",
        "\n"
      ],
      "metadata": {
        "id": "8xmYAZatOdlb"
      }
    },
    {
      "cell_type": "code",
      "source": [
        "# Print unique values of both columns\n",
        "print(airlines['dest_region'].unique())\n",
        "print(airlines['dest_size'].unique())\n",
        "\n",
        "# Lower dest_region column and then replace \"eur\" with \"europe\"\n",
        "airlines['dest_region'] = airlines['dest_region'].str.lower()\n",
        "airlines['dest_region'] = airlines['dest_region'].replace({'eur':'europe'})"
      ],
      "metadata": {
        "id": "4CCHsIlVOD1B"
      },
      "execution_count": null,
      "outputs": []
    },
    {
      "cell_type": "markdown",
      "source": [
        "\n",
        "\n",
        "```\n",
        "# Print unique values of both columns\n",
        "print(airlines['dest_region'].unique())\n",
        "print(airlines['dest_size'].unique())\n",
        "\n",
        "# Lower dest_region column and then replace \"eur\" with \"europe\"\n",
        "airlines['dest_region'] = airlines['dest_region'].str.lower()\n",
        "airlines['dest_region'] = airlines['dest_region'].replace({'eur':'europe'})\n",
        "\n",
        "['Asia' 'Canada/Mexico' 'West US' 'East US' 'Midwest US' 'EAST US'\n",
        " 'Middle East' 'Europe' 'eur' 'Central/South America'\n",
        " 'Australia/New Zealand' 'middle east']\n",
        "['Hub' 'Small' '    Hub' 'Medium' 'Large' 'Hub     ' '    Small'\n",
        " 'Medium     ' '    Medium' 'Small     ' '    Large' 'Large     ']\n",
        "```\n",
        "\n"
      ],
      "metadata": {
        "id": "EBfTNZ6vPKzT"
      }
    },
    {
      "cell_type": "code",
      "source": [
        "# Print unique values of both columns\n",
        "print(airlines['dest_region'].unique())\n",
        "print(airlines['dest_size'].unique())\n",
        "\n",
        "# Lower dest_region column and then replace \"eur\" with \"europe\"\n",
        "airlines['dest_region'] = airlines['dest_region'].str.lower() \n",
        "airlines['dest_region'] = airlines['dest_region'].replace({'eur':'europe'})\n",
        "\n",
        "# Remove white spaces from `dest_size`\n",
        "airlines['dest_size'] = airlines['dest_size'].str.strip()\n",
        "\n",
        "# Verify changes have been effected\n",
        "print(airlines['dest_region'].unique())\n",
        "print(airlines['dest_size'].unique())"
      ],
      "metadata": {
        "id": "Es7TRttWP8dF"
      },
      "execution_count": null,
      "outputs": []
    },
    {
      "cell_type": "markdown",
      "source": [
        "\n",
        "\n",
        "```\n",
        "# Print unique values of both columns\n",
        "print(airlines['dest_region'].unique())\n",
        "print(airlines['dest_size'].unique())\n",
        "\n",
        "# Lower dest_region column and then replace \"eur\" with \"europe\"\n",
        "airlines['dest_region'] = airlines['dest_region'].str.lower() \n",
        "airlines['dest_region'] = airlines['dest_region'].replace({'eur':'europe'})\n",
        "\n",
        "# Remove white spaces from `dest_size`\n",
        "airlines['dest_size'] = airlines['dest_size'].str.strip()\n",
        "\n",
        "# Verify changes have been effected\n",
        "print(airlines['dest_region'].unique())\n",
        "print(airlines['dest_size'].unique())\n",
        "\n",
        "['Asia' 'Canada/Mexico' 'West US' 'East US' 'Midwest US' 'EAST US'\n",
        " 'Middle East' 'Europe' 'eur' 'Central/South America'\n",
        " 'Australia/New Zealand' 'middle east']\n",
        "['Hub' 'Small' '    Hub' 'Medium' 'Large' 'Hub     ' '    Small'\n",
        " 'Medium     ' '    Medium' 'Small     ' '    Large' 'Large     ']\n",
        "['asia' 'canada/mexico' 'west us' 'east us' 'midwest us' 'middle east'\n",
        " 'europe' 'central/south america' 'australia/new zealand']\n",
        "['Hub' 'Small' 'Medium' 'Large']```\n",
        "\n"
      ],
      "metadata": {
        "id": "-yj7UHG0P9ib"
      }
    },
    {
      "cell_type": "markdown",
      "source": [
        "\n",
        "\n",
        "\n",
        "# Remapping categories\n",
        "\n",
        "`To better understand survey respondents from airlines, you want to find out if there is a relationship between certain responses and the day of the week and wait time at the gate.`\n",
        "\n",
        "\n",
        "`The airlines DataFrame contains the day and wait_min columns, which are categorical and numerical respectively. The day column contains the exact day a flight took place, and wait_min contains the amount of minutes it took travelers to wait at the gate. To make your analysis easier, you want to create two new categorical variables:`\n",
        "\n",
        "\n",
        "\n",
        "\n",
        "```\n",
        "\n",
        "wait_type: 'short' for 0-60 min, 'medium' for 60-180 and long for 180+\n",
        "day_week: 'weekday' if day is in the weekday, 'weekend' if day is in the weekend.\n",
        "The pandas and numpy packages have been imported as pd and np. Let's create some new categorical data!```\n",
        "\n",
        "\n",
        "\n",
        "\n",
        "\n"
      ],
      "metadata": {
        "id": "lbDAHfRJQdFs"
      }
    },
    {
      "cell_type": "code",
      "source": [
        "# Create ranges for categories\n",
        "label_ranges = [0, 60, 180, np.inf]\n",
        "label_names = ['short', 'medium', 'long']\n",
        "\n",
        "# Create wait_type column\n",
        "airlines['wait_type'] = pd.cut(airlines['wait_min'], bins = label_ranges, \n",
        "                                labels = label_names)\n",
        "\n",
        "# Create mappings and replace\n",
        "mappings = {'Monday':'weekday', 'Tuesday':'weekday', 'Wednesday': 'weekday', \n",
        "            'Thursday': 'weekday', 'weekday': 'weekday', \n",
        "            'Saturday': 'weekend', 'Sunday': 'weekend'}\n",
        "\n",
        "\n",
        "\n",
        "airlines['day_week'] = airlines['day'].replace(mappings)\n"
      ],
      "metadata": {
        "id": "oL1Umus0Qwsd"
      },
      "execution_count": null,
      "outputs": []
    },
    {
      "cell_type": "markdown",
      "source": [
        "# Removing titles and taking names\n",
        "While collecting survey respondent metadata in the airlines DataFrame, the full name of respondents was saved in the full_name column. However upon closer inspection, you found that a lot of the different names are prefixed by honorifics such as \"Dr.\", \"Mr.\", \"Ms.\" and \"Miss\".\n",
        "\n",
        "Your ultimate objective is to create two new columns named first_name and last_name, containing the first and last names of respondents respectively. Before doing so however, you need to remove honorifics.\n",
        "\n",
        "The airlines DataFrame is in your environment, alongside pandas as pd."
      ],
      "metadata": {
        "id": "D5sLa9nUVi91"
      }
    },
    {
      "cell_type": "code",
      "source": [
        "# Replace \"Dr.\" with empty string \"\"\n",
        "airlines['full_name'] = airlines['full_name'].str.replace(\"Dr.\",\"\")\n",
        "\n",
        "\n",
        "# Replace \"Mr.\" with empty string \"\"\n",
        "airlines['full_name'] = airlines['full_name'].str.replace(\"Mr.\",\"\")\n",
        "\n",
        "# Replace \"Miss\" with empty string \"\"\n",
        "airlines['full_name'] = airlines['full_name'].str.replace(\"Miss\",\"\")\n",
        "\n",
        "# Replace \"Ms.\" with empty string \"\"\n",
        "airlines['full_name'] = airlines['full_name'].str.replace(\"Ms.\",\"\")\n",
        "# Assert that full_name has no honorifics\n",
        "assert airlines['full_name'].str.contains('Ms.|Mr.|Miss|Dr.').any() == False"
      ],
      "metadata": {
        "id": "WwJAZyPYViNS"
      },
      "execution_count": null,
      "outputs": []
    },
    {
      "cell_type": "markdown",
      "source": [
        "# Keeping it descriptive\n",
        "To further understand travelers' experiences in the San Francisco Airport, the quality assurance department sent out a qualitative questionnaire to all travelers who gave the airport the worst score on all possible categories. The objective behind this questionnaire is to identify common patterns in what travelers are saying about the airport.\n",
        "\n",
        "Their response is stored in the survey_response column. Upon a closer look, you realized a few of the answers gave the shortest possible character amount without much substance. In this exercise, you will isolate the responses with a character count higher than 40 , and make sure your new DataFrame contains responses with 40 characters or more using an assert statement.\n",
        "\n",
        "The airlines DataFrame is in your environment, and pandas is imported as pd."
      ],
      "metadata": {
        "id": "LTdfMNIAYCZQ"
      }
    },
    {
      "cell_type": "code",
      "source": [
        "# Store length of each row in survey_response column\n",
        "resp_length = airlines['survey_response'].str.len()\n",
        "\n",
        "# Find rows in airlines where resp_length > 40\n",
        "airlines_survey = airlines[resp_length > 40]\n",
        "\n",
        "# Assert minimum survey_response length is > 40\n",
        "assert airlines_survey['survey_response'].str.len().min() > 40\n",
        "\n",
        "# Print new survey_response column\n",
        "print(airlines_survey['survey_response'])"
      ],
      "metadata": {
        "id": "2drBdUmOXsaY"
      },
      "execution_count": null,
      "outputs": []
    },
    {
      "cell_type": "markdown",
      "source": [
        "\n",
        "\n",
        "```\n",
        "# Store length of each row in survey_response column\n",
        "resp_length = airlines['survey_response'].str.len()\n",
        "\n",
        "# Find rows in airlines where resp_length > 40\n",
        "airlines_survey = airlines[resp_length > 40]\n",
        "\n",
        "# Assert minimum survey_response length is > 40\n",
        "assert airlines_survey['survey_response'].str.len().min() > 40\n",
        "\n",
        "# Print new survey_response column\n",
        "print(airlines_survey['survey_response'])\n",
        "\n",
        "18    The airport personnell forgot to alert us of d...\n",
        "19    The food in the airport was really really expe...\n",
        "20    One of the other travelers was really loud and...\n",
        "21    I don't remember answering the survey with the...\n",
        "22    The airport personnel kept ignoring my request...\n",
        "23    The chair I sat in was extremely uncomfortable...\n",
        "24    I wish you were more like other airports, the ...\n",
        "25    I was really unsatisfied with the wait times b...\n",
        "27    The flight was okay, but I didn't really like ...\n",
        "28    We were really slowed down by security measure...\n",
        "29    There was a spill on the aisle next to the bat...\n",
        "30    I felt very unsatisfied by how long the flight...\n",
        "Name: survey_response, dtype: object```\n",
        "\n"
      ],
      "metadata": {
        "id": "0tRxD0lTa0zw"
      }
    },
    {
      "cell_type": "markdown",
      "source": [
        "# Uniform currencies\n",
        "\n",
        "In this exercise and throughout this chapter, you will be working with a retail banking dataset stored in the banking DataFrame. The dataset contains data on the amount of money stored in accounts (acct_amount), their currency (acct_cur), amount invested (inv_amount), account opening date (account_opened), and last transaction date (last_transaction) that were consolidated from American and European branches.\n",
        "\n",
        "You are tasked with understanding the average account size and how investments vary by the size of account, however in order to produce this analysis accurately, you first need to unify the currency amount into dollars. The pandas package has been imported as pd, and the banking DataFrame is in your environment."
      ],
      "metadata": {
        "id": "IKj9pNxBdlSi"
      }
    },
    {
      "cell_type": "markdown",
      "source": [
        "\n",
        "\n",
        "```\n",
        "Find the rows of acct_cur in banking that are equal to 'euro' and store them in the variable acct_eu.\n",
        "\n",
        "Find all the rows of acct_amount in banking that fit the acct_eu condition, and convert them to USD by multiplying them with 1.1.\n",
        "\n",
        "Find all the rows of acct_cur in banking that fit the acct_eu condition, set them to 'dollar'.```\n",
        "\n"
      ],
      "metadata": {
        "id": "8wa5KINPeI5r"
      }
    },
    {
      "cell_type": "code",
      "source": [
        "# Find values of acct_cur that are equal to 'euro'\n",
        "acct_eu = banking['acct_cur'] == 'euro'\n",
        "\n",
        "# Convert acct_amount where it is in euro to dollars\n",
        "banking.loc[banking['acct_cur']=='euro', 'acct_amount'] = banking.loc[banking['acct_cur']=='euro', 'acct_amount'] * 1.1\n",
        "\n",
        "# Unify acct_cur column by changing 'euro' values to 'dollar'\n",
        "banking.loc[banking['acct_cur']=='euro', 'acct_cur'] = 'dollar'\n",
        "\n",
        "# Assert that only dollar currency remains\n",
        "assert banking['acct_cur'].unique() == 'dollar'"
      ],
      "metadata": {
        "id": "ZDx0Yt9Ua0XJ"
      },
      "execution_count": null,
      "outputs": []
    },
    {
      "cell_type": "markdown",
      "source": [
        "# Uniform dates\n",
        "After having unified the currencies of your different account amounts, you want to add a temporal dimension to your analysis and see how customers have been investing their money given the size of their account over each year. The account_opened column represents when customers opened their accounts and is a good proxy for segmenting customer activity and investment over time.\n",
        "\n",
        "However, since this data was consolidated from multiple sources, you need to make sure that all dates are of the same format. You will do so by converting this column into a datetime object, while making sure that the format is inferred and potentially incorrect formats are set to missing. The banking DataFrame is in your environment and pandas was imported as pd."
      ],
      "metadata": {
        "id": "hdYNGc2EgmTu"
      }
    },
    {
      "cell_type": "markdown",
      "source": [
        "\n",
        "\n",
        "```\n",
        "Print the header of account_opened from the banking DataFrame and take a look at the different results.```\n",
        "\n"
      ],
      "metadata": {
        "id": "1TaJvG6Mf6al"
      }
    },
    {
      "cell_type": "code",
      "source": [
        "# Print the header of account_opened\n",
        "print(banking['account_opened'].head())"
      ],
      "metadata": {
        "id": "82dXqW6Hf1ua"
      },
      "execution_count": null,
      "outputs": []
    },
    {
      "cell_type": "markdown",
      "source": [
        "\n",
        "\n",
        "\n",
        "```\n",
        "# Print the header of account_opened\n",
        "print(banking['account_opened'].head())\n",
        "0          2018-03-05\n",
        "1            21-01-18\n",
        "2    January 26, 2018\n",
        "3            21-14-17\n",
        "4            05-06-17\n",
        "Name: account_opened, dtype: object\n",
        "```\n",
        "\n"
      ],
      "metadata": {
        "id": "IArZ_kkugWU5"
      }
    },
    {
      "cell_type": "markdown",
      "source": [
        "\n",
        "\n",
        "```\n",
        "Convert the account_opened column to datetime, while making sure the date format is inferred and that erroneous formats that raise error return a missing value.\n",
        "\n",
        "```\n",
        "\n"
      ],
      "metadata": {
        "id": "LzwdxhNxg-4t"
      }
    },
    {
      "cell_type": "code",
      "source": [
        "# Print the header of account_opened\n",
        "print(banking['account_opened'].head())\n",
        "\n",
        "# Convert account_opened to datetime\n",
        "banking['account_opened'] = pd.to_datetime(banking['account_opened'],\n",
        "                                           # Infer datetime format\n",
        "                                           infer_datetime_format = True,\n",
        "                                           # Return missing value for error\n",
        "                                           errors = 'coerce') \n"
      ],
      "metadata": {
        "id": "yjcQFkxvgV92"
      },
      "execution_count": null,
      "outputs": []
    },
    {
      "cell_type": "markdown",
      "source": [
        "\n",
        "\n",
        "```\n",
        "0          2018-03-05\n",
        "1            21-01-18\n",
        "2    January 26, 2018\n",
        "3            21-14-17\n",
        "4            05-06-17\n",
        "Name: account_opened, dtype: object\n",
        "\n",
        "```\n",
        "\n"
      ],
      "metadata": {
        "id": "8oD9t2nShzZs"
      }
    },
    {
      "cell_type": "markdown",
      "source": [
        "\n",
        "\n",
        "```\n",
        "Extract the year from the amended account_opened column and assign it to the acct_year column.\n",
        "Print the newly created acct_year column.\n",
        "\n",
        "```\n",
        "\n"
      ],
      "metadata": {
        "id": "rXsr4sq2iAki"
      }
    },
    {
      "cell_type": "code",
      "source": [
        "# Print the header of account_opend\n",
        "print(banking['account_opened'].head())\n",
        "\n",
        "# Convert account_opened to datetime\n",
        "banking['account_opened'] = pd.to_datetime(banking['account_opened'],\n",
        "                                           # Infer datetime format\n",
        "                                           infer_datetime_format = True,\n",
        "                                           # Return missing value for error\n",
        "                                           errors = 'coerce') \n",
        "\n",
        "# Get year of account opened\n",
        "banking['acct_year'] = banking['account_opened'].dt.strftime('%Y')\n",
        "\n",
        "# Print acct_year\n",
        "print(banking['acct_year'])"
      ],
      "metadata": {
        "id": "qR03KlPJhzB-"
      },
      "execution_count": null,
      "outputs": []
    },
    {
      "cell_type": "markdown",
      "source": [
        "\n",
        "\n",
        "```\n",
        "Name: account_opened, dtype: object\n",
        "0     2018\n",
        "1     2018\n",
        "2     2018\n",
        "3      NaN\n",
        "4     2017\n",
        "      ... \n",
        "92    2017\n",
        "93    2018\n",
        "94    2018\n",
        "95    2017\n",
        "96    2017\n",
        "Name: acct_year, Length: 97, dtype: object```\n",
        "\n"
      ],
      "metadata": {
        "id": "DvonnRsNibLt"
      }
    },
    {
      "cell_type": "markdown",
      "source": [
        "# How's our data integrity?\n",
        "New data has been merged into the banking DataFrame that contains details on how investments in the inv_amount column are allocated across four different funds A, B, C and D.\n",
        "\n",
        "Furthermore, the age and birthdays of customers are now stored in the age and birth_date columns respectively.\n",
        "\n",
        "You want to understand how customers of different age groups invest. However, you want to first make sure the data you're analyzing is correct. You will do so by cross field checking values of inv_amount and age against the amount invested in different funds and customers' birthdays. Both pandas and datetime have been imported as pd and dt respectively."
      ],
      "metadata": {
        "id": "unY5W1kWxEr4"
      }
    },
    {
      "cell_type": "code",
      "source": [
        "# Store fund columns to sum against\n",
        "fund_columns = ['fund_A', 'fund_B', 'fund_C', 'fund_D']\n",
        "\n",
        "# Find rows where fund_columns row sum == inv_amount\n",
        "inv_equ = banking[fund_columns].sum(axis = 1) == banking['inv_amount']\n",
        "\n",
        "# Store consistent and inconsistent data\n",
        "consistent_inv = banking[inv_equ]\n",
        "inconsistent_inv = banking[~inv_equ]\n",
        "\n",
        "# Store consistent and inconsistent data\n",
        "print(\"Number of inconsistent investments: \", inconsistent_inv.shape[0])"
      ],
      "metadata": {
        "id": "mzFmw7K-xHgK"
      },
      "execution_count": null,
      "outputs": []
    },
    {
      "cell_type": "markdown",
      "source": [
        "\n",
        "\n",
        "```\n",
        "# Store fund columns to sum against\n",
        "fund_columns = ['fund_A', 'fund_B', 'fund_C', 'fund_D']\n",
        "\n",
        "# Find rows where fund_columns row sum == inv_amount\n",
        "inv_equ = banking[fund_columns].sum(axis = 1) == banking['inv_amount']\n",
        "\n",
        "# Store consistent and inconsistent data\n",
        "consistent_inv = banking[inv_equ]\n",
        "inconsistent_inv = banking[~inv_equ]\n",
        "\n",
        "# Store consistent and inconsistent data\n",
        "print(\"Number of inconsistent investments: \", inconsistent_inv.shape[0])\n",
        "Number of inconsistent investments:  8\n",
        "\n",
        "\n",
        "```\n",
        "\n"
      ],
      "metadata": {
        "id": "4c3mZCOu0JTj"
      }
    },
    {
      "cell_type": "markdown",
      "source": [
        "\n",
        "\n",
        "```\n",
        "Store today's date into today, and manually calculate customers' ages and store them in ages_manual.\n",
        "Find all rows of banking where the age column is equal to ages_manual and then filter banking into consistent_ages and inconsistent_ages.\n",
        "\n",
        "```\n",
        "\n"
      ],
      "metadata": {
        "id": "F3amC6U32XRi"
      }
    },
    {
      "cell_type": "code",
      "source": [
        "# Store today's date and find ages\n",
        "today = dt.date.today()\n",
        "ages_manual = today.year - banking['birth_date'].dt.year\n",
        "\n",
        "# Find rows where age column == ages_manual\n",
        "age_equ = ages_manual == banking['age']\n",
        "\n",
        "# Store consistent and inconsistent data\n",
        "consistent_ages = banking[age_equ]\n",
        "inconsistent_ages = banking[~age_equ]\n",
        "\n",
        "# Store consistent and inconsistent data\n",
        "print(\"Number of inconsistent ages: \", inconsistent_ages.shape[0])"
      ],
      "metadata": {
        "id": "qkqaGrmj2Srm"
      },
      "execution_count": null,
      "outputs": []
    },
    {
      "cell_type": "markdown",
      "source": [
        "\n",
        "\n",
        "```\n",
        "# Store today's date and find ages\n",
        "today = dt.date.today()\n",
        "ages_manual = today.year - banking['birth_date'].dt.year\n",
        "\n",
        "# Find rows where age column == ages_manual\n",
        "age_equ = ages_manual == banking['age']\n",
        "\n",
        "# Store consistent and inconsistent data\n",
        "consistent_ages = banking[age_equ]\n",
        "inconsistent_ages = banking[age_equ]\n",
        "\n",
        "# Store consistent and inconsistent data\n",
        "print(\"Number of inconsistent ages: \", inconsistent_ages.shape[0])\n",
        "Number of inconsistent ages:  96\n",
        "\n",
        "```\n",
        "\n"
      ],
      "metadata": {
        "id": "zs8lqZ-y2jbm"
      }
    },
    {
      "cell_type": "markdown",
      "source": [
        "\n",
        "\n",
        "```\n",
        "Missing investors\n",
        "Dealing with missing data is one of the most common tasks in data science. There are a variety of types of missingness, as well as a variety of types of solutions to missing data.\n",
        "\n",
        "You just received a new version of the banking DataFrame containing data on the amount held and invested for new and existing customers. However, there are rows with missing inv_amount values.\n",
        "\n",
        "You know for a fact that most customers below 25 do not have investment accounts yet, and suspect it could be driving the missingness. The pandas, missingno and matplotlib.pyplot packages have been imported as pd, msno and plt respectively. The banking DataFrame is in your environment.\n",
        "\n",
        "```\n",
        "\n"
      ],
      "metadata": {
        "id": "iN7Swm222SVE"
      }
    },
    {
      "cell_type": "markdown",
      "source": [
        "\n",
        "\n",
        "```\n",
        "Print the number of missing values by column in the banking DataFrame.\n",
        "Plot and show the missingness matrix of banking with the msno.matrix() function.\n",
        "\n",
        "```\n",
        "\n"
      ],
      "metadata": {
        "id": "Xkdj247Y4-Uv"
      }
    },
    {
      "cell_type": "code",
      "source": [
        "# Print number of missing values in banking\n",
        "print(banking.isna().sum())\n",
        "\n",
        "# Visualize missingness matrix\n",
        "msno.matrix(banking)\n",
        "plt.show()"
      ],
      "metadata": {
        "id": "IA6Yj8Pv49kd"
      },
      "execution_count": null,
      "outputs": []
    },
    {
      "cell_type": "markdown",
      "source": [
        "![image.png](data:image/png;base64,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)"
      ],
      "metadata": {
        "id": "SMhkvYxi5mSZ"
      }
    },
    {
      "cell_type": "code",
      "source": [
        "# Print number of missing values in banking\n",
        "print(banking.isna().sum())\n",
        "\n",
        "# Visualize missingness matrix\n",
        "msno.matrix(banking)\n",
        "plt.show()\n",
        "\n",
        "# Isolate missing and non missing values of inv_amount\n",
        "missing_investors = banking[banking['inv_amount'].isna()]\n",
        "investors = banking[~banking['inv_amount'].isna()]"
      ],
      "metadata": {
        "id": "Ui21Bgg66lHY"
      },
      "execution_count": null,
      "outputs": []
    },
    {
      "cell_type": "markdown",
      "source": [
        "\n",
        "\n",
        "```\n",
        "# Isolate missing and non missing values of inv_amount\n",
        "missing_investors = banking[banking['inv_amount'].isna()]\n",
        "investors = banking[~banking['inv_amount'].isna()]\n",
        "cust_id              0\n",
        "age                  0\n",
        "acct_amount          0\n",
        "inv_amount          13\n",
        "account_opened       0\n",
        "last_transaction     0\n",
        "dtype: int64\n",
        "\n",
        "<script.py> output:\n",
        "    cust_id              0\n",
        "    age                  0\n",
        "    acct_amount          0\n",
        "    inv_amount          13\n",
        "    account_opened       0\n",
        "    last_transaction     0\n",
        "    dtype: int64```\n",
        "\n"
      ],
      "metadata": {
        "id": "dN4wD2Nt6n9U"
      }
    },
    {
      "cell_type": "markdown",
      "source": [
        "\n",
        "\n",
        "```\n",
        "Sort the banking DataFrame by the age column and plot the missingness matrix of banking_sorted.\n",
        "\n",
        "```\n",
        "\n"
      ],
      "metadata": {
        "id": "_PPZ2hfC7RrU"
      }
    },
    {
      "cell_type": "code",
      "source": [
        "# Print number of missing values in banking\n",
        "print(banking.isna().sum())\n",
        "\n",
        "# Visualize missingness matrix\n",
        "msno.matrix(banking)\n",
        "plt.show()\n",
        "\n",
        "# Isolate missing and non missing values of inv_amount\n",
        "missing_investors = banking[banking['inv_amount'].isna()]\n",
        "investors = banking[~banking['inv_amount'].isna()]\n",
        "\n",
        "# Sort banking by age and visualize\n",
        "banking_sorted = banking.sort_values(by = 'age')\n",
        "msno.matrix(banking_sorted)\n",
        "plt.show()"
      ],
      "metadata": {
        "id": "LYZZLaDm7RH_"
      },
      "execution_count": null,
      "outputs": []
    },
    {
      "cell_type": "markdown",
      "source": [
        "![image.png](data:image/png;base64,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)"
      ],
      "metadata": {
        "id": "qrKXCmHc7nqd"
      }
    },
    {
      "cell_type": "markdown",
      "source": [
        "# Follow the money\n",
        "In this exercise, you're working with another version of the banking DataFrame that contains missing values for both the cust_id column and the acct_amount column.\n",
        "\n",
        "You want to produce analysis on how many unique customers the bank has, the average amount held by customers and more. You know that rows with missing cust_id don't really help you, and that on average acct_amount is usually 5 times the amount of inv_amount.\n",
        "\n",
        "In this exercise, you will drop rows of banking with missing cust_ids, and impute missing values of acct_amount with some domain knowledge."
      ],
      "metadata": {
        "id": "DvFViH7b7xaY"
      }
    },
    {
      "cell_type": "code",
      "source": [
        "# Drop missing values of cust_id\n",
        "banking_fullid = banking.dropna(subset = ['cust_id'])\n",
        "\n",
        "# Compute estimated acct_amount\n",
        "acct_imp = banking_fullid['inv_amount'] * 5\n",
        "\n",
        "# Impute missing acct_amount with corresponding acct_imp\n",
        "banking_imputed = banking_fullid.fillna({\n",
        "    'acct_amount':acct_imp})\n",
        "\n",
        "# Print number of missing values\n",
        "print(banking_imputed.isna().sum())"
      ],
      "metadata": {
        "id": "vFi3oD3Z46WD"
      },
      "execution_count": null,
      "outputs": []
    },
    {
      "cell_type": "markdown",
      "source": [
        "\n",
        "\n",
        "```\n",
        "<script.py> output:\n",
        "    cust_id             0\n",
        "    acct_amount         0\n",
        "    inv_amount          0\n",
        "    account_opened      0\n",
        "    last_transaction    0\n",
        "    dtype: int64\n",
        "    \n",
        "    ```\n",
        "\n"
      ],
      "metadata": {
        "id": "n_oUCn01740f"
      }
    },
    {
      "cell_type": "markdown",
      "source": [
        "# The cutoff point\n",
        "\n",
        "In this exercise, and throughout this chapter, you'll be working with the restaurants DataFrame which has data on various restaurants. Your ultimate goal is to create a restaurant recommendation engine, but you need to first clean your data.\n",
        "\n",
        "\n",
        "This version of restaurants has been collected from many sources, where the cuisine_type column is riddled with typos, and should contain only italian, american and asian cuisine types. There are so many unique categories that remapping them manually isn't scalable, and it's best to use string similarity instead.\n",
        "\n",
        "\n",
        "\n",
        "Before doing so, you want to establish the cutoff point for the similarity score using the thefuzz's process.extract() function by finding the similarity score of the most distant typo of each category."
      ],
      "metadata": {
        "id": "nmYQHjpXGmJy"
      }
    },
    {
      "cell_type": "code",
      "source": [
        "# Import process from thefuzz\n",
        "from thefuzz import process\n",
        "\n",
        "# Store the unique values of cuisine_type in unique_types\n",
        "unique_types = restaurants['cuisine_type'].unique()\n",
        "\n",
        "# Calculate similarity of 'asian' to all values of unique_types\n",
        "print(process.extract('asian', unique_types, limit = len(unique_types)))\n",
        "\n",
        "# Calculate similarity of 'american' to all values of unique_types\n",
        "print(process.extract('american', unique_types, limit = len(unique_types)))\n",
        "\n",
        "# Calculate similarity of 'italian' to all values of unique_types\n",
        "print(process.extract('italian', unique_types, limit = len(unique_types)))"
      ],
      "metadata": {
        "id": "-RUN5vB-GlZh"
      },
      "execution_count": null,
      "outputs": []
    },
    {
      "cell_type": "markdown",
      "source": [
        "\n",
        "\n",
        "```\n",
        "Import process from thefuzz.\n",
        "Store the unique cuisine_types into unique_types.\n",
        "Calculate the similarity of 'asian', 'american', and 'italian' to all possible cuisine_types using process.extract(), while returning all possible matches.\n",
        "\n",
        "```\n",
        "\n"
      ],
      "metadata": {
        "id": "pD72y5c_G0os"
      }
    },
    {
      "cell_type": "code",
      "source": [
        "# Iterate through categories\n",
        "for cuisine in categories: \n",
        "  # Create a list of matches, comparing cuisine with the cuisine_type column\n",
        "  matches = process.extract(cuisine, restaurants['cuisine_type'], limit=len(restaurants.cuisine_type))\n",
        "\n",
        "  # Iterate through the list of matches\n",
        "  for match in matches:\n",
        "     # Check whether the similarity score is greater than or equal to 80\n",
        "    if match[1] >= 80:\n",
        "      # If it is, select all rows where the cuisine_type is spelled this way, and set them to the correct cuisine\n",
        "      restaurants.loc[restaurants['cuisine_type'] == match[0]] = cuisine  \n",
        "      \n",
        "# Inspect the final result\n",
        "print(restaurants['cuisine_type'].unique())"
      ],
      "metadata": {
        "id": "WifLhMzHIU7f"
      },
      "execution_count": null,
      "outputs": []
    },
    {
      "cell_type": "markdown",
      "source": [
        "# Pairs of restaurants\n",
        "In the last lesson, you cleaned the restaurants dataset to make it ready for building a restaurants recommendation engine. You have a new DataFrame named restaurants_new with new restaurants to train your model on, that's been scraped from a new data source.\n",
        "\n",
        "You've already cleaned the cuisine_type and city columns using the techniques learned throughout the course. However you saw duplicates with typos in restaurants names that require record linkage instead of joins with restaurants.\n",
        "\n",
        "In this exercise, you will perform the first step in record linkage and generate possible pairs of rows between restaurants and restaurants_new. Both DataFrames, pandas and recordlinkage are in your environment."
      ],
      "metadata": {
        "id": "IqMRT1PUUSRQ"
      }
    },
    {
      "cell_type": "code",
      "source": [
        "# Create an indexer and object and find possible pairs\n",
        "indexer = recordlinkage.Index()\n",
        "\n",
        "# Block pairing on cuisine_type\n",
        "indexer.block('cuisine_type')\n",
        "\n",
        "# Generate pairs\n",
        "pairs = indexer.index(restaurants, restaurants_new)"
      ],
      "metadata": {
        "id": "EL7LyxMuUbW-"
      },
      "execution_count": null,
      "outputs": []
    },
    {
      "cell_type": "markdown",
      "source": [
        "# Linking them together!\n",
        "In the last lesson, you've finished the bulk of the work on your effort to link restaurants and restaurants_new. You've generated the different pairs of potentially matching rows, searched for exact matches between the cuisine_type and city columns, but compared for similar strings in the rest_name column. You stored the DataFrame containing the scores in potential_matches.\n",
        "\n",
        "Now it's finally time to link both DataFrames. You will do so by first extracting all row indices of restaurants_new that are matching across the columns mentioned above from potential_matches. Then you will subset restaurants_new on these indices, then append the non-duplicate values to restaurants. All DataFrames are in your environment, alongside pandas imported as pd."
      ],
      "metadata": {
        "id": "ofsR01vKVQz-"
      }
    },
    {
      "cell_type": "code",
      "source": [
        "# Isolate potential matches with row sum >=3\n",
        "matches = potential_matches[potential_matches.sum(axis = 1) >= 3]\n",
        "\n",
        "# Get values of second column index of matches\n",
        "matching_indices = matches.index.get_level_values(1)\n",
        "\n",
        "# Subset restaurants_new based on non-duplicate values\n",
        "non_dup = restaurants_new[~restaurants_new.index.isin(matching_indices)]\n",
        "\n",
        "# Append non_dup to restaurants\n",
        "full_restaurants = restaurants.append(non_dup)\n",
        "print(full_restaurants)"
      ],
      "metadata": {
        "id": "qiNGKgUEVQg4"
      },
      "execution_count": null,
      "outputs": []
    },
    {
      "cell_type": "markdown",
      "source": [
        "\n",
        "\n",
        "```\n",
        "<script.py> output:\n",
        "                        rest_name                  rest_addr               city       phone cuisine_type\n",
        "    0   arnie morton's of chicago   435 s. la cienega blv .         los angeles  3102461501     american\n",
        "    1          art's delicatessen       12224 ventura blvd.         studio city  8187621221     american\n",
        "    2                   campanile       624 s. la brea ave.         los angeles  2139381447     american\n",
        "    3                       fenix    8358 sunset blvd. west           hollywood  2138486677     american\n",
        "    4          grill on the alley           9560 dayton way         los angeles  3102760615     american\n",
        "    ..                        ...                        ...                ...         ...          ...\n",
        "    76                        don        1136 westwood blvd.           westwood  3102091422      italian\n",
        "    77                      feast        1949 westwood blvd.            west la  3104750400      chinese\n",
        "    78                   mulberry        17040 ventura blvd.             encino  8189068881        pizza\n",
        "    80                    jiraffe      502 santa monica blvd       santa monica  3109176671  californian\n",
        "    81                   martha's  22nd street grill 25 22nd  st. hermosa beach  3103767786     american\n",
        "    \n",
        "    [396 rows x 5 columns]```\n",
        "\n"
      ],
      "metadata": {
        "id": "_In6YKLWVYPG"
      }
    }
  ]
}