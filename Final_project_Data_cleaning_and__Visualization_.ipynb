{
  "cells": [
    {
      "cell_type": "markdown",
      "metadata": {
        "id": "view-in-github",
        "colab_type": "text"
      },
      "source": [
        "<a href=\"https://colab.research.google.com/github/habtamuadargaso/Python-for-Data-Science-/blob/main/Final_project_Data_cleaning_and__Visualization_.ipynb\" target=\"_parent\"><img src=\"https://colab.research.google.com/assets/colab-badge.svg\" alt=\"Open In Colab\"/></a>"
      ]
    },
    {
      "cell_type": "markdown",
      "metadata": {
        "id": "Coq6LYJQBLCS"
      },
      "source": [
        "# Call library "
      ]
    },
    {
      "cell_type": "code",
      "execution_count": 174,
      "metadata": {
        "id": "a-dEvLgpAk-W"
      },
      "outputs": [],
      "source": [
        "#For data review\n",
        "import numpy as np\n",
        "import pandas as pd # data processing, CSV file I/O (e.g. pd.read_csv)\n",
        "\n",
        "#for plotting\n",
        "import matplotlib.pyplot as plt\n",
        "%matplotlib inline\n",
        "import seaborn as sns\n",
        "\n",
        "#for listing the directory\n",
        "import os\n",
        "\n",
        "#for data cloud\n",
        "from wordcloud import WordCloud, STOPWORDS, ImageColorGenerator\n",
        "\n",
        "# for printing\n",
        "from IPython.core.interactiveshell import InteractiveShell\n",
        "InteractiveShell.ast_node_interactivity = \"all\"\n",
        "\n",
        "import plotly.express as px\n",
        "import folium\n",
        "from folium import plugins\n"
      ]
    },
    {
      "cell_type": "markdown",
      "metadata": {
        "id": "vRTvAvbrF-2s"
      },
      "source": [
        "#Loading and viewing the dataset"
      ]
    },
    {
      "cell_type": "code",
      "execution_count": 207,
      "metadata": {
        "colab": {
          "base_uri": "https://localhost:8080/"
        },
        "id": "GMWegbGuBulu",
        "outputId": "9cb1a71d-bab0-4be0-a420-9bb30c19c882"
      },
      "outputs": [
        {
          "output_type": "stream",
          "name": "stderr",
          "text": [
            "/usr/local/lib/python3.8/dist-packages/IPython/core/interactiveshell.py:3326: DtypeWarning: Columns (25) have mixed types.Specify dtype option on import or set low_memory=False.\n",
            "  exec(code_obj, self.user_global_ns, self.user_ns)\n"
          ]
        }
      ],
      "source": [
        "airbnb = pd.read_csv('/content/Airbnb_Open_Data.csv') \n"
      ]
    },
    {
      "cell_type": "code",
      "execution_count": 100,
      "metadata": {
        "colab": {
          "base_uri": "https://localhost:8080/"
        },
        "id": "DBqnTZrQGvqQ",
        "outputId": "f85967f2-8db0-4b7d-9145-b79a92d46ac2"
      },
      "outputs": [
        {
          "output_type": "stream",
          "name": "stdout",
          "text": [
            "<class 'pandas.core.frame.DataFrame'>\n",
            "RangeIndex: 83619 entries, 0 to 83618\n",
            "Data columns (total 26 columns):\n",
            " #   Column                          Non-Null Count  Dtype  \n",
            "---  ------                          --------------  -----  \n",
            " 0   id                              83619 non-null  int64  \n",
            " 1   NAME                            83399 non-null  object \n",
            " 2   host id                         83619 non-null  int64  \n",
            " 3   host_identity_verified          83375 non-null  object \n",
            " 4   host name                       83265 non-null  object \n",
            " 5   neighbourhood group             83590 non-null  object \n",
            " 6   neighbourhood                   83603 non-null  object \n",
            " 7   lat                             83611 non-null  float64\n",
            " 8   long                            83611 non-null  float64\n",
            " 9   country                         83259 non-null  object \n",
            " 10  country code                    83523 non-null  object \n",
            " 11  instant_bookable                83523 non-null  object \n",
            " 12  cancellation_policy             83552 non-null  object \n",
            " 13  room type                       83618 non-null  object \n",
            " 14  Construction year               83428 non-null  float64\n",
            " 15  price                           83402 non-null  object \n",
            " 16  service fee                     83377 non-null  object \n",
            " 17  minimum nights                  83237 non-null  float64\n",
            " 18  number of reviews               83449 non-null  float64\n",
            " 19  last review                     70653 non-null  object \n",
            " 20  reviews per month               70667 non-null  float64\n",
            " 21  review rate number              83351 non-null  float64\n",
            " 22  calculated host listings count  83451 non-null  float64\n",
            " 23  availability 365                83180 non-null  float64\n",
            " 24  house_rules                     37906 non-null  object \n",
            " 25  license                         2 non-null      object \n",
            "dtypes: float64(9), int64(2), object(15)\n",
            "memory usage: 16.6+ MB\n"
          ]
        }
      ],
      "source": [
        "airbnb.info()"
      ]
    },
    {
      "cell_type": "code",
      "source": [
        "airbnb.rename(columns={'minimum nights':'minimum_nights'}, inplace = True)\n",
        "\n",
        "airbnb.rename(columns={'host id':'host_id'}, inplace = True)\n"
      ],
      "metadata": {
        "id": "MsQskipOupQp"
      },
      "execution_count": 109,
      "outputs": []
    },
    {
      "cell_type": "code",
      "execution_count": 110,
      "metadata": {
        "colab": {
          "base_uri": "https://localhost:8080/",
          "height": 577
        },
        "id": "_1bNSQUxGYj6",
        "outputId": "2f566ca2-7885-47b8-b226-b245ebd154ba"
      },
      "outputs": [
        {
          "output_type": "execute_result",
          "data": {
            "text/plain": [
              "        id                                              NAME      host_id  \\\n",
              "0  1001254                Clean & quiet apt home by the park  80014485718   \n",
              "1  1002102                             Skylit Midtown Castle  52335172823   \n",
              "2  1002403               THE VILLAGE OF HARLEM....NEW YORK !  78829239556   \n",
              "3  1002755                                               NaN  85098326012   \n",
              "4  1003689  Entire Apt: Spacious Studio/Loft by central park  92037596077   \n",
              "\n",
              "  host_identity_verified host_name neighbourhood group neighbourhood  \\\n",
              "0            unconfirmed  Madaline            Brooklyn    Kensington   \n",
              "1               verified     Jenna           Manhattan       Midtown   \n",
              "2                    NaN     Elise           Manhattan        Harlem   \n",
              "3            unconfirmed     Garry            Brooklyn  Clinton Hill   \n",
              "4               verified    Lyndon           Manhattan   East Harlem   \n",
              "\n",
              "        lat      long        country  ... service fee minimum_nights  \\\n",
              "0  40.64749 -73.97237  United States  ...       $193            10.0   \n",
              "1  40.75362 -73.98377  United States  ...        $28            30.0   \n",
              "2  40.80902 -73.94190  United States  ...       $124             3.0   \n",
              "3  40.68514 -73.95976  United States  ...        $74            30.0   \n",
              "4  40.79851 -73.94399  United States  ...        $41            10.0   \n",
              "\n",
              "  number of reviews last review  reviews per month review rate number  \\\n",
              "0               9.0  10/19/2021               0.21                4.0   \n",
              "1              45.0   5/21/2022               0.38                4.0   \n",
              "2               0.0         NaN                NaN                5.0   \n",
              "3             270.0    7/5/2019               4.64                4.0   \n",
              "4               9.0  11/19/2018               0.10                3.0   \n",
              "\n",
              "  calculated host listings count  availability 365  \\\n",
              "0                            6.0             286.0   \n",
              "1                            2.0             228.0   \n",
              "2                            1.0             352.0   \n",
              "3                            1.0             322.0   \n",
              "4                            1.0             289.0   \n",
              "\n",
              "                                         house_rules license  \n",
              "0  Clean up and treat the home the way you'd like...     NaN  \n",
              "1  Pet friendly but please confirm with me if the...     NaN  \n",
              "2  I encourage you to use my kitchen, cooking and...     NaN  \n",
              "3                                                NaN     NaN  \n",
              "4  Please no smoking in the house, porch or on th...     NaN  \n",
              "\n",
              "[5 rows x 26 columns]"
            ],
            "text/html": [
              "\n",
              "  <div id=\"df-4ac8fd4e-80f9-45fa-a3b5-499be7193687\">\n",
              "    <div class=\"colab-df-container\">\n",
              "      <div>\n",
              "<style scoped>\n",
              "    .dataframe tbody tr th:only-of-type {\n",
              "        vertical-align: middle;\n",
              "    }\n",
              "\n",
              "    .dataframe tbody tr th {\n",
              "        vertical-align: top;\n",
              "    }\n",
              "\n",
              "    .dataframe thead th {\n",
              "        text-align: right;\n",
              "    }\n",
              "</style>\n",
              "<table border=\"1\" class=\"dataframe\">\n",
              "  <thead>\n",
              "    <tr style=\"text-align: right;\">\n",
              "      <th></th>\n",
              "      <th>id</th>\n",
              "      <th>NAME</th>\n",
              "      <th>host_id</th>\n",
              "      <th>host_identity_verified</th>\n",
              "      <th>host_name</th>\n",
              "      <th>neighbourhood group</th>\n",
              "      <th>neighbourhood</th>\n",
              "      <th>lat</th>\n",
              "      <th>long</th>\n",
              "      <th>country</th>\n",
              "      <th>...</th>\n",
              "      <th>service fee</th>\n",
              "      <th>minimum_nights</th>\n",
              "      <th>number of reviews</th>\n",
              "      <th>last review</th>\n",
              "      <th>reviews per month</th>\n",
              "      <th>review rate number</th>\n",
              "      <th>calculated host listings count</th>\n",
              "      <th>availability 365</th>\n",
              "      <th>house_rules</th>\n",
              "      <th>license</th>\n",
              "    </tr>\n",
              "  </thead>\n",
              "  <tbody>\n",
              "    <tr>\n",
              "      <th>0</th>\n",
              "      <td>1001254</td>\n",
              "      <td>Clean &amp; quiet apt home by the park</td>\n",
              "      <td>80014485718</td>\n",
              "      <td>unconfirmed</td>\n",
              "      <td>Madaline</td>\n",
              "      <td>Brooklyn</td>\n",
              "      <td>Kensington</td>\n",
              "      <td>40.64749</td>\n",
              "      <td>-73.97237</td>\n",
              "      <td>United States</td>\n",
              "      <td>...</td>\n",
              "      <td>$193</td>\n",
              "      <td>10.0</td>\n",
              "      <td>9.0</td>\n",
              "      <td>10/19/2021</td>\n",
              "      <td>0.21</td>\n",
              "      <td>4.0</td>\n",
              "      <td>6.0</td>\n",
              "      <td>286.0</td>\n",
              "      <td>Clean up and treat the home the way you'd like...</td>\n",
              "      <td>NaN</td>\n",
              "    </tr>\n",
              "    <tr>\n",
              "      <th>1</th>\n",
              "      <td>1002102</td>\n",
              "      <td>Skylit Midtown Castle</td>\n",
              "      <td>52335172823</td>\n",
              "      <td>verified</td>\n",
              "      <td>Jenna</td>\n",
              "      <td>Manhattan</td>\n",
              "      <td>Midtown</td>\n",
              "      <td>40.75362</td>\n",
              "      <td>-73.98377</td>\n",
              "      <td>United States</td>\n",
              "      <td>...</td>\n",
              "      <td>$28</td>\n",
              "      <td>30.0</td>\n",
              "      <td>45.0</td>\n",
              "      <td>5/21/2022</td>\n",
              "      <td>0.38</td>\n",
              "      <td>4.0</td>\n",
              "      <td>2.0</td>\n",
              "      <td>228.0</td>\n",
              "      <td>Pet friendly but please confirm with me if the...</td>\n",
              "      <td>NaN</td>\n",
              "    </tr>\n",
              "    <tr>\n",
              "      <th>2</th>\n",
              "      <td>1002403</td>\n",
              "      <td>THE VILLAGE OF HARLEM....NEW YORK !</td>\n",
              "      <td>78829239556</td>\n",
              "      <td>NaN</td>\n",
              "      <td>Elise</td>\n",
              "      <td>Manhattan</td>\n",
              "      <td>Harlem</td>\n",
              "      <td>40.80902</td>\n",
              "      <td>-73.94190</td>\n",
              "      <td>United States</td>\n",
              "      <td>...</td>\n",
              "      <td>$124</td>\n",
              "      <td>3.0</td>\n",
              "      <td>0.0</td>\n",
              "      <td>NaN</td>\n",
              "      <td>NaN</td>\n",
              "      <td>5.0</td>\n",
              "      <td>1.0</td>\n",
              "      <td>352.0</td>\n",
              "      <td>I encourage you to use my kitchen, cooking and...</td>\n",
              "      <td>NaN</td>\n",
              "    </tr>\n",
              "    <tr>\n",
              "      <th>3</th>\n",
              "      <td>1002755</td>\n",
              "      <td>NaN</td>\n",
              "      <td>85098326012</td>\n",
              "      <td>unconfirmed</td>\n",
              "      <td>Garry</td>\n",
              "      <td>Brooklyn</td>\n",
              "      <td>Clinton Hill</td>\n",
              "      <td>40.68514</td>\n",
              "      <td>-73.95976</td>\n",
              "      <td>United States</td>\n",
              "      <td>...</td>\n",
              "      <td>$74</td>\n",
              "      <td>30.0</td>\n",
              "      <td>270.0</td>\n",
              "      <td>7/5/2019</td>\n",
              "      <td>4.64</td>\n",
              "      <td>4.0</td>\n",
              "      <td>1.0</td>\n",
              "      <td>322.0</td>\n",
              "      <td>NaN</td>\n",
              "      <td>NaN</td>\n",
              "    </tr>\n",
              "    <tr>\n",
              "      <th>4</th>\n",
              "      <td>1003689</td>\n",
              "      <td>Entire Apt: Spacious Studio/Loft by central park</td>\n",
              "      <td>92037596077</td>\n",
              "      <td>verified</td>\n",
              "      <td>Lyndon</td>\n",
              "      <td>Manhattan</td>\n",
              "      <td>East Harlem</td>\n",
              "      <td>40.79851</td>\n",
              "      <td>-73.94399</td>\n",
              "      <td>United States</td>\n",
              "      <td>...</td>\n",
              "      <td>$41</td>\n",
              "      <td>10.0</td>\n",
              "      <td>9.0</td>\n",
              "      <td>11/19/2018</td>\n",
              "      <td>0.10</td>\n",
              "      <td>3.0</td>\n",
              "      <td>1.0</td>\n",
              "      <td>289.0</td>\n",
              "      <td>Please no smoking in the house, porch or on th...</td>\n",
              "      <td>NaN</td>\n",
              "    </tr>\n",
              "  </tbody>\n",
              "</table>\n",
              "<p>5 rows × 26 columns</p>\n",
              "</div>\n",
              "      <button class=\"colab-df-convert\" onclick=\"convertToInteractive('df-4ac8fd4e-80f9-45fa-a3b5-499be7193687')\"\n",
              "              title=\"Convert this dataframe to an interactive table.\"\n",
              "              style=\"display:none;\">\n",
              "        \n",
              "  <svg xmlns=\"http://www.w3.org/2000/svg\" height=\"24px\"viewBox=\"0 0 24 24\"\n",
              "       width=\"24px\">\n",
              "    <path d=\"M0 0h24v24H0V0z\" fill=\"none\"/>\n",
              "    <path d=\"M18.56 5.44l.94 2.06.94-2.06 2.06-.94-2.06-.94-.94-2.06-.94 2.06-2.06.94zm-11 1L8.5 8.5l.94-2.06 2.06-.94-2.06-.94L8.5 2.5l-.94 2.06-2.06.94zm10 10l.94 2.06.94-2.06 2.06-.94-2.06-.94-.94-2.06-.94 2.06-2.06.94z\"/><path d=\"M17.41 7.96l-1.37-1.37c-.4-.4-.92-.59-1.43-.59-.52 0-1.04.2-1.43.59L10.3 9.45l-7.72 7.72c-.78.78-.78 2.05 0 2.83L4 21.41c.39.39.9.59 1.41.59.51 0 1.02-.2 1.41-.59l7.78-7.78 2.81-2.81c.8-.78.8-2.07 0-2.86zM5.41 20L4 18.59l7.72-7.72 1.47 1.35L5.41 20z\"/>\n",
              "  </svg>\n",
              "      </button>\n",
              "      \n",
              "  <style>\n",
              "    .colab-df-container {\n",
              "      display:flex;\n",
              "      flex-wrap:wrap;\n",
              "      gap: 12px;\n",
              "    }\n",
              "\n",
              "    .colab-df-convert {\n",
              "      background-color: #E8F0FE;\n",
              "      border: none;\n",
              "      border-radius: 50%;\n",
              "      cursor: pointer;\n",
              "      display: none;\n",
              "      fill: #1967D2;\n",
              "      height: 32px;\n",
              "      padding: 0 0 0 0;\n",
              "      width: 32px;\n",
              "    }\n",
              "\n",
              "    .colab-df-convert:hover {\n",
              "      background-color: #E2EBFA;\n",
              "      box-shadow: 0px 1px 2px rgba(60, 64, 67, 0.3), 0px 1px 3px 1px rgba(60, 64, 67, 0.15);\n",
              "      fill: #174EA6;\n",
              "    }\n",
              "\n",
              "    [theme=dark] .colab-df-convert {\n",
              "      background-color: #3B4455;\n",
              "      fill: #D2E3FC;\n",
              "    }\n",
              "\n",
              "    [theme=dark] .colab-df-convert:hover {\n",
              "      background-color: #434B5C;\n",
              "      box-shadow: 0px 1px 3px 1px rgba(0, 0, 0, 0.15);\n",
              "      filter: drop-shadow(0px 1px 2px rgba(0, 0, 0, 0.3));\n",
              "      fill: #FFFFFF;\n",
              "    }\n",
              "  </style>\n",
              "\n",
              "      <script>\n",
              "        const buttonEl =\n",
              "          document.querySelector('#df-4ac8fd4e-80f9-45fa-a3b5-499be7193687 button.colab-df-convert');\n",
              "        buttonEl.style.display =\n",
              "          google.colab.kernel.accessAllowed ? 'block' : 'none';\n",
              "\n",
              "        async function convertToInteractive(key) {\n",
              "          const element = document.querySelector('#df-4ac8fd4e-80f9-45fa-a3b5-499be7193687');\n",
              "          const dataTable =\n",
              "            await google.colab.kernel.invokeFunction('convertToInteractive',\n",
              "                                                     [key], {});\n",
              "          if (!dataTable) return;\n",
              "\n",
              "          const docLinkHtml = 'Like what you see? Visit the ' +\n",
              "            '<a target=\"_blank\" href=https://colab.research.google.com/notebooks/data_table.ipynb>data table notebook</a>'\n",
              "            + ' to learn more about interactive tables.';\n",
              "          element.innerHTML = '';\n",
              "          dataTable['output_type'] = 'display_data';\n",
              "          await google.colab.output.renderOutput(dataTable, element);\n",
              "          const docLink = document.createElement('div');\n",
              "          docLink.innerHTML = docLinkHtml;\n",
              "          element.appendChild(docLink);\n",
              "        }\n",
              "      </script>\n",
              "    </div>\n",
              "  </div>\n",
              "  "
            ]
          },
          "metadata": {},
          "execution_count": 110
        }
      ],
      "source": [
        "# First view to understand how the data is organized\n",
        "airbnb.head()"
      ]
    },
    {
      "cell_type": "code",
      "execution_count": 111,
      "metadata": {
        "colab": {
          "base_uri": "https://localhost:8080/"
        },
        "id": "-KooHjKkG2rU",
        "outputId": "3cf8d921-2db1-414c-b596-6e7761e78592"
      },
      "outputs": [
        {
          "output_type": "execute_result",
          "data": {
            "text/plain": [
              "Index(['id', 'NAME', 'host_id', 'host_identity_verified', 'host_name',\n",
              "       'neighbourhood group', 'neighbourhood', 'lat', 'long', 'country',\n",
              "       'country code', 'instant_bookable', 'cancellation_policy', 'room type',\n",
              "       'Construction year', 'price', 'service fee', 'minimum_nights',\n",
              "       'number of reviews', 'last review', 'reviews per month',\n",
              "       'review rate number', 'calculated host listings count',\n",
              "       'availability 365', 'house_rules', 'license'],\n",
              "      dtype='object')"
            ]
          },
          "metadata": {},
          "execution_count": 111
        }
      ],
      "source": [
        "\n",
        "airbnb.columns\n"
      ]
    },
    {
      "cell_type": "code",
      "execution_count": 112,
      "metadata": {
        "colab": {
          "base_uri": "https://localhost:8080/"
        },
        "id": "qbb35JqwHI4F",
        "outputId": "bde3696f-f63c-40ad-ce60-c21cadbc68f5"
      },
      "outputs": [
        {
          "output_type": "execute_result",
          "data": {
            "text/plain": [
              "id                                  int64\n",
              "NAME                               object\n",
              "host_id                             int64\n",
              "host_identity_verified             object\n",
              "host_name                          object\n",
              "neighbourhood group                object\n",
              "neighbourhood                      object\n",
              "lat                               float64\n",
              "long                              float64\n",
              "country                            object\n",
              "country code                       object\n",
              "instant_bookable                   object\n",
              "cancellation_policy                object\n",
              "room type                          object\n",
              "Construction year                 float64\n",
              "price                              object\n",
              "service fee                        object\n",
              "minimum_nights                    float64\n",
              "number of reviews                 float64\n",
              "last review                        object\n",
              "reviews per month                 float64\n",
              "review rate number                float64\n",
              "calculated host listings count    float64\n",
              "availability 365                  float64\n",
              "house_rules                        object\n",
              "license                            object\n",
              "dtype: object"
            ]
          },
          "metadata": {},
          "execution_count": 112
        }
      ],
      "source": [
        "airbnb.dtypes"
      ]
    },
    {
      "cell_type": "code",
      "execution_count": 113,
      "metadata": {
        "colab": {
          "base_uri": "https://localhost:8080/",
          "height": 577
        },
        "id": "Nzis-HKNHVpi",
        "outputId": "7e3b7736-4c07-4538-e407-a2277464e79f"
      },
      "outputs": [
        {
          "output_type": "execute_result",
          "data": {
            "text/plain": [
              "        id                                              NAME      host_id  \\\n",
              "0  1001254                Clean & quiet apt home by the park  80014485718   \n",
              "1  1002102                             Skylit Midtown Castle  52335172823   \n",
              "2  1002403               THE VILLAGE OF HARLEM....NEW YORK !  78829239556   \n",
              "3  1002755                                               NaN  85098326012   \n",
              "4  1003689  Entire Apt: Spacious Studio/Loft by central park  92037596077   \n",
              "\n",
              "  host_identity_verified host_name neighbourhood group neighbourhood  \\\n",
              "0            unconfirmed  Madaline            Brooklyn    Kensington   \n",
              "1               verified     Jenna           Manhattan       Midtown   \n",
              "2                    NaN     Elise           Manhattan        Harlem   \n",
              "3            unconfirmed     Garry            Brooklyn  Clinton Hill   \n",
              "4               verified    Lyndon           Manhattan   East Harlem   \n",
              "\n",
              "        lat      long        country  ... service fee minimum_nights  \\\n",
              "0  40.64749 -73.97237  United States  ...       $193            10.0   \n",
              "1  40.75362 -73.98377  United States  ...        $28            30.0   \n",
              "2  40.80902 -73.94190  United States  ...       $124             3.0   \n",
              "3  40.68514 -73.95976  United States  ...        $74            30.0   \n",
              "4  40.79851 -73.94399  United States  ...        $41            10.0   \n",
              "\n",
              "  number of reviews last review  reviews per month review rate number  \\\n",
              "0               9.0  10/19/2021               0.21                4.0   \n",
              "1              45.0   5/21/2022               0.38                4.0   \n",
              "2               0.0         NaN                NaN                5.0   \n",
              "3             270.0    7/5/2019               4.64                4.0   \n",
              "4               9.0  11/19/2018               0.10                3.0   \n",
              "\n",
              "  calculated host listings count  availability 365  \\\n",
              "0                            6.0             286.0   \n",
              "1                            2.0             228.0   \n",
              "2                            1.0             352.0   \n",
              "3                            1.0             322.0   \n",
              "4                            1.0             289.0   \n",
              "\n",
              "                                         house_rules license  \n",
              "0  Clean up and treat the home the way you'd like...     NaN  \n",
              "1  Pet friendly but please confirm with me if the...     NaN  \n",
              "2  I encourage you to use my kitchen, cooking and...     NaN  \n",
              "3                                                NaN     NaN  \n",
              "4  Please no smoking in the house, porch or on th...     NaN  \n",
              "\n",
              "[5 rows x 26 columns]"
            ],
            "text/html": [
              "\n",
              "  <div id=\"df-63343e87-26ae-4920-ae11-7ec1600113bd\">\n",
              "    <div class=\"colab-df-container\">\n",
              "      <div>\n",
              "<style scoped>\n",
              "    .dataframe tbody tr th:only-of-type {\n",
              "        vertical-align: middle;\n",
              "    }\n",
              "\n",
              "    .dataframe tbody tr th {\n",
              "        vertical-align: top;\n",
              "    }\n",
              "\n",
              "    .dataframe thead th {\n",
              "        text-align: right;\n",
              "    }\n",
              "</style>\n",
              "<table border=\"1\" class=\"dataframe\">\n",
              "  <thead>\n",
              "    <tr style=\"text-align: right;\">\n",
              "      <th></th>\n",
              "      <th>id</th>\n",
              "      <th>NAME</th>\n",
              "      <th>host_id</th>\n",
              "      <th>host_identity_verified</th>\n",
              "      <th>host_name</th>\n",
              "      <th>neighbourhood group</th>\n",
              "      <th>neighbourhood</th>\n",
              "      <th>lat</th>\n",
              "      <th>long</th>\n",
              "      <th>country</th>\n",
              "      <th>...</th>\n",
              "      <th>service fee</th>\n",
              "      <th>minimum_nights</th>\n",
              "      <th>number of reviews</th>\n",
              "      <th>last review</th>\n",
              "      <th>reviews per month</th>\n",
              "      <th>review rate number</th>\n",
              "      <th>calculated host listings count</th>\n",
              "      <th>availability 365</th>\n",
              "      <th>house_rules</th>\n",
              "      <th>license</th>\n",
              "    </tr>\n",
              "  </thead>\n",
              "  <tbody>\n",
              "    <tr>\n",
              "      <th>0</th>\n",
              "      <td>1001254</td>\n",
              "      <td>Clean &amp; quiet apt home by the park</td>\n",
              "      <td>80014485718</td>\n",
              "      <td>unconfirmed</td>\n",
              "      <td>Madaline</td>\n",
              "      <td>Brooklyn</td>\n",
              "      <td>Kensington</td>\n",
              "      <td>40.64749</td>\n",
              "      <td>-73.97237</td>\n",
              "      <td>United States</td>\n",
              "      <td>...</td>\n",
              "      <td>$193</td>\n",
              "      <td>10.0</td>\n",
              "      <td>9.0</td>\n",
              "      <td>10/19/2021</td>\n",
              "      <td>0.21</td>\n",
              "      <td>4.0</td>\n",
              "      <td>6.0</td>\n",
              "      <td>286.0</td>\n",
              "      <td>Clean up and treat the home the way you'd like...</td>\n",
              "      <td>NaN</td>\n",
              "    </tr>\n",
              "    <tr>\n",
              "      <th>1</th>\n",
              "      <td>1002102</td>\n",
              "      <td>Skylit Midtown Castle</td>\n",
              "      <td>52335172823</td>\n",
              "      <td>verified</td>\n",
              "      <td>Jenna</td>\n",
              "      <td>Manhattan</td>\n",
              "      <td>Midtown</td>\n",
              "      <td>40.75362</td>\n",
              "      <td>-73.98377</td>\n",
              "      <td>United States</td>\n",
              "      <td>...</td>\n",
              "      <td>$28</td>\n",
              "      <td>30.0</td>\n",
              "      <td>45.0</td>\n",
              "      <td>5/21/2022</td>\n",
              "      <td>0.38</td>\n",
              "      <td>4.0</td>\n",
              "      <td>2.0</td>\n",
              "      <td>228.0</td>\n",
              "      <td>Pet friendly but please confirm with me if the...</td>\n",
              "      <td>NaN</td>\n",
              "    </tr>\n",
              "    <tr>\n",
              "      <th>2</th>\n",
              "      <td>1002403</td>\n",
              "      <td>THE VILLAGE OF HARLEM....NEW YORK !</td>\n",
              "      <td>78829239556</td>\n",
              "      <td>NaN</td>\n",
              "      <td>Elise</td>\n",
              "      <td>Manhattan</td>\n",
              "      <td>Harlem</td>\n",
              "      <td>40.80902</td>\n",
              "      <td>-73.94190</td>\n",
              "      <td>United States</td>\n",
              "      <td>...</td>\n",
              "      <td>$124</td>\n",
              "      <td>3.0</td>\n",
              "      <td>0.0</td>\n",
              "      <td>NaN</td>\n",
              "      <td>NaN</td>\n",
              "      <td>5.0</td>\n",
              "      <td>1.0</td>\n",
              "      <td>352.0</td>\n",
              "      <td>I encourage you to use my kitchen, cooking and...</td>\n",
              "      <td>NaN</td>\n",
              "    </tr>\n",
              "    <tr>\n",
              "      <th>3</th>\n",
              "      <td>1002755</td>\n",
              "      <td>NaN</td>\n",
              "      <td>85098326012</td>\n",
              "      <td>unconfirmed</td>\n",
              "      <td>Garry</td>\n",
              "      <td>Brooklyn</td>\n",
              "      <td>Clinton Hill</td>\n",
              "      <td>40.68514</td>\n",
              "      <td>-73.95976</td>\n",
              "      <td>United States</td>\n",
              "      <td>...</td>\n",
              "      <td>$74</td>\n",
              "      <td>30.0</td>\n",
              "      <td>270.0</td>\n",
              "      <td>7/5/2019</td>\n",
              "      <td>4.64</td>\n",
              "      <td>4.0</td>\n",
              "      <td>1.0</td>\n",
              "      <td>322.0</td>\n",
              "      <td>NaN</td>\n",
              "      <td>NaN</td>\n",
              "    </tr>\n",
              "    <tr>\n",
              "      <th>4</th>\n",
              "      <td>1003689</td>\n",
              "      <td>Entire Apt: Spacious Studio/Loft by central park</td>\n",
              "      <td>92037596077</td>\n",
              "      <td>verified</td>\n",
              "      <td>Lyndon</td>\n",
              "      <td>Manhattan</td>\n",
              "      <td>East Harlem</td>\n",
              "      <td>40.79851</td>\n",
              "      <td>-73.94399</td>\n",
              "      <td>United States</td>\n",
              "      <td>...</td>\n",
              "      <td>$41</td>\n",
              "      <td>10.0</td>\n",
              "      <td>9.0</td>\n",
              "      <td>11/19/2018</td>\n",
              "      <td>0.10</td>\n",
              "      <td>3.0</td>\n",
              "      <td>1.0</td>\n",
              "      <td>289.0</td>\n",
              "      <td>Please no smoking in the house, porch or on th...</td>\n",
              "      <td>NaN</td>\n",
              "    </tr>\n",
              "  </tbody>\n",
              "</table>\n",
              "<p>5 rows × 26 columns</p>\n",
              "</div>\n",
              "      <button class=\"colab-df-convert\" onclick=\"convertToInteractive('df-63343e87-26ae-4920-ae11-7ec1600113bd')\"\n",
              "              title=\"Convert this dataframe to an interactive table.\"\n",
              "              style=\"display:none;\">\n",
              "        \n",
              "  <svg xmlns=\"http://www.w3.org/2000/svg\" height=\"24px\"viewBox=\"0 0 24 24\"\n",
              "       width=\"24px\">\n",
              "    <path d=\"M0 0h24v24H0V0z\" fill=\"none\"/>\n",
              "    <path d=\"M18.56 5.44l.94 2.06.94-2.06 2.06-.94-2.06-.94-.94-2.06-.94 2.06-2.06.94zm-11 1L8.5 8.5l.94-2.06 2.06-.94-2.06-.94L8.5 2.5l-.94 2.06-2.06.94zm10 10l.94 2.06.94-2.06 2.06-.94-2.06-.94-.94-2.06-.94 2.06-2.06.94z\"/><path d=\"M17.41 7.96l-1.37-1.37c-.4-.4-.92-.59-1.43-.59-.52 0-1.04.2-1.43.59L10.3 9.45l-7.72 7.72c-.78.78-.78 2.05 0 2.83L4 21.41c.39.39.9.59 1.41.59.51 0 1.02-.2 1.41-.59l7.78-7.78 2.81-2.81c.8-.78.8-2.07 0-2.86zM5.41 20L4 18.59l7.72-7.72 1.47 1.35L5.41 20z\"/>\n",
              "  </svg>\n",
              "      </button>\n",
              "      \n",
              "  <style>\n",
              "    .colab-df-container {\n",
              "      display:flex;\n",
              "      flex-wrap:wrap;\n",
              "      gap: 12px;\n",
              "    }\n",
              "\n",
              "    .colab-df-convert {\n",
              "      background-color: #E8F0FE;\n",
              "      border: none;\n",
              "      border-radius: 50%;\n",
              "      cursor: pointer;\n",
              "      display: none;\n",
              "      fill: #1967D2;\n",
              "      height: 32px;\n",
              "      padding: 0 0 0 0;\n",
              "      width: 32px;\n",
              "    }\n",
              "\n",
              "    .colab-df-convert:hover {\n",
              "      background-color: #E2EBFA;\n",
              "      box-shadow: 0px 1px 2px rgba(60, 64, 67, 0.3), 0px 1px 3px 1px rgba(60, 64, 67, 0.15);\n",
              "      fill: #174EA6;\n",
              "    }\n",
              "\n",
              "    [theme=dark] .colab-df-convert {\n",
              "      background-color: #3B4455;\n",
              "      fill: #D2E3FC;\n",
              "    }\n",
              "\n",
              "    [theme=dark] .colab-df-convert:hover {\n",
              "      background-color: #434B5C;\n",
              "      box-shadow: 0px 1px 3px 1px rgba(0, 0, 0, 0.15);\n",
              "      filter: drop-shadow(0px 1px 2px rgba(0, 0, 0, 0.3));\n",
              "      fill: #FFFFFF;\n",
              "    }\n",
              "  </style>\n",
              "\n",
              "      <script>\n",
              "        const buttonEl =\n",
              "          document.querySelector('#df-63343e87-26ae-4920-ae11-7ec1600113bd button.colab-df-convert');\n",
              "        buttonEl.style.display =\n",
              "          google.colab.kernel.accessAllowed ? 'block' : 'none';\n",
              "\n",
              "        async function convertToInteractive(key) {\n",
              "          const element = document.querySelector('#df-63343e87-26ae-4920-ae11-7ec1600113bd');\n",
              "          const dataTable =\n",
              "            await google.colab.kernel.invokeFunction('convertToInteractive',\n",
              "                                                     [key], {});\n",
              "          if (!dataTable) return;\n",
              "\n",
              "          const docLinkHtml = 'Like what you see? Visit the ' +\n",
              "            '<a target=\"_blank\" href=https://colab.research.google.com/notebooks/data_table.ipynb>data table notebook</a>'\n",
              "            + ' to learn more about interactive tables.';\n",
              "          element.innerHTML = '';\n",
              "          dataTable['output_type'] = 'display_data';\n",
              "          await google.colab.output.renderOutput(dataTable, element);\n",
              "          const docLink = document.createElement('div');\n",
              "          docLink.innerHTML = docLinkHtml;\n",
              "          element.appendChild(docLink);\n",
              "        }\n",
              "      </script>\n",
              "    </div>\n",
              "  </div>\n",
              "  "
            ]
          },
          "metadata": {},
          "execution_count": 113
        }
      ],
      "source": [
        "airbnb.head()"
      ]
    },
    {
      "cell_type": "code",
      "execution_count": 114,
      "metadata": {
        "colab": {
          "base_uri": "https://localhost:8080/",
          "height": 664
        },
        "id": "2Y8GLrHzHXza",
        "outputId": "d9ee12c2-d62b-4fac-9071-69f102743f66"
      },
      "outputs": [
        {
          "output_type": "execute_result",
          "data": {
            "text/plain": [
              "             id                                           NAME      host_id  \\\n",
              "83614  47181348      Cozy room in spacious and sunny apartment  49191275331   \n",
              "83615  47181901                                     Ashes Cove  71224224211   \n",
              "83616  47182453       Lavish 3 bedroom near Penn Station / MSG  81547119719   \n",
              "83617  47183005                        Chez Jazzy Midtown East   9831488219   \n",
              "83618  47183557  Clean, Comfortable, Sunny Room 5 Min from LGA  77508590379   \n",
              "\n",
              "      host_identity_verified host_name neighbourhood group  \\\n",
              "83614               verified    Angela              Queens   \n",
              "83615            unconfirmed     Aston              Queens   \n",
              "83616            unconfirmed   Michael           Manhattan   \n",
              "83617               verified      Chez           Manhattan   \n",
              "83618               verified      Lisa              Queens   \n",
              "\n",
              "             neighbourhood       lat      long        country  ...  \\\n",
              "83614            Ridgewood  40.69787 -73.90008  United States  ...   \n",
              "83615  Springfield Gardens  40.66013 -73.77166  United States  ...   \n",
              "83616              Chelsea  40.74881 -73.99375  United States  ...   \n",
              "83617              Midtown  40.75614 -73.96706  United States  ...   \n",
              "83618     Ditmars Steinway  40.77429 -73.00000            NaN  ...   \n",
              "\n",
              "      service fee minimum_nights number of reviews last review  \\\n",
              "83614       $166             2.0               4.0   5/31/2019   \n",
              "83615       $147             3.0              23.0    6/2/2019   \n",
              "83616       $150             2.0              42.0    7/1/2019   \n",
              "83617       $109             5.0              30.0  10/31/2018   \n",
              "83618         NaN            NaN               NaN         NaN   \n",
              "\n",
              "       reviews per month review rate number calculated host listings count  \\\n",
              "83614               0.19                4.0                            1.0   \n",
              "83615               1.18                2.0                            2.0   \n",
              "83616               1.99                4.0                            1.0   \n",
              "83617               1.40                2.0                            1.0   \n",
              "83618                NaN                NaN                            NaN   \n",
              "\n",
              "       availability 365                                        house_rules  \\\n",
              "83614             175.0  Access to kitchen appliances and cutlery, etc....   \n",
              "83615             357.0      Please treat our home as if it were your own.   \n",
              "83616              36.0  You are my guest - please behave as such!  Thi...   \n",
              "83617               0.0  We expect our guests to behave in a respectful...   \n",
              "83618               NaN                                                NaN   \n",
              "\n",
              "      license  \n",
              "83614     NaN  \n",
              "83615     NaN  \n",
              "83616     NaN  \n",
              "83617     NaN  \n",
              "83618     NaN  \n",
              "\n",
              "[5 rows x 26 columns]"
            ],
            "text/html": [
              "\n",
              "  <div id=\"df-0dda7b45-fe8e-4a0a-b28f-b977a7245de5\">\n",
              "    <div class=\"colab-df-container\">\n",
              "      <div>\n",
              "<style scoped>\n",
              "    .dataframe tbody tr th:only-of-type {\n",
              "        vertical-align: middle;\n",
              "    }\n",
              "\n",
              "    .dataframe tbody tr th {\n",
              "        vertical-align: top;\n",
              "    }\n",
              "\n",
              "    .dataframe thead th {\n",
              "        text-align: right;\n",
              "    }\n",
              "</style>\n",
              "<table border=\"1\" class=\"dataframe\">\n",
              "  <thead>\n",
              "    <tr style=\"text-align: right;\">\n",
              "      <th></th>\n",
              "      <th>id</th>\n",
              "      <th>NAME</th>\n",
              "      <th>host_id</th>\n",
              "      <th>host_identity_verified</th>\n",
              "      <th>host_name</th>\n",
              "      <th>neighbourhood group</th>\n",
              "      <th>neighbourhood</th>\n",
              "      <th>lat</th>\n",
              "      <th>long</th>\n",
              "      <th>country</th>\n",
              "      <th>...</th>\n",
              "      <th>service fee</th>\n",
              "      <th>minimum_nights</th>\n",
              "      <th>number of reviews</th>\n",
              "      <th>last review</th>\n",
              "      <th>reviews per month</th>\n",
              "      <th>review rate number</th>\n",
              "      <th>calculated host listings count</th>\n",
              "      <th>availability 365</th>\n",
              "      <th>house_rules</th>\n",
              "      <th>license</th>\n",
              "    </tr>\n",
              "  </thead>\n",
              "  <tbody>\n",
              "    <tr>\n",
              "      <th>83614</th>\n",
              "      <td>47181348</td>\n",
              "      <td>Cozy room in spacious and sunny apartment</td>\n",
              "      <td>49191275331</td>\n",
              "      <td>verified</td>\n",
              "      <td>Angela</td>\n",
              "      <td>Queens</td>\n",
              "      <td>Ridgewood</td>\n",
              "      <td>40.69787</td>\n",
              "      <td>-73.90008</td>\n",
              "      <td>United States</td>\n",
              "      <td>...</td>\n",
              "      <td>$166</td>\n",
              "      <td>2.0</td>\n",
              "      <td>4.0</td>\n",
              "      <td>5/31/2019</td>\n",
              "      <td>0.19</td>\n",
              "      <td>4.0</td>\n",
              "      <td>1.0</td>\n",
              "      <td>175.0</td>\n",
              "      <td>Access to kitchen appliances and cutlery, etc....</td>\n",
              "      <td>NaN</td>\n",
              "    </tr>\n",
              "    <tr>\n",
              "      <th>83615</th>\n",
              "      <td>47181901</td>\n",
              "      <td>Ashes Cove</td>\n",
              "      <td>71224224211</td>\n",
              "      <td>unconfirmed</td>\n",
              "      <td>Aston</td>\n",
              "      <td>Queens</td>\n",
              "      <td>Springfield Gardens</td>\n",
              "      <td>40.66013</td>\n",
              "      <td>-73.77166</td>\n",
              "      <td>United States</td>\n",
              "      <td>...</td>\n",
              "      <td>$147</td>\n",
              "      <td>3.0</td>\n",
              "      <td>23.0</td>\n",
              "      <td>6/2/2019</td>\n",
              "      <td>1.18</td>\n",
              "      <td>2.0</td>\n",
              "      <td>2.0</td>\n",
              "      <td>357.0</td>\n",
              "      <td>Please treat our home as if it were your own.</td>\n",
              "      <td>NaN</td>\n",
              "    </tr>\n",
              "    <tr>\n",
              "      <th>83616</th>\n",
              "      <td>47182453</td>\n",
              "      <td>Lavish 3 bedroom near Penn Station / MSG</td>\n",
              "      <td>81547119719</td>\n",
              "      <td>unconfirmed</td>\n",
              "      <td>Michael</td>\n",
              "      <td>Manhattan</td>\n",
              "      <td>Chelsea</td>\n",
              "      <td>40.74881</td>\n",
              "      <td>-73.99375</td>\n",
              "      <td>United States</td>\n",
              "      <td>...</td>\n",
              "      <td>$150</td>\n",
              "      <td>2.0</td>\n",
              "      <td>42.0</td>\n",
              "      <td>7/1/2019</td>\n",
              "      <td>1.99</td>\n",
              "      <td>4.0</td>\n",
              "      <td>1.0</td>\n",
              "      <td>36.0</td>\n",
              "      <td>You are my guest - please behave as such!  Thi...</td>\n",
              "      <td>NaN</td>\n",
              "    </tr>\n",
              "    <tr>\n",
              "      <th>83617</th>\n",
              "      <td>47183005</td>\n",
              "      <td>Chez Jazzy Midtown East</td>\n",
              "      <td>9831488219</td>\n",
              "      <td>verified</td>\n",
              "      <td>Chez</td>\n",
              "      <td>Manhattan</td>\n",
              "      <td>Midtown</td>\n",
              "      <td>40.75614</td>\n",
              "      <td>-73.96706</td>\n",
              "      <td>United States</td>\n",
              "      <td>...</td>\n",
              "      <td>$109</td>\n",
              "      <td>5.0</td>\n",
              "      <td>30.0</td>\n",
              "      <td>10/31/2018</td>\n",
              "      <td>1.40</td>\n",
              "      <td>2.0</td>\n",
              "      <td>1.0</td>\n",
              "      <td>0.0</td>\n",
              "      <td>We expect our guests to behave in a respectful...</td>\n",
              "      <td>NaN</td>\n",
              "    </tr>\n",
              "    <tr>\n",
              "      <th>83618</th>\n",
              "      <td>47183557</td>\n",
              "      <td>Clean, Comfortable, Sunny Room 5 Min from LGA</td>\n",
              "      <td>77508590379</td>\n",
              "      <td>verified</td>\n",
              "      <td>Lisa</td>\n",
              "      <td>Queens</td>\n",
              "      <td>Ditmars Steinway</td>\n",
              "      <td>40.77429</td>\n",
              "      <td>-73.00000</td>\n",
              "      <td>NaN</td>\n",
              "      <td>...</td>\n",
              "      <td>NaN</td>\n",
              "      <td>NaN</td>\n",
              "      <td>NaN</td>\n",
              "      <td>NaN</td>\n",
              "      <td>NaN</td>\n",
              "      <td>NaN</td>\n",
              "      <td>NaN</td>\n",
              "      <td>NaN</td>\n",
              "      <td>NaN</td>\n",
              "      <td>NaN</td>\n",
              "    </tr>\n",
              "  </tbody>\n",
              "</table>\n",
              "<p>5 rows × 26 columns</p>\n",
              "</div>\n",
              "      <button class=\"colab-df-convert\" onclick=\"convertToInteractive('df-0dda7b45-fe8e-4a0a-b28f-b977a7245de5')\"\n",
              "              title=\"Convert this dataframe to an interactive table.\"\n",
              "              style=\"display:none;\">\n",
              "        \n",
              "  <svg xmlns=\"http://www.w3.org/2000/svg\" height=\"24px\"viewBox=\"0 0 24 24\"\n",
              "       width=\"24px\">\n",
              "    <path d=\"M0 0h24v24H0V0z\" fill=\"none\"/>\n",
              "    <path d=\"M18.56 5.44l.94 2.06.94-2.06 2.06-.94-2.06-.94-.94-2.06-.94 2.06-2.06.94zm-11 1L8.5 8.5l.94-2.06 2.06-.94-2.06-.94L8.5 2.5l-.94 2.06-2.06.94zm10 10l.94 2.06.94-2.06 2.06-.94-2.06-.94-.94-2.06-.94 2.06-2.06.94z\"/><path d=\"M17.41 7.96l-1.37-1.37c-.4-.4-.92-.59-1.43-.59-.52 0-1.04.2-1.43.59L10.3 9.45l-7.72 7.72c-.78.78-.78 2.05 0 2.83L4 21.41c.39.39.9.59 1.41.59.51 0 1.02-.2 1.41-.59l7.78-7.78 2.81-2.81c.8-.78.8-2.07 0-2.86zM5.41 20L4 18.59l7.72-7.72 1.47 1.35L5.41 20z\"/>\n",
              "  </svg>\n",
              "      </button>\n",
              "      \n",
              "  <style>\n",
              "    .colab-df-container {\n",
              "      display:flex;\n",
              "      flex-wrap:wrap;\n",
              "      gap: 12px;\n",
              "    }\n",
              "\n",
              "    .colab-df-convert {\n",
              "      background-color: #E8F0FE;\n",
              "      border: none;\n",
              "      border-radius: 50%;\n",
              "      cursor: pointer;\n",
              "      display: none;\n",
              "      fill: #1967D2;\n",
              "      height: 32px;\n",
              "      padding: 0 0 0 0;\n",
              "      width: 32px;\n",
              "    }\n",
              "\n",
              "    .colab-df-convert:hover {\n",
              "      background-color: #E2EBFA;\n",
              "      box-shadow: 0px 1px 2px rgba(60, 64, 67, 0.3), 0px 1px 3px 1px rgba(60, 64, 67, 0.15);\n",
              "      fill: #174EA6;\n",
              "    }\n",
              "\n",
              "    [theme=dark] .colab-df-convert {\n",
              "      background-color: #3B4455;\n",
              "      fill: #D2E3FC;\n",
              "    }\n",
              "\n",
              "    [theme=dark] .colab-df-convert:hover {\n",
              "      background-color: #434B5C;\n",
              "      box-shadow: 0px 1px 3px 1px rgba(0, 0, 0, 0.15);\n",
              "      filter: drop-shadow(0px 1px 2px rgba(0, 0, 0, 0.3));\n",
              "      fill: #FFFFFF;\n",
              "    }\n",
              "  </style>\n",
              "\n",
              "      <script>\n",
              "        const buttonEl =\n",
              "          document.querySelector('#df-0dda7b45-fe8e-4a0a-b28f-b977a7245de5 button.colab-df-convert');\n",
              "        buttonEl.style.display =\n",
              "          google.colab.kernel.accessAllowed ? 'block' : 'none';\n",
              "\n",
              "        async function convertToInteractive(key) {\n",
              "          const element = document.querySelector('#df-0dda7b45-fe8e-4a0a-b28f-b977a7245de5');\n",
              "          const dataTable =\n",
              "            await google.colab.kernel.invokeFunction('convertToInteractive',\n",
              "                                                     [key], {});\n",
              "          if (!dataTable) return;\n",
              "\n",
              "          const docLinkHtml = 'Like what you see? Visit the ' +\n",
              "            '<a target=\"_blank\" href=https://colab.research.google.com/notebooks/data_table.ipynb>data table notebook</a>'\n",
              "            + ' to learn more about interactive tables.';\n",
              "          element.innerHTML = '';\n",
              "          dataTable['output_type'] = 'display_data';\n",
              "          await google.colab.output.renderOutput(dataTable, element);\n",
              "          const docLink = document.createElement('div');\n",
              "          docLink.innerHTML = docLinkHtml;\n",
              "          element.appendChild(docLink);\n",
              "        }\n",
              "      </script>\n",
              "    </div>\n",
              "  </div>\n",
              "  "
            ]
          },
          "metadata": {},
          "execution_count": 114
        }
      ],
      "source": [
        "airbnb.tail()"
      ]
    },
    {
      "cell_type": "code",
      "execution_count": 115,
      "metadata": {
        "colab": {
          "base_uri": "https://localhost:8080/"
        },
        "id": "Ua2T55s9Wljk",
        "outputId": "501590e4-1ab2-496a-cd2b-759810ee9d9f"
      },
      "outputs": [
        {
          "output_type": "execute_result",
          "data": {
            "text/plain": [
              "id                                83619\n",
              "host_id                           83618\n",
              "NAME                              61253\n",
              "lat                               21991\n",
              "long                              17775\n",
              "host_name                         13185\n",
              "last review                        2477\n",
              "house_rules                        1976\n",
              "price                              1151\n",
              "reviews per month                  1016\n",
              "number of reviews                   476\n",
              "availability 365                    438\n",
              "service fee                         231\n",
              "neighbourhood                       224\n",
              "minimum_nights                      149\n",
              "calculated host listings count       78\n",
              "Construction year                    20\n",
              "neighbourhood group                   7\n",
              "review rate number                    5\n",
              "room type                             4\n",
              "cancellation_policy                   3\n",
              "instant_bookable                      2\n",
              "host_identity_verified                2\n",
              "country code                          1\n",
              "country                               1\n",
              "license                               1\n",
              "dtype: int64"
            ]
          },
          "metadata": {},
          "execution_count": 115
        }
      ],
      "source": [
        "#Find the number of unique values\n",
        "airbnb.nunique().sort_values(ascending=False)"
      ]
    },
    {
      "cell_type": "code",
      "source": [
        "#From above output, you can see id is also duplicated. check them once\n",
        "airbnb.drop(['id','host_id','long','last review','host_identity_verified','lat'],axis=1).describe(include='all')"
      ],
      "metadata": {
        "colab": {
          "base_uri": "https://localhost:8080/",
          "height": 597
        },
        "id": "uhLDzOJ3qS9_",
        "outputId": "e856ff07-1d31-442f-80d4-6cc737efd860"
      },
      "execution_count": 116,
      "outputs": [
        {
          "output_type": "execute_result",
          "data": {
            "text/plain": [
              "                                  NAME host_name neighbourhood group  \\\n",
              "count                            83399     83265               83590   \n",
              "unique                           61253     13185                   7   \n",
              "top     Water View King Bed Hotel Room   Michael           Manhattan   \n",
              "freq                                30       707               35715   \n",
              "mean                               NaN       NaN                 NaN   \n",
              "std                                NaN       NaN                 NaN   \n",
              "min                                NaN       NaN                 NaN   \n",
              "25%                                NaN       NaN                 NaN   \n",
              "50%                                NaN       NaN                 NaN   \n",
              "75%                                NaN       NaN                 NaN   \n",
              "max                                NaN       NaN                 NaN   \n",
              "\n",
              "             neighbourhood        country country code instant_bookable  \\\n",
              "count                83603          83259        83523            83523   \n",
              "unique                 224              1            1                2   \n",
              "top     Bedford-Stuyvesant  United States           US            False   \n",
              "freq                  6477          83259        83523            42014   \n",
              "mean                   NaN            NaN          NaN              NaN   \n",
              "std                    NaN            NaN          NaN              NaN   \n",
              "min                    NaN            NaN          NaN              NaN   \n",
              "25%                    NaN            NaN          NaN              NaN   \n",
              "50%                    NaN            NaN          NaN              NaN   \n",
              "75%                    NaN            NaN          NaN              NaN   \n",
              "max                    NaN            NaN          NaN              NaN   \n",
              "\n",
              "       cancellation_policy        room type  Construction year  price  \\\n",
              "count                83552            83618       83428.000000  83402   \n",
              "unique                   3                4                NaN   1151   \n",
              "top               moderate  Entire home/apt                NaN  $206    \n",
              "freq                 28011            44371                NaN    110   \n",
              "mean                   NaN              NaN        2012.487139    NaN   \n",
              "std                    NaN              NaN           5.765603    NaN   \n",
              "min                    NaN              NaN        2003.000000    NaN   \n",
              "25%                    NaN              NaN        2007.000000    NaN   \n",
              "50%                    NaN              NaN        2012.000000    NaN   \n",
              "75%                    NaN              NaN        2017.000000    NaN   \n",
              "max                    NaN              NaN        2022.000000    NaN   \n",
              "\n",
              "       service fee  minimum_nights  number of reviews  reviews per month  \\\n",
              "count        83377    83237.000000       83449.000000       70667.000000   \n",
              "unique         231             NaN                NaN                NaN   \n",
              "top           $41              NaN                NaN                NaN   \n",
              "freq           429             NaN                NaN                NaN   \n",
              "mean           NaN        8.397576          28.310213           1.381245   \n",
              "std            NaN       32.705271          51.706931           1.774262   \n",
              "min            NaN    -1223.000000           0.000000           0.010000   \n",
              "25%            NaN        2.000000           1.000000           0.220000   \n",
              "50%            NaN        3.000000           7.000000           0.760000   \n",
              "75%            NaN        5.000000          31.000000           2.000000   \n",
              "max            NaN     5645.000000        1024.000000          90.000000   \n",
              "\n",
              "        review rate number  calculated host listings count  availability 365  \\\n",
              "count         83351.000000                    83451.000000      83180.000000   \n",
              "unique                 NaN                             NaN               NaN   \n",
              "top                    NaN                             NaN               NaN   \n",
              "freq                   NaN                             NaN               NaN   \n",
              "mean              3.293962                        8.588621        145.767865   \n",
              "std               1.276126                       34.764536        135.648025   \n",
              "min               1.000000                        1.000000        -10.000000   \n",
              "25%               2.000000                        1.000000          7.000000   \n",
              "50%               3.000000                        1.000000        109.000000   \n",
              "75%               4.000000                        2.000000        275.000000   \n",
              "max               5.000000                      332.000000       3677.000000   \n",
              "\n",
              "       house_rules   license  \n",
              "count        37906         2  \n",
              "unique        1976         1  \n",
              "top         #NAME?  41662/AL  \n",
              "freq          2040         2  \n",
              "mean           NaN       NaN  \n",
              "std            NaN       NaN  \n",
              "min            NaN       NaN  \n",
              "25%            NaN       NaN  \n",
              "50%            NaN       NaN  \n",
              "75%            NaN       NaN  \n",
              "max            NaN       NaN  "
            ],
            "text/html": [
              "\n",
              "  <div id=\"df-c0754a4a-89ec-4e94-a9af-e2b3b10f3697\">\n",
              "    <div class=\"colab-df-container\">\n",
              "      <div>\n",
              "<style scoped>\n",
              "    .dataframe tbody tr th:only-of-type {\n",
              "        vertical-align: middle;\n",
              "    }\n",
              "\n",
              "    .dataframe tbody tr th {\n",
              "        vertical-align: top;\n",
              "    }\n",
              "\n",
              "    .dataframe thead th {\n",
              "        text-align: right;\n",
              "    }\n",
              "</style>\n",
              "<table border=\"1\" class=\"dataframe\">\n",
              "  <thead>\n",
              "    <tr style=\"text-align: right;\">\n",
              "      <th></th>\n",
              "      <th>NAME</th>\n",
              "      <th>host_name</th>\n",
              "      <th>neighbourhood group</th>\n",
              "      <th>neighbourhood</th>\n",
              "      <th>country</th>\n",
              "      <th>country code</th>\n",
              "      <th>instant_bookable</th>\n",
              "      <th>cancellation_policy</th>\n",
              "      <th>room type</th>\n",
              "      <th>Construction year</th>\n",
              "      <th>price</th>\n",
              "      <th>service fee</th>\n",
              "      <th>minimum_nights</th>\n",
              "      <th>number of reviews</th>\n",
              "      <th>reviews per month</th>\n",
              "      <th>review rate number</th>\n",
              "      <th>calculated host listings count</th>\n",
              "      <th>availability 365</th>\n",
              "      <th>house_rules</th>\n",
              "      <th>license</th>\n",
              "    </tr>\n",
              "  </thead>\n",
              "  <tbody>\n",
              "    <tr>\n",
              "      <th>count</th>\n",
              "      <td>83399</td>\n",
              "      <td>83265</td>\n",
              "      <td>83590</td>\n",
              "      <td>83603</td>\n",
              "      <td>83259</td>\n",
              "      <td>83523</td>\n",
              "      <td>83523</td>\n",
              "      <td>83552</td>\n",
              "      <td>83618</td>\n",
              "      <td>83428.000000</td>\n",
              "      <td>83402</td>\n",
              "      <td>83377</td>\n",
              "      <td>83237.000000</td>\n",
              "      <td>83449.000000</td>\n",
              "      <td>70667.000000</td>\n",
              "      <td>83351.000000</td>\n",
              "      <td>83451.000000</td>\n",
              "      <td>83180.000000</td>\n",
              "      <td>37906</td>\n",
              "      <td>2</td>\n",
              "    </tr>\n",
              "    <tr>\n",
              "      <th>unique</th>\n",
              "      <td>61253</td>\n",
              "      <td>13185</td>\n",
              "      <td>7</td>\n",
              "      <td>224</td>\n",
              "      <td>1</td>\n",
              "      <td>1</td>\n",
              "      <td>2</td>\n",
              "      <td>3</td>\n",
              "      <td>4</td>\n",
              "      <td>NaN</td>\n",
              "      <td>1151</td>\n",
              "      <td>231</td>\n",
              "      <td>NaN</td>\n",
              "      <td>NaN</td>\n",
              "      <td>NaN</td>\n",
              "      <td>NaN</td>\n",
              "      <td>NaN</td>\n",
              "      <td>NaN</td>\n",
              "      <td>1976</td>\n",
              "      <td>1</td>\n",
              "    </tr>\n",
              "    <tr>\n",
              "      <th>top</th>\n",
              "      <td>Water View King Bed Hotel Room</td>\n",
              "      <td>Michael</td>\n",
              "      <td>Manhattan</td>\n",
              "      <td>Bedford-Stuyvesant</td>\n",
              "      <td>United States</td>\n",
              "      <td>US</td>\n",
              "      <td>False</td>\n",
              "      <td>moderate</td>\n",
              "      <td>Entire home/apt</td>\n",
              "      <td>NaN</td>\n",
              "      <td>$206</td>\n",
              "      <td>$41</td>\n",
              "      <td>NaN</td>\n",
              "      <td>NaN</td>\n",
              "      <td>NaN</td>\n",
              "      <td>NaN</td>\n",
              "      <td>NaN</td>\n",
              "      <td>NaN</td>\n",
              "      <td>#NAME?</td>\n",
              "      <td>41662/AL</td>\n",
              "    </tr>\n",
              "    <tr>\n",
              "      <th>freq</th>\n",
              "      <td>30</td>\n",
              "      <td>707</td>\n",
              "      <td>35715</td>\n",
              "      <td>6477</td>\n",
              "      <td>83259</td>\n",
              "      <td>83523</td>\n",
              "      <td>42014</td>\n",
              "      <td>28011</td>\n",
              "      <td>44371</td>\n",
              "      <td>NaN</td>\n",
              "      <td>110</td>\n",
              "      <td>429</td>\n",
              "      <td>NaN</td>\n",
              "      <td>NaN</td>\n",
              "      <td>NaN</td>\n",
              "      <td>NaN</td>\n",
              "      <td>NaN</td>\n",
              "      <td>NaN</td>\n",
              "      <td>2040</td>\n",
              "      <td>2</td>\n",
              "    </tr>\n",
              "    <tr>\n",
              "      <th>mean</th>\n",
              "      <td>NaN</td>\n",
              "      <td>NaN</td>\n",
              "      <td>NaN</td>\n",
              "      <td>NaN</td>\n",
              "      <td>NaN</td>\n",
              "      <td>NaN</td>\n",
              "      <td>NaN</td>\n",
              "      <td>NaN</td>\n",
              "      <td>NaN</td>\n",
              "      <td>2012.487139</td>\n",
              "      <td>NaN</td>\n",
              "      <td>NaN</td>\n",
              "      <td>8.397576</td>\n",
              "      <td>28.310213</td>\n",
              "      <td>1.381245</td>\n",
              "      <td>3.293962</td>\n",
              "      <td>8.588621</td>\n",
              "      <td>145.767865</td>\n",
              "      <td>NaN</td>\n",
              "      <td>NaN</td>\n",
              "    </tr>\n",
              "    <tr>\n",
              "      <th>std</th>\n",
              "      <td>NaN</td>\n",
              "      <td>NaN</td>\n",
              "      <td>NaN</td>\n",
              "      <td>NaN</td>\n",
              "      <td>NaN</td>\n",
              "      <td>NaN</td>\n",
              "      <td>NaN</td>\n",
              "      <td>NaN</td>\n",
              "      <td>NaN</td>\n",
              "      <td>5.765603</td>\n",
              "      <td>NaN</td>\n",
              "      <td>NaN</td>\n",
              "      <td>32.705271</td>\n",
              "      <td>51.706931</td>\n",
              "      <td>1.774262</td>\n",
              "      <td>1.276126</td>\n",
              "      <td>34.764536</td>\n",
              "      <td>135.648025</td>\n",
              "      <td>NaN</td>\n",
              "      <td>NaN</td>\n",
              "    </tr>\n",
              "    <tr>\n",
              "      <th>min</th>\n",
              "      <td>NaN</td>\n",
              "      <td>NaN</td>\n",
              "      <td>NaN</td>\n",
              "      <td>NaN</td>\n",
              "      <td>NaN</td>\n",
              "      <td>NaN</td>\n",
              "      <td>NaN</td>\n",
              "      <td>NaN</td>\n",
              "      <td>NaN</td>\n",
              "      <td>2003.000000</td>\n",
              "      <td>NaN</td>\n",
              "      <td>NaN</td>\n",
              "      <td>-1223.000000</td>\n",
              "      <td>0.000000</td>\n",
              "      <td>0.010000</td>\n",
              "      <td>1.000000</td>\n",
              "      <td>1.000000</td>\n",
              "      <td>-10.000000</td>\n",
              "      <td>NaN</td>\n",
              "      <td>NaN</td>\n",
              "    </tr>\n",
              "    <tr>\n",
              "      <th>25%</th>\n",
              "      <td>NaN</td>\n",
              "      <td>NaN</td>\n",
              "      <td>NaN</td>\n",
              "      <td>NaN</td>\n",
              "      <td>NaN</td>\n",
              "      <td>NaN</td>\n",
              "      <td>NaN</td>\n",
              "      <td>NaN</td>\n",
              "      <td>NaN</td>\n",
              "      <td>2007.000000</td>\n",
              "      <td>NaN</td>\n",
              "      <td>NaN</td>\n",
              "      <td>2.000000</td>\n",
              "      <td>1.000000</td>\n",
              "      <td>0.220000</td>\n",
              "      <td>2.000000</td>\n",
              "      <td>1.000000</td>\n",
              "      <td>7.000000</td>\n",
              "      <td>NaN</td>\n",
              "      <td>NaN</td>\n",
              "    </tr>\n",
              "    <tr>\n",
              "      <th>50%</th>\n",
              "      <td>NaN</td>\n",
              "      <td>NaN</td>\n",
              "      <td>NaN</td>\n",
              "      <td>NaN</td>\n",
              "      <td>NaN</td>\n",
              "      <td>NaN</td>\n",
              "      <td>NaN</td>\n",
              "      <td>NaN</td>\n",
              "      <td>NaN</td>\n",
              "      <td>2012.000000</td>\n",
              "      <td>NaN</td>\n",
              "      <td>NaN</td>\n",
              "      <td>3.000000</td>\n",
              "      <td>7.000000</td>\n",
              "      <td>0.760000</td>\n",
              "      <td>3.000000</td>\n",
              "      <td>1.000000</td>\n",
              "      <td>109.000000</td>\n",
              "      <td>NaN</td>\n",
              "      <td>NaN</td>\n",
              "    </tr>\n",
              "    <tr>\n",
              "      <th>75%</th>\n",
              "      <td>NaN</td>\n",
              "      <td>NaN</td>\n",
              "      <td>NaN</td>\n",
              "      <td>NaN</td>\n",
              "      <td>NaN</td>\n",
              "      <td>NaN</td>\n",
              "      <td>NaN</td>\n",
              "      <td>NaN</td>\n",
              "      <td>NaN</td>\n",
              "      <td>2017.000000</td>\n",
              "      <td>NaN</td>\n",
              "      <td>NaN</td>\n",
              "      <td>5.000000</td>\n",
              "      <td>31.000000</td>\n",
              "      <td>2.000000</td>\n",
              "      <td>4.000000</td>\n",
              "      <td>2.000000</td>\n",
              "      <td>275.000000</td>\n",
              "      <td>NaN</td>\n",
              "      <td>NaN</td>\n",
              "    </tr>\n",
              "    <tr>\n",
              "      <th>max</th>\n",
              "      <td>NaN</td>\n",
              "      <td>NaN</td>\n",
              "      <td>NaN</td>\n",
              "      <td>NaN</td>\n",
              "      <td>NaN</td>\n",
              "      <td>NaN</td>\n",
              "      <td>NaN</td>\n",
              "      <td>NaN</td>\n",
              "      <td>NaN</td>\n",
              "      <td>2022.000000</td>\n",
              "      <td>NaN</td>\n",
              "      <td>NaN</td>\n",
              "      <td>5645.000000</td>\n",
              "      <td>1024.000000</td>\n",
              "      <td>90.000000</td>\n",
              "      <td>5.000000</td>\n",
              "      <td>332.000000</td>\n",
              "      <td>3677.000000</td>\n",
              "      <td>NaN</td>\n",
              "      <td>NaN</td>\n",
              "    </tr>\n",
              "  </tbody>\n",
              "</table>\n",
              "</div>\n",
              "      <button class=\"colab-df-convert\" onclick=\"convertToInteractive('df-c0754a4a-89ec-4e94-a9af-e2b3b10f3697')\"\n",
              "              title=\"Convert this dataframe to an interactive table.\"\n",
              "              style=\"display:none;\">\n",
              "        \n",
              "  <svg xmlns=\"http://www.w3.org/2000/svg\" height=\"24px\"viewBox=\"0 0 24 24\"\n",
              "       width=\"24px\">\n",
              "    <path d=\"M0 0h24v24H0V0z\" fill=\"none\"/>\n",
              "    <path d=\"M18.56 5.44l.94 2.06.94-2.06 2.06-.94-2.06-.94-.94-2.06-.94 2.06-2.06.94zm-11 1L8.5 8.5l.94-2.06 2.06-.94-2.06-.94L8.5 2.5l-.94 2.06-2.06.94zm10 10l.94 2.06.94-2.06 2.06-.94-2.06-.94-.94-2.06-.94 2.06-2.06.94z\"/><path d=\"M17.41 7.96l-1.37-1.37c-.4-.4-.92-.59-1.43-.59-.52 0-1.04.2-1.43.59L10.3 9.45l-7.72 7.72c-.78.78-.78 2.05 0 2.83L4 21.41c.39.39.9.59 1.41.59.51 0 1.02-.2 1.41-.59l7.78-7.78 2.81-2.81c.8-.78.8-2.07 0-2.86zM5.41 20L4 18.59l7.72-7.72 1.47 1.35L5.41 20z\"/>\n",
              "  </svg>\n",
              "      </button>\n",
              "      \n",
              "  <style>\n",
              "    .colab-df-container {\n",
              "      display:flex;\n",
              "      flex-wrap:wrap;\n",
              "      gap: 12px;\n",
              "    }\n",
              "\n",
              "    .colab-df-convert {\n",
              "      background-color: #E8F0FE;\n",
              "      border: none;\n",
              "      border-radius: 50%;\n",
              "      cursor: pointer;\n",
              "      display: none;\n",
              "      fill: #1967D2;\n",
              "      height: 32px;\n",
              "      padding: 0 0 0 0;\n",
              "      width: 32px;\n",
              "    }\n",
              "\n",
              "    .colab-df-convert:hover {\n",
              "      background-color: #E2EBFA;\n",
              "      box-shadow: 0px 1px 2px rgba(60, 64, 67, 0.3), 0px 1px 3px 1px rgba(60, 64, 67, 0.15);\n",
              "      fill: #174EA6;\n",
              "    }\n",
              "\n",
              "    [theme=dark] .colab-df-convert {\n",
              "      background-color: #3B4455;\n",
              "      fill: #D2E3FC;\n",
              "    }\n",
              "\n",
              "    [theme=dark] .colab-df-convert:hover {\n",
              "      background-color: #434B5C;\n",
              "      box-shadow: 0px 1px 3px 1px rgba(0, 0, 0, 0.15);\n",
              "      filter: drop-shadow(0px 1px 2px rgba(0, 0, 0, 0.3));\n",
              "      fill: #FFFFFF;\n",
              "    }\n",
              "  </style>\n",
              "\n",
              "      <script>\n",
              "        const buttonEl =\n",
              "          document.querySelector('#df-c0754a4a-89ec-4e94-a9af-e2b3b10f3697 button.colab-df-convert');\n",
              "        buttonEl.style.display =\n",
              "          google.colab.kernel.accessAllowed ? 'block' : 'none';\n",
              "\n",
              "        async function convertToInteractive(key) {\n",
              "          const element = document.querySelector('#df-c0754a4a-89ec-4e94-a9af-e2b3b10f3697');\n",
              "          const dataTable =\n",
              "            await google.colab.kernel.invokeFunction('convertToInteractive',\n",
              "                                                     [key], {});\n",
              "          if (!dataTable) return;\n",
              "\n",
              "          const docLinkHtml = 'Like what you see? Visit the ' +\n",
              "            '<a target=\"_blank\" href=https://colab.research.google.com/notebooks/data_table.ipynb>data table notebook</a>'\n",
              "            + ' to learn more about interactive tables.';\n",
              "          element.innerHTML = '';\n",
              "          dataTable['output_type'] = 'display_data';\n",
              "          await google.colab.output.renderOutput(dataTable, element);\n",
              "          const docLink = document.createElement('div');\n",
              "          docLink.innerHTML = docLinkHtml;\n",
              "          element.appendChild(docLink);\n",
              "        }\n",
              "      </script>\n",
              "    </div>\n",
              "  </div>\n",
              "  "
            ]
          },
          "metadata": {},
          "execution_count": 116
        }
      ]
    },
    {
      "cell_type": "markdown",
      "source": [
        "\n",
        "\n",
        "```\n",
        "The initial insights, therefore, are:\n",
        "\n",
        "Host Name 'Michael is the top one, with 707 appearences;\n",
        "\n",
        "Most of the properties are in the Manhattan island (21.6k out of 48.8k = 44%);\n",
        "\n",
        "More than 50% of the rentals are for 'Entire home or apt', not just a room;\n",
        "\n",
        "\n",
        "On average, the rate is $ 152 dollars and that does not seem to vary too much, since 75% of the obervations are under $ 175 dollars;\n",
        "Minumum night average is 7 nights. People apparently like to stay for a whole week in NYC;\n",
        "```\n",
        "\n"
      ],
      "metadata": {
        "id": "fq2qDOsCgXUB"
      }
    },
    {
      "cell_type": "markdown",
      "metadata": {
        "id": "UEppSVhUYCMI"
      },
      "source": [
        "#4. Data Cleaning"
      ]
    },
    {
      "cell_type": "code",
      "execution_count": 117,
      "metadata": {
        "colab": {
          "base_uri": "https://localhost:8080/"
        },
        "id": "hDiU4nliYBAu",
        "outputId": "d7dda52f-90ed-4e06-fea4-7b90dae5452e"
      },
      "outputs": [
        {
          "output_type": "execute_result",
          "data": {
            "text/plain": [
              "(83619, 26)"
            ]
          },
          "metadata": {},
          "execution_count": 117
        }
      ],
      "source": [
        "#Lets start by deleting the duplicated rows listed above\n",
        "airbnb.drop_duplicates(keep='first', inplace=True)\n",
        "airbnb.shape"
      ]
    },
    {
      "cell_type": "code",
      "execution_count": 118,
      "metadata": {
        "colab": {
          "base_uri": "https://localhost:8080/",
          "height": 396
        },
        "id": "EEqTh8k0YpYW",
        "outputId": "2d15691e-c5ae-4dca-92dc-0de8b3d85632"
      },
      "outputs": [
        {
          "output_type": "execute_result",
          "data": {
            "text/plain": [
              "             id                                NAME      host_id  \\\n",
              "11114   7139598  Cozy 1 BR on Bedford Avenue, Wburg  73023181304   \n",
              "72947  41289964  Cozy 1 BR on Bedford Avenue, Wburg  25804773951   \n",
              "\n",
              "      host_identity_verified  host_name neighbourhood group neighbourhood  \\\n",
              "11114               verified  Christina            Brooklyn  Williamsburg   \n",
              "72947            unconfirmed  Christina            Brooklyn  Williamsburg   \n",
              "\n",
              "            lat      long        country  ... service fee minimum_nights  \\\n",
              "11114  40.71764 -73.95689  United States  ...       $140             1.0   \n",
              "72947  40.71764 -73.95689  United States  ...       $140             1.0   \n",
              "\n",
              "      number of reviews last review  reviews per month review rate number  \\\n",
              "11114               1.0    1/3/2016               0.02                1.0   \n",
              "72947               1.0    1/3/2016               0.02                1.0   \n",
              "\n",
              "      calculated host listings count  availability 365  \\\n",
              "11114                            1.0             191.0   \n",
              "72947                            1.0               0.0   \n",
              "\n",
              "                                             house_rules   license  \n",
              "11114  Dear Guest, Thank you for appreciating that I ...  41662/AL  \n",
              "72947                                                NaN  41662/AL  \n",
              "\n",
              "[2 rows x 26 columns]"
            ],
            "text/html": [
              "\n",
              "  <div id=\"df-63226280-9a63-460f-b140-65ab8c84ebed\">\n",
              "    <div class=\"colab-df-container\">\n",
              "      <div>\n",
              "<style scoped>\n",
              "    .dataframe tbody tr th:only-of-type {\n",
              "        vertical-align: middle;\n",
              "    }\n",
              "\n",
              "    .dataframe tbody tr th {\n",
              "        vertical-align: top;\n",
              "    }\n",
              "\n",
              "    .dataframe thead th {\n",
              "        text-align: right;\n",
              "    }\n",
              "</style>\n",
              "<table border=\"1\" class=\"dataframe\">\n",
              "  <thead>\n",
              "    <tr style=\"text-align: right;\">\n",
              "      <th></th>\n",
              "      <th>id</th>\n",
              "      <th>NAME</th>\n",
              "      <th>host_id</th>\n",
              "      <th>host_identity_verified</th>\n",
              "      <th>host_name</th>\n",
              "      <th>neighbourhood group</th>\n",
              "      <th>neighbourhood</th>\n",
              "      <th>lat</th>\n",
              "      <th>long</th>\n",
              "      <th>country</th>\n",
              "      <th>...</th>\n",
              "      <th>service fee</th>\n",
              "      <th>minimum_nights</th>\n",
              "      <th>number of reviews</th>\n",
              "      <th>last review</th>\n",
              "      <th>reviews per month</th>\n",
              "      <th>review rate number</th>\n",
              "      <th>calculated host listings count</th>\n",
              "      <th>availability 365</th>\n",
              "      <th>house_rules</th>\n",
              "      <th>license</th>\n",
              "    </tr>\n",
              "  </thead>\n",
              "  <tbody>\n",
              "    <tr>\n",
              "      <th>11114</th>\n",
              "      <td>7139598</td>\n",
              "      <td>Cozy 1 BR on Bedford Avenue, Wburg</td>\n",
              "      <td>73023181304</td>\n",
              "      <td>verified</td>\n",
              "      <td>Christina</td>\n",
              "      <td>Brooklyn</td>\n",
              "      <td>Williamsburg</td>\n",
              "      <td>40.71764</td>\n",
              "      <td>-73.95689</td>\n",
              "      <td>United States</td>\n",
              "      <td>...</td>\n",
              "      <td>$140</td>\n",
              "      <td>1.0</td>\n",
              "      <td>1.0</td>\n",
              "      <td>1/3/2016</td>\n",
              "      <td>0.02</td>\n",
              "      <td>1.0</td>\n",
              "      <td>1.0</td>\n",
              "      <td>191.0</td>\n",
              "      <td>Dear Guest, Thank you for appreciating that I ...</td>\n",
              "      <td>41662/AL</td>\n",
              "    </tr>\n",
              "    <tr>\n",
              "      <th>72947</th>\n",
              "      <td>41289964</td>\n",
              "      <td>Cozy 1 BR on Bedford Avenue, Wburg</td>\n",
              "      <td>25804773951</td>\n",
              "      <td>unconfirmed</td>\n",
              "      <td>Christina</td>\n",
              "      <td>Brooklyn</td>\n",
              "      <td>Williamsburg</td>\n",
              "      <td>40.71764</td>\n",
              "      <td>-73.95689</td>\n",
              "      <td>United States</td>\n",
              "      <td>...</td>\n",
              "      <td>$140</td>\n",
              "      <td>1.0</td>\n",
              "      <td>1.0</td>\n",
              "      <td>1/3/2016</td>\n",
              "      <td>0.02</td>\n",
              "      <td>1.0</td>\n",
              "      <td>1.0</td>\n",
              "      <td>0.0</td>\n",
              "      <td>NaN</td>\n",
              "      <td>41662/AL</td>\n",
              "    </tr>\n",
              "  </tbody>\n",
              "</table>\n",
              "<p>2 rows × 26 columns</p>\n",
              "</div>\n",
              "      <button class=\"colab-df-convert\" onclick=\"convertToInteractive('df-63226280-9a63-460f-b140-65ab8c84ebed')\"\n",
              "              title=\"Convert this dataframe to an interactive table.\"\n",
              "              style=\"display:none;\">\n",
              "        \n",
              "  <svg xmlns=\"http://www.w3.org/2000/svg\" height=\"24px\"viewBox=\"0 0 24 24\"\n",
              "       width=\"24px\">\n",
              "    <path d=\"M0 0h24v24H0V0z\" fill=\"none\"/>\n",
              "    <path d=\"M18.56 5.44l.94 2.06.94-2.06 2.06-.94-2.06-.94-.94-2.06-.94 2.06-2.06.94zm-11 1L8.5 8.5l.94-2.06 2.06-.94-2.06-.94L8.5 2.5l-.94 2.06-2.06.94zm10 10l.94 2.06.94-2.06 2.06-.94-2.06-.94-.94-2.06-.94 2.06-2.06.94z\"/><path d=\"M17.41 7.96l-1.37-1.37c-.4-.4-.92-.59-1.43-.59-.52 0-1.04.2-1.43.59L10.3 9.45l-7.72 7.72c-.78.78-.78 2.05 0 2.83L4 21.41c.39.39.9.59 1.41.59.51 0 1.02-.2 1.41-.59l7.78-7.78 2.81-2.81c.8-.78.8-2.07 0-2.86zM5.41 20L4 18.59l7.72-7.72 1.47 1.35L5.41 20z\"/>\n",
              "  </svg>\n",
              "      </button>\n",
              "      \n",
              "  <style>\n",
              "    .colab-df-container {\n",
              "      display:flex;\n",
              "      flex-wrap:wrap;\n",
              "      gap: 12px;\n",
              "    }\n",
              "\n",
              "    .colab-df-convert {\n",
              "      background-color: #E8F0FE;\n",
              "      border: none;\n",
              "      border-radius: 50%;\n",
              "      cursor: pointer;\n",
              "      display: none;\n",
              "      fill: #1967D2;\n",
              "      height: 32px;\n",
              "      padding: 0 0 0 0;\n",
              "      width: 32px;\n",
              "    }\n",
              "\n",
              "    .colab-df-convert:hover {\n",
              "      background-color: #E2EBFA;\n",
              "      box-shadow: 0px 1px 2px rgba(60, 64, 67, 0.3), 0px 1px 3px 1px rgba(60, 64, 67, 0.15);\n",
              "      fill: #174EA6;\n",
              "    }\n",
              "\n",
              "    [theme=dark] .colab-df-convert {\n",
              "      background-color: #3B4455;\n",
              "      fill: #D2E3FC;\n",
              "    }\n",
              "\n",
              "    [theme=dark] .colab-df-convert:hover {\n",
              "      background-color: #434B5C;\n",
              "      box-shadow: 0px 1px 3px 1px rgba(0, 0, 0, 0.15);\n",
              "      filter: drop-shadow(0px 1px 2px rgba(0, 0, 0, 0.3));\n",
              "      fill: #FFFFFF;\n",
              "    }\n",
              "  </style>\n",
              "\n",
              "      <script>\n",
              "        const buttonEl =\n",
              "          document.querySelector('#df-63226280-9a63-460f-b140-65ab8c84ebed button.colab-df-convert');\n",
              "        buttonEl.style.display =\n",
              "          google.colab.kernel.accessAllowed ? 'block' : 'none';\n",
              "\n",
              "        async function convertToInteractive(key) {\n",
              "          const element = document.querySelector('#df-63226280-9a63-460f-b140-65ab8c84ebed');\n",
              "          const dataTable =\n",
              "            await google.colab.kernel.invokeFunction('convertToInteractive',\n",
              "                                                     [key], {});\n",
              "          if (!dataTable) return;\n",
              "\n",
              "          const docLinkHtml = 'Like what you see? Visit the ' +\n",
              "            '<a target=\"_blank\" href=https://colab.research.google.com/notebooks/data_table.ipynb>data table notebook</a>'\n",
              "            + ' to learn more about interactive tables.';\n",
              "          element.innerHTML = '';\n",
              "          dataTable['output_type'] = 'display_data';\n",
              "          await google.colab.output.renderOutput(dataTable, element);\n",
              "          const docLink = document.createElement('div');\n",
              "          docLink.innerHTML = docLinkHtml;\n",
              "          element.appendChild(docLink);\n",
              "        }\n",
              "      </script>\n",
              "    </div>\n",
              "  </div>\n",
              "  "
            ]
          },
          "metadata": {},
          "execution_count": 118
        }
      ],
      "source": [
        "#Lets delete the duplicate row on license which we checked earlier\n",
        "airbnb[~airbnb.license.isnull()]"
      ]
    },
    {
      "cell_type": "code",
      "execution_count": 119,
      "metadata": {
        "id": "R6fJ7LsXBkpt"
      },
      "outputs": [],
      "source": [
        "#Lets the keep the above row row with more apt data and delete the second one\n",
        "airbnb.drop(airbnb.index[72947],inplace=True)"
      ]
    },
    {
      "cell_type": "code",
      "execution_count": 120,
      "metadata": {
        "colab": {
          "base_uri": "https://localhost:8080/"
        },
        "id": "mFD8ah5ZZN3X",
        "outputId": "4f4b86ab-2cca-4694-9a25-75c10098473d"
      },
      "outputs": [
        {
          "output_type": "execute_result",
          "data": {
            "text/plain": [
              "(83618, 26)"
            ]
          },
          "metadata": {},
          "execution_count": 120
        }
      ],
      "source": [
        "airbnb.shape"
      ]
    },
    {
      "cell_type": "code",
      "execution_count": 121,
      "metadata": {
        "colab": {
          "base_uri": "https://localhost:8080/"
        },
        "id": "zx2pCKdtZTLl",
        "outputId": "1e35ee61-71ff-42bb-cea4-9503b590c59e"
      },
      "outputs": [
        {
          "output_type": "execute_result",
          "data": {
            "text/plain": [
              "id                                83618\n",
              "NAME                              61253\n",
              "host_id                           83617\n",
              "host_identity_verified                2\n",
              "host_name                         13185\n",
              "neighbourhood group                   7\n",
              "neighbourhood                       224\n",
              "lat                               21991\n",
              "long                              17775\n",
              "country                               1\n",
              "country code                          1\n",
              "instant_bookable                      2\n",
              "cancellation_policy                   3\n",
              "room type                             4\n",
              "Construction year                    20\n",
              "price                              1151\n",
              "service fee                         231\n",
              "minimum_nights                      149\n",
              "number of reviews                   476\n",
              "last review                        2477\n",
              "reviews per month                  1016\n",
              "review rate number                    5\n",
              "calculated host listings count       78\n",
              "availability 365                    438\n",
              "house_rules                        1976\n",
              "license                               1\n",
              "dtype: int64"
            ]
          },
          "metadata": {},
          "execution_count": 121
        }
      ],
      "source": [
        "#Now the unique values look good\n",
        "airbnb.nunique()\n"
      ]
    },
    {
      "cell_type": "code",
      "execution_count": 124,
      "metadata": {
        "colab": {
          "base_uri": "https://localhost:8080/"
        },
        "id": "D0gu8NXsaHv_",
        "outputId": "21fdfa18-9134-45ea-9d53-2fcbc55cdfab"
      },
      "outputs": [
        {
          "output_type": "execute_result",
          "data": {
            "text/plain": [
              "Manhattan        35715\n",
              "Brooklyn         33953\n",
              "Queens           10891\n",
              "Bronx             2249\n",
              "Staten Island      779\n",
              "brookln              1\n",
              "manhatan             1\n",
              "Name: neighbourhood group, dtype: int64"
            ]
          },
          "metadata": {},
          "execution_count": 124
        }
      ],
      "source": [
        "#lets find the type of data in few columns\n",
        "airbnb['neighbourhood group'].value_counts()"
      ]
    },
    {
      "cell_type": "code",
      "execution_count": 125,
      "metadata": {
        "id": "V6oMBEsmaP3G"
      },
      "outputs": [],
      "source": [
        "#you can see there is discrepencies with teh values just with spelling/case. Lets replace them\n",
        "airbnb['neighbourhood group'].replace(['manhatan','brookln'],['Manhattan','Brooklyn'],inplace=True)"
      ]
    },
    {
      "cell_type": "code",
      "execution_count": 126,
      "metadata": {
        "colab": {
          "base_uri": "https://localhost:8080/"
        },
        "id": "-EpksG6WaTgW",
        "outputId": "5b955d8a-f0f6-4ed4-b07e-75fc154b8998"
      },
      "outputs": [
        {
          "output_type": "execute_result",
          "data": {
            "text/plain": [
              "Manhattan        35716\n",
              "Brooklyn         33954\n",
              "Queens           10891\n",
              "Bronx             2249\n",
              "Staten Island      779\n",
              "Name: neighbourhood group, dtype: int64"
            ]
          },
          "metadata": {},
          "execution_count": 126
        }
      ],
      "source": [
        "#lets find the type of data in few columns\n",
        "airbnb['neighbourhood group'].value_counts()"
      ]
    },
    {
      "cell_type": "code",
      "execution_count": 127,
      "metadata": {
        "colab": {
          "base_uri": "https://localhost:8080/"
        },
        "id": "k87xlLh-adGe",
        "outputId": "bfc901e3-8564-4a8a-8106-f0d82b2172aa"
      },
      "outputs": [
        {
          "output_type": "execute_result",
          "data": {
            "text/plain": [
              "Manhattan        35716\n",
              "Brooklyn         33954\n",
              "Queens           10891\n",
              "Bronx             2249\n",
              "Staten Island      779\n",
              "Name: neighbourhood group, dtype: int64"
            ]
          },
          "metadata": {},
          "execution_count": 127
        }
      ],
      "source": [
        "#Now check again the values of neighbour group\n",
        "airbnb['neighbourhood group'].value_counts()"
      ]
    },
    {
      "cell_type": "code",
      "execution_count": 128,
      "metadata": {
        "colab": {
          "base_uri": "https://localhost:8080/"
        },
        "id": "fcZy3-p1ag6x",
        "outputId": "a1ae3cbb-1991-42ac-b8d3-b1c3fb93fed8"
      },
      "outputs": [
        {
          "output_type": "execute_result",
          "data": {
            "text/plain": [
              "unconfirmed    41704\n",
              "verified       41670\n",
              "Name: host_identity_verified, dtype: int64"
            ]
          },
          "metadata": {},
          "execution_count": 128
        },
        {
          "output_type": "execute_result",
          "data": {
            "text/plain": [
              "False    42014\n",
              "True     41508\n",
              "Name: instant_bookable, dtype: int64"
            ]
          },
          "metadata": {},
          "execution_count": 128
        },
        {
          "output_type": "execute_result",
          "data": {
            "text/plain": [
              "Entire home/apt    44371\n",
              "Private room       37351\n",
              "Shared room         1780\n",
              "Hotel room           115\n",
              "Name: room type, dtype: int64"
            ]
          },
          "metadata": {},
          "execution_count": 128
        },
        {
          "output_type": "execute_result",
          "data": {
            "text/plain": [
              "moderate    28011\n",
              "flexible    27824\n",
              "strict      27716\n",
              "Name: cancellation_policy, dtype: int64"
            ]
          },
          "metadata": {},
          "execution_count": 128
        },
        {
          "output_type": "execute_result",
          "data": {
            "text/plain": [
              "5.0    19177\n",
              "4.0    19159\n",
              "3.0    19034\n",
              "2.0    18951\n",
              "1.0     7029\n",
              "Name: review rate number, dtype: int64"
            ]
          },
          "metadata": {},
          "execution_count": 128
        }
      ],
      "source": [
        "#Now chekc the value counts of other columns\n",
        "airbnb['host_identity_verified'].value_counts()\n",
        "airbnb['instant_bookable'].value_counts()\n",
        "airbnb['room type'].value_counts()\n",
        "airbnb['cancellation_policy'].value_counts()\n",
        "airbnb['review rate number'].value_counts()"
      ]
    },
    {
      "cell_type": "code",
      "execution_count": 129,
      "metadata": {
        "colab": {
          "base_uri": "https://localhost:8080/"
        },
        "id": "86GR2Rzobhte",
        "outputId": "1f894170-3086-4ffa-feb3-2161e9ceb453"
      },
      "outputs": [
        {
          "output_type": "stream",
          "name": "stdout",
          "text": [
            "<class 'pandas.core.frame.DataFrame'>\n",
            "Int64Index: 83618 entries, 0 to 83618\n",
            "Data columns (total 26 columns):\n",
            " #   Column                          Non-Null Count  Dtype  \n",
            "---  ------                          --------------  -----  \n",
            " 0   id                              83618 non-null  int64  \n",
            " 1   NAME                            83398 non-null  object \n",
            " 2   host_id                         83618 non-null  int64  \n",
            " 3   host_identity_verified          83374 non-null  object \n",
            " 4   host_name                       83264 non-null  object \n",
            " 5   neighbourhood group             83589 non-null  object \n",
            " 6   neighbourhood                   83602 non-null  object \n",
            " 7   lat                             83610 non-null  float64\n",
            " 8   long                            83610 non-null  float64\n",
            " 9   country                         83258 non-null  object \n",
            " 10  country code                    83522 non-null  object \n",
            " 11  instant_bookable                83522 non-null  object \n",
            " 12  cancellation_policy             83551 non-null  object \n",
            " 13  room type                       83617 non-null  object \n",
            " 14  Construction year               83427 non-null  float64\n",
            " 15  price                           83401 non-null  object \n",
            " 16  service fee                     83376 non-null  object \n",
            " 17  minimum_nights                  83236 non-null  float64\n",
            " 18  number of reviews               83448 non-null  float64\n",
            " 19  last review                     70652 non-null  object \n",
            " 20  reviews per month               70666 non-null  float64\n",
            " 21  review rate number              83350 non-null  float64\n",
            " 22  calculated host listings count  83450 non-null  float64\n",
            " 23  availability 365                83179 non-null  float64\n",
            " 24  house_rules                     37906 non-null  object \n",
            " 25  license                         1 non-null      object \n",
            "dtypes: float64(9), int64(2), object(15)\n",
            "memory usage: 17.2+ MB\n"
          ]
        }
      ],
      "source": [
        "airbnb.info()"
      ]
    },
    {
      "cell_type": "code",
      "execution_count": 130,
      "metadata": {
        "id": "Sf8wKwISbrWE"
      },
      "outputs": [],
      "source": [
        "#Lets change the datatypes of above columns which we can see as categorised\n",
        "airbnb = airbnb.astype({'room type':'category','cancellation_policy':'category',\n",
        "                        'instant_bookable':'category','host_identity_verified':'category',\n",
        "                        'review rate number':'category','neighbourhood group':'category'})\n",
        "airbnb['last review'] = pd.to_datetime(airbnb['last review'])"
      ]
    },
    {
      "cell_type": "code",
      "execution_count": 131,
      "metadata": {
        "id": "5A2e4oYgb0Hh"
      },
      "outputs": [],
      "source": [
        "airbnb['price']=airbnb['price'].apply(lambda x: x.replace('$','') if pd.isna(x) == False else x)\n",
        "airbnb['service fee']=airbnb['service fee'].apply(lambda x: x.replace('$','') if pd.isna(x) == False else x)\n",
        "airbnb['service fee']=airbnb['service fee'].astype(float)\n",
        "airbnb['price']=airbnb['price'].apply(lambda x: x.replace(',','') if pd.isna(x) == False else x)\n",
        "airbnb['price']=airbnb['price'].astype(float)"
      ]
    },
    {
      "cell_type": "code",
      "execution_count": 132,
      "metadata": {
        "colab": {
          "base_uri": "https://localhost:8080/"
        },
        "id": "UJ8vStIbb3zX",
        "outputId": "62d54429-c68f-4312-88ba-9361fa6c42c2"
      },
      "outputs": [
        {
          "output_type": "stream",
          "name": "stdout",
          "text": [
            "<class 'pandas.core.frame.DataFrame'>\n",
            "Int64Index: 83618 entries, 0 to 83618\n",
            "Data columns (total 26 columns):\n",
            " #   Column                          Non-Null Count  Dtype         \n",
            "---  ------                          --------------  -----         \n",
            " 0   id                              83618 non-null  int64         \n",
            " 1   NAME                            83398 non-null  object        \n",
            " 2   host_id                         83618 non-null  int64         \n",
            " 3   host_identity_verified          83374 non-null  category      \n",
            " 4   host_name                       83264 non-null  object        \n",
            " 5   neighbourhood group             83589 non-null  category      \n",
            " 6   neighbourhood                   83602 non-null  object        \n",
            " 7   lat                             83610 non-null  float64       \n",
            " 8   long                            83610 non-null  float64       \n",
            " 9   country                         83258 non-null  object        \n",
            " 10  country code                    83522 non-null  object        \n",
            " 11  instant_bookable                83522 non-null  category      \n",
            " 12  cancellation_policy             83551 non-null  category      \n",
            " 13  room type                       83617 non-null  category      \n",
            " 14  Construction year               83427 non-null  float64       \n",
            " 15  price                           83401 non-null  float64       \n",
            " 16  service fee                     83376 non-null  float64       \n",
            " 17  minimum_nights                  83236 non-null  float64       \n",
            " 18  number of reviews               83448 non-null  float64       \n",
            " 19  last review                     70652 non-null  datetime64[ns]\n",
            " 20  reviews per month               70666 non-null  float64       \n",
            " 21  review rate number              83350 non-null  category      \n",
            " 22  calculated host listings count  83450 non-null  float64       \n",
            " 23  availability 365                83179 non-null  float64       \n",
            " 24  house_rules                     37906 non-null  object        \n",
            " 25  license                         1 non-null      object        \n",
            "dtypes: category(6), datetime64[ns](1), float64(10), int64(2), object(7)\n",
            "memory usage: 13.9+ MB\n"
          ]
        }
      ],
      "source": [
        "airbnb.info()"
      ]
    },
    {
      "cell_type": "code",
      "execution_count": 133,
      "metadata": {
        "colab": {
          "base_uri": "https://localhost:8080/"
        },
        "id": "UIHaeetgb93a",
        "outputId": "e9bdfb8c-af6d-441d-c3b0-c5c7d8b0d3ff"
      },
      "outputs": [
        {
          "output_type": "execute_result",
          "data": {
            "text/plain": [
              "(Timestamp('2012-07-11 00:00:00'), Timestamp('2058-06-16 00:00:00'))"
            ]
          },
          "metadata": {},
          "execution_count": 133
        }
      ],
      "source": [
        "# Let's check the min and max timestamps\n",
        "airbnb['last review'].min(), airbnb['last review'].max()"
      ]
    },
    {
      "cell_type": "code",
      "execution_count": 134,
      "metadata": {
        "id": "huLTSG2dcFwO"
      },
      "outputs": [],
      "source": [
        "#We can see the wrong year. Lets clean the review to be the median of the column\n",
        "airbnb.loc[airbnb[airbnb['last review'].apply(lambda x: x.year) > 2022].index,'last review'] = airbnb['last review'].median()"
      ]
    },
    {
      "cell_type": "code",
      "execution_count": 135,
      "metadata": {
        "id": "wX6aXEfScHHW"
      },
      "outputs": [],
      "source": [
        "#Similarly replace all the null values with median value of the column\n",
        "airbnb.loc[airbnb['last review'].isnull(), 'last review'] = airbnb['last review'].median()"
      ]
    },
    {
      "cell_type": "code",
      "execution_count": 136,
      "metadata": {
        "colab": {
          "base_uri": "https://localhost:8080/"
        },
        "id": "IKl_Xgc0cLo4",
        "outputId": "348dd09e-1fa8-44ff-87e0-9b09a68bbb9c"
      },
      "outputs": [
        {
          "output_type": "execute_result",
          "data": {
            "text/plain": [
              "False    83618\n",
              "Name: last review, dtype: int64"
            ]
          },
          "metadata": {},
          "execution_count": 136
        }
      ],
      "source": [
        "#now find the non null values for review date\n",
        "airbnb['last review'].isnull().value_counts()\n",
        "#So the column doesn't have any null values now"
      ]
    },
    {
      "cell_type": "code",
      "source": [
        "airbnb.rename(columns={'host name':'host_name'}, inplace = True)\n"
      ],
      "metadata": {
        "id": "40ulNik7Oiev"
      },
      "execution_count": 95,
      "outputs": []
    },
    {
      "cell_type": "code",
      "source": [
        "# Prices average by neighbourhood\n",
        "plt.figure(figsize=(14,6))\n",
        "sns.barplot(data=airbnb, x='neighbourhood group', y='price',\n",
        "            order=['Manhattan','Brooklyn','Staten Island', 'Queens', 'Bronx'],\n",
        "            palette = 'Greens_r')\n",
        "plt.xlabel(\"Neighborhood\",fontdict= {'size':10})\n",
        "plt.ylabel(\"Price\", fontdict= {'size':12})\n",
        "plt.title(\"Prices per Neighbouhood\")\n",
        "plt.show()"
      ],
      "metadata": {
        "colab": {
          "base_uri": "https://localhost:8080/",
          "height": 440
        },
        "id": "oGMDMezEghgP",
        "outputId": "ffaafb3c-3a29-4e1a-bd2d-7c6389953ea1"
      },
      "execution_count": 164,
      "outputs": [
        {
          "output_type": "execute_result",
          "data": {
            "text/plain": [
              "<Figure size 1008x432 with 0 Axes>"
            ]
          },
          "metadata": {},
          "execution_count": 164
        },
        {
          "output_type": "execute_result",
          "data": {
            "text/plain": [
              "<matplotlib.axes._subplots.AxesSubplot at 0x7f03b9662f70>"
            ]
          },
          "metadata": {},
          "execution_count": 164
        },
        {
          "output_type": "execute_result",
          "data": {
            "text/plain": [
              "Text(0.5, 0, 'Neighborhood')"
            ]
          },
          "metadata": {},
          "execution_count": 164
        },
        {
          "output_type": "execute_result",
          "data": {
            "text/plain": [
              "Text(0, 0.5, 'Price')"
            ]
          },
          "metadata": {},
          "execution_count": 164
        },
        {
          "output_type": "execute_result",
          "data": {
            "text/plain": [
              "Text(0.5, 1.0, 'Prices per Neighbouhood')"
            ]
          },
          "metadata": {},
          "execution_count": 164
        },
        {
          "output_type": "display_data",
          "data": {
            "text/plain": [
              "<Figure size 1008x432 with 1 Axes>"
            ],
            "image/png": "[encoded data removed]"
          },
          "metadata": {
            "needs_background": "light"
          }
        }
      ]
    },
    {
      "cell_type": "markdown",
      "metadata": {
        "id": "A9Q6b4qdBJ5d"
      },
      "source": [
        "# 5. Data Visualisation¶\n"
      ]
    },
    {
      "cell_type": "code",
      "source": [
        "# Type of listings\n",
        "plt.figure(figsize=(14,6))\n",
        "g = sns.countplot(x = 'room type', data = airbnb, palette='spring',\n",
        "                 order=['Entire home/apt','Private room','Shared room'])\n",
        "plt.xlabel(\"Room Type\",fontdict= {'size':10})\n",
        "plt.ylabel(\"Quantity of Rentals\", fontdict= {'size':12})\n",
        "plt.title(\"Rentals by type\", size=15)\n",
        "plt.show()"
      ],
      "metadata": {
        "colab": {
          "base_uri": "https://localhost:8080/",
          "height": 442
        },
        "id": "fkkuhleinYLa",
        "outputId": "7b3f2f5e-e3e1-4f94-a5c1-09654a44fcd4"
      },
      "execution_count": 165,
      "outputs": [
        {
          "output_type": "execute_result",
          "data": {
            "text/plain": [
              "<Figure size 1008x432 with 0 Axes>"
            ]
          },
          "metadata": {},
          "execution_count": 165
        },
        {
          "output_type": "execute_result",
          "data": {
            "text/plain": [
              "Text(0.5, 0, 'Room Type')"
            ]
          },
          "metadata": {},
          "execution_count": 165
        },
        {
          "output_type": "execute_result",
          "data": {
            "text/plain": [
              "Text(0, 0.5, 'Quantity of Rentals')"
            ]
          },
          "metadata": {},
          "execution_count": 165
        },
        {
          "output_type": "execute_result",
          "data": {
            "text/plain": [
              "Text(0.5, 1.0, 'Rentals by type')"
            ]
          },
          "metadata": {},
          "execution_count": 165
        },
        {
          "output_type": "display_data",
          "data": {
            "text/plain": [
              "<Figure size 1008x432 with 1 Axes>"
            ],
            "image/png": "[encoded data removed]"
          },
          "metadata": {
            "needs_background": "light"
          }
        }
      ]
    },
    {
      "cell_type": "code",
      "source": [
        "# Where are the most looked neighbourhoods\n",
        "plt.figure(figsize=(14,6))\n",
        "g = sns.countplot(x = 'neighbourhood group', data = airbnb, palette = 'spring',\n",
        "                  order=airbnb['neighbourhood group'].value_counts().index)\n",
        "plt.xlabel(\"Neighborhood\",fontdict= {'size':10})\n",
        "plt.title(\"Rentals per Neighbouhood\", size=14)\n",
        "plt.show()"
      ],
      "metadata": {
        "colab": {
          "base_uri": "https://localhost:8080/",
          "height": 423
        },
        "id": "M6Ieb2jGc6D3",
        "outputId": "7bea7b0c-31a9-4527-972b-d6fb2aeffd89"
      },
      "execution_count": 159,
      "outputs": [
        {
          "output_type": "execute_result",
          "data": {
            "text/plain": [
              "<Figure size 1008x432 with 0 Axes>"
            ]
          },
          "metadata": {},
          "execution_count": 159
        },
        {
          "output_type": "execute_result",
          "data": {
            "text/plain": [
              "Text(0.5, 0, 'Neighborhood')"
            ]
          },
          "metadata": {},
          "execution_count": 159
        },
        {
          "output_type": "execute_result",
          "data": {
            "text/plain": [
              "Text(0.5, 1.0, 'Rentals per Neighbouhood')"
            ]
          },
          "metadata": {},
          "execution_count": 159
        },
        {
          "output_type": "display_data",
          "data": {
            "text/plain": [
              "<Figure size 1008x432 with 1 Axes>"
            ],
            "image/png": "[encoded data removed]"
          },
          "metadata": {
            "needs_background": "light"
          }
        }
      ]
    },
    {
      "cell_type": "code",
      "source": [
        "# Create a subset of the dataset with the top 50 renters\n",
        "index = airbnb.groupby('host_id').id.count().sort_values(ascending=False).head(50).index\n",
        "airbnb_top50 = airbnb[airbnb.host_id.isin(index)].reset_index()"
      ],
      "metadata": {
        "id": "5805DPIwqQQX"
      },
      "execution_count": 167,
      "outputs": []
    },
    {
      "cell_type": "code",
      "source": [
        "# Create a function to add a marker to the map\n",
        "def add_marker(lat, lon, text):\n",
        "    return folium.CircleMarker(location=[lat, lon],\n",
        "                               radius=3,\n",
        "                               color='black',\n",
        "                               popup=text).add_to(m)\n",
        "\n",
        "# Creating the base map, initializing it over Manhattan and adding the points\n",
        "m = folium.Map(location=[40.75, -73.97], zoom_start=13)\n",
        "for i in range(len(airbnb_top50)):\n",
        "    add_marker(airbnb_top50.lat[i], airbnb_top50.long[i],str(airbnb_top50.price[i])+'USD')\n",
        "\n",
        "# Adding the Heat Map \n",
        "data_loc= airbnb_top50[['lat','long', 'price']].values\n",
        "data_loc =data_loc.tolist()\n",
        "hm = plugins.HeatMap(data_loc)\n",
        "hm.add_to(m)\n",
        "m\n"
      ],
      "metadata": {
        "colab": {
          "base_uri": "https://localhost:8080/",
          "height": 1000
        },
        "id": "awVg90Ilqf6_",
        "outputId": "e232c472-fc5a-489b-93e6-d7839ea74414"
      },
      "execution_count": 195,
      "outputs": [
        {
          "output_type": "execute_result",
          "data": {
            "text/plain": [
              "<folium.vector_layers.CircleMarker at 0x7f037be49b50>"
            ]
          },
          "metadata": {},
          "execution_count": 195
        },
        {
          "output_type": "execute_result",
          "data": {
            "text/plain": [
              "<folium.vector_layers.CircleMarker at 0x7f037be49f10>"
            ]
          },
          "metadata": {},
          "execution_count": 195
        },
        {
          "output_type": "execute_result",
          "data": {
            "text/plain": [
              "<folium.vector_layers.CircleMarker at 0x7f037be49f70>"
            ]
          },
          "metadata": {},
          "execution_count": 195
        },
        {
          "output_type": "execute_result",
          "data": {
            "text/plain": [
              "<folium.vector_layers.CircleMarker at 0x7f037f434970>"
            ]
          },
          "metadata": {},
          "execution_count": 195
        },
        {
          "output_type": "execute_result",
          "data": {
            "text/plain": [
              "<folium.vector_layers.CircleMarker at 0x7f037be5e190>"
            ]
          },
          "metadata": {},
          "execution_count": 195
        },
        {
          "output_type": "execute_result",
          "data": {
            "text/plain": [
              "<folium.vector_layers.CircleMarker at 0x7f037be5e2b0>"
            ]
          },
          "metadata": {},
          "execution_count": 195
        },
        {
          "output_type": "execute_result",
          "data": {
            "text/plain": [
              "<folium.vector_layers.CircleMarker at 0x7f037be5e3d0>"
            ]
          },
          "metadata": {},
          "execution_count": 195
        },
        {
          "output_type": "execute_result",
          "data": {
            "text/plain": [
              "<folium.vector_layers.CircleMarker at 0x7f037be5e6a0>"
            ]
          },
          "metadata": {},
          "execution_count": 195
        },
        {
          "output_type": "execute_result",
          "data": {
            "text/plain": [
              "<folium.vector_layers.CircleMarker at 0x7f037be5e550>"
            ]
          },
          "metadata": {},
          "execution_count": 195
        },
        {
          "output_type": "execute_result",
          "data": {
            "text/plain": [
              "<folium.vector_layers.CircleMarker at 0x7f037be5e4f0>"
            ]
          },
          "metadata": {},
          "execution_count": 195
        },
        {
          "output_type": "execute_result",
          "data": {
            "text/plain": [
              "<folium.vector_layers.CircleMarker at 0x7f037be49d30>"
            ]
          },
          "metadata": {},
          "execution_count": 195
        },
        {
          "output_type": "execute_result",
          "data": {
            "text/plain": [
              "<folium.vector_layers.CircleMarker at 0x7f037be49d90>"
            ]
          },
          "metadata": {},
          "execution_count": 195
        },
        {
          "output_type": "execute_result",
          "data": {
            "text/plain": [
              "<folium.vector_layers.CircleMarker at 0x7f037f434c40>"
            ]
          },
          "metadata": {},
          "execution_count": 195
        },
        {
          "output_type": "execute_result",
          "data": {
            "text/plain": [
              "<folium.vector_layers.CircleMarker at 0x7f037f434940>"
            ]
          },
          "metadata": {},
          "execution_count": 195
        },
        {
          "output_type": "execute_result",
          "data": {
            "text/plain": [
              "<folium.vector_layers.CircleMarker at 0x7f037be49dc0>"
            ]
          },
          "metadata": {},
          "execution_count": 195
        },
        {
          "output_type": "execute_result",
          "data": {
            "text/plain": [
              "<folium.vector_layers.CircleMarker at 0x7f037f434a30>"
            ]
          },
          "metadata": {},
          "execution_count": 195
        },
        {
          "output_type": "execute_result",
          "data": {
            "text/plain": [
              "<folium.vector_layers.CircleMarker at 0x7f037ec9deb0>"
            ]
          },
          "metadata": {},
          "execution_count": 195
        },
        {
          "output_type": "execute_result",
          "data": {
            "text/plain": [
              "<folium.vector_layers.CircleMarker at 0x7f03b59bc940>"
            ]
          },
          "metadata": {},
          "execution_count": 195
        },
        {
          "output_type": "execute_result",
          "data": {
            "text/plain": [
              "<folium.vector_layers.CircleMarker at 0x7f037b8b25b0>"
            ]
          },
          "metadata": {},
          "execution_count": 195
        },
        {
          "output_type": "execute_result",
          "data": {
            "text/plain": [
              "<folium.vector_layers.CircleMarker at 0x7f037bdc7d60>"
            ]
          },
          "metadata": {},
          "execution_count": 195
        },
        {
          "output_type": "execute_result",
          "data": {
            "text/plain": [
              "<folium.vector_layers.CircleMarker at 0x7f037bdc7eb0>"
            ]
          },
          "metadata": {},
          "execution_count": 195
        },
        {
          "output_type": "execute_result",
          "data": {
            "text/plain": [
              "<folium.vector_layers.CircleMarker at 0x7f037bdc7a90>"
            ]
          },
          "metadata": {},
          "execution_count": 195
        },
        {
          "output_type": "execute_result",
          "data": {
            "text/plain": [
              "<folium.vector_layers.CircleMarker at 0x7f037bdc7970>"
            ]
          },
          "metadata": {},
          "execution_count": 195
        },
        {
          "output_type": "execute_result",
          "data": {
            "text/plain": [
              "<folium.vector_layers.CircleMarker at 0x7f037bdc7d00>"
            ]
          },
          "metadata": {},
          "execution_count": 195
        },
        {
          "output_type": "execute_result",
          "data": {
            "text/plain": [
              "<folium.vector_layers.CircleMarker at 0x7f037b8c3c40>"
            ]
          },
          "metadata": {},
          "execution_count": 195
        },
        {
          "output_type": "execute_result",
          "data": {
            "text/plain": [
              "<folium.vector_layers.CircleMarker at 0x7f037f417790>"
            ]
          },
          "metadata": {},
          "execution_count": 195
        },
        {
          "output_type": "execute_result",
          "data": {
            "text/plain": [
              "<folium.vector_layers.CircleMarker at 0x7f037bdc7550>"
            ]
          },
          "metadata": {},
          "execution_count": 195
        },
        {
          "output_type": "execute_result",
          "data": {
            "text/plain": [
              "<folium.vector_layers.CircleMarker at 0x7f03b5873eb0>"
            ]
          },
          "metadata": {},
          "execution_count": 195
        },
        {
          "output_type": "execute_result",
          "data": {
            "text/plain": [
              "<folium.vector_layers.CircleMarker at 0x7f037bda4c40>"
            ]
          },
          "metadata": {},
          "execution_count": 195
        },
        {
          "output_type": "execute_result",
          "data": {
            "text/plain": [
              "<folium.vector_layers.CircleMarker at 0x7f037bda4970>"
            ]
          },
          "metadata": {},
          "execution_count": 195
        },
        {
          "output_type": "execute_result",
          "data": {
            "text/plain": [
              "<folium.vector_layers.CircleMarker at 0x7f037be5e9d0>"
            ]
          },
          "metadata": {},
          "execution_count": 195
        },
        {
          "output_type": "execute_result",
          "data": {
            "text/plain": [
              "<folium.vector_layers.CircleMarker at 0x7f037be5eaf0>"
            ]
          },
          "metadata": {},
          "execution_count": 195
        },
        {
          "output_type": "execute_result",
          "data": {
            "text/plain": [
              "<folium.vector_layers.CircleMarker at 0x7f037be5ec10>"
            ]
          },
          "metadata": {},
          "execution_count": 195
        },
        {
          "output_type": "execute_result",
          "data": {
            "text/plain": [
              "<folium.vector_layers.CircleMarker at 0x7f037be5ed30>"
            ]
          },
          "metadata": {},
          "execution_count": 195
        },
        {
          "output_type": "execute_result",
          "data": {
            "text/plain": [
              "<folium.vector_layers.CircleMarker at 0x7f037be5ee50>"
            ]
          },
          "metadata": {},
          "execution_count": 195
        },
        {
          "output_type": "execute_result",
          "data": {
            "text/plain": [
              "<folium.vector_layers.CircleMarker at 0x7f03b5ab1190>"
            ]
          },
          "metadata": {},
          "execution_count": 195
        },
        {
          "output_type": "execute_result",
          "data": {
            "text/plain": [
              "<folium.vector_layers.CircleMarker at 0x7f037be5e850>"
            ]
          },
          "metadata": {},
          "execution_count": 195
        },
        {
          "output_type": "execute_result",
          "data": {
            "text/plain": [
              "<folium.vector_layers.CircleMarker at 0x7f037bea21c0>"
            ]
          },
          "metadata": {},
          "execution_count": 195
        },
        {
          "output_type": "execute_result",
          "data": {
            "text/plain": [
              "<folium.vector_layers.CircleMarker at 0x7f037bea22e0>"
            ]
          },
          "metadata": {},
          "execution_count": 195
        },
        {
          "output_type": "execute_result",
          "data": {
            "text/plain": [
              "<folium.vector_layers.CircleMarker at 0x7f037bea2400>"
            ]
          },
          "metadata": {},
          "execution_count": 195
        },
        {
          "output_type": "execute_result",
          "data": {
            "text/plain": [
              "<folium.vector_layers.CircleMarker at 0x7f037bea2520>"
            ]
          },
          "metadata": {},
          "execution_count": 195
        },
        {
          "output_type": "execute_result",
          "data": {
            "text/plain": [
              "<folium.vector_layers.CircleMarker at 0x7f037bea2640>"
            ]
          },
          "metadata": {},
          "execution_count": 195
        },
        {
          "output_type": "execute_result",
          "data": {
            "text/plain": [
              "<folium.vector_layers.CircleMarker at 0x7f037bea2760>"
            ]
          },
          "metadata": {},
          "execution_count": 195
        },
        {
          "output_type": "execute_result",
          "data": {
            "text/plain": [
              "<folium.vector_layers.CircleMarker at 0x7f037bea2880>"
            ]
          },
          "metadata": {},
          "execution_count": 195
        },
        {
          "output_type": "execute_result",
          "data": {
            "text/plain": [
              "<folium.vector_layers.CircleMarker at 0x7f037bea29a0>"
            ]
          },
          "metadata": {},
          "execution_count": 195
        },
        {
          "output_type": "execute_result",
          "data": {
            "text/plain": [
              "<folium.vector_layers.CircleMarker at 0x7f037bea2ac0>"
            ]
          },
          "metadata": {},
          "execution_count": 195
        },
        {
          "output_type": "execute_result",
          "data": {
            "text/plain": [
              "<folium.vector_layers.CircleMarker at 0x7f037bea2be0>"
            ]
          },
          "metadata": {},
          "execution_count": 195
        },
        {
          "output_type": "execute_result",
          "data": {
            "text/plain": [
              "<folium.vector_layers.CircleMarker at 0x7f037bea2ca0>"
            ]
          },
          "metadata": {},
          "execution_count": 195
        },
        {
          "output_type": "execute_result",
          "data": {
            "text/plain": [
              "<folium.vector_layers.CircleMarker at 0x7f037bea2e20>"
            ]
          },
          "metadata": {},
          "execution_count": 195
        },
        {
          "output_type": "execute_result",
          "data": {
            "text/plain": [
              "<folium.vector_layers.CircleMarker at 0x7f037bea2f40>"
            ]
          },
          "metadata": {},
          "execution_count": 195
        },
        {
          "output_type": "execute_result",
          "data": {
            "text/plain": [
              "<folium.vector_layers.CircleMarker at 0x7f037be8d1c0>"
            ]
          },
          "metadata": {},
          "execution_count": 195
        },
        {
          "output_type": "execute_result",
          "data": {
            "text/plain": [
              "<folium.plugins.heat_map.HeatMap at 0x7f037be49d00>"
            ]
          },
          "metadata": {},
          "execution_count": 195
        },
        {
          "output_type": "execute_result",
          "data": {
            "text/plain": [
              "<folium.folium.Map at 0x7f037be49af0>"
            ],
            "text/html": [
              "<div style=\"width:100%;\"><div style=\"position:relative;width:100%;height:0;padding-bottom:60%;\"><span style=\"color:#565656\">Make this Notebook Trusted to load map: File -> Trust Notebook</span><iframe srcdoc=\"&lt;!DOCTYPE html&gt;\n",
              "&lt;html&gt;\n",
              "&lt;head&gt;\n",
              "    \n",
              "    &lt;meta http-equiv=&quot;content-type&quot; content=&quot;text/html; charset=UTF-8&quot; /&gt;\n",
              "    \n",
              "        &lt;script&gt;\n",
              "            L_NO_TOUCH = false;\n",
              "            L_DISABLE_3D = false;\n",
              "        &lt;/script&gt;\n",
              "    \n",
              "    &lt;style&gt;html, body {width: 100%;height: 100%;margin: 0;padding: 0;}&lt;/style&gt;\n",
              "    &lt;style&gt;#map {position:absolute;top:0;bottom:0;right:0;left:0;}&lt;/style&gt;\n",
              "    &lt;script src=&quot;https://cdn.jsdelivr.net/npm/leaflet@1.6.0/dist/leaflet.js&quot;&gt;&lt;/script&gt;\n",
              "    &lt;script src=&quot;https://code.jquery.com/jquery-1.12.4.min.js&quot;&gt;&lt;/script&gt;\n",
              "    &lt;script src=&quot;https://maxcdn.bootstrapcdn.com/bootstrap/3.2.0/js/bootstrap.min.js&quot;&gt;&lt;/script&gt;\n",
              "    &lt;script src=&quot;https://cdnjs.cloudflare.com/ajax/libs/Leaflet.awesome-markers/2.0.2/leaflet.awesome-markers.js&quot;&gt;&lt;/script&gt;\n",
              "    &lt;link rel=&quot;stylesheet&quot; href=&quot;https://cdn.jsdelivr.net/npm/leaflet@1.6.0/dist/leaflet.css&quot;/&gt;\n",
              "    &lt;link rel=&quot;stylesheet&quot; href=&quot;https://maxcdn.bootstrapcdn.com/bootstrap/3.2.0/css/bootstrap.min.css&quot;/&gt;\n",
              "    &lt;link rel=&quot;stylesheet&quot; href=&quot;https://maxcdn.bootstrapcdn.com/bootstrap/3.2.0/css/bootstrap-theme.min.css&quot;/&gt;\n",
              "    &lt;link rel=&quot;stylesheet&quot; href=&quot;https://maxcdn.bootstrapcdn.com/font-awesome/4.6.3/css/font-awesome.min.css&quot;/&gt;\n",
              "    &lt;link rel=&quot;stylesheet&quot; href=&quot;https://cdnjs.cloudflare.com/ajax/libs/Leaflet.awesome-markers/2.0.2/leaflet.awesome-markers.css&quot;/&gt;\n",
              "    &lt;link rel=&quot;stylesheet&quot; href=&quot;https://cdn.jsdelivr.net/gh/python-visualization/folium/folium/templates/leaflet.awesome.rotate.min.css&quot;/&gt;\n",
              "    \n",
              "            &lt;meta name=&quot;viewport&quot; content=&quot;width=device-width,\n",
              "                initial-scale=1.0, maximum-scale=1.0, user-scalable=no&quot; /&gt;\n",
              "            &lt;style&gt;\n",
              "                #map_59b01bb0066e07167728b2dca81aaec2 {\n",
              "                    position: relative;\n",
              "                    width: 100.0%;\n",
              "                    height: 100.0%;\n",
              "                    left: 0.0%;\n",
              "                    top: 0.0%;\n",
              "                }\n",
              "            &lt;/style&gt;\n",
              "        \n",
              "    &lt;script src=&quot;https://cdn.jsdelivr.net/gh/python-visualization/folium@master/folium/templates/leaflet_heat.min.js&quot;&gt;&lt;/script&gt;\n",
              "&lt;/head&gt;\n",
              "&lt;body&gt;\n",
              "    \n",
              "    \n",
              "            &lt;div class=&quot;folium-map&quot; id=&quot;map_59b01bb0066e07167728b2dca81aaec2&quot; &gt;&lt;/div&gt;\n",
              "        \n",
              "&lt;/body&gt;\n",
              "&lt;script&gt;\n",
              "    \n",
              "    \n",
              "            var map_59b01bb0066e07167728b2dca81aaec2 = L.map(\n",
              "                &quot;map_59b01bb0066e07167728b2dca81aaec2&quot;,\n",
              "                {\n",
              "                    center: [40.75, -73.97],\n",
              "                    crs: L.CRS.EPSG3857,\n",
              "                    zoom: 13,\n",
              "                    zoomControl: true,\n",
              "                    preferCanvas: false,\n",
              "                }\n",
              "            );\n",
              "\n",
              "            \n",
              "\n",
              "        \n",
              "    \n",
              "            var tile_layer_1e11f323b1eff24a0d52b4fbeaa43a50 = L.tileLayer(\n",
              "                &quot;https://{s}.tile.openstreetmap.org/{z}/{x}/{y}.png&quot;,\n",
              "                {&quot;attribution&quot;: &quot;Data by \\u0026copy; \\u003ca href=\\&quot;http://openstreetmap.org\\&quot;\\u003eOpenStreetMap\\u003c/a\\u003e, under \\u003ca href=\\&quot;http://www.openstreetmap.org/copyright\\&quot;\\u003eODbL\\u003c/a\\u003e.&quot;, &quot;detectRetina&quot;: false, &quot;maxNativeZoom&quot;: 18, &quot;maxZoom&quot;: 18, &quot;minZoom&quot;: 0, &quot;noWrap&quot;: false, &quot;opacity&quot;: 1, &quot;subdomains&quot;: &quot;abc&quot;, &quot;tms&quot;: false}\n",
              "            ).addTo(map_59b01bb0066e07167728b2dca81aaec2);\n",
              "        \n",
              "    \n",
              "            var circle_marker_f17aab1b897a279b84e1c2ec69da05ac = L.circleMarker(\n",
              "                [40.72972, -73.97995],\n",
              "                {&quot;bubblingMouseEvents&quot;: true, &quot;color&quot;: &quot;black&quot;, &quot;dashArray&quot;: null, &quot;dashOffset&quot;: null, &quot;fill&quot;: false, &quot;fillColor&quot;: &quot;black&quot;, &quot;fillOpacity&quot;: 0.2, &quot;fillRule&quot;: &quot;evenodd&quot;, &quot;lineCap&quot;: &quot;round&quot;, &quot;lineJoin&quot;: &quot;round&quot;, &quot;opacity&quot;: 1.0, &quot;radius&quot;: 3, &quot;stroke&quot;: true, &quot;weight&quot;: 3}\n",
              "            ).addTo(map_59b01bb0066e07167728b2dca81aaec2);\n",
              "        \n",
              "    \n",
              "        var popup_f3f96874404b8c689ec688421b17b6fa = L.popup({&quot;maxWidth&quot;: &quot;100%&quot;});\n",
              "\n",
              "        \n",
              "            var html_7bd7fb7d9984f76b20e040a63833875c = $(`&lt;div id=&quot;html_7bd7fb7d9984f76b20e040a63833875c&quot; style=&quot;width: 100.0%; height: 100.0%;&quot;&gt;166.0USD&lt;/div&gt;`)[0];\n",
              "            popup_f3f96874404b8c689ec688421b17b6fa.setContent(html_7bd7fb7d9984f76b20e040a63833875c);\n",
              "        \n",
              "\n",
              "        circle_marker_f17aab1b897a279b84e1c2ec69da05ac.bindPopup(popup_f3f96874404b8c689ec688421b17b6fa)\n",
              "        ;\n",
              "\n",
              "        \n",
              "    \n",
              "    \n",
              "            var circle_marker_ffda8af1b3a4158f3b546d9211bda989 = L.circleMarker(\n",
              "                [40.68039, -74.01729],\n",
              "                {&quot;bubblingMouseEvents&quot;: true, &quot;color&quot;: &quot;black&quot;, &quot;dashArray&quot;: null, &quot;dashOffset&quot;: null, &quot;fill&quot;: false, &quot;fillColor&quot;: &quot;black&quot;, &quot;fillOpacity&quot;: 0.2, &quot;fillRule&quot;: &quot;evenodd&quot;, &quot;lineCap&quot;: &quot;round&quot;, &quot;lineJoin&quot;: &quot;round&quot;, &quot;opacity&quot;: 1.0, &quot;radius&quot;: 3, &quot;stroke&quot;: true, &quot;weight&quot;: 3}\n",
              "            ).addTo(map_59b01bb0066e07167728b2dca81aaec2);\n",
              "        \n",
              "    \n",
              "        var popup_4fb88bf9593b0a511abe8ce20aceca61 = L.popup({&quot;maxWidth&quot;: &quot;100%&quot;});\n",
              "\n",
              "        \n",
              "            var html_3ec342c3271acddba65f04152b930286 = $(`&lt;div id=&quot;html_3ec342c3271acddba65f04152b930286&quot; style=&quot;width: 100.0%; height: 100.0%;&quot;&gt;137.0USD&lt;/div&gt;`)[0];\n",
              "            popup_4fb88bf9593b0a511abe8ce20aceca61.setContent(html_3ec342c3271acddba65f04152b930286);\n",
              "        \n",
              "\n",
              "        circle_marker_ffda8af1b3a4158f3b546d9211bda989.bindPopup(popup_4fb88bf9593b0a511abe8ce20aceca61)\n",
              "        ;\n",
              "\n",
              "        \n",
              "    \n",
              "    \n",
              "            var circle_marker_75f180ef64ce61c488d1ac7076b6ed8e = L.circleMarker(\n",
              "                [40.81617, -73.95371],\n",
              "                {&quot;bubblingMouseEvents&quot;: true, &quot;color&quot;: &quot;black&quot;, &quot;dashArray&quot;: null, &quot;dashOffset&quot;: null, &quot;fill&quot;: false, &quot;fillColor&quot;: &quot;black&quot;, &quot;fillOpacity&quot;: 0.2, &quot;fillRule&quot;: &quot;evenodd&quot;, &quot;lineCap&quot;: &quot;round&quot;, &quot;lineJoin&quot;: &quot;round&quot;, &quot;opacity&quot;: 1.0, &quot;radius&quot;: 3, &quot;stroke&quot;: true, &quot;weight&quot;: 3}\n",
              "            ).addTo(map_59b01bb0066e07167728b2dca81aaec2);\n",
              "        \n",
              "    \n",
              "        var popup_dd2e82f1fdc6dd62ad83dbabe0e6556e = L.popup({&quot;maxWidth&quot;: &quot;100%&quot;});\n",
              "\n",
              "        \n",
              "            var html_069af849a70ffc512503d30c3dffb4cc = $(`&lt;div id=&quot;html_069af849a70ffc512503d30c3dffb4cc&quot; style=&quot;width: 100.0%; height: 100.0%;&quot;&gt;949.0USD&lt;/div&gt;`)[0];\n",
              "            popup_dd2e82f1fdc6dd62ad83dbabe0e6556e.setContent(html_069af849a70ffc512503d30c3dffb4cc);\n",
              "        \n",
              "\n",
              "        circle_marker_75f180ef64ce61c488d1ac7076b6ed8e.bindPopup(popup_dd2e82f1fdc6dd62ad83dbabe0e6556e)\n",
              "        ;\n",
              "\n",
              "        \n",
              "    \n",
              "    \n",
              "            var circle_marker_94e7ae3307b437863467405eab8e2d5b = L.circleMarker(\n",
              "                [40.73418, -73.9893],\n",
              "                {&quot;bubblingMouseEvents&quot;: true, &quot;color&quot;: &quot;black&quot;, &quot;dashArray&quot;: null, &quot;dashOffset&quot;: null, &quot;fill&quot;: false, &quot;fillColor&quot;: &quot;black&quot;, &quot;fillOpacity&quot;: 0.2, &quot;fillRule&quot;: &quot;evenodd&quot;, &quot;lineCap&quot;: &quot;round&quot;, &quot;lineJoin&quot;: &quot;round&quot;, &quot;opacity&quot;: 1.0, &quot;radius&quot;: 3, &quot;stroke&quot;: true, &quot;weight&quot;: 3}\n",
              "            ).addTo(map_59b01bb0066e07167728b2dca81aaec2);\n",
              "        \n",
              "    \n",
              "        var popup_89ac270a3d28bad310bbb5ebce04167e = L.popup({&quot;maxWidth&quot;: &quot;100%&quot;});\n",
              "\n",
              "        \n",
              "            var html_3653cb1793f507bb5fde10b115143f64 = $(`&lt;div id=&quot;html_3653cb1793f507bb5fde10b115143f64&quot; style=&quot;width: 100.0%; height: 100.0%;&quot;&gt;112.0USD&lt;/div&gt;`)[0];\n",
              "            popup_89ac270a3d28bad310bbb5ebce04167e.setContent(html_3653cb1793f507bb5fde10b115143f64);\n",
              "        \n",
              "\n",
              "        circle_marker_94e7ae3307b437863467405eab8e2d5b.bindPopup(popup_89ac270a3d28bad310bbb5ebce04167e)\n",
              "        ;\n",
              "\n",
              "        \n",
              "    \n",
              "    \n",
              "            var circle_marker_1e2d692707f50203d823688dc79490a7 = L.circleMarker(\n",
              "                [40.80193, -73.97038],\n",
              "                {&quot;bubblingMouseEvents&quot;: true, &quot;color&quot;: &quot;black&quot;, &quot;dashArray&quot;: null, &quot;dashOffset&quot;: null, &quot;fill&quot;: false, &quot;fillColor&quot;: &quot;black&quot;, &quot;fillOpacity&quot;: 0.2, &quot;fillRule&quot;: &quot;evenodd&quot;, &quot;lineCap&quot;: &quot;round&quot;, &quot;lineJoin&quot;: &quot;round&quot;, &quot;opacity&quot;: 1.0, &quot;radius&quot;: 3, &quot;stroke&quot;: true, &quot;weight&quot;: 3}\n",
              "            ).addTo(map_59b01bb0066e07167728b2dca81aaec2);\n",
              "        \n",
              "    \n",
              "        var popup_6a82b8f9c55df7a4566eec5bf7cfcc08 = L.popup({&quot;maxWidth&quot;: &quot;100%&quot;});\n",
              "\n",
              "        \n",
              "            var html_d468deb830d865c3729df8075f5afbbd = $(`&lt;div id=&quot;html_d468deb830d865c3729df8075f5afbbd&quot; style=&quot;width: 100.0%; height: 100.0%;&quot;&gt;121.0USD&lt;/div&gt;`)[0];\n",
              "            popup_6a82b8f9c55df7a4566eec5bf7cfcc08.setContent(html_d468deb830d865c3729df8075f5afbbd);\n",
              "        \n",
              "\n",
              "        circle_marker_1e2d692707f50203d823688dc79490a7.bindPopup(popup_6a82b8f9c55df7a4566eec5bf7cfcc08)\n",
              "        ;\n",
              "\n",
              "        \n",
              "    \n",
              "    \n",
              "            var circle_marker_3fa6064d009f19a8e7a9aabea3eb27ab = L.circleMarker(\n",
              "                [40.65845, -73.96131],\n",
              "                {&quot;bubblingMouseEvents&quot;: true, &quot;color&quot;: &quot;black&quot;, &quot;dashArray&quot;: null, &quot;dashOffset&quot;: null, &quot;fill&quot;: false, &quot;fillColor&quot;: &quot;black&quot;, &quot;fillOpacity&quot;: 0.2, &quot;fillRule&quot;: &quot;evenodd&quot;, &quot;lineCap&quot;: &quot;round&quot;, &quot;lineJoin&quot;: &quot;round&quot;, &quot;opacity&quot;: 1.0, &quot;radius&quot;: 3, &quot;stroke&quot;: true, &quot;weight&quot;: 3}\n",
              "            ).addTo(map_59b01bb0066e07167728b2dca81aaec2);\n",
              "        \n",
              "    \n",
              "        var popup_ac5e9e1aee0df4b82859375c676d2e60 = L.popup({&quot;maxWidth&quot;: &quot;100%&quot;});\n",
              "\n",
              "        \n",
              "            var html_20d764ca32792c5061588708743a2a77 = $(`&lt;div id=&quot;html_20d764ca32792c5061588708743a2a77&quot; style=&quot;width: 100.0%; height: 100.0%;&quot;&gt;347.0USD&lt;/div&gt;`)[0];\n",
              "            popup_ac5e9e1aee0df4b82859375c676d2e60.setContent(html_20d764ca32792c5061588708743a2a77);\n",
              "        \n",
              "\n",
              "        circle_marker_3fa6064d009f19a8e7a9aabea3eb27ab.bindPopup(popup_ac5e9e1aee0df4b82859375c676d2e60)\n",
              "        ;\n",
              "\n",
              "        \n",
              "    \n",
              "    \n",
              "            var circle_marker_ac763901c1789af50589043db43aad20 = L.circleMarker(\n",
              "                [40.78115, -73.90883],\n",
              "                {&quot;bubblingMouseEvents&quot;: true, &quot;color&quot;: &quot;black&quot;, &quot;dashArray&quot;: null, &quot;dashOffset&quot;: null, &quot;fill&quot;: false, &quot;fillColor&quot;: &quot;black&quot;, &quot;fillOpacity&quot;: 0.2, &quot;fillRule&quot;: &quot;evenodd&quot;, &quot;lineCap&quot;: &quot;round&quot;, &quot;lineJoin&quot;: &quot;round&quot;, &quot;opacity&quot;: 1.0, &quot;radius&quot;: 3, &quot;stroke&quot;: true, &quot;weight&quot;: 3}\n",
              "            ).addTo(map_59b01bb0066e07167728b2dca81aaec2);\n",
              "        \n",
              "    \n",
              "        var popup_c9a6137fa736093d6399c46b0f060bb7 = L.popup({&quot;maxWidth&quot;: &quot;100%&quot;});\n",
              "\n",
              "        \n",
              "            var html_93cb940c5f4549190dd0a75702af5a3c = $(`&lt;div id=&quot;html_93cb940c5f4549190dd0a75702af5a3c&quot; style=&quot;width: 100.0%; height: 100.0%;&quot;&gt;152.0USD&lt;/div&gt;`)[0];\n",
              "            popup_c9a6137fa736093d6399c46b0f060bb7.setContent(html_93cb940c5f4549190dd0a75702af5a3c);\n",
              "        \n",
              "\n",
              "        circle_marker_ac763901c1789af50589043db43aad20.bindPopup(popup_c9a6137fa736093d6399c46b0f060bb7)\n",
              "        ;\n",
              "\n",
              "        \n",
              "    \n",
              "    \n",
              "            var circle_marker_c2e4300d3717cd563a7c00ac3effeeb7 = L.circleMarker(\n",
              "                [40.72689, -74.00086],\n",
              "                {&quot;bubblingMouseEvents&quot;: true, &quot;color&quot;: &quot;black&quot;, &quot;dashArray&quot;: null, &quot;dashOffset&quot;: null, &quot;fill&quot;: false, &quot;fillColor&quot;: &quot;black&quot;, &quot;fillOpacity&quot;: 0.2, &quot;fillRule&quot;: &quot;evenodd&quot;, &quot;lineCap&quot;: &quot;round&quot;, &quot;lineJoin&quot;: &quot;round&quot;, &quot;opacity&quot;: 1.0, &quot;radius&quot;: 3, &quot;stroke&quot;: true, &quot;weight&quot;: 3}\n",
              "            ).addTo(map_59b01bb0066e07167728b2dca81aaec2);\n",
              "        \n",
              "    \n",
              "        var popup_212c62e8318df0460423a00c81fec124 = L.popup({&quot;maxWidth&quot;: &quot;100%&quot;});\n",
              "\n",
              "        \n",
              "            var html_24fbcd52cdcea104dea62d63a00cf3e8 = $(`&lt;div id=&quot;html_24fbcd52cdcea104dea62d63a00cf3e8&quot; style=&quot;width: 100.0%; height: 100.0%;&quot;&gt;1082.0USD&lt;/div&gt;`)[0];\n",
              "            popup_212c62e8318df0460423a00c81fec124.setContent(html_24fbcd52cdcea104dea62d63a00cf3e8);\n",
              "        \n",
              "\n",
              "        circle_marker_c2e4300d3717cd563a7c00ac3effeeb7.bindPopup(popup_212c62e8318df0460423a00c81fec124)\n",
              "        ;\n",
              "\n",
              "        \n",
              "    \n",
              "    \n",
              "            var circle_marker_c66227d165b877b4a06804d8731f5dde = L.circleMarker(\n",
              "                [40.85177, -73.93652],\n",
              "                {&quot;bubblingMouseEvents&quot;: true, &quot;color&quot;: &quot;black&quot;, &quot;dashArray&quot;: null, &quot;dashOffset&quot;: null, &quot;fill&quot;: false, &quot;fillColor&quot;: &quot;black&quot;, &quot;fillOpacity&quot;: 0.2, &quot;fillRule&quot;: &quot;evenodd&quot;, &quot;lineCap&quot;: &quot;round&quot;, &quot;lineJoin&quot;: &quot;round&quot;, &quot;opacity&quot;: 1.0, &quot;radius&quot;: 3, &quot;stroke&quot;: true, &quot;weight&quot;: 3}\n",
              "            ).addTo(map_59b01bb0066e07167728b2dca81aaec2);\n",
              "        \n",
              "    \n",
              "        var popup_d64c1b152f700b5e07a5fdd74c700fac = L.popup({&quot;maxWidth&quot;: &quot;100%&quot;});\n",
              "\n",
              "        \n",
              "            var html_746274e229633fecf95cf034418cd804 = $(`&lt;div id=&quot;html_746274e229633fecf95cf034418cd804&quot; style=&quot;width: 100.0%; height: 100.0%;&quot;&gt;315.0USD&lt;/div&gt;`)[0];\n",
              "            popup_d64c1b152f700b5e07a5fdd74c700fac.setContent(html_746274e229633fecf95cf034418cd804);\n",
              "        \n",
              "\n",
              "        circle_marker_c66227d165b877b4a06804d8731f5dde.bindPopup(popup_d64c1b152f700b5e07a5fdd74c700fac)\n",
              "        ;\n",
              "\n",
              "        \n",
              "    \n",
              "    \n",
              "            var circle_marker_7e885a074731a2186b67264b250a3ae1 = L.circleMarker(\n",
              "                [40.72009, -73.98631],\n",
              "                {&quot;bubblingMouseEvents&quot;: true, &quot;color&quot;: &quot;black&quot;, &quot;dashArray&quot;: null, &quot;dashOffset&quot;: null, &quot;fill&quot;: false, &quot;fillColor&quot;: &quot;black&quot;, &quot;fillOpacity&quot;: 0.2, &quot;fillRule&quot;: &quot;evenodd&quot;, &quot;lineCap&quot;: &quot;round&quot;, &quot;lineJoin&quot;: &quot;round&quot;, &quot;opacity&quot;: 1.0, &quot;radius&quot;: 3, &quot;stroke&quot;: true, &quot;weight&quot;: 3}\n",
              "            ).addTo(map_59b01bb0066e07167728b2dca81aaec2);\n",
              "        \n",
              "    \n",
              "        var popup_32548f73b5b7726ca4a4f2642448c238 = L.popup({&quot;maxWidth&quot;: &quot;100%&quot;});\n",
              "\n",
              "        \n",
              "            var html_a6977f96038ff85520cc0e43afc3c5ca = $(`&lt;div id=&quot;html_a6977f96038ff85520cc0e43afc3c5ca&quot; style=&quot;width: 100.0%; height: 100.0%;&quot;&gt;143.0USD&lt;/div&gt;`)[0];\n",
              "            popup_32548f73b5b7726ca4a4f2642448c238.setContent(html_a6977f96038ff85520cc0e43afc3c5ca);\n",
              "        \n",
              "\n",
              "        circle_marker_7e885a074731a2186b67264b250a3ae1.bindPopup(popup_32548f73b5b7726ca4a4f2642448c238)\n",
              "        ;\n",
              "\n",
              "        \n",
              "    \n",
              "    \n",
              "            var circle_marker_ebdcd8560320267ada1740fed2d92b95 = L.circleMarker(\n",
              "                [40.65656, -73.95572],\n",
              "                {&quot;bubblingMouseEvents&quot;: true, &quot;color&quot;: &quot;black&quot;, &quot;dashArray&quot;: null, &quot;dashOffset&quot;: null, &quot;fill&quot;: false, &quot;fillColor&quot;: &quot;black&quot;, &quot;fillOpacity&quot;: 0.2, &quot;fillRule&quot;: &quot;evenodd&quot;, &quot;lineCap&quot;: &quot;round&quot;, &quot;lineJoin&quot;: &quot;round&quot;, &quot;opacity&quot;: 1.0, &quot;radius&quot;: 3, &quot;stroke&quot;: true, &quot;weight&quot;: 3}\n",
              "            ).addTo(map_59b01bb0066e07167728b2dca81aaec2);\n",
              "        \n",
              "    \n",
              "        var popup_df1bf0d104e0239b303ed74509c5984a = L.popup({&quot;maxWidth&quot;: &quot;100%&quot;});\n",
              "\n",
              "        \n",
              "            var html_3764849af84d49ffbacaa446688eaacd = $(`&lt;div id=&quot;html_3764849af84d49ffbacaa446688eaacd&quot; style=&quot;width: 100.0%; height: 100.0%;&quot;&gt;274.0USD&lt;/div&gt;`)[0];\n",
              "            popup_df1bf0d104e0239b303ed74509c5984a.setContent(html_3764849af84d49ffbacaa446688eaacd);\n",
              "        \n",
              "\n",
              "        circle_marker_ebdcd8560320267ada1740fed2d92b95.bindPopup(popup_df1bf0d104e0239b303ed74509c5984a)\n",
              "        ;\n",
              "\n",
              "        \n",
              "    \n",
              "    \n",
              "            var circle_marker_f873b59ac42f9f491a60c32a95703de8 = L.circleMarker(\n",
              "                [40.69154, -73.93094],\n",
              "                {&quot;bubblingMouseEvents&quot;: true, &quot;color&quot;: &quot;black&quot;, &quot;dashArray&quot;: null, &quot;dashOffset&quot;: null, &quot;fill&quot;: false, &quot;fillColor&quot;: &quot;black&quot;, &quot;fillOpacity&quot;: 0.2, &quot;fillRule&quot;: &quot;evenodd&quot;, &quot;lineCap&quot;: &quot;round&quot;, &quot;lineJoin&quot;: &quot;round&quot;, &quot;opacity&quot;: 1.0, &quot;radius&quot;: 3, &quot;stroke&quot;: true, &quot;weight&quot;: 3}\n",
              "            ).addTo(map_59b01bb0066e07167728b2dca81aaec2);\n",
              "        \n",
              "    \n",
              "        var popup_228f792b64d4f58fa7265828d94a6b99 = L.popup({&quot;maxWidth&quot;: &quot;100%&quot;});\n",
              "\n",
              "        \n",
              "            var html_59a562c79a8df523a708c2b0c1f2e834 = $(`&lt;div id=&quot;html_59a562c79a8df523a708c2b0c1f2e834&quot; style=&quot;width: 100.0%; height: 100.0%;&quot;&gt;573.0USD&lt;/div&gt;`)[0];\n",
              "            popup_228f792b64d4f58fa7265828d94a6b99.setContent(html_59a562c79a8df523a708c2b0c1f2e834);\n",
              "        \n",
              "\n",
              "        circle_marker_f873b59ac42f9f491a60c32a95703de8.bindPopup(popup_228f792b64d4f58fa7265828d94a6b99)\n",
              "        ;\n",
              "\n",
              "        \n",
              "    \n",
              "    \n",
              "            var circle_marker_1b7f3d3b2a5c8abaf52b97264ce80989 = L.circleMarker(\n",
              "                [40.69025, -73.91251],\n",
              "                {&quot;bubblingMouseEvents&quot;: true, &quot;color&quot;: &quot;black&quot;, &quot;dashArray&quot;: null, &quot;dashOffset&quot;: null, &quot;fill&quot;: false, &quot;fillColor&quot;: &quot;black&quot;, &quot;fillOpacity&quot;: 0.2, &quot;fillRule&quot;: &quot;evenodd&quot;, &quot;lineCap&quot;: &quot;round&quot;, &quot;lineJoin&quot;: &quot;round&quot;, &quot;opacity&quot;: 1.0, &quot;radius&quot;: 3, &quot;stroke&quot;: true, &quot;weight&quot;: 3}\n",
              "            ).addTo(map_59b01bb0066e07167728b2dca81aaec2);\n",
              "        \n",
              "    \n",
              "        var popup_32fcdc91ee4919d49afee4194e551609 = L.popup({&quot;maxWidth&quot;: &quot;100%&quot;});\n",
              "\n",
              "        \n",
              "            var html_a8f4e62c32e5b4c648fa547716679cfd = $(`&lt;div id=&quot;html_a8f4e62c32e5b4c648fa547716679cfd&quot; style=&quot;width: 100.0%; height: 100.0%;&quot;&gt;1189.0USD&lt;/div&gt;`)[0];\n",
              "            popup_32fcdc91ee4919d49afee4194e551609.setContent(html_a8f4e62c32e5b4c648fa547716679cfd);\n",
              "        \n",
              "\n",
              "        circle_marker_1b7f3d3b2a5c8abaf52b97264ce80989.bindPopup(popup_32fcdc91ee4919d49afee4194e551609)\n",
              "        ;\n",
              "\n",
              "        \n",
              "    \n",
              "    \n",
              "            var circle_marker_03085a6dc42130000f6755461783e13d = L.circleMarker(\n",
              "                [40.72468, -73.9783],\n",
              "                {&quot;bubblingMouseEvents&quot;: true, &quot;color&quot;: &quot;black&quot;, &quot;dashArray&quot;: null, &quot;dashOffset&quot;: null, &quot;fill&quot;: false, &quot;fillColor&quot;: &quot;black&quot;, &quot;fillOpacity&quot;: 0.2, &quot;fillRule&quot;: &quot;evenodd&quot;, &quot;lineCap&quot;: &quot;round&quot;, &quot;lineJoin&quot;: &quot;round&quot;, &quot;opacity&quot;: 1.0, &quot;radius&quot;: 3, &quot;stroke&quot;: true, &quot;weight&quot;: 3}\n",
              "            ).addTo(map_59b01bb0066e07167728b2dca81aaec2);\n",
              "        \n",
              "    \n",
              "        var popup_c54e8f03e26b18f6d457226e52c12651 = L.popup({&quot;maxWidth&quot;: &quot;100%&quot;});\n",
              "\n",
              "        \n",
              "            var html_b0ab6489218d396b74c86d65824f4f8c = $(`&lt;div id=&quot;html_b0ab6489218d396b74c86d65824f4f8c&quot; style=&quot;width: 100.0%; height: 100.0%;&quot;&gt;462.0USD&lt;/div&gt;`)[0];\n",
              "            popup_c54e8f03e26b18f6d457226e52c12651.setContent(html_b0ab6489218d396b74c86d65824f4f8c);\n",
              "        \n",
              "\n",
              "        circle_marker_03085a6dc42130000f6755461783e13d.bindPopup(popup_c54e8f03e26b18f6d457226e52c12651)\n",
              "        ;\n",
              "\n",
              "        \n",
              "    \n",
              "    \n",
              "            var circle_marker_1584eaf60136400c7d83331628cc8f94 = L.circleMarker(\n",
              "                [40.67034, -73.95169],\n",
              "                {&quot;bubblingMouseEvents&quot;: true, &quot;color&quot;: &quot;black&quot;, &quot;dashArray&quot;: null, &quot;dashOffset&quot;: null, &quot;fill&quot;: false, &quot;fillColor&quot;: &quot;black&quot;, &quot;fillOpacity&quot;: 0.2, &quot;fillRule&quot;: &quot;evenodd&quot;, &quot;lineCap&quot;: &quot;round&quot;, &quot;lineJoin&quot;: &quot;round&quot;, &quot;opacity&quot;: 1.0, &quot;radius&quot;: 3, &quot;stroke&quot;: true, &quot;weight&quot;: 3}\n",
              "            ).addTo(map_59b01bb0066e07167728b2dca81aaec2);\n",
              "        \n",
              "    \n",
              "        var popup_a6e8241dd0857ee0bdf10b5708db91ea = L.popup({&quot;maxWidth&quot;: &quot;100%&quot;});\n",
              "\n",
              "        \n",
              "            var html_4191aa0312c1dfb1aca26c7dba05fd33 = $(`&lt;div id=&quot;html_4191aa0312c1dfb1aca26c7dba05fd33&quot; style=&quot;width: 100.0%; height: 100.0%;&quot;&gt;979.0USD&lt;/div&gt;`)[0];\n",
              "            popup_a6e8241dd0857ee0bdf10b5708db91ea.setContent(html_4191aa0312c1dfb1aca26c7dba05fd33);\n",
              "        \n",
              "\n",
              "        circle_marker_1584eaf60136400c7d83331628cc8f94.bindPopup(popup_a6e8241dd0857ee0bdf10b5708db91ea)\n",
              "        ;\n",
              "\n",
              "        \n",
              "    \n",
              "    \n",
              "            var circle_marker_d84c32f264ecd88f524c34b09a274626 = L.circleMarker(\n",
              "                [40.76617, -73.98398],\n",
              "                {&quot;bubblingMouseEvents&quot;: true, &quot;color&quot;: &quot;black&quot;, &quot;dashArray&quot;: null, &quot;dashOffset&quot;: null, &quot;fill&quot;: false, &quot;fillColor&quot;: &quot;black&quot;, &quot;fillOpacity&quot;: 0.2, &quot;fillRule&quot;: &quot;evenodd&quot;, &quot;lineCap&quot;: &quot;round&quot;, &quot;lineJoin&quot;: &quot;round&quot;, &quot;opacity&quot;: 1.0, &quot;radius&quot;: 3, &quot;stroke&quot;: true, &quot;weight&quot;: 3}\n",
              "            ).addTo(map_59b01bb0066e07167728b2dca81aaec2);\n",
              "        \n",
              "    \n",
              "        var popup_a1b61e467b6541328310b4c02dda177d = L.popup({&quot;maxWidth&quot;: &quot;100%&quot;});\n",
              "\n",
              "        \n",
              "            var html_10f0df225056bfc37d6bc4842c363adb = $(`&lt;div id=&quot;html_10f0df225056bfc37d6bc4842c363adb&quot; style=&quot;width: 100.0%; height: 100.0%;&quot;&gt;55.0USD&lt;/div&gt;`)[0];\n",
              "            popup_a1b61e467b6541328310b4c02dda177d.setContent(html_10f0df225056bfc37d6bc4842c363adb);\n",
              "        \n",
              "\n",
              "        circle_marker_d84c32f264ecd88f524c34b09a274626.bindPopup(popup_a1b61e467b6541328310b4c02dda177d)\n",
              "        ;\n",
              "\n",
              "        \n",
              "    \n",
              "    \n",
              "            var circle_marker_a3816999efd6370a5ff3260657793edd = L.circleMarker(\n",
              "                [40.74982, -73.8061],\n",
              "                {&quot;bubblingMouseEvents&quot;: true, &quot;color&quot;: &quot;black&quot;, &quot;dashArray&quot;: null, &quot;dashOffset&quot;: null, &quot;fill&quot;: false, &quot;fillColor&quot;: &quot;black&quot;, &quot;fillOpacity&quot;: 0.2, &quot;fillRule&quot;: &quot;evenodd&quot;, &quot;lineCap&quot;: &quot;round&quot;, &quot;lineJoin&quot;: &quot;round&quot;, &quot;opacity&quot;: 1.0, &quot;radius&quot;: 3, &quot;stroke&quot;: true, &quot;weight&quot;: 3}\n",
              "            ).addTo(map_59b01bb0066e07167728b2dca81aaec2);\n",
              "        \n",
              "    \n",
              "        var popup_9b3f476a730b5a892a0e2eb0b0973603 = L.popup({&quot;maxWidth&quot;: &quot;100%&quot;});\n",
              "\n",
              "        \n",
              "            var html_e697a2d28cec0f75978b1a00df4b00e3 = $(`&lt;div id=&quot;html_e697a2d28cec0f75978b1a00df4b00e3&quot; style=&quot;width: 100.0%; height: 100.0%;&quot;&gt;1042.0USD&lt;/div&gt;`)[0];\n",
              "            popup_9b3f476a730b5a892a0e2eb0b0973603.setContent(html_e697a2d28cec0f75978b1a00df4b00e3);\n",
              "        \n",
              "\n",
              "        circle_marker_a3816999efd6370a5ff3260657793edd.bindPopup(popup_9b3f476a730b5a892a0e2eb0b0973603)\n",
              "        ;\n",
              "\n",
              "        \n",
              "    \n",
              "    \n",
              "            var circle_marker_9dc2c25b328e88e2c72c77bbae9b1132 = L.circleMarker(\n",
              "                [40.72066, -73.99229],\n",
              "                {&quot;bubblingMouseEvents&quot;: true, &quot;color&quot;: &quot;black&quot;, &quot;dashArray&quot;: null, &quot;dashOffset&quot;: null, &quot;fill&quot;: false, &quot;fillColor&quot;: &quot;black&quot;, &quot;fillOpacity&quot;: 0.2, &quot;fillRule&quot;: &quot;evenodd&quot;, &quot;lineCap&quot;: &quot;round&quot;, &quot;lineJoin&quot;: &quot;round&quot;, &quot;opacity&quot;: 1.0, &quot;radius&quot;: 3, &quot;stroke&quot;: true, &quot;weight&quot;: 3}\n",
              "            ).addTo(map_59b01bb0066e07167728b2dca81aaec2);\n",
              "        \n",
              "    \n",
              "        var popup_2eb8c3ab2c641f60e91548dc5a35167e = L.popup({&quot;maxWidth&quot;: &quot;100%&quot;});\n",
              "\n",
              "        \n",
              "            var html_ea0eed80613ce3a00aeecd541253dbe3 = $(`&lt;div id=&quot;html_ea0eed80613ce3a00aeecd541253dbe3&quot; style=&quot;width: 100.0%; height: 100.0%;&quot;&gt;967.0USD&lt;/div&gt;`)[0];\n",
              "            popup_2eb8c3ab2c641f60e91548dc5a35167e.setContent(html_ea0eed80613ce3a00aeecd541253dbe3);\n",
              "        \n",
              "\n",
              "        circle_marker_9dc2c25b328e88e2c72c77bbae9b1132.bindPopup(popup_2eb8c3ab2c641f60e91548dc5a35167e)\n",
              "        ;\n",
              "\n",
              "        \n",
              "    \n",
              "    \n",
              "            var circle_marker_1928733cc38053081708496434812e5e = L.circleMarker(\n",
              "                [40.79957, -73.96902],\n",
              "                {&quot;bubblingMouseEvents&quot;: true, &quot;color&quot;: &quot;black&quot;, &quot;dashArray&quot;: null, &quot;dashOffset&quot;: null, &quot;fill&quot;: false, &quot;fillColor&quot;: &quot;black&quot;, &quot;fillOpacity&quot;: 0.2, &quot;fillRule&quot;: &quot;evenodd&quot;, &quot;lineCap&quot;: &quot;round&quot;, &quot;lineJoin&quot;: &quot;round&quot;, &quot;opacity&quot;: 1.0, &quot;radius&quot;: 3, &quot;stroke&quot;: true, &quot;weight&quot;: 3}\n",
              "            ).addTo(map_59b01bb0066e07167728b2dca81aaec2);\n",
              "        \n",
              "    \n",
              "        var popup_326dec518a0c4efd1514f03ae087761c = L.popup({&quot;maxWidth&quot;: &quot;100%&quot;});\n",
              "\n",
              "        \n",
              "            var html_378a546cfee651a42b36fa40775af3ff = $(`&lt;div id=&quot;html_378a546cfee651a42b36fa40775af3ff&quot; style=&quot;width: 100.0%; height: 100.0%;&quot;&gt;345.0USD&lt;/div&gt;`)[0];\n",
              "            popup_326dec518a0c4efd1514f03ae087761c.setContent(html_378a546cfee651a42b36fa40775af3ff);\n",
              "        \n",
              "\n",
              "        circle_marker_1928733cc38053081708496434812e5e.bindPopup(popup_326dec518a0c4efd1514f03ae087761c)\n",
              "        ;\n",
              "\n",
              "        \n",
              "    \n",
              "    \n",
              "            var circle_marker_8126d79da77267d16eff90f7b76279bc = L.circleMarker(\n",
              "                [40.67859, -73.97787],\n",
              "                {&quot;bubblingMouseEvents&quot;: true, &quot;color&quot;: &quot;black&quot;, &quot;dashArray&quot;: null, &quot;dashOffset&quot;: null, &quot;fill&quot;: false, &quot;fillColor&quot;: &quot;black&quot;, &quot;fillOpacity&quot;: 0.2, &quot;fillRule&quot;: &quot;evenodd&quot;, &quot;lineCap&quot;: &quot;round&quot;, &quot;lineJoin&quot;: &quot;round&quot;, &quot;opacity&quot;: 1.0, &quot;radius&quot;: 3, &quot;stroke&quot;: true, &quot;weight&quot;: 3}\n",
              "            ).addTo(map_59b01bb0066e07167728b2dca81aaec2);\n",
              "        \n",
              "    \n",
              "        var popup_30cf0a7e2c1899ab71cc80f140d8586c = L.popup({&quot;maxWidth&quot;: &quot;100%&quot;});\n",
              "\n",
              "        \n",
              "            var html_10729c86ea7c3356733c8fa7c1a4e717 = $(`&lt;div id=&quot;html_10729c86ea7c3356733c8fa7c1a4e717&quot; style=&quot;width: 100.0%; height: 100.0%;&quot;&gt;1167.0USD&lt;/div&gt;`)[0];\n",
              "            popup_30cf0a7e2c1899ab71cc80f140d8586c.setContent(html_10729c86ea7c3356733c8fa7c1a4e717);\n",
              "        \n",
              "\n",
              "        circle_marker_8126d79da77267d16eff90f7b76279bc.bindPopup(popup_30cf0a7e2c1899ab71cc80f140d8586c)\n",
              "        ;\n",
              "\n",
              "        \n",
              "    \n",
              "    \n",
              "            var circle_marker_94ea21ddf127ca53b7195ba5cb544e25 = L.circleMarker(\n",
              "                [40.721, -73.98186],\n",
              "                {&quot;bubblingMouseEvents&quot;: true, &quot;color&quot;: &quot;black&quot;, &quot;dashArray&quot;: null, &quot;dashOffset&quot;: null, &quot;fill&quot;: false, &quot;fillColor&quot;: &quot;black&quot;, &quot;fillOpacity&quot;: 0.2, &quot;fillRule&quot;: &quot;evenodd&quot;, &quot;lineCap&quot;: &quot;round&quot;, &quot;lineJoin&quot;: &quot;round&quot;, &quot;opacity&quot;: 1.0, &quot;radius&quot;: 3, &quot;stroke&quot;: true, &quot;weight&quot;: 3}\n",
              "            ).addTo(map_59b01bb0066e07167728b2dca81aaec2);\n",
              "        \n",
              "    \n",
              "        var popup_11c63c4120ac9e12cad0f589aea6da94 = L.popup({&quot;maxWidth&quot;: &quot;100%&quot;});\n",
              "\n",
              "        \n",
              "            var html_d4016589cf7cb498b25145228ac53de9 = $(`&lt;div id=&quot;html_d4016589cf7cb498b25145228ac53de9&quot; style=&quot;width: 100.0%; height: 100.0%;&quot;&gt;679.0USD&lt;/div&gt;`)[0];\n",
              "            popup_11c63c4120ac9e12cad0f589aea6da94.setContent(html_d4016589cf7cb498b25145228ac53de9);\n",
              "        \n",
              "\n",
              "        circle_marker_94ea21ddf127ca53b7195ba5cb544e25.bindPopup(popup_11c63c4120ac9e12cad0f589aea6da94)\n",
              "        ;\n",
              "\n",
              "        \n",
              "    \n",
              "    \n",
              "            var circle_marker_f4b1b59ff3a4f0928227ff3def9ef670 = L.circleMarker(\n",
              "                [40.72764, -73.993],\n",
              "                {&quot;bubblingMouseEvents&quot;: true, &quot;color&quot;: &quot;black&quot;, &quot;dashArray&quot;: null, &quot;dashOffset&quot;: null, &quot;fill&quot;: false, &quot;fillColor&quot;: &quot;black&quot;, &quot;fillOpacity&quot;: 0.2, &quot;fillRule&quot;: &quot;evenodd&quot;, &quot;lineCap&quot;: &quot;round&quot;, &quot;lineJoin&quot;: &quot;round&quot;, &quot;opacity&quot;: 1.0, &quot;radius&quot;: 3, &quot;stroke&quot;: true, &quot;weight&quot;: 3}\n",
              "            ).addTo(map_59b01bb0066e07167728b2dca81aaec2);\n",
              "        \n",
              "    \n",
              "        var popup_3a36489f59b742385c12b550bdbff634 = L.popup({&quot;maxWidth&quot;: &quot;100%&quot;});\n",
              "\n",
              "        \n",
              "            var html_0fc0a6d37e12d5fcb61df41dca1a2fd1 = $(`&lt;div id=&quot;html_0fc0a6d37e12d5fcb61df41dca1a2fd1&quot; style=&quot;width: 100.0%; height: 100.0%;&quot;&gt;55.0USD&lt;/div&gt;`)[0];\n",
              "            popup_3a36489f59b742385c12b550bdbff634.setContent(html_0fc0a6d37e12d5fcb61df41dca1a2fd1);\n",
              "        \n",
              "\n",
              "        circle_marker_f4b1b59ff3a4f0928227ff3def9ef670.bindPopup(popup_3a36489f59b742385c12b550bdbff634)\n",
              "        ;\n",
              "\n",
              "        \n",
              "    \n",
              "    \n",
              "            var circle_marker_89daa50ee47c9f85fc699063574b63a2 = L.circleMarker(\n",
              "                [40.78009, -73.95929],\n",
              "                {&quot;bubblingMouseEvents&quot;: true, &quot;color&quot;: &quot;black&quot;, &quot;dashArray&quot;: null, &quot;dashOffset&quot;: null, &quot;fill&quot;: false, &quot;fillColor&quot;: &quot;black&quot;, &quot;fillOpacity&quot;: 0.2, &quot;fillRule&quot;: &quot;evenodd&quot;, &quot;lineCap&quot;: &quot;round&quot;, &quot;lineJoin&quot;: &quot;round&quot;, &quot;opacity&quot;: 1.0, &quot;radius&quot;: 3, &quot;stroke&quot;: true, &quot;weight&quot;: 3}\n",
              "            ).addTo(map_59b01bb0066e07167728b2dca81aaec2);\n",
              "        \n",
              "    \n",
              "        var popup_9b467db351fc6d95c3e39cd39e408d6e = L.popup({&quot;maxWidth&quot;: &quot;100%&quot;});\n",
              "\n",
              "        \n",
              "            var html_2cc2e58d04f7576acc9dfefcb0c3d460 = $(`&lt;div id=&quot;html_2cc2e58d04f7576acc9dfefcb0c3d460&quot; style=&quot;width: 100.0%; height: 100.0%;&quot;&gt;1141.0USD&lt;/div&gt;`)[0];\n",
              "            popup_9b467db351fc6d95c3e39cd39e408d6e.setContent(html_2cc2e58d04f7576acc9dfefcb0c3d460);\n",
              "        \n",
              "\n",
              "        circle_marker_89daa50ee47c9f85fc699063574b63a2.bindPopup(popup_9b467db351fc6d95c3e39cd39e408d6e)\n",
              "        ;\n",
              "\n",
              "        \n",
              "    \n",
              "    \n",
              "            var circle_marker_563280a4015afe45a2b00b050818f77e = L.circleMarker(\n",
              "                [40.69164, -73.99055],\n",
              "                {&quot;bubblingMouseEvents&quot;: true, &quot;color&quot;: &quot;black&quot;, &quot;dashArray&quot;: null, &quot;dashOffset&quot;: null, &quot;fill&quot;: false, &quot;fillColor&quot;: &quot;black&quot;, &quot;fillOpacity&quot;: 0.2, &quot;fillRule&quot;: &quot;evenodd&quot;, &quot;lineCap&quot;: &quot;round&quot;, &quot;lineJoin&quot;: &quot;round&quot;, &quot;opacity&quot;: 1.0, &quot;radius&quot;: 3, &quot;stroke&quot;: true, &quot;weight&quot;: 3}\n",
              "            ).addTo(map_59b01bb0066e07167728b2dca81aaec2);\n",
              "        \n",
              "    \n",
              "        var popup_faa871f0ea5679a9481fa70ff750bf52 = L.popup({&quot;maxWidth&quot;: &quot;100%&quot;});\n",
              "\n",
              "        \n",
              "            var html_3d3435b779086a1312a315a0d5c442ba = $(`&lt;div id=&quot;html_3d3435b779086a1312a315a0d5c442ba&quot; style=&quot;width: 100.0%; height: 100.0%;&quot;&gt;971.0USD&lt;/div&gt;`)[0];\n",
              "            popup_faa871f0ea5679a9481fa70ff750bf52.setContent(html_3d3435b779086a1312a315a0d5c442ba);\n",
              "        \n",
              "\n",
              "        circle_marker_563280a4015afe45a2b00b050818f77e.bindPopup(popup_faa871f0ea5679a9481fa70ff750bf52)\n",
              "        ;\n",
              "\n",
              "        \n",
              "    \n",
              "    \n",
              "            var circle_marker_9af6ba78c3bf516e4e5f2db594474335 = L.circleMarker(\n",
              "                [40.66036, -73.98494],\n",
              "                {&quot;bubblingMouseEvents&quot;: true, &quot;color&quot;: &quot;black&quot;, &quot;dashArray&quot;: null, &quot;dashOffset&quot;: null, &quot;fill&quot;: false, &quot;fillColor&quot;: &quot;black&quot;, &quot;fillOpacity&quot;: 0.2, &quot;fillRule&quot;: &quot;evenodd&quot;, &quot;lineCap&quot;: &quot;round&quot;, &quot;lineJoin&quot;: &quot;round&quot;, &quot;opacity&quot;: 1.0, &quot;radius&quot;: 3, &quot;stroke&quot;: true, &quot;weight&quot;: 3}\n",
              "            ).addTo(map_59b01bb0066e07167728b2dca81aaec2);\n",
              "        \n",
              "    \n",
              "        var popup_00a3765851cfd26bca47cc5456cb63bf = L.popup({&quot;maxWidth&quot;: &quot;100%&quot;});\n",
              "\n",
              "        \n",
              "            var html_21d9e7258c43f5deccef1c1715f22833 = $(`&lt;div id=&quot;html_21d9e7258c43f5deccef1c1715f22833&quot; style=&quot;width: 100.0%; height: 100.0%;&quot;&gt;551.0USD&lt;/div&gt;`)[0];\n",
              "            popup_00a3765851cfd26bca47cc5456cb63bf.setContent(html_21d9e7258c43f5deccef1c1715f22833);\n",
              "        \n",
              "\n",
              "        circle_marker_9af6ba78c3bf516e4e5f2db594474335.bindPopup(popup_00a3765851cfd26bca47cc5456cb63bf)\n",
              "        ;\n",
              "\n",
              "        \n",
              "    \n",
              "    \n",
              "            var circle_marker_5a8e654bd25291e8dc91cfb206db1570 = L.circleMarker(\n",
              "                [40.75406, -73.92095],\n",
              "                {&quot;bubblingMouseEvents&quot;: true, &quot;color&quot;: &quot;black&quot;, &quot;dashArray&quot;: null, &quot;dashOffset&quot;: null, &quot;fill&quot;: false, &quot;fillColor&quot;: &quot;black&quot;, &quot;fillOpacity&quot;: 0.2, &quot;fillRule&quot;: &quot;evenodd&quot;, &quot;lineCap&quot;: &quot;round&quot;, &quot;lineJoin&quot;: &quot;round&quot;, &quot;opacity&quot;: 1.0, &quot;radius&quot;: 3, &quot;stroke&quot;: true, &quot;weight&quot;: 3}\n",
              "            ).addTo(map_59b01bb0066e07167728b2dca81aaec2);\n",
              "        \n",
              "    \n",
              "        var popup_38022031ce65b20462fb4978952581e9 = L.popup({&quot;maxWidth&quot;: &quot;100%&quot;});\n",
              "\n",
              "        \n",
              "            var html_d7e744eb085585ad54ed01407dbe23b9 = $(`&lt;div id=&quot;html_d7e744eb085585ad54ed01407dbe23b9&quot; style=&quot;width: 100.0%; height: 100.0%;&quot;&gt;974.0USD&lt;/div&gt;`)[0];\n",
              "            popup_38022031ce65b20462fb4978952581e9.setContent(html_d7e744eb085585ad54ed01407dbe23b9);\n",
              "        \n",
              "\n",
              "        circle_marker_5a8e654bd25291e8dc91cfb206db1570.bindPopup(popup_38022031ce65b20462fb4978952581e9)\n",
              "        ;\n",
              "\n",
              "        \n",
              "    \n",
              "    \n",
              "            var circle_marker_9c55a425cccbbccf790356eaec51860f = L.circleMarker(\n",
              "                [40.8024, -73.96496],\n",
              "                {&quot;bubblingMouseEvents&quot;: true, &quot;color&quot;: &quot;black&quot;, &quot;dashArray&quot;: null, &quot;dashOffset&quot;: null, &quot;fill&quot;: false, &quot;fillColor&quot;: &quot;black&quot;, &quot;fillOpacity&quot;: 0.2, &quot;fillRule&quot;: &quot;evenodd&quot;, &quot;lineCap&quot;: &quot;round&quot;, &quot;lineJoin&quot;: &quot;round&quot;, &quot;opacity&quot;: 1.0, &quot;radius&quot;: 3, &quot;stroke&quot;: true, &quot;weight&quot;: 3}\n",
              "            ).addTo(map_59b01bb0066e07167728b2dca81aaec2);\n",
              "        \n",
              "    \n",
              "        var popup_bf1149fafc79ad3a92e493ee0bccbf73 = L.popup({&quot;maxWidth&quot;: &quot;100%&quot;});\n",
              "\n",
              "        \n",
              "            var html_f8854000cb91107ab52081a5548896e7 = $(`&lt;div id=&quot;html_f8854000cb91107ab52081a5548896e7&quot; style=&quot;width: 100.0%; height: 100.0%;&quot;&gt;928.0USD&lt;/div&gt;`)[0];\n",
              "            popup_bf1149fafc79ad3a92e493ee0bccbf73.setContent(html_f8854000cb91107ab52081a5548896e7);\n",
              "        \n",
              "\n",
              "        circle_marker_9c55a425cccbbccf790356eaec51860f.bindPopup(popup_bf1149fafc79ad3a92e493ee0bccbf73)\n",
              "        ;\n",
              "\n",
              "        \n",
              "    \n",
              "    \n",
              "            var circle_marker_b3b725919d706887f111fb515dcd9df8 = L.circleMarker(\n",
              "                [40.73341, -74.00444],\n",
              "                {&quot;bubblingMouseEvents&quot;: true, &quot;color&quot;: &quot;black&quot;, &quot;dashArray&quot;: null, &quot;dashOffset&quot;: null, &quot;fill&quot;: false, &quot;fillColor&quot;: &quot;black&quot;, &quot;fillOpacity&quot;: 0.2, &quot;fillRule&quot;: &quot;evenodd&quot;, &quot;lineCap&quot;: &quot;round&quot;, &quot;lineJoin&quot;: &quot;round&quot;, &quot;opacity&quot;: 1.0, &quot;radius&quot;: 3, &quot;stroke&quot;: true, &quot;weight&quot;: 3}\n",
              "            ).addTo(map_59b01bb0066e07167728b2dca81aaec2);\n",
              "        \n",
              "    \n",
              "        var popup_18eedc37c55ad2384894bdcb86ff0386 = L.popup({&quot;maxWidth&quot;: &quot;100%&quot;});\n",
              "\n",
              "        \n",
              "            var html_a16c37ac51a563e340e58570ec723873 = $(`&lt;div id=&quot;html_a16c37ac51a563e340e58570ec723873&quot; style=&quot;width: 100.0%; height: 100.0%;&quot;&gt;1015.0USD&lt;/div&gt;`)[0];\n",
              "            popup_18eedc37c55ad2384894bdcb86ff0386.setContent(html_a16c37ac51a563e340e58570ec723873);\n",
              "        \n",
              "\n",
              "        circle_marker_b3b725919d706887f111fb515dcd9df8.bindPopup(popup_18eedc37c55ad2384894bdcb86ff0386)\n",
              "        ;\n",
              "\n",
              "        \n",
              "    \n",
              "    \n",
              "            var circle_marker_a6480b05db103b81c013ede3200bea4b = L.circleMarker(\n",
              "                [40.69929, -73.93602],\n",
              "                {&quot;bubblingMouseEvents&quot;: true, &quot;color&quot;: &quot;black&quot;, &quot;dashArray&quot;: null, &quot;dashOffset&quot;: null, &quot;fill&quot;: false, &quot;fillColor&quot;: &quot;black&quot;, &quot;fillOpacity&quot;: 0.2, &quot;fillRule&quot;: &quot;evenodd&quot;, &quot;lineCap&quot;: &quot;round&quot;, &quot;lineJoin&quot;: &quot;round&quot;, &quot;opacity&quot;: 1.0, &quot;radius&quot;: 3, &quot;stroke&quot;: true, &quot;weight&quot;: 3}\n",
              "            ).addTo(map_59b01bb0066e07167728b2dca81aaec2);\n",
              "        \n",
              "    \n",
              "        var popup_d5bb0574735e07b316259cf41249ba41 = L.popup({&quot;maxWidth&quot;: &quot;100%&quot;});\n",
              "\n",
              "        \n",
              "            var html_058817d77d9bdb7f60d24ad13bb1afca = $(`&lt;div id=&quot;html_058817d77d9bdb7f60d24ad13bb1afca&quot; style=&quot;width: 100.0%; height: 100.0%;&quot;&gt;564.0USD&lt;/div&gt;`)[0];\n",
              "            popup_d5bb0574735e07b316259cf41249ba41.setContent(html_058817d77d9bdb7f60d24ad13bb1afca);\n",
              "        \n",
              "\n",
              "        circle_marker_a6480b05db103b81c013ede3200bea4b.bindPopup(popup_d5bb0574735e07b316259cf41249ba41)\n",
              "        ;\n",
              "\n",
              "        \n",
              "    \n",
              "    \n",
              "            var circle_marker_647a1199210ec1d65720b4e18c7234a1 = L.circleMarker(\n",
              "                [40.73424, -73.99355],\n",
              "                {&quot;bubblingMouseEvents&quot;: true, &quot;color&quot;: &quot;black&quot;, &quot;dashArray&quot;: null, &quot;dashOffset&quot;: null, &quot;fill&quot;: false, &quot;fillColor&quot;: &quot;black&quot;, &quot;fillOpacity&quot;: 0.2, &quot;fillRule&quot;: &quot;evenodd&quot;, &quot;lineCap&quot;: &quot;round&quot;, &quot;lineJoin&quot;: &quot;round&quot;, &quot;opacity&quot;: 1.0, &quot;radius&quot;: 3, &quot;stroke&quot;: true, &quot;weight&quot;: 3}\n",
              "            ).addTo(map_59b01bb0066e07167728b2dca81aaec2);\n",
              "        \n",
              "    \n",
              "        var popup_d8aa11a9bbaba47d9afb7592c98ba851 = L.popup({&quot;maxWidth&quot;: &quot;100%&quot;});\n",
              "\n",
              "        \n",
              "            var html_3a10af6225a4d58be0bce40ab37fb18b = $(`&lt;div id=&quot;html_3a10af6225a4d58be0bce40ab37fb18b&quot; style=&quot;width: 100.0%; height: 100.0%;&quot;&gt;215.0USD&lt;/div&gt;`)[0];\n",
              "            popup_d8aa11a9bbaba47d9afb7592c98ba851.setContent(html_3a10af6225a4d58be0bce40ab37fb18b);\n",
              "        \n",
              "\n",
              "        circle_marker_647a1199210ec1d65720b4e18c7234a1.bindPopup(popup_d8aa11a9bbaba47d9afb7592c98ba851)\n",
              "        ;\n",
              "\n",
              "        \n",
              "    \n",
              "    \n",
              "            var circle_marker_9a6088826f0d0826476aa60cf62e8b82 = L.circleMarker(\n",
              "                [40.71867, -73.96163],\n",
              "                {&quot;bubblingMouseEvents&quot;: true, &quot;color&quot;: &quot;black&quot;, &quot;dashArray&quot;: null, &quot;dashOffset&quot;: null, &quot;fill&quot;: false, &quot;fillColor&quot;: &quot;black&quot;, &quot;fillOpacity&quot;: 0.2, &quot;fillRule&quot;: &quot;evenodd&quot;, &quot;lineCap&quot;: &quot;round&quot;, &quot;lineJoin&quot;: &quot;round&quot;, &quot;opacity&quot;: 1.0, &quot;radius&quot;: 3, &quot;stroke&quot;: true, &quot;weight&quot;: 3}\n",
              "            ).addTo(map_59b01bb0066e07167728b2dca81aaec2);\n",
              "        \n",
              "    \n",
              "        var popup_75296bec54a2f2e2f2a937b20664c611 = L.popup({&quot;maxWidth&quot;: &quot;100%&quot;});\n",
              "\n",
              "        \n",
              "            var html_8aeff72d2017d2b86f2732d0b6794a13 = $(`&lt;div id=&quot;html_8aeff72d2017d2b86f2732d0b6794a13&quot; style=&quot;width: 100.0%; height: 100.0%;&quot;&gt;1142.0USD&lt;/div&gt;`)[0];\n",
              "            popup_75296bec54a2f2e2f2a937b20664c611.setContent(html_8aeff72d2017d2b86f2732d0b6794a13);\n",
              "        \n",
              "\n",
              "        circle_marker_9a6088826f0d0826476aa60cf62e8b82.bindPopup(popup_75296bec54a2f2e2f2a937b20664c611)\n",
              "        ;\n",
              "\n",
              "        \n",
              "    \n",
              "    \n",
              "            var circle_marker_e3ac98ea567f47bbf3ea0f43f5002cd3 = L.circleMarker(\n",
              "                [40.72028, -73.98794],\n",
              "                {&quot;bubblingMouseEvents&quot;: true, &quot;color&quot;: &quot;black&quot;, &quot;dashArray&quot;: null, &quot;dashOffset&quot;: null, &quot;fill&quot;: false, &quot;fillColor&quot;: &quot;black&quot;, &quot;fillOpacity&quot;: 0.2, &quot;fillRule&quot;: &quot;evenodd&quot;, &quot;lineCap&quot;: &quot;round&quot;, &quot;lineJoin&quot;: &quot;round&quot;, &quot;opacity&quot;: 1.0, &quot;radius&quot;: 3, &quot;stroke&quot;: true, &quot;weight&quot;: 3}\n",
              "            ).addTo(map_59b01bb0066e07167728b2dca81aaec2);\n",
              "        \n",
              "    \n",
              "        var popup_bea0f942677628c2b593d509fc397fe7 = L.popup({&quot;maxWidth&quot;: &quot;100%&quot;});\n",
              "\n",
              "        \n",
              "            var html_8a98e6c309149526c3a8158655c03f62 = $(`&lt;div id=&quot;html_8a98e6c309149526c3a8158655c03f62&quot; style=&quot;width: 100.0%; height: 100.0%;&quot;&gt;429.0USD&lt;/div&gt;`)[0];\n",
              "            popup_bea0f942677628c2b593d509fc397fe7.setContent(html_8a98e6c309149526c3a8158655c03f62);\n",
              "        \n",
              "\n",
              "        circle_marker_e3ac98ea567f47bbf3ea0f43f5002cd3.bindPopup(popup_bea0f942677628c2b593d509fc397fe7)\n",
              "        ;\n",
              "\n",
              "        \n",
              "    \n",
              "    \n",
              "            var circle_marker_eab46d33052fee3758e2a548d4336063 = L.circleMarker(\n",
              "                [40.83266, -73.9414],\n",
              "                {&quot;bubblingMouseEvents&quot;: true, &quot;color&quot;: &quot;black&quot;, &quot;dashArray&quot;: null, &quot;dashOffset&quot;: null, &quot;fill&quot;: false, &quot;fillColor&quot;: &quot;black&quot;, &quot;fillOpacity&quot;: 0.2, &quot;fillRule&quot;: &quot;evenodd&quot;, &quot;lineCap&quot;: &quot;round&quot;, &quot;lineJoin&quot;: &quot;round&quot;, &quot;opacity&quot;: 1.0, &quot;radius&quot;: 3, &quot;stroke&quot;: true, &quot;weight&quot;: 3}\n",
              "            ).addTo(map_59b01bb0066e07167728b2dca81aaec2);\n",
              "        \n",
              "    \n",
              "        var popup_451c01c51b25f5351eb5d1ccb7858e5a = L.popup({&quot;maxWidth&quot;: &quot;100%&quot;});\n",
              "\n",
              "        \n",
              "            var html_d5bd70a75f36cde116c4d1c7efe0ff79 = $(`&lt;div id=&quot;html_d5bd70a75f36cde116c4d1c7efe0ff79&quot; style=&quot;width: 100.0%; height: 100.0%;&quot;&gt;429.0USD&lt;/div&gt;`)[0];\n",
              "            popup_451c01c51b25f5351eb5d1ccb7858e5a.setContent(html_d5bd70a75f36cde116c4d1c7efe0ff79);\n",
              "        \n",
              "\n",
              "        circle_marker_eab46d33052fee3758e2a548d4336063.bindPopup(popup_451c01c51b25f5351eb5d1ccb7858e5a)\n",
              "        ;\n",
              "\n",
              "        \n",
              "    \n",
              "    \n",
              "            var circle_marker_aab0d3034a768ae05cab7eadb351c4c3 = L.circleMarker(\n",
              "                [40.67648, -73.93881],\n",
              "                {&quot;bubblingMouseEvents&quot;: true, &quot;color&quot;: &quot;black&quot;, &quot;dashArray&quot;: null, &quot;dashOffset&quot;: null, &quot;fill&quot;: false, &quot;fillColor&quot;: &quot;black&quot;, &quot;fillOpacity&quot;: 0.2, &quot;fillRule&quot;: &quot;evenodd&quot;, &quot;lineCap&quot;: &quot;round&quot;, &quot;lineJoin&quot;: &quot;round&quot;, &quot;opacity&quot;: 1.0, &quot;radius&quot;: 3, &quot;stroke&quot;: true, &quot;weight&quot;: 3}\n",
              "            ).addTo(map_59b01bb0066e07167728b2dca81aaec2);\n",
              "        \n",
              "    \n",
              "        var popup_3729f7f27fde42cb4d432e4320fa13dd = L.popup({&quot;maxWidth&quot;: &quot;100%&quot;});\n",
              "\n",
              "        \n",
              "            var html_044d9798585200b013fa6679213d12f8 = $(`&lt;div id=&quot;html_044d9798585200b013fa6679213d12f8&quot; style=&quot;width: 100.0%; height: 100.0%;&quot;&gt;344.0USD&lt;/div&gt;`)[0];\n",
              "            popup_3729f7f27fde42cb4d432e4320fa13dd.setContent(html_044d9798585200b013fa6679213d12f8);\n",
              "        \n",
              "\n",
              "        circle_marker_aab0d3034a768ae05cab7eadb351c4c3.bindPopup(popup_3729f7f27fde42cb4d432e4320fa13dd)\n",
              "        ;\n",
              "\n",
              "        \n",
              "    \n",
              "    \n",
              "            var circle_marker_1b36d2f42020ae6c1c1e902fdbdc42de = L.circleMarker(\n",
              "                [40.76579, -73.87732],\n",
              "                {&quot;bubblingMouseEvents&quot;: true, &quot;color&quot;: &quot;black&quot;, &quot;dashArray&quot;: null, &quot;dashOffset&quot;: null, &quot;fill&quot;: false, &quot;fillColor&quot;: &quot;black&quot;, &quot;fillOpacity&quot;: 0.2, &quot;fillRule&quot;: &quot;evenodd&quot;, &quot;lineCap&quot;: &quot;round&quot;, &quot;lineJoin&quot;: &quot;round&quot;, &quot;opacity&quot;: 1.0, &quot;radius&quot;: 3, &quot;stroke&quot;: true, &quot;weight&quot;: 3}\n",
              "            ).addTo(map_59b01bb0066e07167728b2dca81aaec2);\n",
              "        \n",
              "    \n",
              "        var popup_4ef5367d7dc9e9c221af2f545ec5a9b1 = L.popup({&quot;maxWidth&quot;: &quot;100%&quot;});\n",
              "\n",
              "        \n",
              "            var html_a782ce85ed920444035cc48f6e02fe2b = $(`&lt;div id=&quot;html_a782ce85ed920444035cc48f6e02fe2b&quot; style=&quot;width: 100.0%; height: 100.0%;&quot;&gt;922.0USD&lt;/div&gt;`)[0];\n",
              "            popup_4ef5367d7dc9e9c221af2f545ec5a9b1.setContent(html_a782ce85ed920444035cc48f6e02fe2b);\n",
              "        \n",
              "\n",
              "        circle_marker_1b36d2f42020ae6c1c1e902fdbdc42de.bindPopup(popup_4ef5367d7dc9e9c221af2f545ec5a9b1)\n",
              "        ;\n",
              "\n",
              "        \n",
              "    \n",
              "    \n",
              "            var circle_marker_995b3064bc9178572a45b55746178643 = L.circleMarker(\n",
              "                [40.69102, -73.90783],\n",
              "                {&quot;bubblingMouseEvents&quot;: true, &quot;color&quot;: &quot;black&quot;, &quot;dashArray&quot;: null, &quot;dashOffset&quot;: null, &quot;fill&quot;: false, &quot;fillColor&quot;: &quot;black&quot;, &quot;fillOpacity&quot;: 0.2, &quot;fillRule&quot;: &quot;evenodd&quot;, &quot;lineCap&quot;: &quot;round&quot;, &quot;lineJoin&quot;: &quot;round&quot;, &quot;opacity&quot;: 1.0, &quot;radius&quot;: 3, &quot;stroke&quot;: true, &quot;weight&quot;: 3}\n",
              "            ).addTo(map_59b01bb0066e07167728b2dca81aaec2);\n",
              "        \n",
              "    \n",
              "        var popup_4aca6fa6583264c4612fc782bbe0c0ed = L.popup({&quot;maxWidth&quot;: &quot;100%&quot;});\n",
              "\n",
              "        \n",
              "            var html_726155ecd1f9b8f60a36e9c2b57f0742 = $(`&lt;div id=&quot;html_726155ecd1f9b8f60a36e9c2b57f0742&quot; style=&quot;width: 100.0%; height: 100.0%;&quot;&gt;438.0USD&lt;/div&gt;`)[0];\n",
              "            popup_4aca6fa6583264c4612fc782bbe0c0ed.setContent(html_726155ecd1f9b8f60a36e9c2b57f0742);\n",
              "        \n",
              "\n",
              "        circle_marker_995b3064bc9178572a45b55746178643.bindPopup(popup_4aca6fa6583264c4612fc782bbe0c0ed)\n",
              "        ;\n",
              "\n",
              "        \n",
              "    \n",
              "    \n",
              "            var circle_marker_b66cb152dd11d82c61b2394e79ae428b = L.circleMarker(\n",
              "                [40.74537, -73.83252],\n",
              "                {&quot;bubblingMouseEvents&quot;: true, &quot;color&quot;: &quot;black&quot;, &quot;dashArray&quot;: null, &quot;dashOffset&quot;: null, &quot;fill&quot;: false, &quot;fillColor&quot;: &quot;black&quot;, &quot;fillOpacity&quot;: 0.2, &quot;fillRule&quot;: &quot;evenodd&quot;, &quot;lineCap&quot;: &quot;round&quot;, &quot;lineJoin&quot;: &quot;round&quot;, &quot;opacity&quot;: 1.0, &quot;radius&quot;: 3, &quot;stroke&quot;: true, &quot;weight&quot;: 3}\n",
              "            ).addTo(map_59b01bb0066e07167728b2dca81aaec2);\n",
              "        \n",
              "    \n",
              "        var popup_2affee1da2e912b893ad8c24ce68212f = L.popup({&quot;maxWidth&quot;: &quot;100%&quot;});\n",
              "\n",
              "        \n",
              "            var html_1c2b9eee31572671c381aba95286119e = $(`&lt;div id=&quot;html_1c2b9eee31572671c381aba95286119e&quot; style=&quot;width: 100.0%; height: 100.0%;&quot;&gt;452.0USD&lt;/div&gt;`)[0];\n",
              "            popup_2affee1da2e912b893ad8c24ce68212f.setContent(html_1c2b9eee31572671c381aba95286119e);\n",
              "        \n",
              "\n",
              "        circle_marker_b66cb152dd11d82c61b2394e79ae428b.bindPopup(popup_2affee1da2e912b893ad8c24ce68212f)\n",
              "        ;\n",
              "\n",
              "        \n",
              "    \n",
              "    \n",
              "            var circle_marker_b4238f67ad0a21717cbe98acb773b53b = L.circleMarker(\n",
              "                [40.71219, -73.96537],\n",
              "                {&quot;bubblingMouseEvents&quot;: true, &quot;color&quot;: &quot;black&quot;, &quot;dashArray&quot;: null, &quot;dashOffset&quot;: null, &quot;fill&quot;: false, &quot;fillColor&quot;: &quot;black&quot;, &quot;fillOpacity&quot;: 0.2, &quot;fillRule&quot;: &quot;evenodd&quot;, &quot;lineCap&quot;: &quot;round&quot;, &quot;lineJoin&quot;: &quot;round&quot;, &quot;opacity&quot;: 1.0, &quot;radius&quot;: 3, &quot;stroke&quot;: true, &quot;weight&quot;: 3}\n",
              "            ).addTo(map_59b01bb0066e07167728b2dca81aaec2);\n",
              "        \n",
              "    \n",
              "        var popup_0cbe681381c8e80ead0ea8fc87c7694a = L.popup({&quot;maxWidth&quot;: &quot;100%&quot;});\n",
              "\n",
              "        \n",
              "            var html_52de0ef8a60a47581155d3ecebb30145 = $(`&lt;div id=&quot;html_52de0ef8a60a47581155d3ecebb30145&quot; style=&quot;width: 100.0%; height: 100.0%;&quot;&gt;75.0USD&lt;/div&gt;`)[0];\n",
              "            popup_0cbe681381c8e80ead0ea8fc87c7694a.setContent(html_52de0ef8a60a47581155d3ecebb30145);\n",
              "        \n",
              "\n",
              "        circle_marker_b4238f67ad0a21717cbe98acb773b53b.bindPopup(popup_0cbe681381c8e80ead0ea8fc87c7694a)\n",
              "        ;\n",
              "\n",
              "        \n",
              "    \n",
              "    \n",
              "            var circle_marker_f013bbc2e5cb420818d3245774e9856f = L.circleMarker(\n",
              "                [40.64518, -74.08166],\n",
              "                {&quot;bubblingMouseEvents&quot;: true, &quot;color&quot;: &quot;black&quot;, &quot;dashArray&quot;: null, &quot;dashOffset&quot;: null, &quot;fill&quot;: false, &quot;fillColor&quot;: &quot;black&quot;, &quot;fillOpacity&quot;: 0.2, &quot;fillRule&quot;: &quot;evenodd&quot;, &quot;lineCap&quot;: &quot;round&quot;, &quot;lineJoin&quot;: &quot;round&quot;, &quot;opacity&quot;: 1.0, &quot;radius&quot;: 3, &quot;stroke&quot;: true, &quot;weight&quot;: 3}\n",
              "            ).addTo(map_59b01bb0066e07167728b2dca81aaec2);\n",
              "        \n",
              "    \n",
              "        var popup_5e0904c209850f96f1f7f791a8722644 = L.popup({&quot;maxWidth&quot;: &quot;100%&quot;});\n",
              "\n",
              "        \n",
              "            var html_a419ac2891bf45a889e2f1049e531cc2 = $(`&lt;div id=&quot;html_a419ac2891bf45a889e2f1049e531cc2&quot; style=&quot;width: 100.0%; height: 100.0%;&quot;&gt;234.0USD&lt;/div&gt;`)[0];\n",
              "            popup_5e0904c209850f96f1f7f791a8722644.setContent(html_a419ac2891bf45a889e2f1049e531cc2);\n",
              "        \n",
              "\n",
              "        circle_marker_f013bbc2e5cb420818d3245774e9856f.bindPopup(popup_5e0904c209850f96f1f7f791a8722644)\n",
              "        ;\n",
              "\n",
              "        \n",
              "    \n",
              "    \n",
              "            var circle_marker_bfc9dc621056aaf63c90d09cb69621e7 = L.circleMarker(\n",
              "                [40.68158, -73.96612],\n",
              "                {&quot;bubblingMouseEvents&quot;: true, &quot;color&quot;: &quot;black&quot;, &quot;dashArray&quot;: null, &quot;dashOffset&quot;: null, &quot;fill&quot;: false, &quot;fillColor&quot;: &quot;black&quot;, &quot;fillOpacity&quot;: 0.2, &quot;fillRule&quot;: &quot;evenodd&quot;, &quot;lineCap&quot;: &quot;round&quot;, &quot;lineJoin&quot;: &quot;round&quot;, &quot;opacity&quot;: 1.0, &quot;radius&quot;: 3, &quot;stroke&quot;: true, &quot;weight&quot;: 3}\n",
              "            ).addTo(map_59b01bb0066e07167728b2dca81aaec2);\n",
              "        \n",
              "    \n",
              "        var popup_fe6100bda1a5c9f222890db3dfe098fe = L.popup({&quot;maxWidth&quot;: &quot;100%&quot;});\n",
              "\n",
              "        \n",
              "            var html_37399f771d136042b7404df8e22b4b33 = $(`&lt;div id=&quot;html_37399f771d136042b7404df8e22b4b33&quot; style=&quot;width: 100.0%; height: 100.0%;&quot;&gt;257.0USD&lt;/div&gt;`)[0];\n",
              "            popup_fe6100bda1a5c9f222890db3dfe098fe.setContent(html_37399f771d136042b7404df8e22b4b33);\n",
              "        \n",
              "\n",
              "        circle_marker_bfc9dc621056aaf63c90d09cb69621e7.bindPopup(popup_fe6100bda1a5c9f222890db3dfe098fe)\n",
              "        ;\n",
              "\n",
              "        \n",
              "    \n",
              "    \n",
              "            var circle_marker_3dbf5a2a88ab275642a081f226a84120 = L.circleMarker(\n",
              "                [40.67932, -73.96482],\n",
              "                {&quot;bubblingMouseEvents&quot;: true, &quot;color&quot;: &quot;black&quot;, &quot;dashArray&quot;: null, &quot;dashOffset&quot;: null, &quot;fill&quot;: false, &quot;fillColor&quot;: &quot;black&quot;, &quot;fillOpacity&quot;: 0.2, &quot;fillRule&quot;: &quot;evenodd&quot;, &quot;lineCap&quot;: &quot;round&quot;, &quot;lineJoin&quot;: &quot;round&quot;, &quot;opacity&quot;: 1.0, &quot;radius&quot;: 3, &quot;stroke&quot;: true, &quot;weight&quot;: 3}\n",
              "            ).addTo(map_59b01bb0066e07167728b2dca81aaec2);\n",
              "        \n",
              "    \n",
              "        var popup_3487cf5578cc92acdb744b848a38c923 = L.popup({&quot;maxWidth&quot;: &quot;100%&quot;});\n",
              "\n",
              "        \n",
              "            var html_569b14a4d11cbe046321eb43ee567967 = $(`&lt;div id=&quot;html_569b14a4d11cbe046321eb43ee567967&quot; style=&quot;width: 100.0%; height: 100.0%;&quot;&gt;414.0USD&lt;/div&gt;`)[0];\n",
              "            popup_3487cf5578cc92acdb744b848a38c923.setContent(html_569b14a4d11cbe046321eb43ee567967);\n",
              "        \n",
              "\n",
              "        circle_marker_3dbf5a2a88ab275642a081f226a84120.bindPopup(popup_3487cf5578cc92acdb744b848a38c923)\n",
              "        ;\n",
              "\n",
              "        \n",
              "    \n",
              "    \n",
              "            var circle_marker_8e7e2f4ec182d2876a1aadb32c829771 = L.circleMarker(\n",
              "                [40.67267, -73.98348],\n",
              "                {&quot;bubblingMouseEvents&quot;: true, &quot;color&quot;: &quot;black&quot;, &quot;dashArray&quot;: null, &quot;dashOffset&quot;: null, &quot;fill&quot;: false, &quot;fillColor&quot;: &quot;black&quot;, &quot;fillOpacity&quot;: 0.2, &quot;fillRule&quot;: &quot;evenodd&quot;, &quot;lineCap&quot;: &quot;round&quot;, &quot;lineJoin&quot;: &quot;round&quot;, &quot;opacity&quot;: 1.0, &quot;radius&quot;: 3, &quot;stroke&quot;: true, &quot;weight&quot;: 3}\n",
              "            ).addTo(map_59b01bb0066e07167728b2dca81aaec2);\n",
              "        \n",
              "    \n",
              "        var popup_894e28e3f0df7c5260fa655510f48255 = L.popup({&quot;maxWidth&quot;: &quot;100%&quot;});\n",
              "\n",
              "        \n",
              "            var html_7e03c420110ea4f6dde240e19e1b5de7 = $(`&lt;div id=&quot;html_7e03c420110ea4f6dde240e19e1b5de7&quot; style=&quot;width: 100.0%; height: 100.0%;&quot;&gt;236.0USD&lt;/div&gt;`)[0];\n",
              "            popup_894e28e3f0df7c5260fa655510f48255.setContent(html_7e03c420110ea4f6dde240e19e1b5de7);\n",
              "        \n",
              "\n",
              "        circle_marker_8e7e2f4ec182d2876a1aadb32c829771.bindPopup(popup_894e28e3f0df7c5260fa655510f48255)\n",
              "        ;\n",
              "\n",
              "        \n",
              "    \n",
              "    \n",
              "            var circle_marker_1f87cc259b12231e6553086162549469 = L.circleMarker(\n",
              "                [40.71256, -73.95695],\n",
              "                {&quot;bubblingMouseEvents&quot;: true, &quot;color&quot;: &quot;black&quot;, &quot;dashArray&quot;: null, &quot;dashOffset&quot;: null, &quot;fill&quot;: false, &quot;fillColor&quot;: &quot;black&quot;, &quot;fillOpacity&quot;: 0.2, &quot;fillRule&quot;: &quot;evenodd&quot;, &quot;lineCap&quot;: &quot;round&quot;, &quot;lineJoin&quot;: &quot;round&quot;, &quot;opacity&quot;: 1.0, &quot;radius&quot;: 3, &quot;stroke&quot;: true, &quot;weight&quot;: 3}\n",
              "            ).addTo(map_59b01bb0066e07167728b2dca81aaec2);\n",
              "        \n",
              "    \n",
              "        var popup_ac374a83181f4e2036e20013ab927a76 = L.popup({&quot;maxWidth&quot;: &quot;100%&quot;});\n",
              "\n",
              "        \n",
              "            var html_fddc6f813b175e2fa85dc6dd7e253bf7 = $(`&lt;div id=&quot;html_fddc6f813b175e2fa85dc6dd7e253bf7&quot; style=&quot;width: 100.0%; height: 100.0%;&quot;&gt;457.0USD&lt;/div&gt;`)[0];\n",
              "            popup_ac374a83181f4e2036e20013ab927a76.setContent(html_fddc6f813b175e2fa85dc6dd7e253bf7);\n",
              "        \n",
              "\n",
              "        circle_marker_1f87cc259b12231e6553086162549469.bindPopup(popup_ac374a83181f4e2036e20013ab927a76)\n",
              "        ;\n",
              "\n",
              "        \n",
              "    \n",
              "    \n",
              "            var circle_marker_f9cf5ffa781d29a1abc796c8d0aa5a27 = L.circleMarker(\n",
              "                [40.67568, -73.95124],\n",
              "                {&quot;bubblingMouseEvents&quot;: true, &quot;color&quot;: &quot;black&quot;, &quot;dashArray&quot;: null, &quot;dashOffset&quot;: null, &quot;fill&quot;: false, &quot;fillColor&quot;: &quot;black&quot;, &quot;fillOpacity&quot;: 0.2, &quot;fillRule&quot;: &quot;evenodd&quot;, &quot;lineCap&quot;: &quot;round&quot;, &quot;lineJoin&quot;: &quot;round&quot;, &quot;opacity&quot;: 1.0, &quot;radius&quot;: 3, &quot;stroke&quot;: true, &quot;weight&quot;: 3}\n",
              "            ).addTo(map_59b01bb0066e07167728b2dca81aaec2);\n",
              "        \n",
              "    \n",
              "        var popup_2537f97cd65714feb6fb9f316959b8ef = L.popup({&quot;maxWidth&quot;: &quot;100%&quot;});\n",
              "\n",
              "        \n",
              "            var html_c52504f574e26d6608aceee3d5a7ad0d = $(`&lt;div id=&quot;html_c52504f574e26d6608aceee3d5a7ad0d&quot; style=&quot;width: 100.0%; height: 100.0%;&quot;&gt;289.0USD&lt;/div&gt;`)[0];\n",
              "            popup_2537f97cd65714feb6fb9f316959b8ef.setContent(html_c52504f574e26d6608aceee3d5a7ad0d);\n",
              "        \n",
              "\n",
              "        circle_marker_f9cf5ffa781d29a1abc796c8d0aa5a27.bindPopup(popup_2537f97cd65714feb6fb9f316959b8ef)\n",
              "        ;\n",
              "\n",
              "        \n",
              "    \n",
              "    \n",
              "            var circle_marker_da7fdf70338c586673db1252ca037495 = L.circleMarker(\n",
              "                [40.71795, -73.94273],\n",
              "                {&quot;bubblingMouseEvents&quot;: true, &quot;color&quot;: &quot;black&quot;, &quot;dashArray&quot;: null, &quot;dashOffset&quot;: null, &quot;fill&quot;: false, &quot;fillColor&quot;: &quot;black&quot;, &quot;fillOpacity&quot;: 0.2, &quot;fillRule&quot;: &quot;evenodd&quot;, &quot;lineCap&quot;: &quot;round&quot;, &quot;lineJoin&quot;: &quot;round&quot;, &quot;opacity&quot;: 1.0, &quot;radius&quot;: 3, &quot;stroke&quot;: true, &quot;weight&quot;: 3}\n",
              "            ).addTo(map_59b01bb0066e07167728b2dca81aaec2);\n",
              "        \n",
              "    \n",
              "        var popup_e31fc1d6b93d2a005bc7f5cce98acd6c = L.popup({&quot;maxWidth&quot;: &quot;100%&quot;});\n",
              "\n",
              "        \n",
              "            var html_3ae7e9b808459e614f8fe049b0572cc4 = $(`&lt;div id=&quot;html_3ae7e9b808459e614f8fe049b0572cc4&quot; style=&quot;width: 100.0%; height: 100.0%;&quot;&gt;779.0USD&lt;/div&gt;`)[0];\n",
              "            popup_e31fc1d6b93d2a005bc7f5cce98acd6c.setContent(html_3ae7e9b808459e614f8fe049b0572cc4);\n",
              "        \n",
              "\n",
              "        circle_marker_da7fdf70338c586673db1252ca037495.bindPopup(popup_e31fc1d6b93d2a005bc7f5cce98acd6c)\n",
              "        ;\n",
              "\n",
              "        \n",
              "    \n",
              "    \n",
              "            var circle_marker_bd59394ea4d92e0ea83d21b4f17fed80 = L.circleMarker(\n",
              "                [40.70522, -74.00925],\n",
              "                {&quot;bubblingMouseEvents&quot;: true, &quot;color&quot;: &quot;black&quot;, &quot;dashArray&quot;: null, &quot;dashOffset&quot;: null, &quot;fill&quot;: false, &quot;fillColor&quot;: &quot;black&quot;, &quot;fillOpacity&quot;: 0.2, &quot;fillRule&quot;: &quot;evenodd&quot;, &quot;lineCap&quot;: &quot;round&quot;, &quot;lineJoin&quot;: &quot;round&quot;, &quot;opacity&quot;: 1.0, &quot;radius&quot;: 3, &quot;stroke&quot;: true, &quot;weight&quot;: 3}\n",
              "            ).addTo(map_59b01bb0066e07167728b2dca81aaec2);\n",
              "        \n",
              "    \n",
              "        var popup_eccce9952d2d7936f0f07d17aa710796 = L.popup({&quot;maxWidth&quot;: &quot;100%&quot;});\n",
              "\n",
              "        \n",
              "            var html_86b83dbe82df66d96ba09feaf22c31d9 = $(`&lt;div id=&quot;html_86b83dbe82df66d96ba09feaf22c31d9&quot; style=&quot;width: 100.0%; height: 100.0%;&quot;&gt;931.0USD&lt;/div&gt;`)[0];\n",
              "            popup_eccce9952d2d7936f0f07d17aa710796.setContent(html_86b83dbe82df66d96ba09feaf22c31d9);\n",
              "        \n",
              "\n",
              "        circle_marker_bd59394ea4d92e0ea83d21b4f17fed80.bindPopup(popup_eccce9952d2d7936f0f07d17aa710796)\n",
              "        ;\n",
              "\n",
              "        \n",
              "    \n",
              "    \n",
              "            var circle_marker_1b5b8fbdefa4edef218d75f3343429de = L.circleMarker(\n",
              "                [40.8419, -73.93866],\n",
              "                {&quot;bubblingMouseEvents&quot;: true, &quot;color&quot;: &quot;black&quot;, &quot;dashArray&quot;: null, &quot;dashOffset&quot;: null, &quot;fill&quot;: false, &quot;fillColor&quot;: &quot;black&quot;, &quot;fillOpacity&quot;: 0.2, &quot;fillRule&quot;: &quot;evenodd&quot;, &quot;lineCap&quot;: &quot;round&quot;, &quot;lineJoin&quot;: &quot;round&quot;, &quot;opacity&quot;: 1.0, &quot;radius&quot;: 3, &quot;stroke&quot;: true, &quot;weight&quot;: 3}\n",
              "            ).addTo(map_59b01bb0066e07167728b2dca81aaec2);\n",
              "        \n",
              "    \n",
              "        var popup_be723eae8a8348eae7600d05c643cf58 = L.popup({&quot;maxWidth&quot;: &quot;100%&quot;});\n",
              "\n",
              "        \n",
              "            var html_1c88959e380fefcdb873deceb2874ced = $(`&lt;div id=&quot;html_1c88959e380fefcdb873deceb2874ced&quot; style=&quot;width: 100.0%; height: 100.0%;&quot;&gt;107.0USD&lt;/div&gt;`)[0];\n",
              "            popup_be723eae8a8348eae7600d05c643cf58.setContent(html_1c88959e380fefcdb873deceb2874ced);\n",
              "        \n",
              "\n",
              "        circle_marker_1b5b8fbdefa4edef218d75f3343429de.bindPopup(popup_be723eae8a8348eae7600d05c643cf58)\n",
              "        ;\n",
              "\n",
              "        \n",
              "    \n",
              "    \n",
              "            var circle_marker_62bfdb0c8ad85eb97aab6b3caff9f554 = L.circleMarker(\n",
              "                [40.74694, -73.99728],\n",
              "                {&quot;bubblingMouseEvents&quot;: true, &quot;color&quot;: &quot;black&quot;, &quot;dashArray&quot;: null, &quot;dashOffset&quot;: null, &quot;fill&quot;: false, &quot;fillColor&quot;: &quot;black&quot;, &quot;fillOpacity&quot;: 0.2, &quot;fillRule&quot;: &quot;evenodd&quot;, &quot;lineCap&quot;: &quot;round&quot;, &quot;lineJoin&quot;: &quot;round&quot;, &quot;opacity&quot;: 1.0, &quot;radius&quot;: 3, &quot;stroke&quot;: true, &quot;weight&quot;: 3}\n",
              "            ).addTo(map_59b01bb0066e07167728b2dca81aaec2);\n",
              "        \n",
              "    \n",
              "        var popup_70ccea075bd823c48bb9947369b5af9f = L.popup({&quot;maxWidth&quot;: &quot;100%&quot;});\n",
              "\n",
              "        \n",
              "            var html_340b60d4e8f8487af78dc2d4ff6dea57 = $(`&lt;div id=&quot;html_340b60d4e8f8487af78dc2d4ff6dea57&quot; style=&quot;width: 100.0%; height: 100.0%;&quot;&gt;390.0USD&lt;/div&gt;`)[0];\n",
              "            popup_70ccea075bd823c48bb9947369b5af9f.setContent(html_340b60d4e8f8487af78dc2d4ff6dea57);\n",
              "        \n",
              "\n",
              "        circle_marker_62bfdb0c8ad85eb97aab6b3caff9f554.bindPopup(popup_70ccea075bd823c48bb9947369b5af9f)\n",
              "        ;\n",
              "\n",
              "        \n",
              "    \n",
              "    \n",
              "            var circle_marker_ececf83d1590dab0038d71de95e5b1b3 = L.circleMarker(\n",
              "                [40.62562, -73.94255],\n",
              "                {&quot;bubblingMouseEvents&quot;: true, &quot;color&quot;: &quot;black&quot;, &quot;dashArray&quot;: null, &quot;dashOffset&quot;: null, &quot;fill&quot;: false, &quot;fillColor&quot;: &quot;black&quot;, &quot;fillOpacity&quot;: 0.2, &quot;fillRule&quot;: &quot;evenodd&quot;, &quot;lineCap&quot;: &quot;round&quot;, &quot;lineJoin&quot;: &quot;round&quot;, &quot;opacity&quot;: 1.0, &quot;radius&quot;: 3, &quot;stroke&quot;: true, &quot;weight&quot;: 3}\n",
              "            ).addTo(map_59b01bb0066e07167728b2dca81aaec2);\n",
              "        \n",
              "    \n",
              "        var popup_dc10631f3bcebbae715a5591b58e9b71 = L.popup({&quot;maxWidth&quot;: &quot;100%&quot;});\n",
              "\n",
              "        \n",
              "            var html_7e06146e7ef034cb0df10f2e7928f287 = $(`&lt;div id=&quot;html_7e06146e7ef034cb0df10f2e7928f287&quot; style=&quot;width: 100.0%; height: 100.0%;&quot;&gt;450.0USD&lt;/div&gt;`)[0];\n",
              "            popup_dc10631f3bcebbae715a5591b58e9b71.setContent(html_7e06146e7ef034cb0df10f2e7928f287);\n",
              "        \n",
              "\n",
              "        circle_marker_ececf83d1590dab0038d71de95e5b1b3.bindPopup(popup_dc10631f3bcebbae715a5591b58e9b71)\n",
              "        ;\n",
              "\n",
              "        \n",
              "    \n",
              "    \n",
              "            var circle_marker_288506aba933e750f242d85da24f3fbd = L.circleMarker(\n",
              "                [40.72956, -73.99979],\n",
              "                {&quot;bubblingMouseEvents&quot;: true, &quot;color&quot;: &quot;black&quot;, &quot;dashArray&quot;: null, &quot;dashOffset&quot;: null, &quot;fill&quot;: false, &quot;fillColor&quot;: &quot;black&quot;, &quot;fillOpacity&quot;: 0.2, &quot;fillRule&quot;: &quot;evenodd&quot;, &quot;lineCap&quot;: &quot;round&quot;, &quot;lineJoin&quot;: &quot;round&quot;, &quot;opacity&quot;: 1.0, &quot;radius&quot;: 3, &quot;stroke&quot;: true, &quot;weight&quot;: 3}\n",
              "            ).addTo(map_59b01bb0066e07167728b2dca81aaec2);\n",
              "        \n",
              "    \n",
              "        var popup_a88030d2ecfb5a82dfede380bc8e31cc = L.popup({&quot;maxWidth&quot;: &quot;100%&quot;});\n",
              "\n",
              "        \n",
              "            var html_594f859d8a47743fe00b0914290301f9 = $(`&lt;div id=&quot;html_594f859d8a47743fe00b0914290301f9&quot; style=&quot;width: 100.0%; height: 100.0%;&quot;&gt;90.0USD&lt;/div&gt;`)[0];\n",
              "            popup_a88030d2ecfb5a82dfede380bc8e31cc.setContent(html_594f859d8a47743fe00b0914290301f9);\n",
              "        \n",
              "\n",
              "        circle_marker_288506aba933e750f242d85da24f3fbd.bindPopup(popup_a88030d2ecfb5a82dfede380bc8e31cc)\n",
              "        ;\n",
              "\n",
              "        \n",
              "    \n",
              "    \n",
              "            var circle_marker_f45ebcc1fd8725acfc7f81a7352cdf33 = L.circleMarker(\n",
              "                [40.72083, -73.99205],\n",
              "                {&quot;bubblingMouseEvents&quot;: true, &quot;color&quot;: &quot;black&quot;, &quot;dashArray&quot;: null, &quot;dashOffset&quot;: null, &quot;fill&quot;: false, &quot;fillColor&quot;: &quot;black&quot;, &quot;fillOpacity&quot;: 0.2, &quot;fillRule&quot;: &quot;evenodd&quot;, &quot;lineCap&quot;: &quot;round&quot;, &quot;lineJoin&quot;: &quot;round&quot;, &quot;opacity&quot;: 1.0, &quot;radius&quot;: 3, &quot;stroke&quot;: true, &quot;weight&quot;: 3}\n",
              "            ).addTo(map_59b01bb0066e07167728b2dca81aaec2);\n",
              "        \n",
              "    \n",
              "        var popup_a162971deffcd55282eed5b098a2421b = L.popup({&quot;maxWidth&quot;: &quot;100%&quot;});\n",
              "\n",
              "        \n",
              "            var html_d8487a78a31d104f1f0b3f5b0c437dab = $(`&lt;div id=&quot;html_d8487a78a31d104f1f0b3f5b0c437dab&quot; style=&quot;width: 100.0%; height: 100.0%;&quot;&gt;1026.0USD&lt;/div&gt;`)[0];\n",
              "            popup_a162971deffcd55282eed5b098a2421b.setContent(html_d8487a78a31d104f1f0b3f5b0c437dab);\n",
              "        \n",
              "\n",
              "        circle_marker_f45ebcc1fd8725acfc7f81a7352cdf33.bindPopup(popup_a162971deffcd55282eed5b098a2421b)\n",
              "        ;\n",
              "\n",
              "        \n",
              "    \n",
              "    \n",
              "            var heat_map_8abdbc7c7cc747e543ec1ac0b42cf4e2 = L.heatLayer(\n",
              "                [[40.72972, -73.97995, 166.0], [40.68039, -74.01729, 137.0], [40.81617, -73.95371, 949.0], [40.73418, -73.9893, 112.0], [40.80193, -73.97038, 121.0], [40.65845, -73.96131, 347.0], [40.78115, -73.90883, 152.0], [40.72689, -74.00086, 1082.0], [40.85177, -73.93652, 315.0], [40.72009, -73.98631, 143.0], [40.65656, -73.95572, 274.0], [40.69154, -73.93094, 573.0], [40.69025, -73.91251, 1189.0], [40.72468, -73.9783, 462.0], [40.67034, -73.95169, 979.0], [40.76617, -73.98398, 55.0], [40.74982, -73.8061, 1042.0], [40.72066, -73.99229, 967.0], [40.79957, -73.96902, 345.0], [40.67859, -73.97787, 1167.0], [40.721, -73.98186, 679.0], [40.72764, -73.993, 55.0], [40.78009, -73.95929, 1141.0], [40.69164, -73.99055, 971.0], [40.66036, -73.98494, 551.0], [40.75406, -73.92095, 974.0], [40.8024, -73.96496, 928.0], [40.73341, -74.00444, 1015.0], [40.69929, -73.93602, 564.0], [40.73424, -73.99355, 215.0], [40.71867, -73.96163, 1142.0], [40.72028, -73.98794, 429.0], [40.83266, -73.9414, 429.0], [40.67648, -73.93881, 344.0], [40.76579, -73.87732, 922.0], [40.69102, -73.90783, 438.0], [40.74537, -73.83252, 452.0], [40.71219, -73.96537, 75.0], [40.64518, -74.08166, 234.0], [40.68158, -73.96612, 257.0], [40.67932, -73.96482, 414.0], [40.67267, -73.98348, 236.0], [40.71256, -73.95695, 457.0], [40.67568, -73.95124, 289.0], [40.71795, -73.94273, 779.0], [40.70522, -74.00925, 931.0], [40.8419, -73.93866, 107.0], [40.74694, -73.99728, 390.0], [40.62562, -73.94255, 450.0], [40.72956, -73.99979, 90.0], [40.72083, -73.99205, 1026.0]],\n",
              "                {&quot;blur&quot;: 15, &quot;maxZoom&quot;: 18, &quot;minOpacity&quot;: 0.5, &quot;radius&quot;: 25}\n",
              "            ).addTo(map_59b01bb0066e07167728b2dca81aaec2);\n",
              "        \n",
              "&lt;/script&gt;\n",
              "&lt;/html&gt;\" style=\"position:absolute;width:100%;height:100%;left:0;top:0;border:none !important;\" allowfullscreen webkitallowfullscreen mozallowfullscreen></iframe></div></div>"
            ]
          },
          "metadata": {},
          "execution_count": 195
        }
      ]
    },
    {
      "cell_type": "markdown",
      "source": [
        "\n",
        "\n",
        "```\n",
        "Now with this heat map by location and price ploted, \n",
        "it becomes easier to see the locations where the properties are\n",
        " concentrated and also that the higher prices are \n",
        " in Brooklyn and Manhattan, where most business and touristic attractions are located\n",
        "\n",
        "```\n",
        "\n"
      ],
      "metadata": {
        "id": "laOO7qbutFJR"
      }
    },
    {
      "cell_type": "markdown",
      "metadata": {
        "id": "1-InTzgo5coN"
      },
      "source": [
        "# 1.Relational plots¶\n"
      ]
    },
    {
      "cell_type": "code",
      "execution_count": null,
      "metadata": {
        "colab": {
          "base_uri": "https://localhost:8080/",
          "height": 369
        },
        "id": "H7D6qSi45hJq",
        "outputId": "899e74a5-9570-410d-ef5b-4f36a290dc64"
      },
      "outputs": [
        {
          "data": {
            "image/png": "[encoded data removed]",
            "text/plain": [
              "<Figure size 476.25x360 with 1 Axes>"
            ]
          },
          "metadata": {},
          "output_type": "display_data"
        }
      ],
      "source": [
        "#scatter plots\n",
        "sns.relplot(data=airbnb, kind='scatter', x='price', y='number of reviews', hue='room type');"
      ]
    },
    {
      "cell_type": "code",
      "execution_count": null,
      "metadata": {
        "colab": {
          "base_uri": "https://localhost:8080/",
          "height": 369
        },
        "id": "qMzhCy2a5oFC",
        "outputId": "34167687-0008-4901-a1e4-a813ab0ad761"
      },
      "outputs": [
        {
          "data": {
            "image/png": "[encoded data removed]",
            "text/plain": [
              "<Figure size 476.25x360 with 1 Axes>"
            ]
          },
          "metadata": {},
          "output_type": "display_data"
        }
      ],
      "source": [
        "#line plot\n",
        "sns.relplot(data=airbnb, kind='line', x='price',  y='number of reviews', hue='room type');"
      ]
    },
    {
      "cell_type": "markdown",
      "metadata": {
        "id": "0-9mFoDr6JRl"
      },
      "source": [
        "# 2. Distribution Plots¶\n"
      ]
    },
    {
      "cell_type": "code",
      "execution_count": null,
      "metadata": {
        "colab": {
          "base_uri": "https://localhost:8080/",
          "height": 369
        },
        "id": "rJtNlxUH5u_V",
        "outputId": "afed605e-47a2-4eb9-ccae-387cb222fa20"
      },
      "outputs": [
        {
          "data": {
            "image/png": "[encoded data removed]",
            "text/plain": [
              "<Figure size 475.5x360 with 1 Axes>"
            ]
          },
          "metadata": {},
          "output_type": "display_data"
        }
      ],
      "source": [
        "sns.displot(kind=\"hist\",data=airbnb, x='review rate number', hue='neighbourhood group');"
      ]
    },
    {
      "cell_type": "code",
      "execution_count": null,
      "metadata": {
        "colab": {
          "base_uri": "https://localhost:8080/",
          "height": 369
        },
        "id": "Toa5HK3M5-jS",
        "outputId": "dc5753a6-5e54-4978-c805-f712837dbb39"
      },
      "outputs": [
        {
          "data": {
            "image/png": "[encoded data removed]",
            "text/plain": [
              "<Figure size 360x360 with 1 Axes>"
            ]
          },
          "metadata": {},
          "output_type": "display_data"
        }
      ],
      "source": [
        "sns.displot(kind=\"kde\",data=airbnb, x='number of reviews');\n",
        "sns.rugplot(data=airbnb, x='number of reviews');"
      ]
    },
    {
      "cell_type": "markdown",
      "metadata": {
        "id": "1rccjJ5-6PKf"
      },
      "source": [
        "# 3. Categorical Plots¶\n"
      ]
    },
    {
      "cell_type": "code",
      "execution_count": null,
      "metadata": {
        "colab": {
          "base_uri": "https://localhost:8080/",
          "height": 369
        },
        "id": "CR9xkqMj6MvX",
        "outputId": "5cd2b94e-dae3-4d92-f16e-a348cb6aa8e9"
      },
      "outputs": [
        {
          "data": {
            "image/png": "[encoded data removed]",
            "text/plain": [
              "<Figure size 360x360 with 1 Axes>"
            ]
          },
          "metadata": {},
          "output_type": "display_data"
        }
      ],
      "source": [
        "sns.catplot(kind=\"strip\",data=airbnb, x='room type', y='price');\n"
      ]
    },
    {
      "cell_type": "code",
      "execution_count": null,
      "metadata": {
        "colab": {
          "base_uri": "https://localhost:8080/",
          "height": 369
        },
        "id": "1bRpR2qz6YJc",
        "outputId": "bbc78f92-dcfc-4ddb-9b41-59118acb96d4"
      },
      "outputs": [
        {
          "data": {
            "image/png": "[encoded data removed]",
            "text/plain": [
              "<Figure size 475.5x360 with 1 Axes>"
            ]
          },
          "metadata": {},
          "output_type": "display_data"
        }
      ],
      "source": [
        "sns.catplot(kind=\"box\",data=airbnb, x='room type', y='price', hue='neighbourhood group');\n"
      ]
    },
    {
      "cell_type": "code",
      "execution_count": null,
      "metadata": {
        "colab": {
          "base_uri": "https://localhost:8080/",
          "height": 369
        },
        "id": "47asySWa6cZw",
        "outputId": "1519b473-5691-45dd-b873-334dd3285e83"
      },
      "outputs": [
        {
          "data": {
            "image/png": "[encoded data removed]",
            "text/plain": [
              "<Figure size 453x360 with 1 Axes>"
            ]
          },
          "metadata": {},
          "output_type": "display_data"
        }
      ],
      "source": [
        "sns.catplot(kind=\"violin\",data=airbnb, x='room type', y='price', hue='instant_bookable');\n"
      ]
    },
    {
      "cell_type": "code",
      "execution_count": null,
      "metadata": {
        "colab": {
          "base_uri": "https://localhost:8080/",
          "height": 389
        },
        "id": "0qOdUGfT6e7x",
        "outputId": "c688f9b7-e0c3-4c4c-efe7-8a1dd30e2d03"
      },
      "outputs": [
        {
          "data": {
            "image/png": "[encoded data removed]",
            "text/plain": [
              "<Figure size 1555.5x360 with 4 Axes>"
            ]
          },
          "metadata": {},
          "output_type": "display_data"
        }
      ],
      "source": [
        "sns.catplot(data=airbnb, kind='count', x='cancellation_policy', col='room type', hue='neighbourhood group');\n"
      ]
    },
    {
      "cell_type": "markdown",
      "source": [
        "# Conclusion Report\n",
        "\n",
        "\n",
        "In New York, the Manhattan island is the center of the economy, as it hosts many skyscrapers with countless offices doing business every day, as well as many well known touristic attractions like the Empire State Building, Times Square, Central Park that brings another countless number of people to visit the city every year. Thus, naturally the neighbourhood holds 44% of the places listed for rental. Brooklyn comes in second place with 41%, but that is mainly given its proximity to the island.\n",
        "\n",
        "The amount being spent to stay in the city is somewhere between 120 USD and 150 USD per night for an apartment or a private room and people like to stay less than a week (2 to 5 days are the most common rentals). Usually the clients are looking for a 1 or 2 bedroom apartment or private room - similar to a hotel - and they are interested in locations on the Upper East Side (commonly mentioned as the 'heart of Manhattan'), with easy access to the Central Park and all the other advantages of that area. The reviews also mention concepts like 'private' and 'cozy' rooms, demonstrating the clients are worried about cleanliness and maintenance of the place.\n",
        "\n",
        "Looking to the other side of the transaction (the hosts who rent their properties), we can see they have their location concentrated on Manhattan and Brooklyn. Top 10 hosts are able to charge more than average for their apartments or rooms - I conclude that this is mainly due to the location - and they keep the space located for 30 days on average. So this leads us to the fact that the top 10 hosts are probably not focusing on renting to tourists, but they are working with businesses, so they keep the location rented for longer periods and for a higher price. For that public, the reviews frequently mention amendments like gym, doorman, rooftop and stock exchange, reinforcing the theory that the top 10 focus on business over tourism"
      ],
      "metadata": {
        "id": "U1iMYa4EQnni"
      }
    }
  ],
  "metadata": {
    "colab": {
      "provenance": [],
      "toc_visible": true,
      "authorship_tag": "ABX9TyMAoJI7NslcKqri4ctBxAhQ",
      "include_colab_link": true
    },
    "kernelspec": {
      "display_name": "Python 3",
      "name": "python3"
    },
    "language_info": {
      "name": "python"
    }
  },
  "nbformat": 4,
  "nbformat_minor": 0
}