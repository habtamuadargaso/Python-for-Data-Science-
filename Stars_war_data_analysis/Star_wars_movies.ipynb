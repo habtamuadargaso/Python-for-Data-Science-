{
  "nbformat": 4,
  "nbformat_minor": 0,
  "metadata": {
    "colab": {
      "provenance": [],
      "toc_visible": true,
      "authorship_tag": "ABX9TyMS6pQPUiiIRikAFW2BStxQ",
      "include_colab_link": true
    },
    "kernelspec": {
      "name": "python3",
      "display_name": "Python 3"
    },
    "language_info": {
      "name": "python"
    }
  },
  "cells": [
    {
      "cell_type": "markdown",
      "metadata": {
        "id": "view-in-github",
        "colab_type": "text"
      },
      "source": [
        "<a href=\"https://colab.research.google.com/github/habtamuadargaso/Python-for-Data-Science-/blob/main/Star_wars_movies.ipynb\" target=\"_parent\"><img src=\"https://colab.research.google.com/assets/colab-badge.svg\" alt=\"Open In Colab\"/></a>"
      ]
    },
    {
      "cell_type": "code",
      "execution_count": 1,
      "metadata": {
        "id": "3T3Q9mYZVaf3"
      },
      "outputs": [],
      "source": [
        "import numpy as np "
      ]
    },
    {
      "cell_type": "code",
      "source": [
        "import pandas as pd"
      ],
      "metadata": {
        "id": "NPtoKJk0Vr9x"
      },
      "execution_count": 3,
      "outputs": []
    },
    {
      "cell_type": "code",
      "source": [
        "import matplotlib.pyplot as plt\n"
      ],
      "metadata": {
        "id": "10dT_ctHVwsc"
      },
      "execution_count": 5,
      "outputs": []
    },
    {
      "cell_type": "code",
      "source": [
        "import seaborn as sns \n",
        "%matplotlib inline"
      ],
      "metadata": {
        "id": "QNdDnb_rV271"
      },
      "execution_count": 6,
      "outputs": []
    },
    {
      "cell_type": "markdown",
      "source": [
        "# Exploration of Data "
      ],
      "metadata": {
        "id": "Ag-sX6lkWHiS"
      }
    },
    {
      "cell_type": "markdown",
      "source": [
        "1. Read the dataset into a DataFrame."
      ],
      "metadata": {
        "id": "ZhrsQo04YZna"
      }
    },
    {
      "cell_type": "code",
      "source": [
        "# reads the Data into a pandas DataFrame\n",
        "url = \"https://raw.githubusercontent.com/fivethirtyeight/data/master/star-wars-survey/StarWars.csv\""
      ],
      "metadata": {
        "id": "z9oJnbISWNZV"
      },
      "execution_count": 52,
      "outputs": []
    },
    {
      "cell_type": "code",
      "source": [
        "# Read the CSV using the pandas library read_csv\n",
        "star_war_df = pd.read_csv(url,encoding='latin1')\n"
      ],
      "metadata": {
        "id": "GmWSePKTWoqQ"
      },
      "execution_count": 53,
      "outputs": []
    },
    {
      "cell_type": "markdown",
      "source": [
        "2.Explore the data by entering star_wars.head(10). Look for any strange values in the columns and rows."
      ],
      "metadata": {
        "id": "Gb3mTouEYj2z"
      }
    },
    {
      "cell_type": "code",
      "source": [
        "star_war_df.head(10)"
      ],
      "metadata": {
        "colab": {
          "base_uri": "https://localhost:8080/",
          "height": 786
        },
        "id": "OF_Q1FhXYJFf",
        "outputId": "2a450d97-3cfb-45fa-ed41-2528e720bd75"
      },
      "execution_count": 54,
      "outputs": [
        {
          "output_type": "execute_result",
          "data": {
            "text/plain": [
              "   RespondentID Have you seen any of the 6 films in the Star Wars franchise?  \\\n",
              "0           NaN                                           Response             \n",
              "1  3.292880e+09                                                Yes             \n",
              "2  3.292880e+09                                                 No             \n",
              "3  3.292765e+09                                                Yes             \n",
              "4  3.292763e+09                                                Yes             \n",
              "5  3.292731e+09                                                Yes             \n",
              "6  3.292719e+09                                                Yes             \n",
              "7  3.292685e+09                                                Yes             \n",
              "8  3.292664e+09                                                Yes             \n",
              "9  3.292654e+09                                                Yes             \n",
              "\n",
              "  Do you consider yourself to be a fan of the Star Wars film franchise?  \\\n",
              "0                                           Response                      \n",
              "1                                                Yes                      \n",
              "2                                                NaN                      \n",
              "3                                                 No                      \n",
              "4                                                Yes                      \n",
              "5                                                Yes                      \n",
              "6                                                Yes                      \n",
              "7                                                Yes                      \n",
              "8                                                Yes                      \n",
              "9                                                Yes                      \n",
              "\n",
              "  Which of the following Star Wars films have you seen? Please select all that apply.  \\\n",
              "0           Star Wars: Episode I  The Phantom Menace                                    \n",
              "1           Star Wars: Episode I  The Phantom Menace                                    \n",
              "2                                                NaN                                    \n",
              "3           Star Wars: Episode I  The Phantom Menace                                    \n",
              "4           Star Wars: Episode I  The Phantom Menace                                    \n",
              "5           Star Wars: Episode I  The Phantom Menace                                    \n",
              "6           Star Wars: Episode I  The Phantom Menace                                    \n",
              "7           Star Wars: Episode I  The Phantom Menace                                    \n",
              "8           Star Wars: Episode I  The Phantom Menace                                    \n",
              "9           Star Wars: Episode I  The Phantom Menace                                    \n",
              "\n",
              "                                    Unnamed: 4  \\\n",
              "0  Star Wars: Episode II  Attack of the Clones   \n",
              "1  Star Wars: Episode II  Attack of the Clones   \n",
              "2                                          NaN   \n",
              "3  Star Wars: Episode II  Attack of the Clones   \n",
              "4  Star Wars: Episode II  Attack of the Clones   \n",
              "5  Star Wars: Episode II  Attack of the Clones   \n",
              "6  Star Wars: Episode II  Attack of the Clones   \n",
              "7  Star Wars: Episode II  Attack of the Clones   \n",
              "8  Star Wars: Episode II  Attack of the Clones   \n",
              "9  Star Wars: Episode II  Attack of the Clones   \n",
              "\n",
              "                                    Unnamed: 5  \\\n",
              "0  Star Wars: Episode III  Revenge of the Sith   \n",
              "1  Star Wars: Episode III  Revenge of the Sith   \n",
              "2                                          NaN   \n",
              "3  Star Wars: Episode III  Revenge of the Sith   \n",
              "4  Star Wars: Episode III  Revenge of the Sith   \n",
              "5  Star Wars: Episode III  Revenge of the Sith   \n",
              "6  Star Wars: Episode III  Revenge of the Sith   \n",
              "7  Star Wars: Episode III  Revenge of the Sith   \n",
              "8  Star Wars: Episode III  Revenge of the Sith   \n",
              "9  Star Wars: Episode III  Revenge of the Sith   \n",
              "\n",
              "                          Unnamed: 6  \\\n",
              "0  Star Wars: Episode IV  A New Hope   \n",
              "1  Star Wars: Episode IV  A New Hope   \n",
              "2                                NaN   \n",
              "3                                NaN   \n",
              "4  Star Wars: Episode IV  A New Hope   \n",
              "5  Star Wars: Episode IV  A New Hope   \n",
              "6  Star Wars: Episode IV  A New Hope   \n",
              "7  Star Wars: Episode IV  A New Hope   \n",
              "8  Star Wars: Episode IV  A New Hope   \n",
              "9  Star Wars: Episode IV  A New Hope   \n",
              "\n",
              "                                     Unnamed: 7  \\\n",
              "0  Star Wars: Episode V The Empire Strikes Back   \n",
              "1  Star Wars: Episode V The Empire Strikes Back   \n",
              "2                                           NaN   \n",
              "3                                           NaN   \n",
              "4  Star Wars: Episode V The Empire Strikes Back   \n",
              "5  Star Wars: Episode V The Empire Strikes Back   \n",
              "6  Star Wars: Episode V The Empire Strikes Back   \n",
              "7  Star Wars: Episode V The Empire Strikes Back   \n",
              "8  Star Wars: Episode V The Empire Strikes Back   \n",
              "9  Star Wars: Episode V The Empire Strikes Back   \n",
              "\n",
              "                                 Unnamed: 8  \\\n",
              "0  Star Wars: Episode VI Return of the Jedi   \n",
              "1  Star Wars: Episode VI Return of the Jedi   \n",
              "2                                       NaN   \n",
              "3                                       NaN   \n",
              "4  Star Wars: Episode VI Return of the Jedi   \n",
              "5  Star Wars: Episode VI Return of the Jedi   \n",
              "6  Star Wars: Episode VI Return of the Jedi   \n",
              "7  Star Wars: Episode VI Return of the Jedi   \n",
              "8  Star Wars: Episode VI Return of the Jedi   \n",
              "9  Star Wars: Episode VI Return of the Jedi   \n",
              "\n",
              "  Please rank the Star Wars films in order of preference with 1 being your favorite film in the franchise and 6 being your least favorite film.  \\\n",
              "0           Star Wars: Episode I  The Phantom Menace                                                                                              \n",
              "1                                                  3                                                                                              \n",
              "2                                                NaN                                                                                              \n",
              "3                                                  1                                                                                              \n",
              "4                                                  5                                                                                              \n",
              "5                                                  5                                                                                              \n",
              "6                                                  1                                                                                              \n",
              "7                                                  6                                                                                              \n",
              "8                                                  4                                                                                              \n",
              "9                                                  5                                                                                              \n",
              "\n",
              "   ...         Unnamed: 28       Which character shot first?  \\\n",
              "0  ...                Yoda                          Response   \n",
              "1  ...      Very favorably  I don't understand this question   \n",
              "2  ...                 NaN                               NaN   \n",
              "3  ...    Unfamiliar (N/A)  I don't understand this question   \n",
              "4  ...      Very favorably  I don't understand this question   \n",
              "5  ...  Somewhat favorably                            Greedo   \n",
              "6  ...      Very favorably                               Han   \n",
              "7  ...      Very favorably                               Han   \n",
              "8  ...      Very favorably                               Han   \n",
              "9  ...  Somewhat favorably                               Han   \n",
              "\n",
              "  Are you familiar with the Expanded Universe?  \\\n",
              "0                                     Response   \n",
              "1                                          Yes   \n",
              "2                                          NaN   \n",
              "3                                           No   \n",
              "4                                           No   \n",
              "5                                          Yes   \n",
              "6                                          Yes   \n",
              "7                                          Yes   \n",
              "8                                           No   \n",
              "9                                           No   \n",
              "\n",
              "  Do you consider yourself to be a fan of the Expanded Universe?æ  \\\n",
              "0                                           Response                 \n",
              "1                                                 No                 \n",
              "2                                                NaN                 \n",
              "3                                                NaN                 \n",
              "4                                                NaN                 \n",
              "5                                                 No                 \n",
              "6                                                 No                 \n",
              "7                                                 No                 \n",
              "8                                                NaN                 \n",
              "9                                                NaN                 \n",
              "\n",
              "  Do you consider yourself to be a fan of the Star Trek franchise?    Gender  \\\n",
              "0                                           Response                Response   \n",
              "1                                                 No                    Male   \n",
              "2                                                Yes                    Male   \n",
              "3                                                 No                    Male   \n",
              "4                                                Yes                    Male   \n",
              "5                                                 No                    Male   \n",
              "6                                                Yes                    Male   \n",
              "7                                                 No                    Male   \n",
              "8                                                Yes                    Male   \n",
              "9                                                 No                    Male   \n",
              "\n",
              "        Age     Household Income                         Education  \\\n",
              "0  Response             Response                          Response   \n",
              "1     18-29                  NaN                High school degree   \n",
              "2     18-29         $0 - $24,999                   Bachelor degree   \n",
              "3     18-29         $0 - $24,999                High school degree   \n",
              "4     18-29  $100,000 - $149,999  Some college or Associate degree   \n",
              "5     18-29  $100,000 - $149,999  Some college or Associate degree   \n",
              "6     18-29    $25,000 - $49,999                   Bachelor degree   \n",
              "7     18-29                  NaN                High school degree   \n",
              "8     18-29                  NaN                High school degree   \n",
              "9     18-29         $0 - $24,999  Some college or Associate degree   \n",
              "\n",
              "  Location (Census Region)  \n",
              "0                 Response  \n",
              "1           South Atlantic  \n",
              "2       West South Central  \n",
              "3       West North Central  \n",
              "4       West North Central  \n",
              "5       West North Central  \n",
              "6          Middle Atlantic  \n",
              "7       East North Central  \n",
              "8           South Atlantic  \n",
              "9           South Atlantic  \n",
              "\n",
              "[10 rows x 38 columns]"
            ],
            "text/html": [
              "\n",
              "  <div id=\"df-8f079427-a9de-4b83-af62-4800d03ef2ec\">\n",
              "    <div class=\"colab-df-container\">\n",
              "      <div>\n",
              "<style scoped>\n",
              "    .dataframe tbody tr th:only-of-type {\n",
              "        vertical-align: middle;\n",
              "    }\n",
              "\n",
              "    .dataframe tbody tr th {\n",
              "        vertical-align: top;\n",
              "    }\n",
              "\n",
              "    .dataframe thead th {\n",
              "        text-align: right;\n",
              "    }\n",
              "</style>\n",
              "<table border=\"1\" class=\"dataframe\">\n",
              "  <thead>\n",
              "    <tr style=\"text-align: right;\">\n",
              "      <th></th>\n",
              "      <th>RespondentID</th>\n",
              "      <th>Have you seen any of the 6 films in the Star Wars franchise?</th>\n",
              "      <th>Do you consider yourself to be a fan of the Star Wars film franchise?</th>\n",
              "      <th>Which of the following Star Wars films have you seen? Please select all that apply.</th>\n",
              "      <th>Unnamed: 4</th>\n",
              "      <th>Unnamed: 5</th>\n",
              "      <th>Unnamed: 6</th>\n",
              "      <th>Unnamed: 7</th>\n",
              "      <th>Unnamed: 8</th>\n",
              "      <th>Please rank the Star Wars films in order of preference with 1 being your favorite film in the franchise and 6 being your least favorite film.</th>\n",
              "      <th>...</th>\n",
              "      <th>Unnamed: 28</th>\n",
              "      <th>Which character shot first?</th>\n",
              "      <th>Are you familiar with the Expanded Universe?</th>\n",
              "      <th>Do you consider yourself to be a fan of the Expanded Universe?æ</th>\n",
              "      <th>Do you consider yourself to be a fan of the Star Trek franchise?</th>\n",
              "      <th>Gender</th>\n",
              "      <th>Age</th>\n",
              "      <th>Household Income</th>\n",
              "      <th>Education</th>\n",
              "      <th>Location (Census Region)</th>\n",
              "    </tr>\n",
              "  </thead>\n",
              "  <tbody>\n",
              "    <tr>\n",
              "      <th>0</th>\n",
              "      <td>NaN</td>\n",
              "      <td>Response</td>\n",
              "      <td>Response</td>\n",
              "      <td>Star Wars: Episode I  The Phantom Menace</td>\n",
              "      <td>Star Wars: Episode II  Attack of the Clones</td>\n",
              "      <td>Star Wars: Episode III  Revenge of the Sith</td>\n",
              "      <td>Star Wars: Episode IV  A New Hope</td>\n",
              "      <td>Star Wars: Episode V The Empire Strikes Back</td>\n",
              "      <td>Star Wars: Episode VI Return of the Jedi</td>\n",
              "      <td>Star Wars: Episode I  The Phantom Menace</td>\n",
              "      <td>...</td>\n",
              "      <td>Yoda</td>\n",
              "      <td>Response</td>\n",
              "      <td>Response</td>\n",
              "      <td>Response</td>\n",
              "      <td>Response</td>\n",
              "      <td>Response</td>\n",
              "      <td>Response</td>\n",
              "      <td>Response</td>\n",
              "      <td>Response</td>\n",
              "      <td>Response</td>\n",
              "    </tr>\n",
              "    <tr>\n",
              "      <th>1</th>\n",
              "      <td>3.292880e+09</td>\n",
              "      <td>Yes</td>\n",
              "      <td>Yes</td>\n",
              "      <td>Star Wars: Episode I  The Phantom Menace</td>\n",
              "      <td>Star Wars: Episode II  Attack of the Clones</td>\n",
              "      <td>Star Wars: Episode III  Revenge of the Sith</td>\n",
              "      <td>Star Wars: Episode IV  A New Hope</td>\n",
              "      <td>Star Wars: Episode V The Empire Strikes Back</td>\n",
              "      <td>Star Wars: Episode VI Return of the Jedi</td>\n",
              "      <td>3</td>\n",
              "      <td>...</td>\n",
              "      <td>Very favorably</td>\n",
              "      <td>I don't understand this question</td>\n",
              "      <td>Yes</td>\n",
              "      <td>No</td>\n",
              "      <td>No</td>\n",
              "      <td>Male</td>\n",
              "      <td>18-29</td>\n",
              "      <td>NaN</td>\n",
              "      <td>High school degree</td>\n",
              "      <td>South Atlantic</td>\n",
              "    </tr>\n",
              "    <tr>\n",
              "      <th>2</th>\n",
              "      <td>3.292880e+09</td>\n",
              "      <td>No</td>\n",
              "      <td>NaN</td>\n",
              "      <td>NaN</td>\n",
              "      <td>NaN</td>\n",
              "      <td>NaN</td>\n",
              "      <td>NaN</td>\n",
              "      <td>NaN</td>\n",
              "      <td>NaN</td>\n",
              "      <td>NaN</td>\n",
              "      <td>...</td>\n",
              "      <td>NaN</td>\n",
              "      <td>NaN</td>\n",
              "      <td>NaN</td>\n",
              "      <td>NaN</td>\n",
              "      <td>Yes</td>\n",
              "      <td>Male</td>\n",
              "      <td>18-29</td>\n",
              "      <td>$0 - $24,999</td>\n",
              "      <td>Bachelor degree</td>\n",
              "      <td>West South Central</td>\n",
              "    </tr>\n",
              "    <tr>\n",
              "      <th>3</th>\n",
              "      <td>3.292765e+09</td>\n",
              "      <td>Yes</td>\n",
              "      <td>No</td>\n",
              "      <td>Star Wars: Episode I  The Phantom Menace</td>\n",
              "      <td>Star Wars: Episode II  Attack of the Clones</td>\n",
              "      <td>Star Wars: Episode III  Revenge of the Sith</td>\n",
              "      <td>NaN</td>\n",
              "      <td>NaN</td>\n",
              "      <td>NaN</td>\n",
              "      <td>1</td>\n",
              "      <td>...</td>\n",
              "      <td>Unfamiliar (N/A)</td>\n",
              "      <td>I don't understand this question</td>\n",
              "      <td>No</td>\n",
              "      <td>NaN</td>\n",
              "      <td>No</td>\n",
              "      <td>Male</td>\n",
              "      <td>18-29</td>\n",
              "      <td>$0 - $24,999</td>\n",
              "      <td>High school degree</td>\n",
              "      <td>West North Central</td>\n",
              "    </tr>\n",
              "    <tr>\n",
              "      <th>4</th>\n",
              "      <td>3.292763e+09</td>\n",
              "      <td>Yes</td>\n",
              "      <td>Yes</td>\n",
              "      <td>Star Wars: Episode I  The Phantom Menace</td>\n",
              "      <td>Star Wars: Episode II  Attack of the Clones</td>\n",
              "      <td>Star Wars: Episode III  Revenge of the Sith</td>\n",
              "      <td>Star Wars: Episode IV  A New Hope</td>\n",
              "      <td>Star Wars: Episode V The Empire Strikes Back</td>\n",
              "      <td>Star Wars: Episode VI Return of the Jedi</td>\n",
              "      <td>5</td>\n",
              "      <td>...</td>\n",
              "      <td>Very favorably</td>\n",
              "      <td>I don't understand this question</td>\n",
              "      <td>No</td>\n",
              "      <td>NaN</td>\n",
              "      <td>Yes</td>\n",
              "      <td>Male</td>\n",
              "      <td>18-29</td>\n",
              "      <td>$100,000 - $149,999</td>\n",
              "      <td>Some college or Associate degree</td>\n",
              "      <td>West North Central</td>\n",
              "    </tr>\n",
              "    <tr>\n",
              "      <th>5</th>\n",
              "      <td>3.292731e+09</td>\n",
              "      <td>Yes</td>\n",
              "      <td>Yes</td>\n",
              "      <td>Star Wars: Episode I  The Phantom Menace</td>\n",
              "      <td>Star Wars: Episode II  Attack of the Clones</td>\n",
              "      <td>Star Wars: Episode III  Revenge of the Sith</td>\n",
              "      <td>Star Wars: Episode IV  A New Hope</td>\n",
              "      <td>Star Wars: Episode V The Empire Strikes Back</td>\n",
              "      <td>Star Wars: Episode VI Return of the Jedi</td>\n",
              "      <td>5</td>\n",
              "      <td>...</td>\n",
              "      <td>Somewhat favorably</td>\n",
              "      <td>Greedo</td>\n",
              "      <td>Yes</td>\n",
              "      <td>No</td>\n",
              "      <td>No</td>\n",
              "      <td>Male</td>\n",
              "      <td>18-29</td>\n",
              "      <td>$100,000 - $149,999</td>\n",
              "      <td>Some college or Associate degree</td>\n",
              "      <td>West North Central</td>\n",
              "    </tr>\n",
              "    <tr>\n",
              "      <th>6</th>\n",
              "      <td>3.292719e+09</td>\n",
              "      <td>Yes</td>\n",
              "      <td>Yes</td>\n",
              "      <td>Star Wars: Episode I  The Phantom Menace</td>\n",
              "      <td>Star Wars: Episode II  Attack of the Clones</td>\n",
              "      <td>Star Wars: Episode III  Revenge of the Sith</td>\n",
              "      <td>Star Wars: Episode IV  A New Hope</td>\n",
              "      <td>Star Wars: Episode V The Empire Strikes Back</td>\n",
              "      <td>Star Wars: Episode VI Return of the Jedi</td>\n",
              "      <td>1</td>\n",
              "      <td>...</td>\n",
              "      <td>Very favorably</td>\n",
              "      <td>Han</td>\n",
              "      <td>Yes</td>\n",
              "      <td>No</td>\n",
              "      <td>Yes</td>\n",
              "      <td>Male</td>\n",
              "      <td>18-29</td>\n",
              "      <td>$25,000 - $49,999</td>\n",
              "      <td>Bachelor degree</td>\n",
              "      <td>Middle Atlantic</td>\n",
              "    </tr>\n",
              "    <tr>\n",
              "      <th>7</th>\n",
              "      <td>3.292685e+09</td>\n",
              "      <td>Yes</td>\n",
              "      <td>Yes</td>\n",
              "      <td>Star Wars: Episode I  The Phantom Menace</td>\n",
              "      <td>Star Wars: Episode II  Attack of the Clones</td>\n",
              "      <td>Star Wars: Episode III  Revenge of the Sith</td>\n",
              "      <td>Star Wars: Episode IV  A New Hope</td>\n",
              "      <td>Star Wars: Episode V The Empire Strikes Back</td>\n",
              "      <td>Star Wars: Episode VI Return of the Jedi</td>\n",
              "      <td>6</td>\n",
              "      <td>...</td>\n",
              "      <td>Very favorably</td>\n",
              "      <td>Han</td>\n",
              "      <td>Yes</td>\n",
              "      <td>No</td>\n",
              "      <td>No</td>\n",
              "      <td>Male</td>\n",
              "      <td>18-29</td>\n",
              "      <td>NaN</td>\n",
              "      <td>High school degree</td>\n",
              "      <td>East North Central</td>\n",
              "    </tr>\n",
              "    <tr>\n",
              "      <th>8</th>\n",
              "      <td>3.292664e+09</td>\n",
              "      <td>Yes</td>\n",
              "      <td>Yes</td>\n",
              "      <td>Star Wars: Episode I  The Phantom Menace</td>\n",
              "      <td>Star Wars: Episode II  Attack of the Clones</td>\n",
              "      <td>Star Wars: Episode III  Revenge of the Sith</td>\n",
              "      <td>Star Wars: Episode IV  A New Hope</td>\n",
              "      <td>Star Wars: Episode V The Empire Strikes Back</td>\n",
              "      <td>Star Wars: Episode VI Return of the Jedi</td>\n",
              "      <td>4</td>\n",
              "      <td>...</td>\n",
              "      <td>Very favorably</td>\n",
              "      <td>Han</td>\n",
              "      <td>No</td>\n",
              "      <td>NaN</td>\n",
              "      <td>Yes</td>\n",
              "      <td>Male</td>\n",
              "      <td>18-29</td>\n",
              "      <td>NaN</td>\n",
              "      <td>High school degree</td>\n",
              "      <td>South Atlantic</td>\n",
              "    </tr>\n",
              "    <tr>\n",
              "      <th>9</th>\n",
              "      <td>3.292654e+09</td>\n",
              "      <td>Yes</td>\n",
              "      <td>Yes</td>\n",
              "      <td>Star Wars: Episode I  The Phantom Menace</td>\n",
              "      <td>Star Wars: Episode II  Attack of the Clones</td>\n",
              "      <td>Star Wars: Episode III  Revenge of the Sith</td>\n",
              "      <td>Star Wars: Episode IV  A New Hope</td>\n",
              "      <td>Star Wars: Episode V The Empire Strikes Back</td>\n",
              "      <td>Star Wars: Episode VI Return of the Jedi</td>\n",
              "      <td>5</td>\n",
              "      <td>...</td>\n",
              "      <td>Somewhat favorably</td>\n",
              "      <td>Han</td>\n",
              "      <td>No</td>\n",
              "      <td>NaN</td>\n",
              "      <td>No</td>\n",
              "      <td>Male</td>\n",
              "      <td>18-29</td>\n",
              "      <td>$0 - $24,999</td>\n",
              "      <td>Some college or Associate degree</td>\n",
              "      <td>South Atlantic</td>\n",
              "    </tr>\n",
              "  </tbody>\n",
              "</table>\n",
              "<p>10 rows × 38 columns</p>\n",
              "</div>\n",
              "      <button class=\"colab-df-convert\" onclick=\"convertToInteractive('df-8f079427-a9de-4b83-af62-4800d03ef2ec')\"\n",
              "              title=\"Convert this dataframe to an interactive table.\"\n",
              "              style=\"display:none;\">\n",
              "        \n",
              "  <svg xmlns=\"http://www.w3.org/2000/svg\" height=\"24px\"viewBox=\"0 0 24 24\"\n",
              "       width=\"24px\">\n",
              "    <path d=\"M0 0h24v24H0V0z\" fill=\"none\"/>\n",
              "    <path d=\"M18.56 5.44l.94 2.06.94-2.06 2.06-.94-2.06-.94-.94-2.06-.94 2.06-2.06.94zm-11 1L8.5 8.5l.94-2.06 2.06-.94-2.06-.94L8.5 2.5l-.94 2.06-2.06.94zm10 10l.94 2.06.94-2.06 2.06-.94-2.06-.94-.94-2.06-.94 2.06-2.06.94z\"/><path d=\"M17.41 7.96l-1.37-1.37c-.4-.4-.92-.59-1.43-.59-.52 0-1.04.2-1.43.59L10.3 9.45l-7.72 7.72c-.78.78-.78 2.05 0 2.83L4 21.41c.39.39.9.59 1.41.59.51 0 1.02-.2 1.41-.59l7.78-7.78 2.81-2.81c.8-.78.8-2.07 0-2.86zM5.41 20L4 18.59l7.72-7.72 1.47 1.35L5.41 20z\"/>\n",
              "  </svg>\n",
              "      </button>\n",
              "      \n",
              "  <style>\n",
              "    .colab-df-container {\n",
              "      display:flex;\n",
              "      flex-wrap:wrap;\n",
              "      gap: 12px;\n",
              "    }\n",
              "\n",
              "    .colab-df-convert {\n",
              "      background-color: #E8F0FE;\n",
              "      border: none;\n",
              "      border-radius: 50%;\n",
              "      cursor: pointer;\n",
              "      display: none;\n",
              "      fill: #1967D2;\n",
              "      height: 32px;\n",
              "      padding: 0 0 0 0;\n",
              "      width: 32px;\n",
              "    }\n",
              "\n",
              "    .colab-df-convert:hover {\n",
              "      background-color: #E2EBFA;\n",
              "      box-shadow: 0px 1px 2px rgba(60, 64, 67, 0.3), 0px 1px 3px 1px rgba(60, 64, 67, 0.15);\n",
              "      fill: #174EA6;\n",
              "    }\n",
              "\n",
              "    [theme=dark] .colab-df-convert {\n",
              "      background-color: #3B4455;\n",
              "      fill: #D2E3FC;\n",
              "    }\n",
              "\n",
              "    [theme=dark] .colab-df-convert:hover {\n",
              "      background-color: #434B5C;\n",
              "      box-shadow: 0px 1px 3px 1px rgba(0, 0, 0, 0.15);\n",
              "      filter: drop-shadow(0px 1px 2px rgba(0, 0, 0, 0.3));\n",
              "      fill: #FFFFFF;\n",
              "    }\n",
              "  </style>\n",
              "\n",
              "      <script>\n",
              "        const buttonEl =\n",
              "          document.querySelector('#df-8f079427-a9de-4b83-af62-4800d03ef2ec button.colab-df-convert');\n",
              "        buttonEl.style.display =\n",
              "          google.colab.kernel.accessAllowed ? 'block' : 'none';\n",
              "\n",
              "        async function convertToInteractive(key) {\n",
              "          const element = document.querySelector('#df-8f079427-a9de-4b83-af62-4800d03ef2ec');\n",
              "          const dataTable =\n",
              "            await google.colab.kernel.invokeFunction('convertToInteractive',\n",
              "                                                     [key], {});\n",
              "          if (!dataTable) return;\n",
              "\n",
              "          const docLinkHtml = 'Like what you see? Visit the ' +\n",
              "            '<a target=\"_blank\" href=https://colab.research.google.com/notebooks/data_table.ipynb>data table notebook</a>'\n",
              "            + ' to learn more about interactive tables.';\n",
              "          element.innerHTML = '';\n",
              "          dataTable['output_type'] = 'display_data';\n",
              "          await google.colab.output.renderOutput(dataTable, element);\n",
              "          const docLink = document.createElement('div');\n",
              "          docLink.innerHTML = docLinkHtml;\n",
              "          element.appendChild(docLink);\n",
              "        }\n",
              "      </script>\n",
              "    </div>\n",
              "  </div>\n",
              "  "
            ]
          },
          "metadata": {},
          "execution_count": 54
        },
        {
          "output_type": "stream",
          "name": "stdout",
          "text": [
            "Warning: Total number of columns (38) exceeds max_columns (20) limiting to first (20) columns.\n"
          ]
        }
      ]
    },
    {
      "cell_type": "markdown",
      "source": [
        "3.Review the column names with star_wars.columns."
      ],
      "metadata": {
        "id": "wrGXTC_MY1aT"
      }
    },
    {
      "cell_type": "code",
      "source": [
        "star_war_df.columns"
      ],
      "metadata": {
        "colab": {
          "base_uri": "https://localhost:8080/"
        },
        "id": "IayaP8ulYIbR",
        "outputId": "ebce1cdc-6b9a-435d-ff6b-6ce379018b2c"
      },
      "execution_count": 55,
      "outputs": [
        {
          "output_type": "execute_result",
          "data": {
            "text/plain": [
              "Index(['RespondentID',\n",
              "       'Have you seen any of the 6 films in the Star Wars franchise?',\n",
              "       'Do you consider yourself to be a fan of the Star Wars film franchise?',\n",
              "       'Which of the following Star Wars films have you seen? Please select all that apply.',\n",
              "       'Unnamed: 4', 'Unnamed: 5', 'Unnamed: 6', 'Unnamed: 7', 'Unnamed: 8',\n",
              "       'Please rank the Star Wars films in order of preference with 1 being your favorite film in the franchise and 6 being your least favorite film.',\n",
              "       'Unnamed: 10', 'Unnamed: 11', 'Unnamed: 12', 'Unnamed: 13',\n",
              "       'Unnamed: 14',\n",
              "       'Please state whether you view the following characters favorably, unfavorably, or are unfamiliar with him/her.',\n",
              "       'Unnamed: 16', 'Unnamed: 17', 'Unnamed: 18', 'Unnamed: 19',\n",
              "       'Unnamed: 20', 'Unnamed: 21', 'Unnamed: 22', 'Unnamed: 23',\n",
              "       'Unnamed: 24', 'Unnamed: 25', 'Unnamed: 26', 'Unnamed: 27',\n",
              "       'Unnamed: 28', 'Which character shot first?',\n",
              "       'Are you familiar with the Expanded Universe?',\n",
              "       'Do you consider yourself to be a fan of the Expanded Universe?æ',\n",
              "       'Do you consider yourself to be a fan of the Star Trek franchise?',\n",
              "       'Gender', 'Age', 'Household Income', 'Education',\n",
              "       'Location (Census Region)'],\n",
              "      dtype='object')"
            ]
          },
          "metadata": {},
          "execution_count": 55
        }
      ]
    },
    {
      "cell_type": "code",
      "source": [
        "print(star_war_df.index)"
      ],
      "metadata": {
        "colab": {
          "base_uri": "https://localhost:8080/"
        },
        "id": "LDwY2SVvZIwh",
        "outputId": "ae0899a8-5187-4b20-e8f6-6a27a66061aa"
      },
      "execution_count": 56,
      "outputs": [
        {
          "output_type": "stream",
          "name": "stdout",
          "text": [
            "RangeIndex(start=0, stop=1187, step=1)\n"
          ]
        }
      ]
    },
    {
      "cell_type": "markdown",
      "source": [
        "# Data Cleaning "
      ],
      "metadata": {
        "id": "jouwCMMVZm_x"
      }
    },
    {
      "cell_type": "markdown",
      "source": [
        "Removed invalid data from the column"
      ],
      "metadata": {
        "id": "F4byL4LZa8in"
      }
    },
    {
      "cell_type": "code",
      "source": [
        "# Drop columns which contain missing value.\n",
        "star_war_df = star_war_df.dropna(subset=['RespondentID'])\n",
        "star_war_df.head()"
      ],
      "metadata": {
        "colab": {
          "base_uri": "https://localhost:8080/",
          "height": 431
        },
        "id": "z3AIvHCJZ3NX",
        "outputId": "e7c97f50-f17f-4468-8bdd-e7386004074a"
      },
      "execution_count": 57,
      "outputs": [
        {
          "output_type": "execute_result",
          "data": {
            "text/plain": [
              "   RespondentID Have you seen any of the 6 films in the Star Wars franchise?  \\\n",
              "1  3.292880e+09                                                Yes             \n",
              "2  3.292880e+09                                                 No             \n",
              "3  3.292765e+09                                                Yes             \n",
              "4  3.292763e+09                                                Yes             \n",
              "5  3.292731e+09                                                Yes             \n",
              "\n",
              "  Do you consider yourself to be a fan of the Star Wars film franchise?  \\\n",
              "1                                                Yes                      \n",
              "2                                                NaN                      \n",
              "3                                                 No                      \n",
              "4                                                Yes                      \n",
              "5                                                Yes                      \n",
              "\n",
              "  Which of the following Star Wars films have you seen? Please select all that apply.  \\\n",
              "1           Star Wars: Episode I  The Phantom Menace                                    \n",
              "2                                                NaN                                    \n",
              "3           Star Wars: Episode I  The Phantom Menace                                    \n",
              "4           Star Wars: Episode I  The Phantom Menace                                    \n",
              "5           Star Wars: Episode I  The Phantom Menace                                    \n",
              "\n",
              "                                    Unnamed: 4  \\\n",
              "1  Star Wars: Episode II  Attack of the Clones   \n",
              "2                                          NaN   \n",
              "3  Star Wars: Episode II  Attack of the Clones   \n",
              "4  Star Wars: Episode II  Attack of the Clones   \n",
              "5  Star Wars: Episode II  Attack of the Clones   \n",
              "\n",
              "                                    Unnamed: 5  \\\n",
              "1  Star Wars: Episode III  Revenge of the Sith   \n",
              "2                                          NaN   \n",
              "3  Star Wars: Episode III  Revenge of the Sith   \n",
              "4  Star Wars: Episode III  Revenge of the Sith   \n",
              "5  Star Wars: Episode III  Revenge of the Sith   \n",
              "\n",
              "                          Unnamed: 6  \\\n",
              "1  Star Wars: Episode IV  A New Hope   \n",
              "2                                NaN   \n",
              "3                                NaN   \n",
              "4  Star Wars: Episode IV  A New Hope   \n",
              "5  Star Wars: Episode IV  A New Hope   \n",
              "\n",
              "                                     Unnamed: 7  \\\n",
              "1  Star Wars: Episode V The Empire Strikes Back   \n",
              "2                                           NaN   \n",
              "3                                           NaN   \n",
              "4  Star Wars: Episode V The Empire Strikes Back   \n",
              "5  Star Wars: Episode V The Empire Strikes Back   \n",
              "\n",
              "                                 Unnamed: 8  \\\n",
              "1  Star Wars: Episode VI Return of the Jedi   \n",
              "2                                       NaN   \n",
              "3                                       NaN   \n",
              "4  Star Wars: Episode VI Return of the Jedi   \n",
              "5  Star Wars: Episode VI Return of the Jedi   \n",
              "\n",
              "  Please rank the Star Wars films in order of preference with 1 being your favorite film in the franchise and 6 being your least favorite film.  \\\n",
              "1                                                  3                                                                                              \n",
              "2                                                NaN                                                                                              \n",
              "3                                                  1                                                                                              \n",
              "4                                                  5                                                                                              \n",
              "5                                                  5                                                                                              \n",
              "\n",
              "   ...         Unnamed: 28       Which character shot first?  \\\n",
              "1  ...      Very favorably  I don't understand this question   \n",
              "2  ...                 NaN                               NaN   \n",
              "3  ...    Unfamiliar (N/A)  I don't understand this question   \n",
              "4  ...      Very favorably  I don't understand this question   \n",
              "5  ...  Somewhat favorably                            Greedo   \n",
              "\n",
              "  Are you familiar with the Expanded Universe?  \\\n",
              "1                                          Yes   \n",
              "2                                          NaN   \n",
              "3                                           No   \n",
              "4                                           No   \n",
              "5                                          Yes   \n",
              "\n",
              "  Do you consider yourself to be a fan of the Expanded Universe?æ  \\\n",
              "1                                                 No                 \n",
              "2                                                NaN                 \n",
              "3                                                NaN                 \n",
              "4                                                NaN                 \n",
              "5                                                 No                 \n",
              "\n",
              "  Do you consider yourself to be a fan of the Star Trek franchise? Gender  \\\n",
              "1                                                 No                 Male   \n",
              "2                                                Yes                 Male   \n",
              "3                                                 No                 Male   \n",
              "4                                                Yes                 Male   \n",
              "5                                                 No                 Male   \n",
              "\n",
              "     Age     Household Income                         Education  \\\n",
              "1  18-29                  NaN                High school degree   \n",
              "2  18-29         $0 - $24,999                   Bachelor degree   \n",
              "3  18-29         $0 - $24,999                High school degree   \n",
              "4  18-29  $100,000 - $149,999  Some college or Associate degree   \n",
              "5  18-29  $100,000 - $149,999  Some college or Associate degree   \n",
              "\n",
              "  Location (Census Region)  \n",
              "1           South Atlantic  \n",
              "2       West South Central  \n",
              "3       West North Central  \n",
              "4       West North Central  \n",
              "5       West North Central  \n",
              "\n",
              "[5 rows x 38 columns]"
            ],
            "text/html": [
              "\n",
              "  <div id=\"df-3a73ff96-31d0-4a88-8b3a-07114a2d8865\">\n",
              "    <div class=\"colab-df-container\">\n",
              "      <div>\n",
              "<style scoped>\n",
              "    .dataframe tbody tr th:only-of-type {\n",
              "        vertical-align: middle;\n",
              "    }\n",
              "\n",
              "    .dataframe tbody tr th {\n",
              "        vertical-align: top;\n",
              "    }\n",
              "\n",
              "    .dataframe thead th {\n",
              "        text-align: right;\n",
              "    }\n",
              "</style>\n",
              "<table border=\"1\" class=\"dataframe\">\n",
              "  <thead>\n",
              "    <tr style=\"text-align: right;\">\n",
              "      <th></th>\n",
              "      <th>RespondentID</th>\n",
              "      <th>Have you seen any of the 6 films in the Star Wars franchise?</th>\n",
              "      <th>Do you consider yourself to be a fan of the Star Wars film franchise?</th>\n",
              "      <th>Which of the following Star Wars films have you seen? Please select all that apply.</th>\n",
              "      <th>Unnamed: 4</th>\n",
              "      <th>Unnamed: 5</th>\n",
              "      <th>Unnamed: 6</th>\n",
              "      <th>Unnamed: 7</th>\n",
              "      <th>Unnamed: 8</th>\n",
              "      <th>Please rank the Star Wars films in order of preference with 1 being your favorite film in the franchise and 6 being your least favorite film.</th>\n",
              "      <th>...</th>\n",
              "      <th>Unnamed: 28</th>\n",
              "      <th>Which character shot first?</th>\n",
              "      <th>Are you familiar with the Expanded Universe?</th>\n",
              "      <th>Do you consider yourself to be a fan of the Expanded Universe?æ</th>\n",
              "      <th>Do you consider yourself to be a fan of the Star Trek franchise?</th>\n",
              "      <th>Gender</th>\n",
              "      <th>Age</th>\n",
              "      <th>Household Income</th>\n",
              "      <th>Education</th>\n",
              "      <th>Location (Census Region)</th>\n",
              "    </tr>\n",
              "  </thead>\n",
              "  <tbody>\n",
              "    <tr>\n",
              "      <th>1</th>\n",
              "      <td>3.292880e+09</td>\n",
              "      <td>Yes</td>\n",
              "      <td>Yes</td>\n",
              "      <td>Star Wars: Episode I  The Phantom Menace</td>\n",
              "      <td>Star Wars: Episode II  Attack of the Clones</td>\n",
              "      <td>Star Wars: Episode III  Revenge of the Sith</td>\n",
              "      <td>Star Wars: Episode IV  A New Hope</td>\n",
              "      <td>Star Wars: Episode V The Empire Strikes Back</td>\n",
              "      <td>Star Wars: Episode VI Return of the Jedi</td>\n",
              "      <td>3</td>\n",
              "      <td>...</td>\n",
              "      <td>Very favorably</td>\n",
              "      <td>I don't understand this question</td>\n",
              "      <td>Yes</td>\n",
              "      <td>No</td>\n",
              "      <td>No</td>\n",
              "      <td>Male</td>\n",
              "      <td>18-29</td>\n",
              "      <td>NaN</td>\n",
              "      <td>High school degree</td>\n",
              "      <td>South Atlantic</td>\n",
              "    </tr>\n",
              "    <tr>\n",
              "      <th>2</th>\n",
              "      <td>3.292880e+09</td>\n",
              "      <td>No</td>\n",
              "      <td>NaN</td>\n",
              "      <td>NaN</td>\n",
              "      <td>NaN</td>\n",
              "      <td>NaN</td>\n",
              "      <td>NaN</td>\n",
              "      <td>NaN</td>\n",
              "      <td>NaN</td>\n",
              "      <td>NaN</td>\n",
              "      <td>...</td>\n",
              "      <td>NaN</td>\n",
              "      <td>NaN</td>\n",
              "      <td>NaN</td>\n",
              "      <td>NaN</td>\n",
              "      <td>Yes</td>\n",
              "      <td>Male</td>\n",
              "      <td>18-29</td>\n",
              "      <td>$0 - $24,999</td>\n",
              "      <td>Bachelor degree</td>\n",
              "      <td>West South Central</td>\n",
              "    </tr>\n",
              "    <tr>\n",
              "      <th>3</th>\n",
              "      <td>3.292765e+09</td>\n",
              "      <td>Yes</td>\n",
              "      <td>No</td>\n",
              "      <td>Star Wars: Episode I  The Phantom Menace</td>\n",
              "      <td>Star Wars: Episode II  Attack of the Clones</td>\n",
              "      <td>Star Wars: Episode III  Revenge of the Sith</td>\n",
              "      <td>NaN</td>\n",
              "      <td>NaN</td>\n",
              "      <td>NaN</td>\n",
              "      <td>1</td>\n",
              "      <td>...</td>\n",
              "      <td>Unfamiliar (N/A)</td>\n",
              "      <td>I don't understand this question</td>\n",
              "      <td>No</td>\n",
              "      <td>NaN</td>\n",
              "      <td>No</td>\n",
              "      <td>Male</td>\n",
              "      <td>18-29</td>\n",
              "      <td>$0 - $24,999</td>\n",
              "      <td>High school degree</td>\n",
              "      <td>West North Central</td>\n",
              "    </tr>\n",
              "    <tr>\n",
              "      <th>4</th>\n",
              "      <td>3.292763e+09</td>\n",
              "      <td>Yes</td>\n",
              "      <td>Yes</td>\n",
              "      <td>Star Wars: Episode I  The Phantom Menace</td>\n",
              "      <td>Star Wars: Episode II  Attack of the Clones</td>\n",
              "      <td>Star Wars: Episode III  Revenge of the Sith</td>\n",
              "      <td>Star Wars: Episode IV  A New Hope</td>\n",
              "      <td>Star Wars: Episode V The Empire Strikes Back</td>\n",
              "      <td>Star Wars: Episode VI Return of the Jedi</td>\n",
              "      <td>5</td>\n",
              "      <td>...</td>\n",
              "      <td>Very favorably</td>\n",
              "      <td>I don't understand this question</td>\n",
              "      <td>No</td>\n",
              "      <td>NaN</td>\n",
              "      <td>Yes</td>\n",
              "      <td>Male</td>\n",
              "      <td>18-29</td>\n",
              "      <td>$100,000 - $149,999</td>\n",
              "      <td>Some college or Associate degree</td>\n",
              "      <td>West North Central</td>\n",
              "    </tr>\n",
              "    <tr>\n",
              "      <th>5</th>\n",
              "      <td>3.292731e+09</td>\n",
              "      <td>Yes</td>\n",
              "      <td>Yes</td>\n",
              "      <td>Star Wars: Episode I  The Phantom Menace</td>\n",
              "      <td>Star Wars: Episode II  Attack of the Clones</td>\n",
              "      <td>Star Wars: Episode III  Revenge of the Sith</td>\n",
              "      <td>Star Wars: Episode IV  A New Hope</td>\n",
              "      <td>Star Wars: Episode V The Empire Strikes Back</td>\n",
              "      <td>Star Wars: Episode VI Return of the Jedi</td>\n",
              "      <td>5</td>\n",
              "      <td>...</td>\n",
              "      <td>Somewhat favorably</td>\n",
              "      <td>Greedo</td>\n",
              "      <td>Yes</td>\n",
              "      <td>No</td>\n",
              "      <td>No</td>\n",
              "      <td>Male</td>\n",
              "      <td>18-29</td>\n",
              "      <td>$100,000 - $149,999</td>\n",
              "      <td>Some college or Associate degree</td>\n",
              "      <td>West North Central</td>\n",
              "    </tr>\n",
              "  </tbody>\n",
              "</table>\n",
              "<p>5 rows × 38 columns</p>\n",
              "</div>\n",
              "      <button class=\"colab-df-convert\" onclick=\"convertToInteractive('df-3a73ff96-31d0-4a88-8b3a-07114a2d8865')\"\n",
              "              title=\"Convert this dataframe to an interactive table.\"\n",
              "              style=\"display:none;\">\n",
              "        \n",
              "  <svg xmlns=\"http://www.w3.org/2000/svg\" height=\"24px\"viewBox=\"0 0 24 24\"\n",
              "       width=\"24px\">\n",
              "    <path d=\"M0 0h24v24H0V0z\" fill=\"none\"/>\n",
              "    <path d=\"M18.56 5.44l.94 2.06.94-2.06 2.06-.94-2.06-.94-.94-2.06-.94 2.06-2.06.94zm-11 1L8.5 8.5l.94-2.06 2.06-.94-2.06-.94L8.5 2.5l-.94 2.06-2.06.94zm10 10l.94 2.06.94-2.06 2.06-.94-2.06-.94-.94-2.06-.94 2.06-2.06.94z\"/><path d=\"M17.41 7.96l-1.37-1.37c-.4-.4-.92-.59-1.43-.59-.52 0-1.04.2-1.43.59L10.3 9.45l-7.72 7.72c-.78.78-.78 2.05 0 2.83L4 21.41c.39.39.9.59 1.41.59.51 0 1.02-.2 1.41-.59l7.78-7.78 2.81-2.81c.8-.78.8-2.07 0-2.86zM5.41 20L4 18.59l7.72-7.72 1.47 1.35L5.41 20z\"/>\n",
              "  </svg>\n",
              "      </button>\n",
              "      \n",
              "  <style>\n",
              "    .colab-df-container {\n",
              "      display:flex;\n",
              "      flex-wrap:wrap;\n",
              "      gap: 12px;\n",
              "    }\n",
              "\n",
              "    .colab-df-convert {\n",
              "      background-color: #E8F0FE;\n",
              "      border: none;\n",
              "      border-radius: 50%;\n",
              "      cursor: pointer;\n",
              "      display: none;\n",
              "      fill: #1967D2;\n",
              "      height: 32px;\n",
              "      padding: 0 0 0 0;\n",
              "      width: 32px;\n",
              "    }\n",
              "\n",
              "    .colab-df-convert:hover {\n",
              "      background-color: #E2EBFA;\n",
              "      box-shadow: 0px 1px 2px rgba(60, 64, 67, 0.3), 0px 1px 3px 1px rgba(60, 64, 67, 0.15);\n",
              "      fill: #174EA6;\n",
              "    }\n",
              "\n",
              "    [theme=dark] .colab-df-convert {\n",
              "      background-color: #3B4455;\n",
              "      fill: #D2E3FC;\n",
              "    }\n",
              "\n",
              "    [theme=dark] .colab-df-convert:hover {\n",
              "      background-color: #434B5C;\n",
              "      box-shadow: 0px 1px 3px 1px rgba(0, 0, 0, 0.15);\n",
              "      filter: drop-shadow(0px 1px 2px rgba(0, 0, 0, 0.3));\n",
              "      fill: #FFFFFF;\n",
              "    }\n",
              "  </style>\n",
              "\n",
              "      <script>\n",
              "        const buttonEl =\n",
              "          document.querySelector('#df-3a73ff96-31d0-4a88-8b3a-07114a2d8865 button.colab-df-convert');\n",
              "        buttonEl.style.display =\n",
              "          google.colab.kernel.accessAllowed ? 'block' : 'none';\n",
              "\n",
              "        async function convertToInteractive(key) {\n",
              "          const element = document.querySelector('#df-3a73ff96-31d0-4a88-8b3a-07114a2d8865');\n",
              "          const dataTable =\n",
              "            await google.colab.kernel.invokeFunction('convertToInteractive',\n",
              "                                                     [key], {});\n",
              "          if (!dataTable) return;\n",
              "\n",
              "          const docLinkHtml = 'Like what you see? Visit the ' +\n",
              "            '<a target=\"_blank\" href=https://colab.research.google.com/notebooks/data_table.ipynb>data table notebook</a>'\n",
              "            + ' to learn more about interactive tables.';\n",
              "          element.innerHTML = '';\n",
              "          dataTable['output_type'] = 'display_data';\n",
              "          await google.colab.output.renderOutput(dataTable, element);\n",
              "          const docLink = document.createElement('div');\n",
              "          docLink.innerHTML = docLinkHtml;\n",
              "          element.appendChild(docLink);\n",
              "        }\n",
              "      </script>\n",
              "    </div>\n",
              "  </div>\n",
              "  "
            ]
          },
          "metadata": {},
          "execution_count": 57
        },
        {
          "output_type": "stream",
          "name": "stdout",
          "text": [
            "Warning: Total number of columns (38) exceeds max_columns (20) limiting to first (20) columns.\n"
          ]
        }
      ]
    },
    {
      "cell_type": "code",
      "source": [
        "star_war_df['Do you consider yourself to be a fan of the Expanded Universe?\\x8cæ'].isnull().value_counts()"
      ],
      "metadata": {
        "colab": {
          "base_uri": "https://localhost:8080/"
        },
        "id": "1iwuBO55cTbd",
        "outputId": "dceb1f84-830f-46bb-f161-e4aae3ced207"
      },
      "execution_count": 58,
      "outputs": [
        {
          "output_type": "execute_result",
          "data": {
            "text/plain": [
              "True     973\n",
              "False    213\n",
              "Name: Do you consider yourself to be a fan of the Expanded Universe?æ, dtype: int64"
            ]
          },
          "metadata": {},
          "execution_count": 58
        }
      ]
    },
    {
      "cell_type": "code",
      "source": [
        "star_war_df['Have you seen any of the 6 films in the Star Wars franchise?'].value_counts()"
      ],
      "metadata": {
        "colab": {
          "base_uri": "https://localhost:8080/"
        },
        "id": "k3SXHzhMdcWp",
        "outputId": "1b67a125-24d0-4f57-fcf6-81da10fcb7a9"
      },
      "execution_count": 59,
      "outputs": [
        {
          "output_type": "execute_result",
          "data": {
            "text/plain": [
              "Yes    936\n",
              "No     250\n",
              "Name: Have you seen any of the 6 films in the Star Wars franchise?, dtype: int64"
            ]
          },
          "metadata": {},
          "execution_count": 59
        }
      ]
    },
    {
      "cell_type": "markdown",
      "source": [
        "\n",
        "\n",
        "\n",
        "Convert the Have you seen any of the 6 films in the Star Wars franchise? column to the Boolean type. The values for the second and third columns which are respectively are Yes, No, NaN. We want to change them to True or False \n",
        "\n",
        "\n",
        "\n",
        "\n",
        "\n"
      ],
      "metadata": {
        "id": "4qRKL4Unefh9"
      }
    },
    {
      "cell_type": "code",
      "source": [
        "yes_no = {\"Yes\":True, \"No\":False}"
      ],
      "metadata": {
        "id": "Di4MHC7eejVj"
      },
      "execution_count": 60,
      "outputs": []
    },
    {
      "cell_type": "code",
      "source": [
        "star_war_df['Have you seen any of the 6 films in the Star Wars franchise?']= star_war_df['Have you seen any of the 6 films in the Star Wars franchise?'].map(yes_no)\n",
        "star_war_df.head()"
      ],
      "metadata": {
        "colab": {
          "base_uri": "https://localhost:8080/",
          "height": 431
        },
        "id": "-_ry5bJPf7Cx",
        "outputId": "0c328c24-963f-4b4d-b678-0792cd1beb28"
      },
      "execution_count": 61,
      "outputs": [
        {
          "output_type": "execute_result",
          "data": {
            "text/plain": [
              "   RespondentID  Have you seen any of the 6 films in the Star Wars franchise?  \\\n",
              "1  3.292880e+09                                               True              \n",
              "2  3.292880e+09                                              False              \n",
              "3  3.292765e+09                                               True              \n",
              "4  3.292763e+09                                               True              \n",
              "5  3.292731e+09                                               True              \n",
              "\n",
              "  Do you consider yourself to be a fan of the Star Wars film franchise?  \\\n",
              "1                                                Yes                      \n",
              "2                                                NaN                      \n",
              "3                                                 No                      \n",
              "4                                                Yes                      \n",
              "5                                                Yes                      \n",
              "\n",
              "  Which of the following Star Wars films have you seen? Please select all that apply.  \\\n",
              "1           Star Wars: Episode I  The Phantom Menace                                    \n",
              "2                                                NaN                                    \n",
              "3           Star Wars: Episode I  The Phantom Menace                                    \n",
              "4           Star Wars: Episode I  The Phantom Menace                                    \n",
              "5           Star Wars: Episode I  The Phantom Menace                                    \n",
              "\n",
              "                                    Unnamed: 4  \\\n",
              "1  Star Wars: Episode II  Attack of the Clones   \n",
              "2                                          NaN   \n",
              "3  Star Wars: Episode II  Attack of the Clones   \n",
              "4  Star Wars: Episode II  Attack of the Clones   \n",
              "5  Star Wars: Episode II  Attack of the Clones   \n",
              "\n",
              "                                    Unnamed: 5  \\\n",
              "1  Star Wars: Episode III  Revenge of the Sith   \n",
              "2                                          NaN   \n",
              "3  Star Wars: Episode III  Revenge of the Sith   \n",
              "4  Star Wars: Episode III  Revenge of the Sith   \n",
              "5  Star Wars: Episode III  Revenge of the Sith   \n",
              "\n",
              "                          Unnamed: 6  \\\n",
              "1  Star Wars: Episode IV  A New Hope   \n",
              "2                                NaN   \n",
              "3                                NaN   \n",
              "4  Star Wars: Episode IV  A New Hope   \n",
              "5  Star Wars: Episode IV  A New Hope   \n",
              "\n",
              "                                     Unnamed: 7  \\\n",
              "1  Star Wars: Episode V The Empire Strikes Back   \n",
              "2                                           NaN   \n",
              "3                                           NaN   \n",
              "4  Star Wars: Episode V The Empire Strikes Back   \n",
              "5  Star Wars: Episode V The Empire Strikes Back   \n",
              "\n",
              "                                 Unnamed: 8  \\\n",
              "1  Star Wars: Episode VI Return of the Jedi   \n",
              "2                                       NaN   \n",
              "3                                       NaN   \n",
              "4  Star Wars: Episode VI Return of the Jedi   \n",
              "5  Star Wars: Episode VI Return of the Jedi   \n",
              "\n",
              "  Please rank the Star Wars films in order of preference with 1 being your favorite film in the franchise and 6 being your least favorite film.  \\\n",
              "1                                                  3                                                                                              \n",
              "2                                                NaN                                                                                              \n",
              "3                                                  1                                                                                              \n",
              "4                                                  5                                                                                              \n",
              "5                                                  5                                                                                              \n",
              "\n",
              "   ...         Unnamed: 28       Which character shot first?  \\\n",
              "1  ...      Very favorably  I don't understand this question   \n",
              "2  ...                 NaN                               NaN   \n",
              "3  ...    Unfamiliar (N/A)  I don't understand this question   \n",
              "4  ...      Very favorably  I don't understand this question   \n",
              "5  ...  Somewhat favorably                            Greedo   \n",
              "\n",
              "  Are you familiar with the Expanded Universe?  \\\n",
              "1                                          Yes   \n",
              "2                                          NaN   \n",
              "3                                           No   \n",
              "4                                           No   \n",
              "5                                          Yes   \n",
              "\n",
              "  Do you consider yourself to be a fan of the Expanded Universe?æ  \\\n",
              "1                                                 No                 \n",
              "2                                                NaN                 \n",
              "3                                                NaN                 \n",
              "4                                                NaN                 \n",
              "5                                                 No                 \n",
              "\n",
              "  Do you consider yourself to be a fan of the Star Trek franchise? Gender  \\\n",
              "1                                                 No                 Male   \n",
              "2                                                Yes                 Male   \n",
              "3                                                 No                 Male   \n",
              "4                                                Yes                 Male   \n",
              "5                                                 No                 Male   \n",
              "\n",
              "     Age     Household Income                         Education  \\\n",
              "1  18-29                  NaN                High school degree   \n",
              "2  18-29         $0 - $24,999                   Bachelor degree   \n",
              "3  18-29         $0 - $24,999                High school degree   \n",
              "4  18-29  $100,000 - $149,999  Some college or Associate degree   \n",
              "5  18-29  $100,000 - $149,999  Some college or Associate degree   \n",
              "\n",
              "  Location (Census Region)  \n",
              "1           South Atlantic  \n",
              "2       West South Central  \n",
              "3       West North Central  \n",
              "4       West North Central  \n",
              "5       West North Central  \n",
              "\n",
              "[5 rows x 38 columns]"
            ],
            "text/html": [
              "\n",
              "  <div id=\"df-0206596a-503f-4183-83b1-dfbc5efec205\">\n",
              "    <div class=\"colab-df-container\">\n",
              "      <div>\n",
              "<style scoped>\n",
              "    .dataframe tbody tr th:only-of-type {\n",
              "        vertical-align: middle;\n",
              "    }\n",
              "\n",
              "    .dataframe tbody tr th {\n",
              "        vertical-align: top;\n",
              "    }\n",
              "\n",
              "    .dataframe thead th {\n",
              "        text-align: right;\n",
              "    }\n",
              "</style>\n",
              "<table border=\"1\" class=\"dataframe\">\n",
              "  <thead>\n",
              "    <tr style=\"text-align: right;\">\n",
              "      <th></th>\n",
              "      <th>RespondentID</th>\n",
              "      <th>Have you seen any of the 6 films in the Star Wars franchise?</th>\n",
              "      <th>Do you consider yourself to be a fan of the Star Wars film franchise?</th>\n",
              "      <th>Which of the following Star Wars films have you seen? Please select all that apply.</th>\n",
              "      <th>Unnamed: 4</th>\n",
              "      <th>Unnamed: 5</th>\n",
              "      <th>Unnamed: 6</th>\n",
              "      <th>Unnamed: 7</th>\n",
              "      <th>Unnamed: 8</th>\n",
              "      <th>Please rank the Star Wars films in order of preference with 1 being your favorite film in the franchise and 6 being your least favorite film.</th>\n",
              "      <th>...</th>\n",
              "      <th>Unnamed: 28</th>\n",
              "      <th>Which character shot first?</th>\n",
              "      <th>Are you familiar with the Expanded Universe?</th>\n",
              "      <th>Do you consider yourself to be a fan of the Expanded Universe?æ</th>\n",
              "      <th>Do you consider yourself to be a fan of the Star Trek franchise?</th>\n",
              "      <th>Gender</th>\n",
              "      <th>Age</th>\n",
              "      <th>Household Income</th>\n",
              "      <th>Education</th>\n",
              "      <th>Location (Census Region)</th>\n",
              "    </tr>\n",
              "  </thead>\n",
              "  <tbody>\n",
              "    <tr>\n",
              "      <th>1</th>\n",
              "      <td>3.292880e+09</td>\n",
              "      <td>True</td>\n",
              "      <td>Yes</td>\n",
              "      <td>Star Wars: Episode I  The Phantom Menace</td>\n",
              "      <td>Star Wars: Episode II  Attack of the Clones</td>\n",
              "      <td>Star Wars: Episode III  Revenge of the Sith</td>\n",
              "      <td>Star Wars: Episode IV  A New Hope</td>\n",
              "      <td>Star Wars: Episode V The Empire Strikes Back</td>\n",
              "      <td>Star Wars: Episode VI Return of the Jedi</td>\n",
              "      <td>3</td>\n",
              "      <td>...</td>\n",
              "      <td>Very favorably</td>\n",
              "      <td>I don't understand this question</td>\n",
              "      <td>Yes</td>\n",
              "      <td>No</td>\n",
              "      <td>No</td>\n",
              "      <td>Male</td>\n",
              "      <td>18-29</td>\n",
              "      <td>NaN</td>\n",
              "      <td>High school degree</td>\n",
              "      <td>South Atlantic</td>\n",
              "    </tr>\n",
              "    <tr>\n",
              "      <th>2</th>\n",
              "      <td>3.292880e+09</td>\n",
              "      <td>False</td>\n",
              "      <td>NaN</td>\n",
              "      <td>NaN</td>\n",
              "      <td>NaN</td>\n",
              "      <td>NaN</td>\n",
              "      <td>NaN</td>\n",
              "      <td>NaN</td>\n",
              "      <td>NaN</td>\n",
              "      <td>NaN</td>\n",
              "      <td>...</td>\n",
              "      <td>NaN</td>\n",
              "      <td>NaN</td>\n",
              "      <td>NaN</td>\n",
              "      <td>NaN</td>\n",
              "      <td>Yes</td>\n",
              "      <td>Male</td>\n",
              "      <td>18-29</td>\n",
              "      <td>$0 - $24,999</td>\n",
              "      <td>Bachelor degree</td>\n",
              "      <td>West South Central</td>\n",
              "    </tr>\n",
              "    <tr>\n",
              "      <th>3</th>\n",
              "      <td>3.292765e+09</td>\n",
              "      <td>True</td>\n",
              "      <td>No</td>\n",
              "      <td>Star Wars: Episode I  The Phantom Menace</td>\n",
              "      <td>Star Wars: Episode II  Attack of the Clones</td>\n",
              "      <td>Star Wars: Episode III  Revenge of the Sith</td>\n",
              "      <td>NaN</td>\n",
              "      <td>NaN</td>\n",
              "      <td>NaN</td>\n",
              "      <td>1</td>\n",
              "      <td>...</td>\n",
              "      <td>Unfamiliar (N/A)</td>\n",
              "      <td>I don't understand this question</td>\n",
              "      <td>No</td>\n",
              "      <td>NaN</td>\n",
              "      <td>No</td>\n",
              "      <td>Male</td>\n",
              "      <td>18-29</td>\n",
              "      <td>$0 - $24,999</td>\n",
              "      <td>High school degree</td>\n",
              "      <td>West North Central</td>\n",
              "    </tr>\n",
              "    <tr>\n",
              "      <th>4</th>\n",
              "      <td>3.292763e+09</td>\n",
              "      <td>True</td>\n",
              "      <td>Yes</td>\n",
              "      <td>Star Wars: Episode I  The Phantom Menace</td>\n",
              "      <td>Star Wars: Episode II  Attack of the Clones</td>\n",
              "      <td>Star Wars: Episode III  Revenge of the Sith</td>\n",
              "      <td>Star Wars: Episode IV  A New Hope</td>\n",
              "      <td>Star Wars: Episode V The Empire Strikes Back</td>\n",
              "      <td>Star Wars: Episode VI Return of the Jedi</td>\n",
              "      <td>5</td>\n",
              "      <td>...</td>\n",
              "      <td>Very favorably</td>\n",
              "      <td>I don't understand this question</td>\n",
              "      <td>No</td>\n",
              "      <td>NaN</td>\n",
              "      <td>Yes</td>\n",
              "      <td>Male</td>\n",
              "      <td>18-29</td>\n",
              "      <td>$100,000 - $149,999</td>\n",
              "      <td>Some college or Associate degree</td>\n",
              "      <td>West North Central</td>\n",
              "    </tr>\n",
              "    <tr>\n",
              "      <th>5</th>\n",
              "      <td>3.292731e+09</td>\n",
              "      <td>True</td>\n",
              "      <td>Yes</td>\n",
              "      <td>Star Wars: Episode I  The Phantom Menace</td>\n",
              "      <td>Star Wars: Episode II  Attack of the Clones</td>\n",
              "      <td>Star Wars: Episode III  Revenge of the Sith</td>\n",
              "      <td>Star Wars: Episode IV  A New Hope</td>\n",
              "      <td>Star Wars: Episode V The Empire Strikes Back</td>\n",
              "      <td>Star Wars: Episode VI Return of the Jedi</td>\n",
              "      <td>5</td>\n",
              "      <td>...</td>\n",
              "      <td>Somewhat favorably</td>\n",
              "      <td>Greedo</td>\n",
              "      <td>Yes</td>\n",
              "      <td>No</td>\n",
              "      <td>No</td>\n",
              "      <td>Male</td>\n",
              "      <td>18-29</td>\n",
              "      <td>$100,000 - $149,999</td>\n",
              "      <td>Some college or Associate degree</td>\n",
              "      <td>West North Central</td>\n",
              "    </tr>\n",
              "  </tbody>\n",
              "</table>\n",
              "<p>5 rows × 38 columns</p>\n",
              "</div>\n",
              "      <button class=\"colab-df-convert\" onclick=\"convertToInteractive('df-0206596a-503f-4183-83b1-dfbc5efec205')\"\n",
              "              title=\"Convert this dataframe to an interactive table.\"\n",
              "              style=\"display:none;\">\n",
              "        \n",
              "  <svg xmlns=\"http://www.w3.org/2000/svg\" height=\"24px\"viewBox=\"0 0 24 24\"\n",
              "       width=\"24px\">\n",
              "    <path d=\"M0 0h24v24H0V0z\" fill=\"none\"/>\n",
              "    <path d=\"M18.56 5.44l.94 2.06.94-2.06 2.06-.94-2.06-.94-.94-2.06-.94 2.06-2.06.94zm-11 1L8.5 8.5l.94-2.06 2.06-.94-2.06-.94L8.5 2.5l-.94 2.06-2.06.94zm10 10l.94 2.06.94-2.06 2.06-.94-2.06-.94-.94-2.06-.94 2.06-2.06.94z\"/><path d=\"M17.41 7.96l-1.37-1.37c-.4-.4-.92-.59-1.43-.59-.52 0-1.04.2-1.43.59L10.3 9.45l-7.72 7.72c-.78.78-.78 2.05 0 2.83L4 21.41c.39.39.9.59 1.41.59.51 0 1.02-.2 1.41-.59l7.78-7.78 2.81-2.81c.8-.78.8-2.07 0-2.86zM5.41 20L4 18.59l7.72-7.72 1.47 1.35L5.41 20z\"/>\n",
              "  </svg>\n",
              "      </button>\n",
              "      \n",
              "  <style>\n",
              "    .colab-df-container {\n",
              "      display:flex;\n",
              "      flex-wrap:wrap;\n",
              "      gap: 12px;\n",
              "    }\n",
              "\n",
              "    .colab-df-convert {\n",
              "      background-color: #E8F0FE;\n",
              "      border: none;\n",
              "      border-radius: 50%;\n",
              "      cursor: pointer;\n",
              "      display: none;\n",
              "      fill: #1967D2;\n",
              "      height: 32px;\n",
              "      padding: 0 0 0 0;\n",
              "      width: 32px;\n",
              "    }\n",
              "\n",
              "    .colab-df-convert:hover {\n",
              "      background-color: #E2EBFA;\n",
              "      box-shadow: 0px 1px 2px rgba(60, 64, 67, 0.3), 0px 1px 3px 1px rgba(60, 64, 67, 0.15);\n",
              "      fill: #174EA6;\n",
              "    }\n",
              "\n",
              "    [theme=dark] .colab-df-convert {\n",
              "      background-color: #3B4455;\n",
              "      fill: #D2E3FC;\n",
              "    }\n",
              "\n",
              "    [theme=dark] .colab-df-convert:hover {\n",
              "      background-color: #434B5C;\n",
              "      box-shadow: 0px 1px 3px 1px rgba(0, 0, 0, 0.15);\n",
              "      filter: drop-shadow(0px 1px 2px rgba(0, 0, 0, 0.3));\n",
              "      fill: #FFFFFF;\n",
              "    }\n",
              "  </style>\n",
              "\n",
              "      <script>\n",
              "        const buttonEl =\n",
              "          document.querySelector('#df-0206596a-503f-4183-83b1-dfbc5efec205 button.colab-df-convert');\n",
              "        buttonEl.style.display =\n",
              "          google.colab.kernel.accessAllowed ? 'block' : 'none';\n",
              "\n",
              "        async function convertToInteractive(key) {\n",
              "          const element = document.querySelector('#df-0206596a-503f-4183-83b1-dfbc5efec205');\n",
              "          const dataTable =\n",
              "            await google.colab.kernel.invokeFunction('convertToInteractive',\n",
              "                                                     [key], {});\n",
              "          if (!dataTable) return;\n",
              "\n",
              "          const docLinkHtml = 'Like what you see? Visit the ' +\n",
              "            '<a target=\"_blank\" href=https://colab.research.google.com/notebooks/data_table.ipynb>data table notebook</a>'\n",
              "            + ' to learn more about interactive tables.';\n",
              "          element.innerHTML = '';\n",
              "          dataTable['output_type'] = 'display_data';\n",
              "          await google.colab.output.renderOutput(dataTable, element);\n",
              "          const docLink = document.createElement('div');\n",
              "          docLink.innerHTML = docLinkHtml;\n",
              "          element.appendChild(docLink);\n",
              "        }\n",
              "      </script>\n",
              "    </div>\n",
              "  </div>\n",
              "  "
            ]
          },
          "metadata": {},
          "execution_count": 61
        },
        {
          "output_type": "stream",
          "name": "stdout",
          "text": [
            "Warning: Total number of columns (38) exceeds max_columns (20) limiting to first (20) columns.\n"
          ]
        }
      ]
    },
    {
      "cell_type": "markdown",
      "source": [
        "Convert the Do you consider yourself to be a fan of the Star Wars film franchise? column to the Boolean type"
      ],
      "metadata": {
        "id": "ctSEbnxyiB7c"
      }
    },
    {
      "cell_type": "code",
      "source": [
        "star_war_df['Do you consider yourself to be a fan of the Star Wars film franchise?']= star_war_df['Do you consider yourself to be a fan of the Expanded Universe?\\x8cæ'].map(yes_no)\n",
        "star_war_df.head()"
      ],
      "metadata": {
        "colab": {
          "base_uri": "https://localhost:8080/",
          "height": 431
        },
        "id": "YQ1RvEzSgQce",
        "outputId": "d731582b-7b80-4c0e-fea5-e417db96f6e6"
      },
      "execution_count": 62,
      "outputs": [
        {
          "output_type": "execute_result",
          "data": {
            "text/plain": [
              "   RespondentID  Have you seen any of the 6 films in the Star Wars franchise?  \\\n",
              "1  3.292880e+09                                               True              \n",
              "2  3.292880e+09                                              False              \n",
              "3  3.292765e+09                                               True              \n",
              "4  3.292763e+09                                               True              \n",
              "5  3.292731e+09                                               True              \n",
              "\n",
              "  Do you consider yourself to be a fan of the Star Wars film franchise?  \\\n",
              "1                                              False                      \n",
              "2                                                NaN                      \n",
              "3                                                NaN                      \n",
              "4                                                NaN                      \n",
              "5                                              False                      \n",
              "\n",
              "  Which of the following Star Wars films have you seen? Please select all that apply.  \\\n",
              "1           Star Wars: Episode I  The Phantom Menace                                    \n",
              "2                                                NaN                                    \n",
              "3           Star Wars: Episode I  The Phantom Menace                                    \n",
              "4           Star Wars: Episode I  The Phantom Menace                                    \n",
              "5           Star Wars: Episode I  The Phantom Menace                                    \n",
              "\n",
              "                                    Unnamed: 4  \\\n",
              "1  Star Wars: Episode II  Attack of the Clones   \n",
              "2                                          NaN   \n",
              "3  Star Wars: Episode II  Attack of the Clones   \n",
              "4  Star Wars: Episode II  Attack of the Clones   \n",
              "5  Star Wars: Episode II  Attack of the Clones   \n",
              "\n",
              "                                    Unnamed: 5  \\\n",
              "1  Star Wars: Episode III  Revenge of the Sith   \n",
              "2                                          NaN   \n",
              "3  Star Wars: Episode III  Revenge of the Sith   \n",
              "4  Star Wars: Episode III  Revenge of the Sith   \n",
              "5  Star Wars: Episode III  Revenge of the Sith   \n",
              "\n",
              "                          Unnamed: 6  \\\n",
              "1  Star Wars: Episode IV  A New Hope   \n",
              "2                                NaN   \n",
              "3                                NaN   \n",
              "4  Star Wars: Episode IV  A New Hope   \n",
              "5  Star Wars: Episode IV  A New Hope   \n",
              "\n",
              "                                     Unnamed: 7  \\\n",
              "1  Star Wars: Episode V The Empire Strikes Back   \n",
              "2                                           NaN   \n",
              "3                                           NaN   \n",
              "4  Star Wars: Episode V The Empire Strikes Back   \n",
              "5  Star Wars: Episode V The Empire Strikes Back   \n",
              "\n",
              "                                 Unnamed: 8  \\\n",
              "1  Star Wars: Episode VI Return of the Jedi   \n",
              "2                                       NaN   \n",
              "3                                       NaN   \n",
              "4  Star Wars: Episode VI Return of the Jedi   \n",
              "5  Star Wars: Episode VI Return of the Jedi   \n",
              "\n",
              "  Please rank the Star Wars films in order of preference with 1 being your favorite film in the franchise and 6 being your least favorite film.  \\\n",
              "1                                                  3                                                                                              \n",
              "2                                                NaN                                                                                              \n",
              "3                                                  1                                                                                              \n",
              "4                                                  5                                                                                              \n",
              "5                                                  5                                                                                              \n",
              "\n",
              "   ...         Unnamed: 28       Which character shot first?  \\\n",
              "1  ...      Very favorably  I don't understand this question   \n",
              "2  ...                 NaN                               NaN   \n",
              "3  ...    Unfamiliar (N/A)  I don't understand this question   \n",
              "4  ...      Very favorably  I don't understand this question   \n",
              "5  ...  Somewhat favorably                            Greedo   \n",
              "\n",
              "  Are you familiar with the Expanded Universe?  \\\n",
              "1                                          Yes   \n",
              "2                                          NaN   \n",
              "3                                           No   \n",
              "4                                           No   \n",
              "5                                          Yes   \n",
              "\n",
              "  Do you consider yourself to be a fan of the Expanded Universe?æ  \\\n",
              "1                                                 No                 \n",
              "2                                                NaN                 \n",
              "3                                                NaN                 \n",
              "4                                                NaN                 \n",
              "5                                                 No                 \n",
              "\n",
              "  Do you consider yourself to be a fan of the Star Trek franchise? Gender  \\\n",
              "1                                                 No                 Male   \n",
              "2                                                Yes                 Male   \n",
              "3                                                 No                 Male   \n",
              "4                                                Yes                 Male   \n",
              "5                                                 No                 Male   \n",
              "\n",
              "     Age     Household Income                         Education  \\\n",
              "1  18-29                  NaN                High school degree   \n",
              "2  18-29         $0 - $24,999                   Bachelor degree   \n",
              "3  18-29         $0 - $24,999                High school degree   \n",
              "4  18-29  $100,000 - $149,999  Some college or Associate degree   \n",
              "5  18-29  $100,000 - $149,999  Some college or Associate degree   \n",
              "\n",
              "  Location (Census Region)  \n",
              "1           South Atlantic  \n",
              "2       West South Central  \n",
              "3       West North Central  \n",
              "4       West North Central  \n",
              "5       West North Central  \n",
              "\n",
              "[5 rows x 38 columns]"
            ],
            "text/html": [
              "\n",
              "  <div id=\"df-d40a4c05-2c78-420b-9189-ac64d76a06a2\">\n",
              "    <div class=\"colab-df-container\">\n",
              "      <div>\n",
              "<style scoped>\n",
              "    .dataframe tbody tr th:only-of-type {\n",
              "        vertical-align: middle;\n",
              "    }\n",
              "\n",
              "    .dataframe tbody tr th {\n",
              "        vertical-align: top;\n",
              "    }\n",
              "\n",
              "    .dataframe thead th {\n",
              "        text-align: right;\n",
              "    }\n",
              "</style>\n",
              "<table border=\"1\" class=\"dataframe\">\n",
              "  <thead>\n",
              "    <tr style=\"text-align: right;\">\n",
              "      <th></th>\n",
              "      <th>RespondentID</th>\n",
              "      <th>Have you seen any of the 6 films in the Star Wars franchise?</th>\n",
              "      <th>Do you consider yourself to be a fan of the Star Wars film franchise?</th>\n",
              "      <th>Which of the following Star Wars films have you seen? Please select all that apply.</th>\n",
              "      <th>Unnamed: 4</th>\n",
              "      <th>Unnamed: 5</th>\n",
              "      <th>Unnamed: 6</th>\n",
              "      <th>Unnamed: 7</th>\n",
              "      <th>Unnamed: 8</th>\n",
              "      <th>Please rank the Star Wars films in order of preference with 1 being your favorite film in the franchise and 6 being your least favorite film.</th>\n",
              "      <th>...</th>\n",
              "      <th>Unnamed: 28</th>\n",
              "      <th>Which character shot first?</th>\n",
              "      <th>Are you familiar with the Expanded Universe?</th>\n",
              "      <th>Do you consider yourself to be a fan of the Expanded Universe?æ</th>\n",
              "      <th>Do you consider yourself to be a fan of the Star Trek franchise?</th>\n",
              "      <th>Gender</th>\n",
              "      <th>Age</th>\n",
              "      <th>Household Income</th>\n",
              "      <th>Education</th>\n",
              "      <th>Location (Census Region)</th>\n",
              "    </tr>\n",
              "  </thead>\n",
              "  <tbody>\n",
              "    <tr>\n",
              "      <th>1</th>\n",
              "      <td>3.292880e+09</td>\n",
              "      <td>True</td>\n",
              "      <td>False</td>\n",
              "      <td>Star Wars: Episode I  The Phantom Menace</td>\n",
              "      <td>Star Wars: Episode II  Attack of the Clones</td>\n",
              "      <td>Star Wars: Episode III  Revenge of the Sith</td>\n",
              "      <td>Star Wars: Episode IV  A New Hope</td>\n",
              "      <td>Star Wars: Episode V The Empire Strikes Back</td>\n",
              "      <td>Star Wars: Episode VI Return of the Jedi</td>\n",
              "      <td>3</td>\n",
              "      <td>...</td>\n",
              "      <td>Very favorably</td>\n",
              "      <td>I don't understand this question</td>\n",
              "      <td>Yes</td>\n",
              "      <td>No</td>\n",
              "      <td>No</td>\n",
              "      <td>Male</td>\n",
              "      <td>18-29</td>\n",
              "      <td>NaN</td>\n",
              "      <td>High school degree</td>\n",
              "      <td>South Atlantic</td>\n",
              "    </tr>\n",
              "    <tr>\n",
              "      <th>2</th>\n",
              "      <td>3.292880e+09</td>\n",
              "      <td>False</td>\n",
              "      <td>NaN</td>\n",
              "      <td>NaN</td>\n",
              "      <td>NaN</td>\n",
              "      <td>NaN</td>\n",
              "      <td>NaN</td>\n",
              "      <td>NaN</td>\n",
              "      <td>NaN</td>\n",
              "      <td>NaN</td>\n",
              "      <td>...</td>\n",
              "      <td>NaN</td>\n",
              "      <td>NaN</td>\n",
              "      <td>NaN</td>\n",
              "      <td>NaN</td>\n",
              "      <td>Yes</td>\n",
              "      <td>Male</td>\n",
              "      <td>18-29</td>\n",
              "      <td>$0 - $24,999</td>\n",
              "      <td>Bachelor degree</td>\n",
              "      <td>West South Central</td>\n",
              "    </tr>\n",
              "    <tr>\n",
              "      <th>3</th>\n",
              "      <td>3.292765e+09</td>\n",
              "      <td>True</td>\n",
              "      <td>NaN</td>\n",
              "      <td>Star Wars: Episode I  The Phantom Menace</td>\n",
              "      <td>Star Wars: Episode II  Attack of the Clones</td>\n",
              "      <td>Star Wars: Episode III  Revenge of the Sith</td>\n",
              "      <td>NaN</td>\n",
              "      <td>NaN</td>\n",
              "      <td>NaN</td>\n",
              "      <td>1</td>\n",
              "      <td>...</td>\n",
              "      <td>Unfamiliar (N/A)</td>\n",
              "      <td>I don't understand this question</td>\n",
              "      <td>No</td>\n",
              "      <td>NaN</td>\n",
              "      <td>No</td>\n",
              "      <td>Male</td>\n",
              "      <td>18-29</td>\n",
              "      <td>$0 - $24,999</td>\n",
              "      <td>High school degree</td>\n",
              "      <td>West North Central</td>\n",
              "    </tr>\n",
              "    <tr>\n",
              "      <th>4</th>\n",
              "      <td>3.292763e+09</td>\n",
              "      <td>True</td>\n",
              "      <td>NaN</td>\n",
              "      <td>Star Wars: Episode I  The Phantom Menace</td>\n",
              "      <td>Star Wars: Episode II  Attack of the Clones</td>\n",
              "      <td>Star Wars: Episode III  Revenge of the Sith</td>\n",
              "      <td>Star Wars: Episode IV  A New Hope</td>\n",
              "      <td>Star Wars: Episode V The Empire Strikes Back</td>\n",
              "      <td>Star Wars: Episode VI Return of the Jedi</td>\n",
              "      <td>5</td>\n",
              "      <td>...</td>\n",
              "      <td>Very favorably</td>\n",
              "      <td>I don't understand this question</td>\n",
              "      <td>No</td>\n",
              "      <td>NaN</td>\n",
              "      <td>Yes</td>\n",
              "      <td>Male</td>\n",
              "      <td>18-29</td>\n",
              "      <td>$100,000 - $149,999</td>\n",
              "      <td>Some college or Associate degree</td>\n",
              "      <td>West North Central</td>\n",
              "    </tr>\n",
              "    <tr>\n",
              "      <th>5</th>\n",
              "      <td>3.292731e+09</td>\n",
              "      <td>True</td>\n",
              "      <td>False</td>\n",
              "      <td>Star Wars: Episode I  The Phantom Menace</td>\n",
              "      <td>Star Wars: Episode II  Attack of the Clones</td>\n",
              "      <td>Star Wars: Episode III  Revenge of the Sith</td>\n",
              "      <td>Star Wars: Episode IV  A New Hope</td>\n",
              "      <td>Star Wars: Episode V The Empire Strikes Back</td>\n",
              "      <td>Star Wars: Episode VI Return of the Jedi</td>\n",
              "      <td>5</td>\n",
              "      <td>...</td>\n",
              "      <td>Somewhat favorably</td>\n",
              "      <td>Greedo</td>\n",
              "      <td>Yes</td>\n",
              "      <td>No</td>\n",
              "      <td>No</td>\n",
              "      <td>Male</td>\n",
              "      <td>18-29</td>\n",
              "      <td>$100,000 - $149,999</td>\n",
              "      <td>Some college or Associate degree</td>\n",
              "      <td>West North Central</td>\n",
              "    </tr>\n",
              "  </tbody>\n",
              "</table>\n",
              "<p>5 rows × 38 columns</p>\n",
              "</div>\n",
              "      <button class=\"colab-df-convert\" onclick=\"convertToInteractive('df-d40a4c05-2c78-420b-9189-ac64d76a06a2')\"\n",
              "              title=\"Convert this dataframe to an interactive table.\"\n",
              "              style=\"display:none;\">\n",
              "        \n",
              "  <svg xmlns=\"http://www.w3.org/2000/svg\" height=\"24px\"viewBox=\"0 0 24 24\"\n",
              "       width=\"24px\">\n",
              "    <path d=\"M0 0h24v24H0V0z\" fill=\"none\"/>\n",
              "    <path d=\"M18.56 5.44l.94 2.06.94-2.06 2.06-.94-2.06-.94-.94-2.06-.94 2.06-2.06.94zm-11 1L8.5 8.5l.94-2.06 2.06-.94-2.06-.94L8.5 2.5l-.94 2.06-2.06.94zm10 10l.94 2.06.94-2.06 2.06-.94-2.06-.94-.94-2.06-.94 2.06-2.06.94z\"/><path d=\"M17.41 7.96l-1.37-1.37c-.4-.4-.92-.59-1.43-.59-.52 0-1.04.2-1.43.59L10.3 9.45l-7.72 7.72c-.78.78-.78 2.05 0 2.83L4 21.41c.39.39.9.59 1.41.59.51 0 1.02-.2 1.41-.59l7.78-7.78 2.81-2.81c.8-.78.8-2.07 0-2.86zM5.41 20L4 18.59l7.72-7.72 1.47 1.35L5.41 20z\"/>\n",
              "  </svg>\n",
              "      </button>\n",
              "      \n",
              "  <style>\n",
              "    .colab-df-container {\n",
              "      display:flex;\n",
              "      flex-wrap:wrap;\n",
              "      gap: 12px;\n",
              "    }\n",
              "\n",
              "    .colab-df-convert {\n",
              "      background-color: #E8F0FE;\n",
              "      border: none;\n",
              "      border-radius: 50%;\n",
              "      cursor: pointer;\n",
              "      display: none;\n",
              "      fill: #1967D2;\n",
              "      height: 32px;\n",
              "      padding: 0 0 0 0;\n",
              "      width: 32px;\n",
              "    }\n",
              "\n",
              "    .colab-df-convert:hover {\n",
              "      background-color: #E2EBFA;\n",
              "      box-shadow: 0px 1px 2px rgba(60, 64, 67, 0.3), 0px 1px 3px 1px rgba(60, 64, 67, 0.15);\n",
              "      fill: #174EA6;\n",
              "    }\n",
              "\n",
              "    [theme=dark] .colab-df-convert {\n",
              "      background-color: #3B4455;\n",
              "      fill: #D2E3FC;\n",
              "    }\n",
              "\n",
              "    [theme=dark] .colab-df-convert:hover {\n",
              "      background-color: #434B5C;\n",
              "      box-shadow: 0px 1px 3px 1px rgba(0, 0, 0, 0.15);\n",
              "      filter: drop-shadow(0px 1px 2px rgba(0, 0, 0, 0.3));\n",
              "      fill: #FFFFFF;\n",
              "    }\n",
              "  </style>\n",
              "\n",
              "      <script>\n",
              "        const buttonEl =\n",
              "          document.querySelector('#df-d40a4c05-2c78-420b-9189-ac64d76a06a2 button.colab-df-convert');\n",
              "        buttonEl.style.display =\n",
              "          google.colab.kernel.accessAllowed ? 'block' : 'none';\n",
              "\n",
              "        async function convertToInteractive(key) {\n",
              "          const element = document.querySelector('#df-d40a4c05-2c78-420b-9189-ac64d76a06a2');\n",
              "          const dataTable =\n",
              "            await google.colab.kernel.invokeFunction('convertToInteractive',\n",
              "                                                     [key], {});\n",
              "          if (!dataTable) return;\n",
              "\n",
              "          const docLinkHtml = 'Like what you see? Visit the ' +\n",
              "            '<a target=\"_blank\" href=https://colab.research.google.com/notebooks/data_table.ipynb>data table notebook</a>'\n",
              "            + ' to learn more about interactive tables.';\n",
              "          element.innerHTML = '';\n",
              "          dataTable['output_type'] = 'display_data';\n",
              "          await google.colab.output.renderOutput(dataTable, element);\n",
              "          const docLink = document.createElement('div');\n",
              "          docLink.innerHTML = docLinkHtml;\n",
              "          element.appendChild(docLink);\n",
              "        }\n",
              "      </script>\n",
              "    </div>\n",
              "  </div>\n",
              "  "
            ]
          },
          "metadata": {},
          "execution_count": 62
        },
        {
          "output_type": "stream",
          "name": "stdout",
          "text": [
            "Warning: Total number of columns (38) exceeds max_columns (20) limiting to first (20) columns.\n"
          ]
        }
      ]
    },
    {
      "cell_type": "markdown",
      "source": [
        "# cleaning the Columns from index 3 to 9\n",
        "\n",
        "\n",
        "```\n",
        "movie_mapping = {\n",
        "    \"Star Wars: Episode I  The Phantom Menace\": True,\n",
        "    np.nan: False,\n",
        "    \"Star Wars: Episode II  Attack of the Clones\": True,\n",
        "    \"Star Wars: Episode III  Revenge of the Sith\": True,\n",
        "    \"Star Wars: Episode IV  A New Hope\": True,\n",
        "    \"Star Wars: Episode V The Empire Strikes Back\": True,\n",
        "    \"Star Wars: Episode VI Return of the Jedi\": True\n",
        "}\n",
        "\n",
        "for col in star_wars.columns[3:9]:\n",
        "  star_wars[col] = star_wars[col].map(movie_mapping)\n",
        "star_wars.head(10)  \n",
        "```\n",
        "or  short method using lambda funcation \n",
        "\n",
        "\n",
        "```\n",
        "for col in star_war_df.columns[3:9]:\n",
        "  star_war_df[col] =  star_war_df[col].apply(lambda x : False if pd.isnull(x) else True)\n",
        "```\n",
        "\n",
        "\n"
      ],
      "metadata": {
        "id": "dfweMIwOiRAA"
      }
    },
    {
      "cell_type": "code",
      "source": [
        "for col in star_war_df.columns[3:9]:\n",
        "  star_war_df[col] =  star_war_df[col].apply(lambda x : False if pd.isnull(x) else True)"
      ],
      "metadata": {
        "id": "Kd176eWzh6sw"
      },
      "execution_count": 63,
      "outputs": []
    },
    {
      "cell_type": "markdown",
      "source": [
        "Rename the columns from index 3 to 9 "
      ],
      "metadata": {
        "id": "0NsecR78kXTF"
      }
    },
    {
      "cell_type": "code",
      "source": [
        "star_war_df.rename(columns={'Which of the following Star Wars films have you seen? Please select all that apply.': 'seen_1', \\\n",
        "                            'Unnamed: 4' : 'seen_2',\\\n",
        "                           'Unnamed: 5' : 'seen_3',\\\n",
        "                            'Unnamed: 6' : 'seen_4',\\\n",
        "                            'Unnamed: 7' : 'seen_5',\\\n",
        "                            'Unnamed: 8' : 'seen_6'},inplace = True)\n",
        "star_war_df.columns[3:9]"
      ],
      "metadata": {
        "colab": {
          "base_uri": "https://localhost:8080/"
        },
        "id": "gtfOhVc5kW9f",
        "outputId": "fff8a46c-39ba-4543-9b93-f03396d8d76b"
      },
      "execution_count": 67,
      "outputs": [
        {
          "output_type": "execute_result",
          "data": {
            "text/plain": [
              "Index(['seen_1', 'seen_2', 'seen_3', 'seen_4', 'seen_5', 'seen_6'], dtype='object')"
            ]
          },
          "metadata": {},
          "execution_count": 67
        }
      ]
    },
    {
      "cell_type": "markdown",
      "source": [
        "Cleaning Data of Columns from index 9 to 15."
      ],
      "metadata": {
        "id": "2GnlPyJBmbYT"
      }
    },
    {
      "cell_type": "markdown",
      "source": [
        "Changing data type to float.\n",
        "\n"
      ],
      "metadata": {
        "id": "76gtuZSinc4V"
      }
    },
    {
      "cell_type": "code",
      "source": [
        "star_war_df[star_war_df.columns[9:15]] = star_war_df[star_war_df.columns[9:15]].astype(float)\n",
        "star_war_df.head()"
      ],
      "metadata": {
        "colab": {
          "base_uri": "https://localhost:8080/",
          "height": 820
        },
        "id": "Ma8R2tm8m8dk",
        "outputId": "71e67bcd-c4d0-406b-c319-524a7d528a51"
      },
      "execution_count": 69,
      "outputs": [
        {
          "output_type": "execute_result",
          "data": {
            "text/plain": [
              "   RespondentID  Have you seen any of the 6 films in the Star Wars franchise?  \\\n",
              "1  3.292880e+09                                               True              \n",
              "2  3.292880e+09                                              False              \n",
              "3  3.292765e+09                                               True              \n",
              "4  3.292763e+09                                               True              \n",
              "5  3.292731e+09                                               True              \n",
              "\n",
              "  Do you consider yourself to be a fan of the Star Wars film franchise?  \\\n",
              "1                                              False                      \n",
              "2                                                NaN                      \n",
              "3                                                NaN                      \n",
              "4                                                NaN                      \n",
              "5                                              False                      \n",
              "\n",
              "   seen_1  seen_2  seen_3  seen_4  seen_5  seen_6  \\\n",
              "1    True    True    True    True    True    True   \n",
              "2   False   False   False   False   False   False   \n",
              "3    True    True    True   False   False   False   \n",
              "4    True    True    True    True    True    True   \n",
              "5    True    True    True    True    True    True   \n",
              "\n",
              "   Please rank the Star Wars films in order of preference with 1 being your favorite film in the franchise and 6 being your least favorite film.  \\\n",
              "1                                                3.0                                                                                               \n",
              "2                                                NaN                                                                                               \n",
              "3                                                1.0                                                                                               \n",
              "4                                                5.0                                                                                               \n",
              "5                                                5.0                                                                                               \n",
              "\n",
              "   ...         Unnamed: 28       Which character shot first?  \\\n",
              "1  ...      Very favorably  I don't understand this question   \n",
              "2  ...                 NaN                               NaN   \n",
              "3  ...    Unfamiliar (N/A)  I don't understand this question   \n",
              "4  ...      Very favorably  I don't understand this question   \n",
              "5  ...  Somewhat favorably                            Greedo   \n",
              "\n",
              "   Are you familiar with the Expanded Universe?  \\\n",
              "1                                           Yes   \n",
              "2                                           NaN   \n",
              "3                                            No   \n",
              "4                                            No   \n",
              "5                                           Yes   \n",
              "\n",
              "   Do you consider yourself to be a fan of the Expanded Universe?æ  \\\n",
              "1                                                 No                  \n",
              "2                                                NaN                  \n",
              "3                                                NaN                  \n",
              "4                                                NaN                  \n",
              "5                                                 No                  \n",
              "\n",
              "   Do you consider yourself to be a fan of the Star Trek franchise? Gender  \\\n",
              "1                                                 No                  Male   \n",
              "2                                                Yes                  Male   \n",
              "3                                                 No                  Male   \n",
              "4                                                Yes                  Male   \n",
              "5                                                 No                  Male   \n",
              "\n",
              "     Age     Household Income                         Education  \\\n",
              "1  18-29                  NaN                High school degree   \n",
              "2  18-29         $0 - $24,999                   Bachelor degree   \n",
              "3  18-29         $0 - $24,999                High school degree   \n",
              "4  18-29  $100,000 - $149,999  Some college or Associate degree   \n",
              "5  18-29  $100,000 - $149,999  Some college or Associate degree   \n",
              "\n",
              "  Location (Census Region)  \n",
              "1           South Atlantic  \n",
              "2       West South Central  \n",
              "3       West North Central  \n",
              "4       West North Central  \n",
              "5       West North Central  \n",
              "\n",
              "[5 rows x 38 columns]"
            ],
            "text/html": [
              "\n",
              "  <div id=\"df-b975e890-fe52-4583-bf9c-efbbd13381a2\">\n",
              "    <div class=\"colab-df-container\">\n",
              "      <div>\n",
              "<style scoped>\n",
              "    .dataframe tbody tr th:only-of-type {\n",
              "        vertical-align: middle;\n",
              "    }\n",
              "\n",
              "    .dataframe tbody tr th {\n",
              "        vertical-align: top;\n",
              "    }\n",
              "\n",
              "    .dataframe thead th {\n",
              "        text-align: right;\n",
              "    }\n",
              "</style>\n",
              "<table border=\"1\" class=\"dataframe\">\n",
              "  <thead>\n",
              "    <tr style=\"text-align: right;\">\n",
              "      <th></th>\n",
              "      <th>RespondentID</th>\n",
              "      <th>Have you seen any of the 6 films in the Star Wars franchise?</th>\n",
              "      <th>Do you consider yourself to be a fan of the Star Wars film franchise?</th>\n",
              "      <th>seen_1</th>\n",
              "      <th>seen_2</th>\n",
              "      <th>seen_3</th>\n",
              "      <th>seen_4</th>\n",
              "      <th>seen_5</th>\n",
              "      <th>seen_6</th>\n",
              "      <th>Please rank the Star Wars films in order of preference with 1 being your favorite film in the franchise and 6 being your least favorite film.</th>\n",
              "      <th>...</th>\n",
              "      <th>Unnamed: 28</th>\n",
              "      <th>Which character shot first?</th>\n",
              "      <th>Are you familiar with the Expanded Universe?</th>\n",
              "      <th>Do you consider yourself to be a fan of the Expanded Universe?æ</th>\n",
              "      <th>Do you consider yourself to be a fan of the Star Trek franchise?</th>\n",
              "      <th>Gender</th>\n",
              "      <th>Age</th>\n",
              "      <th>Household Income</th>\n",
              "      <th>Education</th>\n",
              "      <th>Location (Census Region)</th>\n",
              "    </tr>\n",
              "  </thead>\n",
              "  <tbody>\n",
              "    <tr>\n",
              "      <th>1</th>\n",
              "      <td>3.292880e+09</td>\n",
              "      <td>True</td>\n",
              "      <td>False</td>\n",
              "      <td>True</td>\n",
              "      <td>True</td>\n",
              "      <td>True</td>\n",
              "      <td>True</td>\n",
              "      <td>True</td>\n",
              "      <td>True</td>\n",
              "      <td>3.0</td>\n",
              "      <td>...</td>\n",
              "      <td>Very favorably</td>\n",
              "      <td>I don't understand this question</td>\n",
              "      <td>Yes</td>\n",
              "      <td>No</td>\n",
              "      <td>No</td>\n",
              "      <td>Male</td>\n",
              "      <td>18-29</td>\n",
              "      <td>NaN</td>\n",
              "      <td>High school degree</td>\n",
              "      <td>South Atlantic</td>\n",
              "    </tr>\n",
              "    <tr>\n",
              "      <th>2</th>\n",
              "      <td>3.292880e+09</td>\n",
              "      <td>False</td>\n",
              "      <td>NaN</td>\n",
              "      <td>False</td>\n",
              "      <td>False</td>\n",
              "      <td>False</td>\n",
              "      <td>False</td>\n",
              "      <td>False</td>\n",
              "      <td>False</td>\n",
              "      <td>NaN</td>\n",
              "      <td>...</td>\n",
              "      <td>NaN</td>\n",
              "      <td>NaN</td>\n",
              "      <td>NaN</td>\n",
              "      <td>NaN</td>\n",
              "      <td>Yes</td>\n",
              "      <td>Male</td>\n",
              "      <td>18-29</td>\n",
              "      <td>$0 - $24,999</td>\n",
              "      <td>Bachelor degree</td>\n",
              "      <td>West South Central</td>\n",
              "    </tr>\n",
              "    <tr>\n",
              "      <th>3</th>\n",
              "      <td>3.292765e+09</td>\n",
              "      <td>True</td>\n",
              "      <td>NaN</td>\n",
              "      <td>True</td>\n",
              "      <td>True</td>\n",
              "      <td>True</td>\n",
              "      <td>False</td>\n",
              "      <td>False</td>\n",
              "      <td>False</td>\n",
              "      <td>1.0</td>\n",
              "      <td>...</td>\n",
              "      <td>Unfamiliar (N/A)</td>\n",
              "      <td>I don't understand this question</td>\n",
              "      <td>No</td>\n",
              "      <td>NaN</td>\n",
              "      <td>No</td>\n",
              "      <td>Male</td>\n",
              "      <td>18-29</td>\n",
              "      <td>$0 - $24,999</td>\n",
              "      <td>High school degree</td>\n",
              "      <td>West North Central</td>\n",
              "    </tr>\n",
              "    <tr>\n",
              "      <th>4</th>\n",
              "      <td>3.292763e+09</td>\n",
              "      <td>True</td>\n",
              "      <td>NaN</td>\n",
              "      <td>True</td>\n",
              "      <td>True</td>\n",
              "      <td>True</td>\n",
              "      <td>True</td>\n",
              "      <td>True</td>\n",
              "      <td>True</td>\n",
              "      <td>5.0</td>\n",
              "      <td>...</td>\n",
              "      <td>Very favorably</td>\n",
              "      <td>I don't understand this question</td>\n",
              "      <td>No</td>\n",
              "      <td>NaN</td>\n",
              "      <td>Yes</td>\n",
              "      <td>Male</td>\n",
              "      <td>18-29</td>\n",
              "      <td>$100,000 - $149,999</td>\n",
              "      <td>Some college or Associate degree</td>\n",
              "      <td>West North Central</td>\n",
              "    </tr>\n",
              "    <tr>\n",
              "      <th>5</th>\n",
              "      <td>3.292731e+09</td>\n",
              "      <td>True</td>\n",
              "      <td>False</td>\n",
              "      <td>True</td>\n",
              "      <td>True</td>\n",
              "      <td>True</td>\n",
              "      <td>True</td>\n",
              "      <td>True</td>\n",
              "      <td>True</td>\n",
              "      <td>5.0</td>\n",
              "      <td>...</td>\n",
              "      <td>Somewhat favorably</td>\n",
              "      <td>Greedo</td>\n",
              "      <td>Yes</td>\n",
              "      <td>No</td>\n",
              "      <td>No</td>\n",
              "      <td>Male</td>\n",
              "      <td>18-29</td>\n",
              "      <td>$100,000 - $149,999</td>\n",
              "      <td>Some college or Associate degree</td>\n",
              "      <td>West North Central</td>\n",
              "    </tr>\n",
              "  </tbody>\n",
              "</table>\n",
              "<p>5 rows × 38 columns</p>\n",
              "</div>\n",
              "      <button class=\"colab-df-convert\" onclick=\"convertToInteractive('df-b975e890-fe52-4583-bf9c-efbbd13381a2')\"\n",
              "              title=\"Convert this dataframe to an interactive table.\"\n",
              "              style=\"display:none;\">\n",
              "        \n",
              "  <svg xmlns=\"http://www.w3.org/2000/svg\" height=\"24px\"viewBox=\"0 0 24 24\"\n",
              "       width=\"24px\">\n",
              "    <path d=\"M0 0h24v24H0V0z\" fill=\"none\"/>\n",
              "    <path d=\"M18.56 5.44l.94 2.06.94-2.06 2.06-.94-2.06-.94-.94-2.06-.94 2.06-2.06.94zm-11 1L8.5 8.5l.94-2.06 2.06-.94-2.06-.94L8.5 2.5l-.94 2.06-2.06.94zm10 10l.94 2.06.94-2.06 2.06-.94-2.06-.94-.94-2.06-.94 2.06-2.06.94z\"/><path d=\"M17.41 7.96l-1.37-1.37c-.4-.4-.92-.59-1.43-.59-.52 0-1.04.2-1.43.59L10.3 9.45l-7.72 7.72c-.78.78-.78 2.05 0 2.83L4 21.41c.39.39.9.59 1.41.59.51 0 1.02-.2 1.41-.59l7.78-7.78 2.81-2.81c.8-.78.8-2.07 0-2.86zM5.41 20L4 18.59l7.72-7.72 1.47 1.35L5.41 20z\"/>\n",
              "  </svg>\n",
              "      </button>\n",
              "      \n",
              "  <style>\n",
              "    .colab-df-container {\n",
              "      display:flex;\n",
              "      flex-wrap:wrap;\n",
              "      gap: 12px;\n",
              "    }\n",
              "\n",
              "    .colab-df-convert {\n",
              "      background-color: #E8F0FE;\n",
              "      border: none;\n",
              "      border-radius: 50%;\n",
              "      cursor: pointer;\n",
              "      display: none;\n",
              "      fill: #1967D2;\n",
              "      height: 32px;\n",
              "      padding: 0 0 0 0;\n",
              "      width: 32px;\n",
              "    }\n",
              "\n",
              "    .colab-df-convert:hover {\n",
              "      background-color: #E2EBFA;\n",
              "      box-shadow: 0px 1px 2px rgba(60, 64, 67, 0.3), 0px 1px 3px 1px rgba(60, 64, 67, 0.15);\n",
              "      fill: #174EA6;\n",
              "    }\n",
              "\n",
              "    [theme=dark] .colab-df-convert {\n",
              "      background-color: #3B4455;\n",
              "      fill: #D2E3FC;\n",
              "    }\n",
              "\n",
              "    [theme=dark] .colab-df-convert:hover {\n",
              "      background-color: #434B5C;\n",
              "      box-shadow: 0px 1px 3px 1px rgba(0, 0, 0, 0.15);\n",
              "      filter: drop-shadow(0px 1px 2px rgba(0, 0, 0, 0.3));\n",
              "      fill: #FFFFFF;\n",
              "    }\n",
              "  </style>\n",
              "\n",
              "      <script>\n",
              "        const buttonEl =\n",
              "          document.querySelector('#df-b975e890-fe52-4583-bf9c-efbbd13381a2 button.colab-df-convert');\n",
              "        buttonEl.style.display =\n",
              "          google.colab.kernel.accessAllowed ? 'block' : 'none';\n",
              "\n",
              "        async function convertToInteractive(key) {\n",
              "          const element = document.querySelector('#df-b975e890-fe52-4583-bf9c-efbbd13381a2');\n",
              "          const dataTable =\n",
              "            await google.colab.kernel.invokeFunction('convertToInteractive',\n",
              "                                                     [key], {});\n",
              "          if (!dataTable) return;\n",
              "\n",
              "          const docLinkHtml = 'Like what you see? Visit the ' +\n",
              "            '<a target=\"_blank\" href=https://colab.research.google.com/notebooks/data_table.ipynb>data table notebook</a>'\n",
              "            + ' to learn more about interactive tables.';\n",
              "          element.innerHTML = '';\n",
              "          dataTable['output_type'] = 'display_data';\n",
              "          await google.colab.output.renderOutput(dataTable, element);\n",
              "          const docLink = document.createElement('div');\n",
              "          docLink.innerHTML = docLinkHtml;\n",
              "          element.appendChild(docLink);\n",
              "        }\n",
              "      </script>\n",
              "    </div>\n",
              "  </div>\n",
              "  "
            ]
          },
          "metadata": {},
          "execution_count": 69
        }
      ]
    },
    {
      "cell_type": "markdown",
      "source": [
        "# Renaming columns name from 9:15"
      ],
      "metadata": {
        "id": "oiF-s9PDosLh"
      }
    },
    {
      "cell_type": "code",
      "source": [
        "star_war_df.rename(columns={'Please rank the Star Wars films in order of preference with 1 being your favorite film in the franchise and 6 being your least favorite film.': 'ranking_1', \\\n",
        "                          'Unnamed: 10': 'ranking_2', \\\n",
        "                          'Unnamed: 11': 'ranking_3', \\\n",
        "                          'Unnamed: 12': 'ranking_4', \\\n",
        "                          'Unnamed: 13': 'ranking_5', \\\n",
        "                          'Unnamed: 14': 'ranking_6'}, inplace=True)"
      ],
      "metadata": {
        "id": "aeGh__Gco0YK"
      },
      "execution_count": 70,
      "outputs": []
    },
    {
      "cell_type": "code",
      "source": [
        "star_war_df.columns[9:15]"
      ],
      "metadata": {
        "colab": {
          "base_uri": "https://localhost:8080/"
        },
        "id": "QQa5G3WGqBc9",
        "outputId": "b625ce23-979b-497a-e3f3-adc9e54d07f4"
      },
      "execution_count": 71,
      "outputs": [
        {
          "output_type": "execute_result",
          "data": {
            "text/plain": [
              "Index(['ranking_1', 'ranking_2', 'ranking_3', 'ranking_4', 'ranking_5',\n",
              "       'ranking_6'],\n",
              "      dtype='object')"
            ]
          },
          "metadata": {},
          "execution_count": 71
        }
      ]
    },
    {
      "cell_type": "markdown",
      "source": [
        "Cleaning the Columns from index 15 to 29 "
      ],
      "metadata": {
        "id": "W1A1TQ9aqM6G"
      }
    },
    {
      "cell_type": "code",
      "source": [
        "star_war_df.rename(columns={'Please state whether you view the following characters favorably, unfavorably, or are unfamiliar with him/her.': 'Luck Skywalker', \\\n",
        "                          'Unnamed: 16': 'Han Solo', \\\n",
        "                          'Unnamed: 17': 'Princess Leia Oragana', \\\n",
        "                          'Unnamed: 18': 'Obi Wan Kenobi', \\\n",
        "                          'Unnamed: 19': 'Yoda', \\\n",
        "                          'Unnamed: 20': 'R2-D2', \\\n",
        "                          'Unnamed: 21': 'C-3P0', \\\n",
        "                          'Unnamed: 22': 'Anakin Skywalker', \\\n",
        "                          'Unnamed: 23': 'Darth Vader', \\\n",
        "                          'Unnamed: 24': 'Lando Calrissian', \\\n",
        "                          'Unnamed: 25': 'Padme Amidala', \\\n",
        "                          'Unnamed: 26': 'Boba Fett', \\\n",
        "                          'Unnamed: 27': 'Emperor Palpatine', \\\n",
        "                          'Unnamed: 28': 'Jar Jar Binks'}, inplace=True)"
      ],
      "metadata": {
        "id": "I6eYXIhKqXoo"
      },
      "execution_count": 74,
      "outputs": []
    },
    {
      "cell_type": "code",
      "source": [
        "star_war_df.columns[15:29]"
      ],
      "metadata": {
        "colab": {
          "base_uri": "https://localhost:8080/"
        },
        "id": "YLXgaGKnrclH",
        "outputId": "0cda85dc-cec1-4b65-9678-023712cf4fde"
      },
      "execution_count": 75,
      "outputs": [
        {
          "output_type": "execute_result",
          "data": {
            "text/plain": [
              "Index(['Luck Skywalker', 'Han Solo', 'Princess Leia Oragana', 'Obi Wan Kenobi',\n",
              "       'Yoda', 'R2-D2', 'C-3P0', 'Anakin Skywalker', 'Darth Vader',\n",
              "       'Lando Calrissian', 'Padme Amidala', 'Boba Fett', 'Emperor Palpatine',\n",
              "       'Jar Jar Binks'],\n",
              "      dtype='object')"
            ]
          },
          "metadata": {},
          "execution_count": 75
        }
      ]
    },
    {
      "cell_type": "markdown",
      "source": [
        "# Data Analysis"
      ],
      "metadata": {
        "id": "W3d-YAcPr1BI"
      }
    },
    {
      "cell_type": "markdown",
      "source": [
        "Find the most seen movies"
      ],
      "metadata": {
        "id": "Jm3hOj0Ps0fQ"
      }
    },
    {
      "cell_type": "code",
      "source": [
        "seen_sum = star_war_df[['seen_1', 'seen_2', 'seen_3', 'seen_4', 'seen_5', 'seen_6']].sum()\n",
        "seen_sum"
      ],
      "metadata": {
        "colab": {
          "base_uri": "https://localhost:8080/"
        },
        "id": "YGFlKuZusRAy",
        "outputId": "a5ecddbe-e60b-4484-f219-1def6fb8ae62"
      },
      "execution_count": 77,
      "outputs": [
        {
          "output_type": "execute_result",
          "data": {
            "text/plain": [
              "seen_1    673\n",
              "seen_2    571\n",
              "seen_3    550\n",
              "seen_4    607\n",
              "seen_5    758\n",
              "seen_6    738\n",
              "dtype: int64"
            ]
          },
          "metadata": {},
          "execution_count": 77
        }
      ]
    },
    {
      "cell_type": "code",
      "source": [
        "print(\"Most seen movies \",seen_sum.idxmax())"
      ],
      "metadata": {
        "colab": {
          "base_uri": "https://localhost:8080/"
        },
        "id": "EBIadYO5s55g",
        "outputId": "2968d38b-bd20-4066-f5fa-630d05c9c475"
      },
      "execution_count": 79,
      "outputs": [
        {
          "output_type": "stream",
          "name": "stdout",
          "text": [
            "Most seen movies  seen_5\n"
          ]
        }
      ]
    },
    {
      "cell_type": "code",
      "source": [
        "ax = seen_sum.plot(kind='bar',title ='Most seen movies')\n",
        "plt.show()"
      ],
      "metadata": {
        "colab": {
          "base_uri": "https://localhost:8080/",
          "height": 307
        },
        "id": "i0596oTQtPJA",
        "outputId": "e3c0a3ee-cf7c-4d32-9987-e8531dde4846"
      },
      "execution_count": 99,
      "outputs": [
        {
          "output_type": "display_data",
          "data": {
            "text/plain": [
              "<Figure size 432x288 with 1 Axes>"
            ],
            "image/png": "[encoded data removed]"
          },
          "metadata": {
            "needs_background": "light"
          }
        }
      ]
    },
    {
      "cell_type": "code",
      "source": [
        "ax = seen_sum.plot(kind = 'bar',title ='Most seen movies')\n",
        "for p in ax.patches:\n",
        "  ax.annotate(str(p.get_height()),(p.get_x()*1.005,p.get_height()*1.01))\n",
        "plt.show()  "
      ],
      "metadata": {
        "colab": {
          "base_uri": "https://localhost:8080/",
          "height": 307
        },
        "id": "swnBA653tpZR",
        "outputId": "f90d1b33-0bd2-43b9-bfb2-9d3c33987ce3"
      },
      "execution_count": 100,
      "outputs": [
        {
          "output_type": "display_data",
          "data": {
            "text/plain": [
              "<Figure size 432x288 with 1 Axes>"
            ],
            "image/png": "[encoded data removed]"
          },
          "metadata": {
            "needs_background": "light"
          }
        }
      ]
    },
    {
      "cell_type": "markdown",
      "source": [
        "# Finding The Highest Ranked Movie.\n"
      ],
      "metadata": {
        "id": "vGDSsONrvXb8"
      }
    },
    {
      "cell_type": "code",
      "source": [
        "ranking_mean = star_war_df[['ranking_1','ranking_2','ranking_3','ranking_4','ranking_5','ranking_6']].mean()"
      ],
      "metadata": {
        "id": "Q0Y86zfBvuux"
      },
      "execution_count": 88,
      "outputs": []
    },
    {
      "cell_type": "code",
      "source": [
        "ranking_mean"
      ],
      "metadata": {
        "colab": {
          "base_uri": "https://localhost:8080/"
        },
        "id": "KMeRn-JQwa7F",
        "outputId": "016232dd-f360-44b4-97e3-a3d834bf5ef0"
      },
      "execution_count": 89,
      "outputs": [
        {
          "output_type": "execute_result",
          "data": {
            "text/plain": [
              "ranking_1    3.732934\n",
              "ranking_2    4.087321\n",
              "ranking_3    4.341317\n",
              "ranking_4    3.272727\n",
              "ranking_5    2.513158\n",
              "ranking_6    3.047847\n",
              "dtype: float64"
            ]
          },
          "metadata": {},
          "execution_count": 89
        }
      ]
    },
    {
      "cell_type": "code",
      "source": [
        "print(\"The Highest Ranking movies is  =\", ranking_mean.idxmin())"
      ],
      "metadata": {
        "colab": {
          "base_uri": "https://localhost:8080/"
        },
        "id": "uhvh5F7Ywlfh",
        "outputId": "6fe9aff5-bcf0-4d25-c280-2cf0d20e2f71"
      },
      "execution_count": 92,
      "outputs": [
        {
          "output_type": "stream",
          "name": "stdout",
          "text": [
            "The Highest Ranking movies = ranking_5\n"
          ]
        }
      ]
    },
    {
      "cell_type": "code",
      "source": [
        "ranking_mean.plot(kind='bar',title = 'The Highest Ranking movies')\n",
        "plt.show()"
      ],
      "metadata": {
        "colab": {
          "base_uri": "https://localhost:8080/",
          "height": 321
        },
        "id": "Rnc4Q7p2w50t",
        "outputId": "291eb368-c408-41ab-d344-cddddbc5f370"
      },
      "execution_count": 101,
      "outputs": [
        {
          "output_type": "display_data",
          "data": {
            "text/plain": [
              "<Figure size 432x288 with 1 Axes>"
            ],
            "image/png": "[encoded data removed]"
          },
          "metadata": {
            "needs_background": "light"
          }
        }
      ]
    },
    {
      "cell_type": "markdown",
      "source": [
        "# Let's break Down data by Gender "
      ],
      "metadata": {
        "id": "SJAq9kd7xYls"
      }
    },
    {
      "cell_type": "code",
      "source": [
        "males = star_war_df[star_war_df['Gender'] =='Male']\n",
        "females = star_war_df[star_war_df['Gender']=='Female']"
      ],
      "metadata": {
        "id": "8LQSUntjxgzF"
      },
      "execution_count": 94,
      "outputs": []
    },
    {
      "cell_type": "code",
      "source": [
        "males_df = males[males.columns[3:9]].sum()\n",
        "males_df"
      ],
      "metadata": {
        "colab": {
          "base_uri": "https://localhost:8080/"
        },
        "id": "pmKy97SByUp8",
        "outputId": "a27d3582-2c9e-4069-f9c2-5018bbd6ecfa"
      },
      "execution_count": 96,
      "outputs": [
        {
          "output_type": "execute_result",
          "data": {
            "text/plain": [
              "seen_1    361\n",
              "seen_2    323\n",
              "seen_3    317\n",
              "seen_4    342\n",
              "seen_5    392\n",
              "seen_6    387\n",
              "dtype: int64"
            ]
          },
          "metadata": {},
          "execution_count": 96
        }
      ]
    },
    {
      "cell_type": "code",
      "source": [
        "females_sum_df = females[females.columns[3:9]].sum()\n",
        "females_sum_df"
      ],
      "metadata": {
        "colab": {
          "base_uri": "https://localhost:8080/"
        },
        "id": "1X51bQMWz-zN",
        "outputId": "7bb6b8d5-f857-46cf-af63-a258a7fee3be"
      },
      "execution_count": 104,
      "outputs": [
        {
          "output_type": "execute_result",
          "data": {
            "text/plain": [
              "seen_1    298\n",
              "seen_2    237\n",
              "seen_3    222\n",
              "seen_4    255\n",
              "seen_5    353\n",
              "seen_6    338\n",
              "dtype: int64"
            ]
          },
          "metadata": {},
          "execution_count": 104
        }
      ]
    },
    {
      "cell_type": "code",
      "source": [
        "ax = males_df.plot(kind='bar', title ='Male Seen')\n",
        "for p in ax.patches:\n",
        "  ax.annotate(str(p.get_height()),(p.get_x()*1.005,p.get_height()*1.01))\n",
        "plt.show()\n",
        "\n",
        "ax = females_sum_df.plot(kind='bar', title ='Females Seen')\n",
        "for p in ax.patches:\n",
        "  ax.annotate(str(p.get_height()),(p.get_x()*1.005,p.get_height()*1.01))\n",
        "plt.show()"
      ],
      "metadata": {
        "colab": {
          "base_uri": "https://localhost:8080/",
          "height": 597
        },
        "id": "2l0T0ZlAyswX",
        "outputId": "1b01f383-11e0-4770-906a-707a7c76bd8d"
      },
      "execution_count": 106,
      "outputs": [
        {
          "output_type": "display_data",
          "data": {
            "text/plain": [
              "<Figure size 432x288 with 1 Axes>"
            ],
            "image/png": "[encoded data removed]"
          },
          "metadata": {
            "needs_background": "light"
          }
        },
        {
          "output_type": "display_data",
          "data": {
            "text/plain": [
              "<Figure size 432x288 with 1 Axes>"
            ],
            "image/png": "[encoded data removed]"
          },
          "metadata": {
            "needs_background": "light"
          }
        }
      ]
    },
    {
      "cell_type": "markdown",
      "source": [
        "# The Ranking of Movies"
      ],
      "metadata": {
        "id": "5UblK0ta0ga8"
      }
    },
    {
      "cell_type": "code",
      "source": [
        "ranking_mean_Man = males[males.columns[9:15]].mean()\n",
        "ranking_mean_Man"
      ],
      "metadata": {
        "colab": {
          "base_uri": "https://localhost:8080/"
        },
        "id": "kUkrF21A0lrd",
        "outputId": "0a3af0e0-59de-436f-87e4-e15a02f0bead"
      },
      "execution_count": 108,
      "outputs": [
        {
          "output_type": "execute_result",
          "data": {
            "text/plain": [
              "ranking_1    4.037825\n",
              "ranking_2    4.224586\n",
              "ranking_3    4.274882\n",
              "ranking_4    2.997636\n",
              "ranking_5    2.458629\n",
              "ranking_6    3.002364\n",
              "dtype: float64"
            ]
          },
          "metadata": {},
          "execution_count": 108
        }
      ]
    },
    {
      "cell_type": "code",
      "source": [
        "print(\"The Highest Ranking movies is  =\", ranking_mean_Man.idxmin())"
      ],
      "metadata": {
        "colab": {
          "base_uri": "https://localhost:8080/"
        },
        "id": "qKzJtmjt0_KD",
        "outputId": "5a8143af-ef34-4d25-871d-0112150f93c8"
      },
      "execution_count": 115,
      "outputs": [
        {
          "output_type": "stream",
          "name": "stdout",
          "text": [
            "The Highest Ranking movies is  = ranking_5\n"
          ]
        }
      ]
    },
    {
      "cell_type": "code",
      "source": [
        "ranking_mean_Females = females[females.columns[9:15]].mean()\n",
        "ranking_mean_Females"
      ],
      "metadata": {
        "colab": {
          "base_uri": "https://localhost:8080/"
        },
        "id": "8pDd0wq11Jwk",
        "outputId": "b23179f4-39b6-417b-e8e7-3b8ab491b515"
      },
      "execution_count": 111,
      "outputs": [
        {
          "output_type": "execute_result",
          "data": {
            "text/plain": [
              "ranking_1    3.429293\n",
              "ranking_2    3.954660\n",
              "ranking_3    4.418136\n",
              "ranking_4    3.544081\n",
              "ranking_5    2.569270\n",
              "ranking_6    3.078086\n",
              "dtype: float64"
            ]
          },
          "metadata": {},
          "execution_count": 111
        }
      ]
    },
    {
      "cell_type": "code",
      "source": [
        "print(\"The Highest Ranking movies is  =\", ranking_mean_Females.idxmin())"
      ],
      "metadata": {
        "colab": {
          "base_uri": "https://localhost:8080/"
        },
        "id": "MSb1O4Bf1UGh",
        "outputId": "05becfa0-3c5f-4446-8c18-2af4d6851d5e"
      },
      "execution_count": 114,
      "outputs": [
        {
          "output_type": "stream",
          "name": "stdout",
          "text": [
            "The Highest Ranking movies is  = ranking_5\n"
          ]
        }
      ]
    },
    {
      "cell_type": "code",
      "source": [
        "ranking_mean_Man.plot(kind='bar',title = 'Male Ranking')\n",
        "plt.show()"
      ],
      "metadata": {
        "colab": {
          "base_uri": "https://localhost:8080/",
          "height": 321
        },
        "id": "B7iYIdQ317GY",
        "outputId": "4637fef5-b03f-4dbb-f55c-9d868311fd3f"
      },
      "execution_count": 116,
      "outputs": [
        {
          "output_type": "display_data",
          "data": {
            "text/plain": [
              "<Figure size 432x288 with 1 Axes>"
            ],
            "image/png": "[encoded data removed]"
          },
          "metadata": {
            "needs_background": "light"
          }
        }
      ]
    },
    {
      "cell_type": "code",
      "source": [
        "ranking_mean_Females.plot(kind='bar',title = 'Females Ranking')\n",
        "plt.show()"
      ],
      "metadata": {
        "colab": {
          "base_uri": "https://localhost:8080/",
          "height": 321
        },
        "id": "SXdX83Ji2P0R",
        "outputId": "10cb8ca1-21b5-4ed8-d910-4fffc21e9ea8"
      },
      "execution_count": 117,
      "outputs": [
        {
          "output_type": "display_data",
          "data": {
            "text/plain": [
              "<Figure size 432x288 with 1 Axes>"
            ],
            "image/png": "[encoded data removed]"
          },
          "metadata": {
            "needs_background": "light"
          }
        }
      ]
    },
    {
      "cell_type": "markdown",
      "source": [
        "# Star wars character Favorability Ratings"
      ],
      "metadata": {
        "id": "1KQS6g652feX"
      }
    },
    {
      "cell_type": "code",
      "source": [
        "star_war_df['Luck Skywalker'].value_counts()"
      ],
      "metadata": {
        "colab": {
          "base_uri": "https://localhost:8080/"
        },
        "id": "tE2dGdao2mkK",
        "outputId": "94ebe2e5-e5c4-4e0e-9b59-95333d9162ac"
      },
      "execution_count": 118,
      "outputs": [
        {
          "output_type": "execute_result",
          "data": {
            "text/plain": [
              "Very favorably                                 610\n",
              "Somewhat favorably                             151\n",
              "Neither favorably nor unfavorably (neutral)     44\n",
              "Unfamiliar (N/A)                                15\n",
              "Somewhat unfavorably                             8\n",
              "Very unfavorably                                 1\n",
              "Name: Luck Skywalker, dtype: int64"
            ]
          },
          "metadata": {},
          "execution_count": 118
        }
      ]
    },
    {
      "cell_type": "code",
      "source": [
        "star_war_df[star_war_df.columns[15:29]].head()"
      ],
      "metadata": {
        "colab": {
          "base_uri": "https://localhost:8080/",
          "height": 297
        },
        "id": "IDYrRpsa26Iy",
        "outputId": "9237080f-1d19-47b0-c42e-5c92c8b5c6cb"
      },
      "execution_count": 119,
      "outputs": [
        {
          "output_type": "execute_result",
          "data": {
            "text/plain": [
              "       Luck Skywalker            Han Solo Princess Leia Oragana  \\\n",
              "1      Very favorably      Very favorably        Very favorably   \n",
              "2                 NaN                 NaN                   NaN   \n",
              "3  Somewhat favorably  Somewhat favorably    Somewhat favorably   \n",
              "4      Very favorably      Very favorably        Very favorably   \n",
              "5      Very favorably  Somewhat favorably    Somewhat favorably   \n",
              "\n",
              "         Obi Wan Kenobi                Yoda               R2-D2  \\\n",
              "1        Very favorably      Very favorably      Very favorably   \n",
              "2                   NaN                 NaN                 NaN   \n",
              "3    Somewhat favorably  Somewhat favorably    Unfamiliar (N/A)   \n",
              "4        Very favorably      Very favorably  Somewhat favorably   \n",
              "5  Somewhat unfavorably      Very favorably    Very unfavorably   \n",
              "\n",
              "                C-3P0                             Anakin Skywalker  \\\n",
              "1      Very favorably                             Unfamiliar (N/A)   \n",
              "2                 NaN                                          NaN   \n",
              "3    Unfamiliar (N/A)                             Unfamiliar (N/A)   \n",
              "4      Very favorably                           Somewhat favorably   \n",
              "5  Somewhat favorably  Neither favorably nor unfavorably (neutral)   \n",
              "\n",
              "            Darth Vader    Lando Calrissian       Padme Amidala  \\\n",
              "1      Unfamiliar (N/A)      Very favorably      Very favorably   \n",
              "2                   NaN                 NaN                 NaN   \n",
              "3      Unfamiliar (N/A)    Unfamiliar (N/A)    Unfamiliar (N/A)   \n",
              "4  Somewhat unfavorably      Very favorably      Very favorably   \n",
              "5        Very favorably  Somewhat favorably  Somewhat favorably   \n",
              "\n",
              "          Boba Fett   Emperor Palpatine       Jar Jar Binks  \n",
              "1    Very favorably      Very favorably      Very favorably  \n",
              "2               NaN                 NaN                 NaN  \n",
              "3  Unfamiliar (N/A)    Unfamiliar (N/A)    Unfamiliar (N/A)  \n",
              "4    Very favorably      Very favorably      Very favorably  \n",
              "5  Very unfavorably  Somewhat favorably  Somewhat favorably  "
            ],
            "text/html": [
              "\n",
              "  <div id=\"df-c38e244e-6a99-4434-a436-20a0e2576ac4\">\n",
              "    <div class=\"colab-df-container\">\n",
              "      <div>\n",
              "<style scoped>\n",
              "    .dataframe tbody tr th:only-of-type {\n",
              "        vertical-align: middle;\n",
              "    }\n",
              "\n",
              "    .dataframe tbody tr th {\n",
              "        vertical-align: top;\n",
              "    }\n",
              "\n",
              "    .dataframe thead th {\n",
              "        text-align: right;\n",
              "    }\n",
              "</style>\n",
              "<table border=\"1\" class=\"dataframe\">\n",
              "  <thead>\n",
              "    <tr style=\"text-align: right;\">\n",
              "      <th></th>\n",
              "      <th>Luck Skywalker</th>\n",
              "      <th>Han Solo</th>\n",
              "      <th>Princess Leia Oragana</th>\n",
              "      <th>Obi Wan Kenobi</th>\n",
              "      <th>Yoda</th>\n",
              "      <th>R2-D2</th>\n",
              "      <th>C-3P0</th>\n",
              "      <th>Anakin Skywalker</th>\n",
              "      <th>Darth Vader</th>\n",
              "      <th>Lando Calrissian</th>\n",
              "      <th>Padme Amidala</th>\n",
              "      <th>Boba Fett</th>\n",
              "      <th>Emperor Palpatine</th>\n",
              "      <th>Jar Jar Binks</th>\n",
              "    </tr>\n",
              "  </thead>\n",
              "  <tbody>\n",
              "    <tr>\n",
              "      <th>1</th>\n",
              "      <td>Very favorably</td>\n",
              "      <td>Very favorably</td>\n",
              "      <td>Very favorably</td>\n",
              "      <td>Very favorably</td>\n",
              "      <td>Very favorably</td>\n",
              "      <td>Very favorably</td>\n",
              "      <td>Very favorably</td>\n",
              "      <td>Unfamiliar (N/A)</td>\n",
              "      <td>Unfamiliar (N/A)</td>\n",
              "      <td>Very favorably</td>\n",
              "      <td>Very favorably</td>\n",
              "      <td>Very favorably</td>\n",
              "      <td>Very favorably</td>\n",
              "      <td>Very favorably</td>\n",
              "    </tr>\n",
              "    <tr>\n",
              "      <th>2</th>\n",
              "      <td>NaN</td>\n",
              "      <td>NaN</td>\n",
              "      <td>NaN</td>\n",
              "      <td>NaN</td>\n",
              "      <td>NaN</td>\n",
              "      <td>NaN</td>\n",
              "      <td>NaN</td>\n",
              "      <td>NaN</td>\n",
              "      <td>NaN</td>\n",
              "      <td>NaN</td>\n",
              "      <td>NaN</td>\n",
              "      <td>NaN</td>\n",
              "      <td>NaN</td>\n",
              "      <td>NaN</td>\n",
              "    </tr>\n",
              "    <tr>\n",
              "      <th>3</th>\n",
              "      <td>Somewhat favorably</td>\n",
              "      <td>Somewhat favorably</td>\n",
              "      <td>Somewhat favorably</td>\n",
              "      <td>Somewhat favorably</td>\n",
              "      <td>Somewhat favorably</td>\n",
              "      <td>Unfamiliar (N/A)</td>\n",
              "      <td>Unfamiliar (N/A)</td>\n",
              "      <td>Unfamiliar (N/A)</td>\n",
              "      <td>Unfamiliar (N/A)</td>\n",
              "      <td>Unfamiliar (N/A)</td>\n",
              "      <td>Unfamiliar (N/A)</td>\n",
              "      <td>Unfamiliar (N/A)</td>\n",
              "      <td>Unfamiliar (N/A)</td>\n",
              "      <td>Unfamiliar (N/A)</td>\n",
              "    </tr>\n",
              "    <tr>\n",
              "      <th>4</th>\n",
              "      <td>Very favorably</td>\n",
              "      <td>Very favorably</td>\n",
              "      <td>Very favorably</td>\n",
              "      <td>Very favorably</td>\n",
              "      <td>Very favorably</td>\n",
              "      <td>Somewhat favorably</td>\n",
              "      <td>Very favorably</td>\n",
              "      <td>Somewhat favorably</td>\n",
              "      <td>Somewhat unfavorably</td>\n",
              "      <td>Very favorably</td>\n",
              "      <td>Very favorably</td>\n",
              "      <td>Very favorably</td>\n",
              "      <td>Very favorably</td>\n",
              "      <td>Very favorably</td>\n",
              "    </tr>\n",
              "    <tr>\n",
              "      <th>5</th>\n",
              "      <td>Very favorably</td>\n",
              "      <td>Somewhat favorably</td>\n",
              "      <td>Somewhat favorably</td>\n",
              "      <td>Somewhat unfavorably</td>\n",
              "      <td>Very favorably</td>\n",
              "      <td>Very unfavorably</td>\n",
              "      <td>Somewhat favorably</td>\n",
              "      <td>Neither favorably nor unfavorably (neutral)</td>\n",
              "      <td>Very favorably</td>\n",
              "      <td>Somewhat favorably</td>\n",
              "      <td>Somewhat favorably</td>\n",
              "      <td>Very unfavorably</td>\n",
              "      <td>Somewhat favorably</td>\n",
              "      <td>Somewhat favorably</td>\n",
              "    </tr>\n",
              "  </tbody>\n",
              "</table>\n",
              "</div>\n",
              "      <button class=\"colab-df-convert\" onclick=\"convertToInteractive('df-c38e244e-6a99-4434-a436-20a0e2576ac4')\"\n",
              "              title=\"Convert this dataframe to an interactive table.\"\n",
              "              style=\"display:none;\">\n",
              "        \n",
              "  <svg xmlns=\"http://www.w3.org/2000/svg\" height=\"24px\"viewBox=\"0 0 24 24\"\n",
              "       width=\"24px\">\n",
              "    <path d=\"M0 0h24v24H0V0z\" fill=\"none\"/>\n",
              "    <path d=\"M18.56 5.44l.94 2.06.94-2.06 2.06-.94-2.06-.94-.94-2.06-.94 2.06-2.06.94zm-11 1L8.5 8.5l.94-2.06 2.06-.94-2.06-.94L8.5 2.5l-.94 2.06-2.06.94zm10 10l.94 2.06.94-2.06 2.06-.94-2.06-.94-.94-2.06-.94 2.06-2.06.94z\"/><path d=\"M17.41 7.96l-1.37-1.37c-.4-.4-.92-.59-1.43-.59-.52 0-1.04.2-1.43.59L10.3 9.45l-7.72 7.72c-.78.78-.78 2.05 0 2.83L4 21.41c.39.39.9.59 1.41.59.51 0 1.02-.2 1.41-.59l7.78-7.78 2.81-2.81c.8-.78.8-2.07 0-2.86zM5.41 20L4 18.59l7.72-7.72 1.47 1.35L5.41 20z\"/>\n",
              "  </svg>\n",
              "      </button>\n",
              "      \n",
              "  <style>\n",
              "    .colab-df-container {\n",
              "      display:flex;\n",
              "      flex-wrap:wrap;\n",
              "      gap: 12px;\n",
              "    }\n",
              "\n",
              "    .colab-df-convert {\n",
              "      background-color: #E8F0FE;\n",
              "      border: none;\n",
              "      border-radius: 50%;\n",
              "      cursor: pointer;\n",
              "      display: none;\n",
              "      fill: #1967D2;\n",
              "      height: 32px;\n",
              "      padding: 0 0 0 0;\n",
              "      width: 32px;\n",
              "    }\n",
              "\n",
              "    .colab-df-convert:hover {\n",
              "      background-color: #E2EBFA;\n",
              "      box-shadow: 0px 1px 2px rgba(60, 64, 67, 0.3), 0px 1px 3px 1px rgba(60, 64, 67, 0.15);\n",
              "      fill: #174EA6;\n",
              "    }\n",
              "\n",
              "    [theme=dark] .colab-df-convert {\n",
              "      background-color: #3B4455;\n",
              "      fill: #D2E3FC;\n",
              "    }\n",
              "\n",
              "    [theme=dark] .colab-df-convert:hover {\n",
              "      background-color: #434B5C;\n",
              "      box-shadow: 0px 1px 3px 1px rgba(0, 0, 0, 0.15);\n",
              "      filter: drop-shadow(0px 1px 2px rgba(0, 0, 0, 0.3));\n",
              "      fill: #FFFFFF;\n",
              "    }\n",
              "  </style>\n",
              "\n",
              "      <script>\n",
              "        const buttonEl =\n",
              "          document.querySelector('#df-c38e244e-6a99-4434-a436-20a0e2576ac4 button.colab-df-convert');\n",
              "        buttonEl.style.display =\n",
              "          google.colab.kernel.accessAllowed ? 'block' : 'none';\n",
              "\n",
              "        async function convertToInteractive(key) {\n",
              "          const element = document.querySelector('#df-c38e244e-6a99-4434-a436-20a0e2576ac4');\n",
              "          const dataTable =\n",
              "            await google.colab.kernel.invokeFunction('convertToInteractive',\n",
              "                                                     [key], {});\n",
              "          if (!dataTable) return;\n",
              "\n",
              "          const docLinkHtml = 'Like what you see? Visit the ' +\n",
              "            '<a target=\"_blank\" href=https://colab.research.google.com/notebooks/data_table.ipynb>data table notebook</a>'\n",
              "            + ' to learn more about interactive tables.';\n",
              "          element.innerHTML = '';\n",
              "          dataTable['output_type'] = 'display_data';\n",
              "          await google.colab.output.renderOutput(dataTable, element);\n",
              "          const docLink = document.createElement('div');\n",
              "          docLink.innerHTML = docLinkHtml;\n",
              "          element.appendChild(docLink);\n",
              "        }\n",
              "      </script>\n",
              "    </div>\n",
              "  </div>\n",
              "  "
            ]
          },
          "metadata": {},
          "execution_count": 119
        }
      ]
    },
    {
      "cell_type": "code",
      "source": [
        "# let's clearn missing values \n",
        "fav = star_war_df[star_war_df.columns[15:29]].dropna()\n",
        "fav.head()"
      ],
      "metadata": {
        "colab": {
          "base_uri": "https://localhost:8080/",
          "height": 363
        },
        "id": "KqycbY-Q3LNl",
        "outputId": "be08b06a-76ff-4b17-865a-46b7a6b72962"
      },
      "execution_count": 121,
      "outputs": [
        {
          "output_type": "execute_result",
          "data": {
            "text/plain": [
              "       Luck Skywalker            Han Solo Princess Leia Oragana  \\\n",
              "1      Very favorably      Very favorably        Very favorably   \n",
              "3  Somewhat favorably  Somewhat favorably    Somewhat favorably   \n",
              "4      Very favorably      Very favorably        Very favorably   \n",
              "5      Very favorably  Somewhat favorably    Somewhat favorably   \n",
              "6      Very favorably      Very favorably        Very favorably   \n",
              "\n",
              "         Obi Wan Kenobi                Yoda  \\\n",
              "1        Very favorably      Very favorably   \n",
              "3    Somewhat favorably  Somewhat favorably   \n",
              "4        Very favorably      Very favorably   \n",
              "5  Somewhat unfavorably      Very favorably   \n",
              "6        Very favorably      Very favorably   \n",
              "\n",
              "                                         R2-D2               C-3P0  \\\n",
              "1                               Very favorably      Very favorably   \n",
              "3                             Unfamiliar (N/A)    Unfamiliar (N/A)   \n",
              "4                           Somewhat favorably      Very favorably   \n",
              "5                             Very unfavorably  Somewhat favorably   \n",
              "6  Neither favorably nor unfavorably (neutral)      Very favorably   \n",
              "\n",
              "                              Anakin Skywalker           Darth Vader  \\\n",
              "1                             Unfamiliar (N/A)      Unfamiliar (N/A)   \n",
              "3                             Unfamiliar (N/A)      Unfamiliar (N/A)   \n",
              "4                           Somewhat favorably  Somewhat unfavorably   \n",
              "5  Neither favorably nor unfavorably (neutral)        Very favorably   \n",
              "6  Neither favorably nor unfavorably (neutral)    Somewhat favorably   \n",
              "\n",
              "     Lando Calrissian       Padme Amidala           Boba Fett  \\\n",
              "1      Very favorably      Very favorably      Very favorably   \n",
              "3    Unfamiliar (N/A)    Unfamiliar (N/A)    Unfamiliar (N/A)   \n",
              "4      Very favorably      Very favorably      Very favorably   \n",
              "5  Somewhat favorably  Somewhat favorably    Very unfavorably   \n",
              "6  Somewhat favorably  Somewhat favorably  Somewhat favorably   \n",
              "\n",
              "                             Emperor Palpatine       Jar Jar Binks  \n",
              "1                               Very favorably      Very favorably  \n",
              "3                             Unfamiliar (N/A)    Unfamiliar (N/A)  \n",
              "4                               Very favorably      Very favorably  \n",
              "5                           Somewhat favorably  Somewhat favorably  \n",
              "6  Neither favorably nor unfavorably (neutral)      Very favorably  "
            ],
            "text/html": [
              "\n",
              "  <div id=\"df-3124367e-afcf-4c13-bd62-33b65232354d\">\n",
              "    <div class=\"colab-df-container\">\n",
              "      <div>\n",
              "<style scoped>\n",
              "    .dataframe tbody tr th:only-of-type {\n",
              "        vertical-align: middle;\n",
              "    }\n",
              "\n",
              "    .dataframe tbody tr th {\n",
              "        vertical-align: top;\n",
              "    }\n",
              "\n",
              "    .dataframe thead th {\n",
              "        text-align: right;\n",
              "    }\n",
              "</style>\n",
              "<table border=\"1\" class=\"dataframe\">\n",
              "  <thead>\n",
              "    <tr style=\"text-align: right;\">\n",
              "      <th></th>\n",
              "      <th>Luck Skywalker</th>\n",
              "      <th>Han Solo</th>\n",
              "      <th>Princess Leia Oragana</th>\n",
              "      <th>Obi Wan Kenobi</th>\n",
              "      <th>Yoda</th>\n",
              "      <th>R2-D2</th>\n",
              "      <th>C-3P0</th>\n",
              "      <th>Anakin Skywalker</th>\n",
              "      <th>Darth Vader</th>\n",
              "      <th>Lando Calrissian</th>\n",
              "      <th>Padme Amidala</th>\n",
              "      <th>Boba Fett</th>\n",
              "      <th>Emperor Palpatine</th>\n",
              "      <th>Jar Jar Binks</th>\n",
              "    </tr>\n",
              "  </thead>\n",
              "  <tbody>\n",
              "    <tr>\n",
              "      <th>1</th>\n",
              "      <td>Very favorably</td>\n",
              "      <td>Very favorably</td>\n",
              "      <td>Very favorably</td>\n",
              "      <td>Very favorably</td>\n",
              "      <td>Very favorably</td>\n",
              "      <td>Very favorably</td>\n",
              "      <td>Very favorably</td>\n",
              "      <td>Unfamiliar (N/A)</td>\n",
              "      <td>Unfamiliar (N/A)</td>\n",
              "      <td>Very favorably</td>\n",
              "      <td>Very favorably</td>\n",
              "      <td>Very favorably</td>\n",
              "      <td>Very favorably</td>\n",
              "      <td>Very favorably</td>\n",
              "    </tr>\n",
              "    <tr>\n",
              "      <th>3</th>\n",
              "      <td>Somewhat favorably</td>\n",
              "      <td>Somewhat favorably</td>\n",
              "      <td>Somewhat favorably</td>\n",
              "      <td>Somewhat favorably</td>\n",
              "      <td>Somewhat favorably</td>\n",
              "      <td>Unfamiliar (N/A)</td>\n",
              "      <td>Unfamiliar (N/A)</td>\n",
              "      <td>Unfamiliar (N/A)</td>\n",
              "      <td>Unfamiliar (N/A)</td>\n",
              "      <td>Unfamiliar (N/A)</td>\n",
              "      <td>Unfamiliar (N/A)</td>\n",
              "      <td>Unfamiliar (N/A)</td>\n",
              "      <td>Unfamiliar (N/A)</td>\n",
              "      <td>Unfamiliar (N/A)</td>\n",
              "    </tr>\n",
              "    <tr>\n",
              "      <th>4</th>\n",
              "      <td>Very favorably</td>\n",
              "      <td>Very favorably</td>\n",
              "      <td>Very favorably</td>\n",
              "      <td>Very favorably</td>\n",
              "      <td>Very favorably</td>\n",
              "      <td>Somewhat favorably</td>\n",
              "      <td>Very favorably</td>\n",
              "      <td>Somewhat favorably</td>\n",
              "      <td>Somewhat unfavorably</td>\n",
              "      <td>Very favorably</td>\n",
              "      <td>Very favorably</td>\n",
              "      <td>Very favorably</td>\n",
              "      <td>Very favorably</td>\n",
              "      <td>Very favorably</td>\n",
              "    </tr>\n",
              "    <tr>\n",
              "      <th>5</th>\n",
              "      <td>Very favorably</td>\n",
              "      <td>Somewhat favorably</td>\n",
              "      <td>Somewhat favorably</td>\n",
              "      <td>Somewhat unfavorably</td>\n",
              "      <td>Very favorably</td>\n",
              "      <td>Very unfavorably</td>\n",
              "      <td>Somewhat favorably</td>\n",
              "      <td>Neither favorably nor unfavorably (neutral)</td>\n",
              "      <td>Very favorably</td>\n",
              "      <td>Somewhat favorably</td>\n",
              "      <td>Somewhat favorably</td>\n",
              "      <td>Very unfavorably</td>\n",
              "      <td>Somewhat favorably</td>\n",
              "      <td>Somewhat favorably</td>\n",
              "    </tr>\n",
              "    <tr>\n",
              "      <th>6</th>\n",
              "      <td>Very favorably</td>\n",
              "      <td>Very favorably</td>\n",
              "      <td>Very favorably</td>\n",
              "      <td>Very favorably</td>\n",
              "      <td>Very favorably</td>\n",
              "      <td>Neither favorably nor unfavorably (neutral)</td>\n",
              "      <td>Very favorably</td>\n",
              "      <td>Neither favorably nor unfavorably (neutral)</td>\n",
              "      <td>Somewhat favorably</td>\n",
              "      <td>Somewhat favorably</td>\n",
              "      <td>Somewhat favorably</td>\n",
              "      <td>Somewhat favorably</td>\n",
              "      <td>Neither favorably nor unfavorably (neutral)</td>\n",
              "      <td>Very favorably</td>\n",
              "    </tr>\n",
              "  </tbody>\n",
              "</table>\n",
              "</div>\n",
              "      <button class=\"colab-df-convert\" onclick=\"convertToInteractive('df-3124367e-afcf-4c13-bd62-33b65232354d')\"\n",
              "              title=\"Convert this dataframe to an interactive table.\"\n",
              "              style=\"display:none;\">\n",
              "        \n",
              "  <svg xmlns=\"http://www.w3.org/2000/svg\" height=\"24px\"viewBox=\"0 0 24 24\"\n",
              "       width=\"24px\">\n",
              "    <path d=\"M0 0h24v24H0V0z\" fill=\"none\"/>\n",
              "    <path d=\"M18.56 5.44l.94 2.06.94-2.06 2.06-.94-2.06-.94-.94-2.06-.94 2.06-2.06.94zm-11 1L8.5 8.5l.94-2.06 2.06-.94-2.06-.94L8.5 2.5l-.94 2.06-2.06.94zm10 10l.94 2.06.94-2.06 2.06-.94-2.06-.94-.94-2.06-.94 2.06-2.06.94z\"/><path d=\"M17.41 7.96l-1.37-1.37c-.4-.4-.92-.59-1.43-.59-.52 0-1.04.2-1.43.59L10.3 9.45l-7.72 7.72c-.78.78-.78 2.05 0 2.83L4 21.41c.39.39.9.59 1.41.59.51 0 1.02-.2 1.41-.59l7.78-7.78 2.81-2.81c.8-.78.8-2.07 0-2.86zM5.41 20L4 18.59l7.72-7.72 1.47 1.35L5.41 20z\"/>\n",
              "  </svg>\n",
              "      </button>\n",
              "      \n",
              "  <style>\n",
              "    .colab-df-container {\n",
              "      display:flex;\n",
              "      flex-wrap:wrap;\n",
              "      gap: 12px;\n",
              "    }\n",
              "\n",
              "    .colab-df-convert {\n",
              "      background-color: #E8F0FE;\n",
              "      border: none;\n",
              "      border-radius: 50%;\n",
              "      cursor: pointer;\n",
              "      display: none;\n",
              "      fill: #1967D2;\n",
              "      height: 32px;\n",
              "      padding: 0 0 0 0;\n",
              "      width: 32px;\n",
              "    }\n",
              "\n",
              "    .colab-df-convert:hover {\n",
              "      background-color: #E2EBFA;\n",
              "      box-shadow: 0px 1px 2px rgba(60, 64, 67, 0.3), 0px 1px 3px 1px rgba(60, 64, 67, 0.15);\n",
              "      fill: #174EA6;\n",
              "    }\n",
              "\n",
              "    [theme=dark] .colab-df-convert {\n",
              "      background-color: #3B4455;\n",
              "      fill: #D2E3FC;\n",
              "    }\n",
              "\n",
              "    [theme=dark] .colab-df-convert:hover {\n",
              "      background-color: #434B5C;\n",
              "      box-shadow: 0px 1px 3px 1px rgba(0, 0, 0, 0.15);\n",
              "      filter: drop-shadow(0px 1px 2px rgba(0, 0, 0, 0.3));\n",
              "      fill: #FFFFFF;\n",
              "    }\n",
              "  </style>\n",
              "\n",
              "      <script>\n",
              "        const buttonEl =\n",
              "          document.querySelector('#df-3124367e-afcf-4c13-bd62-33b65232354d button.colab-df-convert');\n",
              "        buttonEl.style.display =\n",
              "          google.colab.kernel.accessAllowed ? 'block' : 'none';\n",
              "\n",
              "        async function convertToInteractive(key) {\n",
              "          const element = document.querySelector('#df-3124367e-afcf-4c13-bd62-33b65232354d');\n",
              "          const dataTable =\n",
              "            await google.colab.kernel.invokeFunction('convertToInteractive',\n",
              "                                                     [key], {});\n",
              "          if (!dataTable) return;\n",
              "\n",
              "          const docLinkHtml = 'Like what you see? Visit the ' +\n",
              "            '<a target=\"_blank\" href=https://colab.research.google.com/notebooks/data_table.ipynb>data table notebook</a>'\n",
              "            + ' to learn more about interactive tables.';\n",
              "          element.innerHTML = '';\n",
              "          dataTable['output_type'] = 'display_data';\n",
              "          await google.colab.output.renderOutput(dataTable, element);\n",
              "          const docLink = document.createElement('div');\n",
              "          docLink.innerHTML = docLinkHtml;\n",
              "          element.appendChild(docLink);\n",
              "        }\n",
              "      </script>\n",
              "    </div>\n",
              "  </div>\n",
              "  "
            ]
          },
          "metadata": {},
          "execution_count": 121
        }
      ]
    },
    {
      "cell_type": "markdown",
      "source": [
        "# convert fav to pivot table"
      ],
      "metadata": {
        "id": "GAuGvDKo3qBg"
      }
    },
    {
      "cell_type": "code",
      "source": [
        "fav_df_list = []\n",
        "\n",
        "for col in fav.columns.tolist():\n",
        "  row = fav[col].value_counts()\n",
        "  d1 = pd.DataFrame(data={'favorably':row[0]+row[1],\\\n",
        "                          'neutral': row[2],\\\n",
        "                          'unfavorably': row[4]+ row[5],\\\n",
        "                         'Unfamiliar':row[3] },\\\n",
        "                    index=[col],\\\n",
        "                    columns=['favorably','neutral','unfavorably','Unfamiliar']\n",
        "                    )\n",
        "  fav_df_list.append(d1)\n"
      ],
      "metadata": {
        "id": "_RhkzBKb3gXR"
      },
      "execution_count": 124,
      "outputs": []
    },
    {
      "cell_type": "code",
      "source": [
        "fav_pivot = pd.concat(fav_df_list)\n",
        "fav_pivot"
      ],
      "metadata": {
        "colab": {
          "base_uri": "https://localhost:8080/",
          "height": 408
        },
        "id": "CEfyK68W6tfu",
        "outputId": "be10a995-80b9-4ccf-ff0c-5ef4f76d0304"
      },
      "execution_count": 126,
      "outputs": [
        {
          "output_type": "execute_result",
          "data": {
            "text/plain": [
              "                       favorably  neutral  unfavorably  Unfamiliar\n",
              "Luck Skywalker               699       40            7          14\n",
              "Han Solo                     705       36            8          11\n",
              "Princess Leia Oragana        693       45           11          11\n",
              "Obi Wan Kenobi               481      118           82          79\n",
              "Yoda                         697       40           11          12\n",
              "R2-D2                        339      135          167         119\n",
              "C-3P0                        448      135           83          94\n",
              "Anakin Skywalker             434      131           65         130\n",
              "Darth Vader                  375      133          128         124\n",
              "Lando Calrissian             645       74           19          22\n",
              "Padme Amidala                684       54           12          10\n",
              "Boba Fett                    344      120          195         101\n",
              "Emperor Palpatine            369      156           84         151\n",
              "Jar Jar Binks                691       48           13           8"
            ],
            "text/html": [
              "\n",
              "  <div id=\"df-da277303-f7c2-4bde-a2b7-498dfffd7e77\">\n",
              "    <div class=\"colab-df-container\">\n",
              "      <div>\n",
              "<style scoped>\n",
              "    .dataframe tbody tr th:only-of-type {\n",
              "        vertical-align: middle;\n",
              "    }\n",
              "\n",
              "    .dataframe tbody tr th {\n",
              "        vertical-align: top;\n",
              "    }\n",
              "\n",
              "    .dataframe thead th {\n",
              "        text-align: right;\n",
              "    }\n",
              "</style>\n",
              "<table border=\"1\" class=\"dataframe\">\n",
              "  <thead>\n",
              "    <tr style=\"text-align: right;\">\n",
              "      <th></th>\n",
              "      <th>favorably</th>\n",
              "      <th>neutral</th>\n",
              "      <th>unfavorably</th>\n",
              "      <th>Unfamiliar</th>\n",
              "    </tr>\n",
              "  </thead>\n",
              "  <tbody>\n",
              "    <tr>\n",
              "      <th>Luck Skywalker</th>\n",
              "      <td>699</td>\n",
              "      <td>40</td>\n",
              "      <td>7</td>\n",
              "      <td>14</td>\n",
              "    </tr>\n",
              "    <tr>\n",
              "      <th>Han Solo</th>\n",
              "      <td>705</td>\n",
              "      <td>36</td>\n",
              "      <td>8</td>\n",
              "      <td>11</td>\n",
              "    </tr>\n",
              "    <tr>\n",
              "      <th>Princess Leia Oragana</th>\n",
              "      <td>693</td>\n",
              "      <td>45</td>\n",
              "      <td>11</td>\n",
              "      <td>11</td>\n",
              "    </tr>\n",
              "    <tr>\n",
              "      <th>Obi Wan Kenobi</th>\n",
              "      <td>481</td>\n",
              "      <td>118</td>\n",
              "      <td>82</td>\n",
              "      <td>79</td>\n",
              "    </tr>\n",
              "    <tr>\n",
              "      <th>Yoda</th>\n",
              "      <td>697</td>\n",
              "      <td>40</td>\n",
              "      <td>11</td>\n",
              "      <td>12</td>\n",
              "    </tr>\n",
              "    <tr>\n",
              "      <th>R2-D2</th>\n",
              "      <td>339</td>\n",
              "      <td>135</td>\n",
              "      <td>167</td>\n",
              "      <td>119</td>\n",
              "    </tr>\n",
              "    <tr>\n",
              "      <th>C-3P0</th>\n",
              "      <td>448</td>\n",
              "      <td>135</td>\n",
              "      <td>83</td>\n",
              "      <td>94</td>\n",
              "    </tr>\n",
              "    <tr>\n",
              "      <th>Anakin Skywalker</th>\n",
              "      <td>434</td>\n",
              "      <td>131</td>\n",
              "      <td>65</td>\n",
              "      <td>130</td>\n",
              "    </tr>\n",
              "    <tr>\n",
              "      <th>Darth Vader</th>\n",
              "      <td>375</td>\n",
              "      <td>133</td>\n",
              "      <td>128</td>\n",
              "      <td>124</td>\n",
              "    </tr>\n",
              "    <tr>\n",
              "      <th>Lando Calrissian</th>\n",
              "      <td>645</td>\n",
              "      <td>74</td>\n",
              "      <td>19</td>\n",
              "      <td>22</td>\n",
              "    </tr>\n",
              "    <tr>\n",
              "      <th>Padme Amidala</th>\n",
              "      <td>684</td>\n",
              "      <td>54</td>\n",
              "      <td>12</td>\n",
              "      <td>10</td>\n",
              "    </tr>\n",
              "    <tr>\n",
              "      <th>Boba Fett</th>\n",
              "      <td>344</td>\n",
              "      <td>120</td>\n",
              "      <td>195</td>\n",
              "      <td>101</td>\n",
              "    </tr>\n",
              "    <tr>\n",
              "      <th>Emperor Palpatine</th>\n",
              "      <td>369</td>\n",
              "      <td>156</td>\n",
              "      <td>84</td>\n",
              "      <td>151</td>\n",
              "    </tr>\n",
              "    <tr>\n",
              "      <th>Jar Jar Binks</th>\n",
              "      <td>691</td>\n",
              "      <td>48</td>\n",
              "      <td>13</td>\n",
              "      <td>8</td>\n",
              "    </tr>\n",
              "  </tbody>\n",
              "</table>\n",
              "</div>\n",
              "      <button class=\"colab-df-convert\" onclick=\"convertToInteractive('df-da277303-f7c2-4bde-a2b7-498dfffd7e77')\"\n",
              "              title=\"Convert this dataframe to an interactive table.\"\n",
              "              style=\"display:none;\">\n",
              "        \n",
              "  <svg xmlns=\"http://www.w3.org/2000/svg\" height=\"24px\"viewBox=\"0 0 24 24\"\n",
              "       width=\"24px\">\n",
              "    <path d=\"M0 0h24v24H0V0z\" fill=\"none\"/>\n",
              "    <path d=\"M18.56 5.44l.94 2.06.94-2.06 2.06-.94-2.06-.94-.94-2.06-.94 2.06-2.06.94zm-11 1L8.5 8.5l.94-2.06 2.06-.94-2.06-.94L8.5 2.5l-.94 2.06-2.06.94zm10 10l.94 2.06.94-2.06 2.06-.94-2.06-.94-.94-2.06-.94 2.06-2.06.94z\"/><path d=\"M17.41 7.96l-1.37-1.37c-.4-.4-.92-.59-1.43-.59-.52 0-1.04.2-1.43.59L10.3 9.45l-7.72 7.72c-.78.78-.78 2.05 0 2.83L4 21.41c.39.39.9.59 1.41.59.51 0 1.02-.2 1.41-.59l7.78-7.78 2.81-2.81c.8-.78.8-2.07 0-2.86zM5.41 20L4 18.59l7.72-7.72 1.47 1.35L5.41 20z\"/>\n",
              "  </svg>\n",
              "      </button>\n",
              "      \n",
              "  <style>\n",
              "    .colab-df-container {\n",
              "      display:flex;\n",
              "      flex-wrap:wrap;\n",
              "      gap: 12px;\n",
              "    }\n",
              "\n",
              "    .colab-df-convert {\n",
              "      background-color: #E8F0FE;\n",
              "      border: none;\n",
              "      border-radius: 50%;\n",
              "      cursor: pointer;\n",
              "      display: none;\n",
              "      fill: #1967D2;\n",
              "      height: 32px;\n",
              "      padding: 0 0 0 0;\n",
              "      width: 32px;\n",
              "    }\n",
              "\n",
              "    .colab-df-convert:hover {\n",
              "      background-color: #E2EBFA;\n",
              "      box-shadow: 0px 1px 2px rgba(60, 64, 67, 0.3), 0px 1px 3px 1px rgba(60, 64, 67, 0.15);\n",
              "      fill: #174EA6;\n",
              "    }\n",
              "\n",
              "    [theme=dark] .colab-df-convert {\n",
              "      background-color: #3B4455;\n",
              "      fill: #D2E3FC;\n",
              "    }\n",
              "\n",
              "    [theme=dark] .colab-df-convert:hover {\n",
              "      background-color: #434B5C;\n",
              "      box-shadow: 0px 1px 3px 1px rgba(0, 0, 0, 0.15);\n",
              "      filter: drop-shadow(0px 1px 2px rgba(0, 0, 0, 0.3));\n",
              "      fill: #FFFFFF;\n",
              "    }\n",
              "  </style>\n",
              "\n",
              "      <script>\n",
              "        const buttonEl =\n",
              "          document.querySelector('#df-da277303-f7c2-4bde-a2b7-498dfffd7e77 button.colab-df-convert');\n",
              "        buttonEl.style.display =\n",
              "          google.colab.kernel.accessAllowed ? 'block' : 'none';\n",
              "\n",
              "        async function convertToInteractive(key) {\n",
              "          const element = document.querySelector('#df-da277303-f7c2-4bde-a2b7-498dfffd7e77');\n",
              "          const dataTable =\n",
              "            await google.colab.kernel.invokeFunction('convertToInteractive',\n",
              "                                                     [key], {});\n",
              "          if (!dataTable) return;\n",
              "\n",
              "          const docLinkHtml = 'Like what you see? Visit the ' +\n",
              "            '<a target=\"_blank\" href=https://colab.research.google.com/notebooks/data_table.ipynb>data table notebook</a>'\n",
              "            + ' to learn more about interactive tables.';\n",
              "          element.innerHTML = '';\n",
              "          dataTable['output_type'] = 'display_data';\n",
              "          await google.colab.output.renderOutput(dataTable, element);\n",
              "          const docLink = document.createElement('div');\n",
              "          docLink.innerHTML = docLinkHtml;\n",
              "          element.appendChild(docLink);\n",
              "        }\n",
              "      </script>\n",
              "    </div>\n",
              "  </div>\n",
              "  "
            ]
          },
          "metadata": {},
          "execution_count": 126
        }
      ]
    },
    {
      "cell_type": "code",
      "source": [
        "fig = plt.figure()\n",
        "ax = plt.subplot(111)\n",
        "fav_pivot.plot(kind='barh', stacked=True, figsize=(10,10), ax=ax)\n"
      ],
      "metadata": {
        "colab": {
          "base_uri": "https://localhost:8080/",
          "height": 610
        },
        "id": "V-jrFWbv7CSR",
        "outputId": "5693817e-d042-4a90-9f9d-c5da9260d6de"
      },
      "execution_count": 128,
      "outputs": [
        {
          "output_type": "execute_result",
          "data": {
            "text/plain": [
              "<matplotlib.axes._subplots.AxesSubplot at 0x7ff1d2e78d10>"
            ]
          },
          "metadata": {},
          "execution_count": 128
        },
        {
          "output_type": "display_data",
          "data": {
            "text/plain": [
              "<Figure size 720x720 with 1 Axes>"
            ],
            "image/png": "[encoded data removed]"
          },
          "metadata": {
            "needs_background": "light"
          }
        }
      ]
    },
    {
      "cell_type": "markdown",
      "source": [
        "# Put a legend below current axis\n"
      ],
      "metadata": {
        "id": "GOACadlG8FAw"
      }
    },
    {
      "cell_type": "code",
      "source": [
        "fig = plt.figure()\n",
        "ax = plt.subplot(111)\n",
        "fav_pivot.plot(kind='barh', stacked=True, figsize=(10,10), ax=ax)\n",
        "ax.legend(loc='upper center', bbox_to_anchor=(0.5, -0.05),\n",
        "          fancybox=True, shadow=True, ncol=5)\n",
        "\n",
        "plt.show()"
      ],
      "metadata": {
        "colab": {
          "base_uri": "https://localhost:8080/",
          "height": 625
        },
        "id": "buSWRZWr7_J0",
        "outputId": "6989135f-13ad-4f36-a12a-a27781b7db4b"
      },
      "execution_count": 129,
      "outputs": [
        {
          "output_type": "display_data",
          "data": {
            "text/plain": [
              "<Figure size 720x720 with 1 Axes>"
            ],
            "image/png": "[encoded data removed]"
          },
          "metadata": {
            "needs_background": "light"
          }
        }
      ]
    },
    {
      "cell_type": "code",
      "source": [
        "#Who Shot First?\n",
        "shot_first = star_war_df['Which character shot first?'].value_counts()\n",
        "shot_first"
      ],
      "metadata": {
        "colab": {
          "base_uri": "https://localhost:8080/"
        },
        "id": "4iqYHr6m8NTO",
        "outputId": "b27b5e0f-ded0-4762-fb01-b4ecc94ff477"
      },
      "execution_count": 131,
      "outputs": [
        {
          "output_type": "execute_result",
          "data": {
            "text/plain": [
              "Han                                 325\n",
              "I don't understand this question    306\n",
              "Greedo                              197\n",
              "Name: Which character shot first?, dtype: int64"
            ]
          },
          "metadata": {},
          "execution_count": 131
        }
      ]
    },
    {
      "cell_type": "code",
      "source": [
        "# get totoal num 828\n",
        "shot_sum = shot_first.sum()\n",
        "# calcualte the percentage of first shot \n",
        "\n",
        "shot_first =shot_first.apply(lambda x :x/shot_sum *100)\n",
        "shot_first"
      ],
      "metadata": {
        "colab": {
          "base_uri": "https://localhost:8080/"
        },
        "id": "6UWUjWCw9Ao_",
        "outputId": "0820d23d-db0d-4ae9-8178-55e0d6bce3df"
      },
      "execution_count": 136,
      "outputs": [
        {
          "output_type": "execute_result",
          "data": {
            "text/plain": [
              "Han                                 39.251208\n",
              "I don't understand this question    36.956522\n",
              "Greedo                              23.792271\n",
              "Name: Which character shot first?, dtype: float64"
            ]
          },
          "metadata": {},
          "execution_count": 136
        }
      ]
    },
    {
      "cell_type": "code",
      "source": [
        "\n",
        "ax = shot_first.plot(kind='barh')\n",
        "for p in ax.patches:\n",
        "    ax.annotate(str(\"{0:.2f}%\".format(round(p.get_width(),2))), (p.get_width() * 1.005, p.get_y() + p.get_height() * 0.5))\n",
        "plt.show()"
      ],
      "metadata": {
        "colab": {
          "base_uri": "https://localhost:8080/",
          "height": 265
        },
        "id": "3qqprPL18uye",
        "outputId": "7309677f-b178-4889-ad1e-20875a5eac60"
      },
      "execution_count": 137,
      "outputs": [
        {
          "output_type": "display_data",
          "data": {
            "text/plain": [
              "<Figure size 432x288 with 1 Axes>"
            ],
            "image/png": "[encoded data removed]"
          },
          "metadata": {
            "needs_background": "light"
          }
        }
      ]
    }
  ]
}